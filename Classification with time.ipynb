{
 "cells": [
  {
   "cell_type": "markdown",
   "id": "21132e97",
   "metadata": {},
   "source": [
    "# Classification with time"
   ]
  },
  {
   "cell_type": "code",
   "execution_count": 3,
   "id": "68daf29b",
   "metadata": {},
   "outputs": [],
   "source": [
    "import pickle\n",
    "\n",
    "import numpy as np\n",
    "import pandas as pd\n",
    "from scipy.sparse import csr_matrix, hstack\n",
    "from sklearn.linear_model import LogisticRegression\n",
    "from sklearn.metrics import roc_auc_score\n",
    "from sklearn.preprocessing import StandardScaler\n",
    "from tqdm import tqdm_notebook\n",
    "\n",
    "%matplotlib inline\n",
    "import seaborn as sns\n",
    "from matplotlib import pyplot as plt"
   ]
  },
  {
   "cell_type": "code",
   "execution_count": 4,
   "id": "7cf6b301",
   "metadata": {},
   "outputs": [],
   "source": [
    "train_df = pd.read_csv(\"train_sessions.csv\", index_col=\"session_id\")\n",
    "test_df = pd.read_csv(\"test_sessions.csv\", index_col=\"session_id\")"
   ]
  },
  {
   "cell_type": "code",
   "execution_count": 5,
   "id": "1bb18c66",
   "metadata": {},
   "outputs": [],
   "source": [
    "times = [\"time%s\" % i for i in range(1, 11)]\n",
    "train_df[times] = train_df[times].apply(pd.to_datetime)\n",
    "test_df[times] = test_df[times].apply(pd.to_datetime)"
   ]
  },
  {
   "cell_type": "code",
   "execution_count": 6,
   "id": "00c5035d",
   "metadata": {},
   "outputs": [],
   "source": [
    "train_df = train_df.sort_values(by=\"time1\")"
   ]
  },
  {
   "cell_type": "code",
   "execution_count": 329,
   "id": "991e330d",
   "metadata": {},
   "outputs": [
    {
     "data": {
      "text/html": [
       "<div>\n",
       "<style scoped>\n",
       "    .dataframe tbody tr th:only-of-type {\n",
       "        vertical-align: middle;\n",
       "    }\n",
       "\n",
       "    .dataframe tbody tr th {\n",
       "        vertical-align: top;\n",
       "    }\n",
       "\n",
       "    .dataframe thead th {\n",
       "        text-align: right;\n",
       "    }\n",
       "</style>\n",
       "<table border=\"1\" class=\"dataframe\">\n",
       "  <thead>\n",
       "    <tr style=\"text-align: right;\">\n",
       "      <th></th>\n",
       "      <th>site1</th>\n",
       "      <th>time1</th>\n",
       "      <th>site2</th>\n",
       "      <th>time2</th>\n",
       "      <th>site3</th>\n",
       "      <th>time3</th>\n",
       "      <th>site4</th>\n",
       "      <th>time4</th>\n",
       "      <th>site5</th>\n",
       "      <th>time5</th>\n",
       "      <th>...</th>\n",
       "      <th>time6</th>\n",
       "      <th>site7</th>\n",
       "      <th>time7</th>\n",
       "      <th>site8</th>\n",
       "      <th>time8</th>\n",
       "      <th>site9</th>\n",
       "      <th>time9</th>\n",
       "      <th>site10</th>\n",
       "      <th>time10</th>\n",
       "      <th>target</th>\n",
       "    </tr>\n",
       "    <tr>\n",
       "      <th>session_id</th>\n",
       "      <th></th>\n",
       "      <th></th>\n",
       "      <th></th>\n",
       "      <th></th>\n",
       "      <th></th>\n",
       "      <th></th>\n",
       "      <th></th>\n",
       "      <th></th>\n",
       "      <th></th>\n",
       "      <th></th>\n",
       "      <th></th>\n",
       "      <th></th>\n",
       "      <th></th>\n",
       "      <th></th>\n",
       "      <th></th>\n",
       "      <th></th>\n",
       "      <th></th>\n",
       "      <th></th>\n",
       "      <th></th>\n",
       "      <th></th>\n",
       "      <th></th>\n",
       "    </tr>\n",
       "  </thead>\n",
       "  <tbody>\n",
       "    <tr>\n",
       "      <th>21669</th>\n",
       "      <td>56</td>\n",
       "      <td>2013-01-12 08:05:57</td>\n",
       "      <td>55</td>\n",
       "      <td>2013-01-12 08:05:57</td>\n",
       "      <td>0</td>\n",
       "      <td>NaT</td>\n",
       "      <td>0</td>\n",
       "      <td>NaT</td>\n",
       "      <td>0</td>\n",
       "      <td>NaT</td>\n",
       "      <td>...</td>\n",
       "      <td>NaT</td>\n",
       "      <td>0</td>\n",
       "      <td>NaT</td>\n",
       "      <td>0</td>\n",
       "      <td>NaT</td>\n",
       "      <td>0</td>\n",
       "      <td>NaT</td>\n",
       "      <td>0</td>\n",
       "      <td>NaT</td>\n",
       "      <td>0</td>\n",
       "    </tr>\n",
       "    <tr>\n",
       "      <th>54843</th>\n",
       "      <td>56</td>\n",
       "      <td>2013-01-12 08:37:23</td>\n",
       "      <td>55</td>\n",
       "      <td>2013-01-12 08:37:23</td>\n",
       "      <td>56</td>\n",
       "      <td>2013-01-12 09:07:07</td>\n",
       "      <td>55</td>\n",
       "      <td>2013-01-12 09:07:09</td>\n",
       "      <td>0</td>\n",
       "      <td>NaT</td>\n",
       "      <td>...</td>\n",
       "      <td>NaT</td>\n",
       "      <td>0</td>\n",
       "      <td>NaT</td>\n",
       "      <td>0</td>\n",
       "      <td>NaT</td>\n",
       "      <td>0</td>\n",
       "      <td>NaT</td>\n",
       "      <td>0</td>\n",
       "      <td>NaT</td>\n",
       "      <td>0</td>\n",
       "    </tr>\n",
       "    <tr>\n",
       "      <th>77292</th>\n",
       "      <td>946</td>\n",
       "      <td>2013-01-12 08:50:13</td>\n",
       "      <td>946</td>\n",
       "      <td>2013-01-12 08:50:14</td>\n",
       "      <td>951</td>\n",
       "      <td>2013-01-12 08:50:15</td>\n",
       "      <td>946</td>\n",
       "      <td>2013-01-12 08:50:15</td>\n",
       "      <td>946</td>\n",
       "      <td>2013-01-12 08:50:16</td>\n",
       "      <td>...</td>\n",
       "      <td>2013-01-12 08:50:16</td>\n",
       "      <td>948</td>\n",
       "      <td>2013-01-12 08:50:16</td>\n",
       "      <td>784</td>\n",
       "      <td>2013-01-12 08:50:16</td>\n",
       "      <td>949</td>\n",
       "      <td>2013-01-12 08:50:17</td>\n",
       "      <td>946</td>\n",
       "      <td>2013-01-12 08:50:17</td>\n",
       "      <td>0</td>\n",
       "    </tr>\n",
       "    <tr>\n",
       "      <th>114021</th>\n",
       "      <td>945</td>\n",
       "      <td>2013-01-12 08:50:17</td>\n",
       "      <td>948</td>\n",
       "      <td>2013-01-12 08:50:17</td>\n",
       "      <td>949</td>\n",
       "      <td>2013-01-12 08:50:18</td>\n",
       "      <td>948</td>\n",
       "      <td>2013-01-12 08:50:18</td>\n",
       "      <td>945</td>\n",
       "      <td>2013-01-12 08:50:18</td>\n",
       "      <td>...</td>\n",
       "      <td>2013-01-12 08:50:18</td>\n",
       "      <td>947</td>\n",
       "      <td>2013-01-12 08:50:19</td>\n",
       "      <td>945</td>\n",
       "      <td>2013-01-12 08:50:19</td>\n",
       "      <td>946</td>\n",
       "      <td>2013-01-12 08:50:19</td>\n",
       "      <td>946</td>\n",
       "      <td>2013-01-12 08:50:20</td>\n",
       "      <td>0</td>\n",
       "    </tr>\n",
       "    <tr>\n",
       "      <th>146670</th>\n",
       "      <td>947</td>\n",
       "      <td>2013-01-12 08:50:20</td>\n",
       "      <td>950</td>\n",
       "      <td>2013-01-12 08:50:20</td>\n",
       "      <td>948</td>\n",
       "      <td>2013-01-12 08:50:20</td>\n",
       "      <td>947</td>\n",
       "      <td>2013-01-12 08:50:21</td>\n",
       "      <td>950</td>\n",
       "      <td>2013-01-12 08:50:21</td>\n",
       "      <td>...</td>\n",
       "      <td>2013-01-12 08:50:21</td>\n",
       "      <td>946</td>\n",
       "      <td>2013-01-12 08:50:21</td>\n",
       "      <td>951</td>\n",
       "      <td>2013-01-12 08:50:22</td>\n",
       "      <td>946</td>\n",
       "      <td>2013-01-12 08:50:22</td>\n",
       "      <td>947</td>\n",
       "      <td>2013-01-12 08:50:22</td>\n",
       "      <td>0</td>\n",
       "    </tr>\n",
       "  </tbody>\n",
       "</table>\n",
       "<p>5 rows × 21 columns</p>\n",
       "</div>"
      ],
      "text/plain": [
       "            site1               time1  site2               time2  site3  \\\n",
       "session_id                                                                \n",
       "21669          56 2013-01-12 08:05:57     55 2013-01-12 08:05:57      0   \n",
       "54843          56 2013-01-12 08:37:23     55 2013-01-12 08:37:23     56   \n",
       "77292         946 2013-01-12 08:50:13    946 2013-01-12 08:50:14    951   \n",
       "114021        945 2013-01-12 08:50:17    948 2013-01-12 08:50:17    949   \n",
       "146670        947 2013-01-12 08:50:20    950 2013-01-12 08:50:20    948   \n",
       "\n",
       "                         time3  site4               time4  site5  \\\n",
       "session_id                                                         \n",
       "21669                      NaT      0                 NaT      0   \n",
       "54843      2013-01-12 09:07:07     55 2013-01-12 09:07:09      0   \n",
       "77292      2013-01-12 08:50:15    946 2013-01-12 08:50:15    946   \n",
       "114021     2013-01-12 08:50:18    948 2013-01-12 08:50:18    945   \n",
       "146670     2013-01-12 08:50:20    947 2013-01-12 08:50:21    950   \n",
       "\n",
       "                         time5  ...               time6 site7  \\\n",
       "session_id                      ...                             \n",
       "21669                      NaT  ...                 NaT     0   \n",
       "54843                      NaT  ...                 NaT     0   \n",
       "77292      2013-01-12 08:50:16  ... 2013-01-12 08:50:16   948   \n",
       "114021     2013-01-12 08:50:18  ... 2013-01-12 08:50:18   947   \n",
       "146670     2013-01-12 08:50:21  ... 2013-01-12 08:50:21   946   \n",
       "\n",
       "                         time7 site8               time8 site9  \\\n",
       "session_id                                                       \n",
       "21669                      NaT     0                 NaT     0   \n",
       "54843                      NaT     0                 NaT     0   \n",
       "77292      2013-01-12 08:50:16   784 2013-01-12 08:50:16   949   \n",
       "114021     2013-01-12 08:50:19   945 2013-01-12 08:50:19   946   \n",
       "146670     2013-01-12 08:50:21   951 2013-01-12 08:50:22   946   \n",
       "\n",
       "                         time9 site10              time10 target  \n",
       "session_id                                                        \n",
       "21669                      NaT      0                 NaT      0  \n",
       "54843                      NaT      0                 NaT      0  \n",
       "77292      2013-01-12 08:50:17    946 2013-01-12 08:50:17      0  \n",
       "114021     2013-01-12 08:50:19    946 2013-01-12 08:50:20      0  \n",
       "146670     2013-01-12 08:50:22    947 2013-01-12 08:50:22      0  \n",
       "\n",
       "[5 rows x 21 columns]"
      ]
     },
     "execution_count": 329,
     "metadata": {},
     "output_type": "execute_result"
    }
   ],
   "source": [
    "train_df.head()"
   ]
  },
  {
   "cell_type": "code",
   "execution_count": 8,
   "id": "a69eff5c",
   "metadata": {},
   "outputs": [
    {
     "name": "stdout",
     "output_type": "stream",
     "text": [
      "всего сайтов: 48371\n"
     ]
    },
    {
     "data": {
      "text/html": [
       "<div>\n",
       "<style scoped>\n",
       "    .dataframe tbody tr th:only-of-type {\n",
       "        vertical-align: middle;\n",
       "    }\n",
       "\n",
       "    .dataframe tbody tr th {\n",
       "        vertical-align: top;\n",
       "    }\n",
       "\n",
       "    .dataframe thead th {\n",
       "        text-align: right;\n",
       "    }\n",
       "</style>\n",
       "<table border=\"1\" class=\"dataframe\">\n",
       "  <thead>\n",
       "    <tr style=\"text-align: right;\">\n",
       "      <th></th>\n",
       "      <th>site</th>\n",
       "    </tr>\n",
       "  </thead>\n",
       "  <tbody>\n",
       "    <tr>\n",
       "      <th>25075</th>\n",
       "      <td>www.abmecatronique.com</td>\n",
       "    </tr>\n",
       "    <tr>\n",
       "      <th>13997</th>\n",
       "      <td>groups.live.com</td>\n",
       "    </tr>\n",
       "    <tr>\n",
       "      <th>42436</th>\n",
       "      <td>majeureliguefootball.wordpress.com</td>\n",
       "    </tr>\n",
       "    <tr>\n",
       "      <th>30911</th>\n",
       "      <td>cdt46.media.tourinsoft.eu</td>\n",
       "    </tr>\n",
       "    <tr>\n",
       "      <th>8104</th>\n",
       "      <td>www.hdwallpapers.eu</td>\n",
       "    </tr>\n",
       "  </tbody>\n",
       "</table>\n",
       "</div>"
      ],
      "text/plain": [
       "                                     site\n",
       "25075              www.abmecatronique.com\n",
       "13997                     groups.live.com\n",
       "42436  majeureliguefootball.wordpress.com\n",
       "30911           cdt46.media.tourinsoft.eu\n",
       "8104                  www.hdwallpapers.eu"
      ]
     },
     "execution_count": 8,
     "metadata": {},
     "output_type": "execute_result"
    }
   ],
   "source": [
    "sites = [\"site%s\" % i for i in range(1, 11)]\n",
    "train_df[sites] = train_df[sites].fillna(0).astype(\"int\")\n",
    "test_df[sites] = test_df[sites].fillna(0).astype(\"int\")\n",
    "\n",
    "with open(r\"site_dic.pkl\", \"rb\") as input_file:\n",
    "    site_dict = pickle.load(input_file)\n",
    "\n",
    "sites_dict_df = pd.DataFrame(\n",
    "    list(site_dict.keys()), index=list(site_dict.values()), columns=[\"site\"]\n",
    ")\n",
    "print(u\"всего сайтов:\", sites_dict_df.shape[0])\n",
    "sites_dict_df.head()"
   ]
  },
  {
   "cell_type": "code",
   "execution_count": 9,
   "id": "4f0c8c4f",
   "metadata": {},
   "outputs": [
    {
     "data": {
      "text/html": [
       "<div>\n",
       "<style scoped>\n",
       "    .dataframe tbody tr th:only-of-type {\n",
       "        vertical-align: middle;\n",
       "    }\n",
       "\n",
       "    .dataframe tbody tr th {\n",
       "        vertical-align: top;\n",
       "    }\n",
       "\n",
       "    .dataframe thead th {\n",
       "        text-align: right;\n",
       "    }\n",
       "</style>\n",
       "<table border=\"1\" class=\"dataframe\">\n",
       "  <thead>\n",
       "    <tr style=\"text-align: right;\">\n",
       "      <th></th>\n",
       "      <th>site1</th>\n",
       "      <th>time1</th>\n",
       "      <th>site2</th>\n",
       "      <th>time2</th>\n",
       "      <th>site3</th>\n",
       "      <th>time3</th>\n",
       "      <th>site4</th>\n",
       "      <th>time4</th>\n",
       "      <th>site5</th>\n",
       "      <th>time5</th>\n",
       "      <th>site6</th>\n",
       "      <th>time6</th>\n",
       "      <th>site7</th>\n",
       "      <th>time7</th>\n",
       "      <th>site8</th>\n",
       "      <th>time8</th>\n",
       "      <th>site9</th>\n",
       "      <th>time9</th>\n",
       "      <th>site10</th>\n",
       "      <th>time10</th>\n",
       "    </tr>\n",
       "    <tr>\n",
       "      <th>session_id</th>\n",
       "      <th></th>\n",
       "      <th></th>\n",
       "      <th></th>\n",
       "      <th></th>\n",
       "      <th></th>\n",
       "      <th></th>\n",
       "      <th></th>\n",
       "      <th></th>\n",
       "      <th></th>\n",
       "      <th></th>\n",
       "      <th></th>\n",
       "      <th></th>\n",
       "      <th></th>\n",
       "      <th></th>\n",
       "      <th></th>\n",
       "      <th></th>\n",
       "      <th></th>\n",
       "      <th></th>\n",
       "      <th></th>\n",
       "      <th></th>\n",
       "    </tr>\n",
       "  </thead>\n",
       "  <tbody>\n",
       "    <tr>\n",
       "      <th>1</th>\n",
       "      <td>29</td>\n",
       "      <td>2014-10-04 11:19:53</td>\n",
       "      <td>35</td>\n",
       "      <td>2014-10-04 11:19:53</td>\n",
       "      <td>22</td>\n",
       "      <td>2014-10-04 11:19:54</td>\n",
       "      <td>321</td>\n",
       "      <td>2014-10-04 11:19:54</td>\n",
       "      <td>23</td>\n",
       "      <td>2014-10-04 11:19:54</td>\n",
       "      <td>2211</td>\n",
       "      <td>2014-10-04 11:19:54</td>\n",
       "      <td>6730</td>\n",
       "      <td>2014-10-04 11:19:54</td>\n",
       "      <td>21</td>\n",
       "      <td>2014-10-04 11:19:54</td>\n",
       "      <td>44582</td>\n",
       "      <td>2014-10-04 11:20:00</td>\n",
       "      <td>15336</td>\n",
       "      <td>2014-10-04 11:20:00</td>\n",
       "    </tr>\n",
       "    <tr>\n",
       "      <th>2</th>\n",
       "      <td>782</td>\n",
       "      <td>2014-07-03 11:00:28</td>\n",
       "      <td>782</td>\n",
       "      <td>2014-07-03 11:00:53</td>\n",
       "      <td>782</td>\n",
       "      <td>2014-07-03 11:00:58</td>\n",
       "      <td>782</td>\n",
       "      <td>2014-07-03 11:01:06</td>\n",
       "      <td>782</td>\n",
       "      <td>2014-07-03 11:01:09</td>\n",
       "      <td>782</td>\n",
       "      <td>2014-07-03 11:01:10</td>\n",
       "      <td>782</td>\n",
       "      <td>2014-07-03 11:01:23</td>\n",
       "      <td>782</td>\n",
       "      <td>2014-07-03 11:01:29</td>\n",
       "      <td>782</td>\n",
       "      <td>2014-07-03 11:01:30</td>\n",
       "      <td>782</td>\n",
       "      <td>2014-07-03 11:01:53</td>\n",
       "    </tr>\n",
       "    <tr>\n",
       "      <th>3</th>\n",
       "      <td>55</td>\n",
       "      <td>2014-12-05 15:55:12</td>\n",
       "      <td>55</td>\n",
       "      <td>2014-12-05 15:55:13</td>\n",
       "      <td>55</td>\n",
       "      <td>2014-12-05 15:55:14</td>\n",
       "      <td>55</td>\n",
       "      <td>2014-12-05 15:56:15</td>\n",
       "      <td>55</td>\n",
       "      <td>2014-12-05 15:56:16</td>\n",
       "      <td>55</td>\n",
       "      <td>2014-12-05 15:56:17</td>\n",
       "      <td>55</td>\n",
       "      <td>2014-12-05 15:56:18</td>\n",
       "      <td>55</td>\n",
       "      <td>2014-12-05 15:56:19</td>\n",
       "      <td>1445</td>\n",
       "      <td>2014-12-05 15:56:33</td>\n",
       "      <td>1445</td>\n",
       "      <td>2014-12-05 15:56:36</td>\n",
       "    </tr>\n",
       "  </tbody>\n",
       "</table>\n",
       "</div>"
      ],
      "text/plain": [
       "            site1               time1  site2               time2  site3  \\\n",
       "session_id                                                                \n",
       "1              29 2014-10-04 11:19:53     35 2014-10-04 11:19:53     22   \n",
       "2             782 2014-07-03 11:00:28    782 2014-07-03 11:00:53    782   \n",
       "3              55 2014-12-05 15:55:12     55 2014-12-05 15:55:13     55   \n",
       "\n",
       "                         time3  site4               time4  site5  \\\n",
       "session_id                                                         \n",
       "1          2014-10-04 11:19:54    321 2014-10-04 11:19:54     23   \n",
       "2          2014-07-03 11:00:58    782 2014-07-03 11:01:06    782   \n",
       "3          2014-12-05 15:55:14     55 2014-12-05 15:56:15     55   \n",
       "\n",
       "                         time5  site6               time6  site7  \\\n",
       "session_id                                                         \n",
       "1          2014-10-04 11:19:54   2211 2014-10-04 11:19:54   6730   \n",
       "2          2014-07-03 11:01:09    782 2014-07-03 11:01:10    782   \n",
       "3          2014-12-05 15:56:16     55 2014-12-05 15:56:17     55   \n",
       "\n",
       "                         time7  site8               time8  site9  \\\n",
       "session_id                                                         \n",
       "1          2014-10-04 11:19:54     21 2014-10-04 11:19:54  44582   \n",
       "2          2014-07-03 11:01:23    782 2014-07-03 11:01:29    782   \n",
       "3          2014-12-05 15:56:18     55 2014-12-05 15:56:19   1445   \n",
       "\n",
       "                         time9  site10              time10  \n",
       "session_id                                                  \n",
       "1          2014-10-04 11:20:00   15336 2014-10-04 11:20:00  \n",
       "2          2014-07-03 11:01:30     782 2014-07-03 11:01:53  \n",
       "3          2014-12-05 15:56:33    1445 2014-12-05 15:56:36  "
      ]
     },
     "execution_count": 9,
     "metadata": {},
     "output_type": "execute_result"
    }
   ],
   "source": [
    "test_df.head(3)"
   ]
  },
  {
   "cell_type": "code",
   "execution_count": 10,
   "id": "f41b015f",
   "metadata": {},
   "outputs": [],
   "source": [
    "y_train = train_df[\"target\"]\n",
    "\n",
    "full_df = pd.concat([train_df.drop(\"target\", axis=1), test_df])\n",
    "\n",
    "idx_split = train_df.shape[0]"
   ]
  },
  {
   "cell_type": "code",
   "execution_count": 11,
   "id": "62efdceb",
   "metadata": {},
   "outputs": [
    {
     "data": {
      "text/html": [
       "<div>\n",
       "<style scoped>\n",
       "    .dataframe tbody tr th:only-of-type {\n",
       "        vertical-align: middle;\n",
       "    }\n",
       "\n",
       "    .dataframe tbody tr th {\n",
       "        vertical-align: top;\n",
       "    }\n",
       "\n",
       "    .dataframe thead th {\n",
       "        text-align: right;\n",
       "    }\n",
       "</style>\n",
       "<table border=\"1\" class=\"dataframe\">\n",
       "  <thead>\n",
       "    <tr style=\"text-align: right;\">\n",
       "      <th></th>\n",
       "      <th>site1</th>\n",
       "      <th>site2</th>\n",
       "      <th>site3</th>\n",
       "      <th>site4</th>\n",
       "      <th>site5</th>\n",
       "      <th>site6</th>\n",
       "      <th>site7</th>\n",
       "      <th>site8</th>\n",
       "      <th>site9</th>\n",
       "      <th>site10</th>\n",
       "    </tr>\n",
       "    <tr>\n",
       "      <th>session_id</th>\n",
       "      <th></th>\n",
       "      <th></th>\n",
       "      <th></th>\n",
       "      <th></th>\n",
       "      <th></th>\n",
       "      <th></th>\n",
       "      <th></th>\n",
       "      <th></th>\n",
       "      <th></th>\n",
       "      <th></th>\n",
       "    </tr>\n",
       "  </thead>\n",
       "  <tbody>\n",
       "    <tr>\n",
       "      <th>21669</th>\n",
       "      <td>56</td>\n",
       "      <td>55</td>\n",
       "      <td>0</td>\n",
       "      <td>0</td>\n",
       "      <td>0</td>\n",
       "      <td>0</td>\n",
       "      <td>0</td>\n",
       "      <td>0</td>\n",
       "      <td>0</td>\n",
       "      <td>0</td>\n",
       "    </tr>\n",
       "    <tr>\n",
       "      <th>54843</th>\n",
       "      <td>56</td>\n",
       "      <td>55</td>\n",
       "      <td>56</td>\n",
       "      <td>55</td>\n",
       "      <td>0</td>\n",
       "      <td>0</td>\n",
       "      <td>0</td>\n",
       "      <td>0</td>\n",
       "      <td>0</td>\n",
       "      <td>0</td>\n",
       "    </tr>\n",
       "    <tr>\n",
       "      <th>77292</th>\n",
       "      <td>946</td>\n",
       "      <td>946</td>\n",
       "      <td>951</td>\n",
       "      <td>946</td>\n",
       "      <td>946</td>\n",
       "      <td>945</td>\n",
       "      <td>948</td>\n",
       "      <td>784</td>\n",
       "      <td>949</td>\n",
       "      <td>946</td>\n",
       "    </tr>\n",
       "    <tr>\n",
       "      <th>114021</th>\n",
       "      <td>945</td>\n",
       "      <td>948</td>\n",
       "      <td>949</td>\n",
       "      <td>948</td>\n",
       "      <td>945</td>\n",
       "      <td>946</td>\n",
       "      <td>947</td>\n",
       "      <td>945</td>\n",
       "      <td>946</td>\n",
       "      <td>946</td>\n",
       "    </tr>\n",
       "    <tr>\n",
       "      <th>146670</th>\n",
       "      <td>947</td>\n",
       "      <td>950</td>\n",
       "      <td>948</td>\n",
       "      <td>947</td>\n",
       "      <td>950</td>\n",
       "      <td>952</td>\n",
       "      <td>946</td>\n",
       "      <td>951</td>\n",
       "      <td>946</td>\n",
       "      <td>947</td>\n",
       "    </tr>\n",
       "  </tbody>\n",
       "</table>\n",
       "</div>"
      ],
      "text/plain": [
       "            site1  site2  site3  site4  site5  site6  site7  site8  site9  \\\n",
       "session_id                                                                  \n",
       "21669          56     55      0      0      0      0      0      0      0   \n",
       "54843          56     55     56     55      0      0      0      0      0   \n",
       "77292         946    946    951    946    946    945    948    784    949   \n",
       "114021        945    948    949    948    945    946    947    945    946   \n",
       "146670        947    950    948    947    950    952    946    951    946   \n",
       "\n",
       "            site10  \n",
       "session_id          \n",
       "21669            0  \n",
       "54843            0  \n",
       "77292          946  \n",
       "114021         946  \n",
       "146670         947  "
      ]
     },
     "execution_count": 11,
     "metadata": {},
     "output_type": "execute_result"
    }
   ],
   "source": [
    "# табличка с индексами посещенных сайтов в сессии\n",
    "full_sites = full_df[sites]\n",
    "full_sites.head()"
   ]
  },
  {
   "cell_type": "code",
   "execution_count": 12,
   "id": "0eb2556a",
   "metadata": {},
   "outputs": [],
   "source": [
    "from scipy.sparse import csr_matrix"
   ]
  },
  {
   "cell_type": "code",
   "execution_count": 13,
   "id": "ca5a00d7",
   "metadata": {},
   "outputs": [],
   "source": [
    "sites_flatten =  full_sites.values.flatten()"
   ]
  },
  {
   "cell_type": "code",
   "execution_count": 14,
   "id": "edf5e953",
   "metadata": {},
   "outputs": [],
   "source": [
    "full_sites_sparse = csr_matrix(\n",
    "    (\n",
    "        [1] * sites_flatten.shape[0],\n",
    "        sites_flatten,\n",
    "        range(0, sites_flatten.shape[0] + 10, 10),\n",
    "    )\n",
    ")[:, 1:]"
   ]
  },
  {
   "cell_type": "code",
   "execution_count": 15,
   "id": "1dcdc4f1",
   "metadata": {},
   "outputs": [
    {
     "data": {
      "text/plain": [
       "(336358, 48371)"
      ]
     },
     "execution_count": 15,
     "metadata": {},
     "output_type": "execute_result"
    }
   ],
   "source": [
    "full_sites_sparse.shape"
   ]
  },
  {
   "cell_type": "code",
   "execution_count": 16,
   "id": "a3972d7d",
   "metadata": {},
   "outputs": [],
   "source": [
    "X_train_sparse = full_sites_sparse[:idx_split]\n",
    "X_test_sparse = full_sites_sparse[idx_split:]"
   ]
  },
  {
   "cell_type": "code",
   "execution_count": 17,
   "id": "d2e36882",
   "metadata": {},
   "outputs": [
    {
     "data": {
      "text/plain": [
       "(253561, 48371)"
      ]
     },
     "execution_count": 17,
     "metadata": {},
     "output_type": "execute_result"
    }
   ],
   "source": [
    "X_train_sparse.shape"
   ]
  },
  {
   "cell_type": "code",
   "execution_count": 18,
   "id": "a546cd4d",
   "metadata": {},
   "outputs": [
    {
     "data": {
      "text/plain": [
       "(82797, 48371)"
      ]
     },
     "execution_count": 18,
     "metadata": {},
     "output_type": "execute_result"
    }
   ],
   "source": [
    "X_test_sparse.shape"
   ]
  },
  {
   "cell_type": "code",
   "execution_count": 28,
   "id": "7a3f7337",
   "metadata": {},
   "outputs": [
    {
     "data": {
      "text/plain": [
       "<253561x48371 sparse matrix of type '<class 'numpy.intc'>'\n",
       "\twith 2412880 stored elements in Compressed Sparse Row format>"
      ]
     },
     "execution_count": 28,
     "metadata": {},
     "output_type": "execute_result"
    }
   ],
   "source": [
    "X_train_sparse"
   ]
  },
  {
   "cell_type": "code",
   "execution_count": 32,
   "id": "b741d079",
   "metadata": {},
   "outputs": [],
   "source": [
    "def get_auc_lr_valid(X, y, C=1.0, ratio=0.9, seed=17):\n",
    "    train_len = int(ratio*X.shape[0])\n",
    "    X_train = X[:train_len,:]\n",
    "    X_valid = X[train_len:,:]\n",
    "    y_train = y[:train_len]\n",
    "    y_valid = y[train_len:]\n",
    "    logit = LogisticRegression(C=C, n_jobs=-1, random_state = seed)\n",
    "    logit.fit(X_train, y_train)\n",
    "    valid_pred = logit.predict_proba(X_valid)[:, 1]\n",
    "    return roc_auc_score(y_valid, valid_pred)"
   ]
  },
  {
   "cell_type": "code",
   "execution_count": 33,
   "id": "a93ba03e",
   "metadata": {},
   "outputs": [
    {
     "data": {
      "text/plain": [
       "0.9197951046350002"
      ]
     },
     "execution_count": 33,
     "metadata": {},
     "output_type": "execute_result"
    }
   ],
   "source": [
    "get_auc_lr_valid(X_train_sparse, y_train)"
   ]
  },
  {
   "cell_type": "code",
   "execution_count": 34,
   "id": "0a279dfc",
   "metadata": {},
   "outputs": [],
   "source": [
    "def write_to_submission_file(\n",
    "    predicted_labels, out_file, target=\"target\", index_label=\"session_id\"\n",
    "):\n",
    "    predicted_df = pd.DataFrame(\n",
    "        predicted_labels,\n",
    "        index=np.arange(1, predicted_labels.shape[0] + 1),\n",
    "        columns=[target],\n",
    "    )\n",
    "    predicted_df.to_csv(out_file, index_label=index_label)"
   ]
  },
  {
   "cell_type": "code",
   "execution_count": 80,
   "id": "d3b9de49",
   "metadata": {},
   "outputs": [
    {
     "data": {
      "text/plain": [
       "(253561, 48371)"
      ]
     },
     "execution_count": 80,
     "metadata": {},
     "output_type": "execute_result"
    }
   ],
   "source": [
    "X_train_sparse.shape"
   ]
  },
  {
   "cell_type": "code",
   "execution_count": 35,
   "id": "b9370382",
   "metadata": {},
   "outputs": [],
   "source": [
    "logit = LogisticRegression(n_jobs=-1, random_state = 17)\n",
    "logit.fit(X_train_sparse, y_train)\n",
    "test_pred = logit.predict_proba(X_test_sparse)[:, 1]"
   ]
  },
  {
   "cell_type": "code",
   "execution_count": 37,
   "id": "da6a2105",
   "metadata": {},
   "outputs": [
    {
     "data": {
      "text/plain": [
       "(82797,)"
      ]
     },
     "execution_count": 37,
     "metadata": {},
     "output_type": "execute_result"
    }
   ],
   "source": [
    "test_pred.shape"
   ]
  },
  {
   "cell_type": "code",
   "execution_count": 43,
   "id": "995c4fdd",
   "metadata": {},
   "outputs": [],
   "source": [
    "pd.Series(test_pred, index=range(1,test_pred.shape[0]+1), name='target').to_csv('first_test.csv',header=True, index_label='session_id')"
   ]
  },
  {
   "cell_type": "markdown",
   "id": "9d61e0f5",
   "metadata": {},
   "source": [
    "# Улучшаем модель с помощью даты и времни"
   ]
  },
  {
   "cell_type": "code",
   "execution_count": 44,
   "id": "594e121c",
   "metadata": {},
   "outputs": [
    {
     "data": {
      "text/html": [
       "<div>\n",
       "<style scoped>\n",
       "    .dataframe tbody tr th:only-of-type {\n",
       "        vertical-align: middle;\n",
       "    }\n",
       "\n",
       "    .dataframe tbody tr th {\n",
       "        vertical-align: top;\n",
       "    }\n",
       "\n",
       "    .dataframe thead th {\n",
       "        text-align: right;\n",
       "    }\n",
       "</style>\n",
       "<table border=\"1\" class=\"dataframe\">\n",
       "  <thead>\n",
       "    <tr style=\"text-align: right;\">\n",
       "      <th></th>\n",
       "      <th>time1</th>\n",
       "      <th>time2</th>\n",
       "      <th>time3</th>\n",
       "      <th>time4</th>\n",
       "      <th>time5</th>\n",
       "      <th>time6</th>\n",
       "      <th>time7</th>\n",
       "      <th>time8</th>\n",
       "      <th>time9</th>\n",
       "      <th>time10</th>\n",
       "    </tr>\n",
       "    <tr>\n",
       "      <th>session_id</th>\n",
       "      <th></th>\n",
       "      <th></th>\n",
       "      <th></th>\n",
       "      <th></th>\n",
       "      <th></th>\n",
       "      <th></th>\n",
       "      <th></th>\n",
       "      <th></th>\n",
       "      <th></th>\n",
       "      <th></th>\n",
       "    </tr>\n",
       "  </thead>\n",
       "  <tbody>\n",
       "    <tr>\n",
       "      <th>21669</th>\n",
       "      <td>2013-01-12 08:05:57</td>\n",
       "      <td>2013-01-12 08:05:57</td>\n",
       "      <td>NaT</td>\n",
       "      <td>NaT</td>\n",
       "      <td>NaT</td>\n",
       "      <td>NaT</td>\n",
       "      <td>NaT</td>\n",
       "      <td>NaT</td>\n",
       "      <td>NaT</td>\n",
       "      <td>NaT</td>\n",
       "    </tr>\n",
       "    <tr>\n",
       "      <th>54843</th>\n",
       "      <td>2013-01-12 08:37:23</td>\n",
       "      <td>2013-01-12 08:37:23</td>\n",
       "      <td>2013-01-12 09:07:07</td>\n",
       "      <td>2013-01-12 09:07:09</td>\n",
       "      <td>NaT</td>\n",
       "      <td>NaT</td>\n",
       "      <td>NaT</td>\n",
       "      <td>NaT</td>\n",
       "      <td>NaT</td>\n",
       "      <td>NaT</td>\n",
       "    </tr>\n",
       "    <tr>\n",
       "      <th>77292</th>\n",
       "      <td>2013-01-12 08:50:13</td>\n",
       "      <td>2013-01-12 08:50:14</td>\n",
       "      <td>2013-01-12 08:50:15</td>\n",
       "      <td>2013-01-12 08:50:15</td>\n",
       "      <td>2013-01-12 08:50:16</td>\n",
       "      <td>2013-01-12 08:50:16</td>\n",
       "      <td>2013-01-12 08:50:16</td>\n",
       "      <td>2013-01-12 08:50:16</td>\n",
       "      <td>2013-01-12 08:50:17</td>\n",
       "      <td>2013-01-12 08:50:17</td>\n",
       "    </tr>\n",
       "    <tr>\n",
       "      <th>114021</th>\n",
       "      <td>2013-01-12 08:50:17</td>\n",
       "      <td>2013-01-12 08:50:17</td>\n",
       "      <td>2013-01-12 08:50:18</td>\n",
       "      <td>2013-01-12 08:50:18</td>\n",
       "      <td>2013-01-12 08:50:18</td>\n",
       "      <td>2013-01-12 08:50:18</td>\n",
       "      <td>2013-01-12 08:50:19</td>\n",
       "      <td>2013-01-12 08:50:19</td>\n",
       "      <td>2013-01-12 08:50:19</td>\n",
       "      <td>2013-01-12 08:50:20</td>\n",
       "    </tr>\n",
       "    <tr>\n",
       "      <th>146670</th>\n",
       "      <td>2013-01-12 08:50:20</td>\n",
       "      <td>2013-01-12 08:50:20</td>\n",
       "      <td>2013-01-12 08:50:20</td>\n",
       "      <td>2013-01-12 08:50:21</td>\n",
       "      <td>2013-01-12 08:50:21</td>\n",
       "      <td>2013-01-12 08:50:21</td>\n",
       "      <td>2013-01-12 08:50:21</td>\n",
       "      <td>2013-01-12 08:50:22</td>\n",
       "      <td>2013-01-12 08:50:22</td>\n",
       "      <td>2013-01-12 08:50:22</td>\n",
       "    </tr>\n",
       "  </tbody>\n",
       "</table>\n",
       "</div>"
      ],
      "text/plain": [
       "                         time1               time2               time3  \\\n",
       "session_id                                                               \n",
       "21669      2013-01-12 08:05:57 2013-01-12 08:05:57                 NaT   \n",
       "54843      2013-01-12 08:37:23 2013-01-12 08:37:23 2013-01-12 09:07:07   \n",
       "77292      2013-01-12 08:50:13 2013-01-12 08:50:14 2013-01-12 08:50:15   \n",
       "114021     2013-01-12 08:50:17 2013-01-12 08:50:17 2013-01-12 08:50:18   \n",
       "146670     2013-01-12 08:50:20 2013-01-12 08:50:20 2013-01-12 08:50:20   \n",
       "\n",
       "                         time4               time5               time6  \\\n",
       "session_id                                                               \n",
       "21669                      NaT                 NaT                 NaT   \n",
       "54843      2013-01-12 09:07:09                 NaT                 NaT   \n",
       "77292      2013-01-12 08:50:15 2013-01-12 08:50:16 2013-01-12 08:50:16   \n",
       "114021     2013-01-12 08:50:18 2013-01-12 08:50:18 2013-01-12 08:50:18   \n",
       "146670     2013-01-12 08:50:21 2013-01-12 08:50:21 2013-01-12 08:50:21   \n",
       "\n",
       "                         time7               time8               time9  \\\n",
       "session_id                                                               \n",
       "21669                      NaT                 NaT                 NaT   \n",
       "54843                      NaT                 NaT                 NaT   \n",
       "77292      2013-01-12 08:50:16 2013-01-12 08:50:16 2013-01-12 08:50:17   \n",
       "114021     2013-01-12 08:50:19 2013-01-12 08:50:19 2013-01-12 08:50:19   \n",
       "146670     2013-01-12 08:50:21 2013-01-12 08:50:22 2013-01-12 08:50:22   \n",
       "\n",
       "                        time10  \n",
       "session_id                      \n",
       "21669                      NaT  \n",
       "54843                      NaT  \n",
       "77292      2013-01-12 08:50:17  \n",
       "114021     2013-01-12 08:50:20  \n",
       "146670     2013-01-12 08:50:22  "
      ]
     },
     "execution_count": 44,
     "metadata": {},
     "output_type": "execute_result"
    }
   ],
   "source": [
    "time = ['time%d' % i for i in range(1,11)]\n",
    "train_df[time].head()"
   ]
  },
  {
   "cell_type": "code",
   "execution_count": 53,
   "id": "6935600c",
   "metadata": {},
   "outputs": [],
   "source": [
    "new_feat_train = pd.DataFrame(index=train_df.index)\n",
    "new_train_test = pd.DataFrame(index=test_df.index)"
   ]
  },
  {
   "cell_type": "code",
   "execution_count": 92,
   "id": "d6a65d1d",
   "metadata": {},
   "outputs": [],
   "source": [
    "new_feat_train['year_month'] = train_df['time1'].apply(lambda x: x.year*100 + x.month)\n",
    "new_train_test['year_month'] = test_df['time1'].apply(lambda x: x.year*100 + x.month)"
   ]
  },
  {
   "cell_type": "code",
   "execution_count": 93,
   "id": "b77f6a7d",
   "metadata": {},
   "outputs": [
    {
     "data": {
      "text/plain": [
       "session_id\n",
       "21669     201301\n",
       "54843     201301\n",
       "77292     201301\n",
       "114021    201301\n",
       "146670    201301\n",
       "           ...  \n",
       "12224     201404\n",
       "164438    201404\n",
       "12221     201404\n",
       "156968    201404\n",
       "204762    201404\n",
       "Name: time1, Length: 253561, dtype: int64"
      ]
     },
     "execution_count": 93,
     "metadata": {},
     "output_type": "execute_result"
    }
   ],
   "source": [
    "train_df['time1'].apply(lambda x: x.year*100 + x.month)"
   ]
  },
  {
   "cell_type": "code",
   "execution_count": 95,
   "id": "5e441448",
   "metadata": {},
   "outputs": [
    {
     "data": {
      "text/html": [
       "<div>\n",
       "<style scoped>\n",
       "    .dataframe tbody tr th:only-of-type {\n",
       "        vertical-align: middle;\n",
       "    }\n",
       "\n",
       "    .dataframe tbody tr th {\n",
       "        vertical-align: top;\n",
       "    }\n",
       "\n",
       "    .dataframe thead th {\n",
       "        text-align: right;\n",
       "    }\n",
       "</style>\n",
       "<table border=\"1\" class=\"dataframe\">\n",
       "  <thead>\n",
       "    <tr style=\"text-align: right;\">\n",
       "      <th></th>\n",
       "      <th>year_month</th>\n",
       "      <th>year_month_scaled</th>\n",
       "    </tr>\n",
       "    <tr>\n",
       "      <th>session_id</th>\n",
       "      <th></th>\n",
       "      <th></th>\n",
       "    </tr>\n",
       "  </thead>\n",
       "  <tbody>\n",
       "    <tr>\n",
       "      <th>1</th>\n",
       "      <td>201410</td>\n",
       "      <td>0.822948</td>\n",
       "    </tr>\n",
       "    <tr>\n",
       "      <th>2</th>\n",
       "      <td>201407</td>\n",
       "      <td>0.752287</td>\n",
       "    </tr>\n",
       "    <tr>\n",
       "      <th>3</th>\n",
       "      <td>201412</td>\n",
       "      <td>0.870055</td>\n",
       "    </tr>\n",
       "    <tr>\n",
       "      <th>4</th>\n",
       "      <td>201411</td>\n",
       "      <td>0.846501</td>\n",
       "    </tr>\n",
       "    <tr>\n",
       "      <th>5</th>\n",
       "      <td>201405</td>\n",
       "      <td>0.705179</td>\n",
       "    </tr>\n",
       "  </tbody>\n",
       "</table>\n",
       "</div>"
      ],
      "text/plain": [
       "            year_month  year_month_scaled\n",
       "session_id                               \n",
       "1               201410           0.822948\n",
       "2               201407           0.752287\n",
       "3               201412           0.870055\n",
       "4               201411           0.846501\n",
       "5               201405           0.705179"
      ]
     },
     "execution_count": 95,
     "metadata": {},
     "output_type": "execute_result"
    }
   ],
   "source": [
    "new_train_test.head()"
   ]
  },
  {
   "cell_type": "markdown",
   "id": "70a713ed",
   "metadata": {},
   "source": [
    "Необходимо привести к схожему с остальными данными виду, иначе модель будет работать некорректно"
   ]
  },
  {
   "cell_type": "code",
   "execution_count": 65,
   "id": "3b7c34c3",
   "metadata": {},
   "outputs": [],
   "source": [
    "scaler = StandardScaler()\n",
    "scaler.fit(new_feat_train['year_month'].values.reshape(-1,1))\n",
    "new_feat_train['year_month_scaled'] = scaler.transform(new_feat_train['year_month'].values.reshape(-1,1))\n",
    "new_train_test['year_month_scaled'] = scaler.transform(new_train_test['year_month'].values.reshape(-1,1))"
   ]
  },
  {
   "cell_type": "code",
   "execution_count": 69,
   "id": "4ab3344a",
   "metadata": {},
   "outputs": [
    {
     "data": {
      "text/plain": [
       "array([-1.74440496, -1.74440496, -1.74440496, ...,  0.68162559,\n",
       "        0.68162559,  0.68162559])"
      ]
     },
     "execution_count": 69,
     "metadata": {},
     "output_type": "execute_result"
    }
   ],
   "source": [
    "new_feat_train.year_month_scaled.values"
   ]
  },
  {
   "cell_type": "code",
   "execution_count": 83,
   "id": "f4f395c5",
   "metadata": {},
   "outputs": [],
   "source": [
    "X_train_sparse_new = csr_matrix(hstack([X_train_sparse, new_feat_train.year_month_scaled.values.reshape(-1,1)]))\n",
    "X_test_sparse_new = csr_matrix(hstack([X_test_sparse, new_train_test.year_month_scaled.values.reshape(-1,1)]))"
   ]
  },
  {
   "cell_type": "code",
   "execution_count": 84,
   "id": "390952fb",
   "metadata": {},
   "outputs": [
    {
     "data": {
      "text/plain": [
       "(253561, 48372)"
      ]
     },
     "execution_count": 84,
     "metadata": {},
     "output_type": "execute_result"
    }
   ],
   "source": [
    "X_train_sparse_new.shape"
   ]
  },
  {
   "cell_type": "code",
   "execution_count": 85,
   "id": "b7ea1f84",
   "metadata": {},
   "outputs": [
    {
     "data": {
      "text/plain": [
       "0.9198903563591923"
      ]
     },
     "execution_count": 85,
     "metadata": {},
     "output_type": "execute_result"
    }
   ],
   "source": [
    "get_auc_lr_valid(X_train_sparse_new, y_train)"
   ]
  },
  {
   "cell_type": "code",
   "execution_count": 86,
   "id": "adbf2402",
   "metadata": {},
   "outputs": [],
   "source": [
    "logit.fit(X_train_sparse_new, y_train)\n",
    "test_pred = logit.predict_proba(X_test_sparse_new)[:, 1]"
   ]
  },
  {
   "cell_type": "code",
   "execution_count": 87,
   "id": "2e747c80",
   "metadata": {},
   "outputs": [
    {
     "data": {
      "text/plain": [
       "(253561, 48372)"
      ]
     },
     "execution_count": 87,
     "metadata": {},
     "output_type": "execute_result"
    }
   ],
   "source": [
    "X_train_sparse_new.shape"
   ]
  },
  {
   "cell_type": "code",
   "execution_count": 88,
   "id": "b2a4f12f",
   "metadata": {},
   "outputs": [
    {
     "data": {
      "text/plain": [
       "(82797,)"
      ]
     },
     "execution_count": 88,
     "metadata": {},
     "output_type": "execute_result"
    }
   ],
   "source": [
    "test_pred.shape"
   ]
  },
  {
   "cell_type": "code",
   "execution_count": 89,
   "id": "2dc67470",
   "metadata": {},
   "outputs": [],
   "source": [
    "pd.Series(test_pred, index=range(1,test_pred.shape[0]+1), name='target').to_csv('second_test.csv',header=True, index_label='session_id')"
   ]
  },
  {
   "cell_type": "markdown",
   "id": "2ece644b",
   "metadata": {},
   "source": [
    "# Мои добавки"
   ]
  },
  {
   "cell_type": "code",
   "execution_count": 99,
   "id": "13cca355",
   "metadata": {},
   "outputs": [],
   "source": [
    "new_feat_train_day = pd.DataFrame(index=train_df.index)\n",
    "new_train_test_day = pd.DataFrame(index=test_df.index)"
   ]
  },
  {
   "cell_type": "code",
   "execution_count": 100,
   "id": "05ed2e26",
   "metadata": {},
   "outputs": [],
   "source": [
    "new_feat_train_day['year_month_day'] = train_df['time1'].apply(lambda x: x.year*10000 + x.month*100 + x.day)\n",
    "new_train_test_day['year_month_day'] = test_df['time1'].apply(lambda x: x.year*10000 + x.month*100 + x.day)"
   ]
  },
  {
   "cell_type": "code",
   "execution_count": 102,
   "id": "b7d85425",
   "metadata": {},
   "outputs": [
    {
     "data": {
      "text/html": [
       "<div>\n",
       "<style scoped>\n",
       "    .dataframe tbody tr th:only-of-type {\n",
       "        vertical-align: middle;\n",
       "    }\n",
       "\n",
       "    .dataframe tbody tr th {\n",
       "        vertical-align: top;\n",
       "    }\n",
       "\n",
       "    .dataframe thead th {\n",
       "        text-align: right;\n",
       "    }\n",
       "</style>\n",
       "<table border=\"1\" class=\"dataframe\">\n",
       "  <thead>\n",
       "    <tr style=\"text-align: right;\">\n",
       "      <th></th>\n",
       "      <th>year_month_day</th>\n",
       "    </tr>\n",
       "    <tr>\n",
       "      <th>session_id</th>\n",
       "      <th></th>\n",
       "    </tr>\n",
       "  </thead>\n",
       "  <tbody>\n",
       "    <tr>\n",
       "      <th>1</th>\n",
       "      <td>20141004</td>\n",
       "    </tr>\n",
       "    <tr>\n",
       "      <th>2</th>\n",
       "      <td>20140703</td>\n",
       "    </tr>\n",
       "    <tr>\n",
       "      <th>3</th>\n",
       "      <td>20141205</td>\n",
       "    </tr>\n",
       "    <tr>\n",
       "      <th>4</th>\n",
       "      <td>20141104</td>\n",
       "    </tr>\n",
       "    <tr>\n",
       "      <th>5</th>\n",
       "      <td>20140516</td>\n",
       "    </tr>\n",
       "  </tbody>\n",
       "</table>\n",
       "</div>"
      ],
      "text/plain": [
       "            year_month_day\n",
       "session_id                \n",
       "1                 20141004\n",
       "2                 20140703\n",
       "3                 20141205\n",
       "4                 20141104\n",
       "5                 20140516"
      ]
     },
     "execution_count": 102,
     "metadata": {},
     "output_type": "execute_result"
    }
   ],
   "source": [
    "new_train_test_day.head()"
   ]
  },
  {
   "cell_type": "code",
   "execution_count": 103,
   "id": "e97da983",
   "metadata": {},
   "outputs": [],
   "source": [
    "scaler = StandardScaler()\n",
    "scaler.fit(new_feat_train_day['year_month_day'].values.reshape(-1,1))\n",
    "new_feat_train_day['year_month_scaled_day'] = scaler.transform(new_feat_train_day['year_month_day'].values.reshape(-1,1))\n",
    "new_train_test_day['year_month_scaled_day'] = scaler.transform(new_train_test_day['year_month_day'].values.reshape(-1,1))"
   ]
  },
  {
   "cell_type": "code",
   "execution_count": 105,
   "id": "18d70365",
   "metadata": {},
   "outputs": [],
   "source": [
    "X_train_sparse_new_day = csr_matrix(hstack([X_train_sparse, new_feat_train_day.year_month_scaled_day.values.reshape(-1,1)]))\n",
    "X_test_sparse_new_day = csr_matrix(hstack([X_test_sparse, new_train_test_day.year_month_scaled_day.values.reshape(-1,1)]))"
   ]
  },
  {
   "cell_type": "code",
   "execution_count": 106,
   "id": "6349568a",
   "metadata": {},
   "outputs": [
    {
     "data": {
      "text/plain": [
       "0.9196413583892163"
      ]
     },
     "execution_count": 106,
     "metadata": {},
     "output_type": "execute_result"
    }
   ],
   "source": [
    "get_auc_lr_valid(X_train_sparse_new_day, y_train)"
   ]
  },
  {
   "cell_type": "code",
   "execution_count": 111,
   "id": "027dbd3b",
   "metadata": {},
   "outputs": [],
   "source": [
    "new_feat_train = new_feat_train.drop('year_month_day', axis=1)"
   ]
  },
  {
   "cell_type": "code",
   "execution_count": 112,
   "id": "f68c2978",
   "metadata": {},
   "outputs": [],
   "source": [
    "new_train_test = new_train_test.drop('year_month_day', axis=1)"
   ]
  },
  {
   "cell_type": "markdown",
   "id": "ed2eec97",
   "metadata": {},
   "source": [
    "# 3"
   ]
  },
  {
   "cell_type": "code",
   "execution_count": 129,
   "id": "a858a9d6",
   "metadata": {},
   "outputs": [
    {
     "data": {
      "text/plain": [
       "session_id\n",
       "21669    -1\n",
       "54843    -1\n",
       "77292    -1\n",
       "114021   -1\n",
       "146670   -1\n",
       "         ..\n",
       "12224     1\n",
       "164438    1\n",
       "12221     1\n",
       "156968    1\n",
       "204762    1\n",
       "Name: time1, Length: 253561, dtype: int64"
      ]
     },
     "execution_count": 129,
     "metadata": {},
     "output_type": "execute_result"
    }
   ],
   "source": [
    "train_df['time1'].apply(lambda x: np.sign(x.hour-12))"
   ]
  },
  {
   "cell_type": "code",
   "execution_count": 130,
   "id": "b9d2a409",
   "metadata": {},
   "outputs": [],
   "source": [
    "new_feat_train['start_time'] = train_df['time1'].apply(lambda x: np.sign(x.hour-12))\n",
    "new_train_test['start_time'] = test_df['time1'].apply(lambda x: np.sign(x.hour-12))"
   ]
  },
  {
   "cell_type": "code",
   "execution_count": 131,
   "id": "a6ff3d7f",
   "metadata": {},
   "outputs": [
    {
     "data": {
      "text/html": [
       "<div>\n",
       "<style scoped>\n",
       "    .dataframe tbody tr th:only-of-type {\n",
       "        vertical-align: middle;\n",
       "    }\n",
       "\n",
       "    .dataframe tbody tr th {\n",
       "        vertical-align: top;\n",
       "    }\n",
       "\n",
       "    .dataframe thead th {\n",
       "        text-align: right;\n",
       "    }\n",
       "</style>\n",
       "<table border=\"1\" class=\"dataframe\">\n",
       "  <thead>\n",
       "    <tr style=\"text-align: right;\">\n",
       "      <th></th>\n",
       "      <th>year_month</th>\n",
       "      <th>year_month_scaled</th>\n",
       "      <th>start_time</th>\n",
       "    </tr>\n",
       "    <tr>\n",
       "      <th>session_id</th>\n",
       "      <th></th>\n",
       "      <th></th>\n",
       "      <th></th>\n",
       "    </tr>\n",
       "  </thead>\n",
       "  <tbody>\n",
       "    <tr>\n",
       "      <th>1</th>\n",
       "      <td>201410</td>\n",
       "      <td>0.822948</td>\n",
       "      <td>-1</td>\n",
       "    </tr>\n",
       "    <tr>\n",
       "      <th>2</th>\n",
       "      <td>201407</td>\n",
       "      <td>0.752287</td>\n",
       "      <td>-1</td>\n",
       "    </tr>\n",
       "    <tr>\n",
       "      <th>3</th>\n",
       "      <td>201412</td>\n",
       "      <td>0.870055</td>\n",
       "      <td>1</td>\n",
       "    </tr>\n",
       "    <tr>\n",
       "      <th>4</th>\n",
       "      <td>201411</td>\n",
       "      <td>0.846501</td>\n",
       "      <td>-1</td>\n",
       "    </tr>\n",
       "    <tr>\n",
       "      <th>5</th>\n",
       "      <td>201405</td>\n",
       "      <td>0.705179</td>\n",
       "      <td>1</td>\n",
       "    </tr>\n",
       "  </tbody>\n",
       "</table>\n",
       "</div>"
      ],
      "text/plain": [
       "            year_month  year_month_scaled  start_time\n",
       "session_id                                           \n",
       "1               201410           0.822948          -1\n",
       "2               201407           0.752287          -1\n",
       "3               201412           0.870055           1\n",
       "4               201411           0.846501          -1\n",
       "5               201405           0.705179           1"
      ]
     },
     "execution_count": 131,
     "metadata": {},
     "output_type": "execute_result"
    }
   ],
   "source": [
    "new_train_test.head()"
   ]
  },
  {
   "cell_type": "code",
   "execution_count": 132,
   "id": "66a6fb61",
   "metadata": {},
   "outputs": [],
   "source": [
    "X_train_sparse_new = csr_matrix(hstack([X_train_sparse_new, new_feat_train.start_time.values.reshape(-1,1)]))\n",
    "X_test_sparse_new = csr_matrix(hstack([X_test_sparse_new, new_train_test.start_time.values.reshape(-1,1)]))"
   ]
  },
  {
   "cell_type": "code",
   "execution_count": 133,
   "id": "0ea4d44e",
   "metadata": {},
   "outputs": [
    {
     "data": {
      "text/plain": [
       "(253561, 48373)"
      ]
     },
     "execution_count": 133,
     "metadata": {},
     "output_type": "execute_result"
    }
   ],
   "source": [
    "X_train_sparse_new.shape"
   ]
  },
  {
   "cell_type": "code",
   "execution_count": 157,
   "id": "04ccaea6",
   "metadata": {},
   "outputs": [
    {
     "data": {
      "text/plain": [
       "0.9519600721678991"
      ]
     },
     "execution_count": 157,
     "metadata": {},
     "output_type": "execute_result"
    }
   ],
   "source": [
    "get_auc_lr_valid(X_train_sparse_new, y_train, C=0.13)"
   ]
  },
  {
   "cell_type": "code",
   "execution_count": 135,
   "id": "04f47dc0",
   "metadata": {},
   "outputs": [],
   "source": [
    "logit.fit(X_train_sparse_new, y_train)\n",
    "test_pred = logit.predict_proba(X_test_sparse_new)[:, 1]"
   ]
  },
  {
   "cell_type": "code",
   "execution_count": 136,
   "id": "48f34e52",
   "metadata": {},
   "outputs": [
    {
     "data": {
      "text/plain": [
       "(82797,)"
      ]
     },
     "execution_count": 136,
     "metadata": {},
     "output_type": "execute_result"
    }
   ],
   "source": [
    "test_pred.shape"
   ]
  },
  {
   "cell_type": "code",
   "execution_count": 137,
   "id": "48847e62",
   "metadata": {},
   "outputs": [],
   "source": [
    "pd.Series(test_pred, index=range(1,test_pred.shape[0]+1), name='target').to_csv('3_test.csv',header=True, index_label='session_id')"
   ]
  },
  {
   "cell_type": "markdown",
   "id": "c2cba9df",
   "metadata": {},
   "source": [
    "# 4"
   ]
  },
  {
   "cell_type": "code",
   "execution_count": 142,
   "id": "c59b2baf",
   "metadata": {},
   "outputs": [
    {
     "data": {
      "text/plain": [
       "session_id\n",
       "21669     29157\n",
       "54843     31043\n",
       "77292     31813\n",
       "114021    31817\n",
       "146670    31820\n",
       "          ...  \n",
       "12224     84828\n",
       "164438    84855\n",
       "12221     85088\n",
       "156968    85116\n",
       "204762    85193\n",
       "Name: time1, Length: 253561, dtype: int64"
      ]
     },
     "execution_count": 142,
     "metadata": {},
     "output_type": "execute_result"
    }
   ],
   "source": [
    "train_df['time1'].apply(lambda x: x.hour*3600 + x.minute*60 + x.second)"
   ]
  },
  {
   "cell_type": "code",
   "execution_count": 144,
   "id": "6e5cef1c",
   "metadata": {},
   "outputs": [
    {
     "data": {
      "text/plain": [
       "session_id\n",
       "21669       NaN\n",
       "54843       NaN\n",
       "77292       4.0\n",
       "114021      3.0\n",
       "146670      2.0\n",
       "          ...  \n",
       "12224      12.0\n",
       "164438    178.0\n",
       "12221      28.0\n",
       "156968     77.0\n",
       "204762      NaN\n",
       "Length: 253561, dtype: float64"
      ]
     },
     "execution_count": 144,
     "metadata": {},
     "output_type": "execute_result"
    }
   ],
   "source": [
    "train_df['time10'].apply(lambda x: x.hour*3600 + x.minute*60 + x.second) - train_df['time1'].apply(lambda x: x.hour*3600 + x.minute*60 + x.second)"
   ]
  },
  {
   "cell_type": "code",
   "execution_count": 145,
   "id": "1f55fb07",
   "metadata": {},
   "outputs": [
    {
     "data": {
      "text/plain": [
       "session_id\n",
       "21669         NaN\n",
       "54843         NaN\n",
       "77292     31817.0\n",
       "114021    31820.0\n",
       "146670    31822.0\n",
       "           ...   \n",
       "12224     84840.0\n",
       "164438    85033.0\n",
       "12221     85116.0\n",
       "156968    85193.0\n",
       "204762        NaN\n",
       "Name: time10, Length: 253561, dtype: float64"
      ]
     },
     "execution_count": 145,
     "metadata": {},
     "output_type": "execute_result"
    }
   ],
   "source": [
    "train_df['time10'].apply(lambda x: x.hour*3600 + x.minute*60 + x.second)"
   ]
  },
  {
   "cell_type": "code",
   "execution_count": 165,
   "id": "83206e40",
   "metadata": {},
   "outputs": [
    {
     "data": {
      "text/html": [
       "<div>\n",
       "<style scoped>\n",
       "    .dataframe tbody tr th:only-of-type {\n",
       "        vertical-align: middle;\n",
       "    }\n",
       "\n",
       "    .dataframe tbody tr th {\n",
       "        vertical-align: top;\n",
       "    }\n",
       "\n",
       "    .dataframe thead th {\n",
       "        text-align: right;\n",
       "    }\n",
       "</style>\n",
       "<table border=\"1\" class=\"dataframe\">\n",
       "  <thead>\n",
       "    <tr style=\"text-align: right;\">\n",
       "      <th></th>\n",
       "      <th>site1</th>\n",
       "      <th>time1</th>\n",
       "      <th>site2</th>\n",
       "      <th>time2</th>\n",
       "      <th>site3</th>\n",
       "      <th>time3</th>\n",
       "      <th>site4</th>\n",
       "      <th>time4</th>\n",
       "      <th>site5</th>\n",
       "      <th>time5</th>\n",
       "      <th>...</th>\n",
       "      <th>time6</th>\n",
       "      <th>site7</th>\n",
       "      <th>time7</th>\n",
       "      <th>site8</th>\n",
       "      <th>time8</th>\n",
       "      <th>site9</th>\n",
       "      <th>time9</th>\n",
       "      <th>site10</th>\n",
       "      <th>time10</th>\n",
       "      <th>target</th>\n",
       "    </tr>\n",
       "    <tr>\n",
       "      <th>session_id</th>\n",
       "      <th></th>\n",
       "      <th></th>\n",
       "      <th></th>\n",
       "      <th></th>\n",
       "      <th></th>\n",
       "      <th></th>\n",
       "      <th></th>\n",
       "      <th></th>\n",
       "      <th></th>\n",
       "      <th></th>\n",
       "      <th></th>\n",
       "      <th></th>\n",
       "      <th></th>\n",
       "      <th></th>\n",
       "      <th></th>\n",
       "      <th></th>\n",
       "      <th></th>\n",
       "      <th></th>\n",
       "      <th></th>\n",
       "      <th></th>\n",
       "      <th></th>\n",
       "    </tr>\n",
       "  </thead>\n",
       "  <tbody>\n",
       "    <tr>\n",
       "      <th>197753</th>\n",
       "      <td>775</td>\n",
       "      <td>2013-04-12 09:26:15</td>\n",
       "      <td>616</td>\n",
       "      <td>2013-04-12 09:26:16</td>\n",
       "      <td>0</td>\n",
       "      <td>NaT</td>\n",
       "      <td>0</td>\n",
       "      <td>NaT</td>\n",
       "      <td>0</td>\n",
       "      <td>NaT</td>\n",
       "      <td>...</td>\n",
       "      <td>NaT</td>\n",
       "      <td>0</td>\n",
       "      <td>NaT</td>\n",
       "      <td>0</td>\n",
       "      <td>NaT</td>\n",
       "      <td>0</td>\n",
       "      <td>NaT</td>\n",
       "      <td>0</td>\n",
       "      <td>NaT</td>\n",
       "      <td>1</td>\n",
       "    </tr>\n",
       "    <tr>\n",
       "      <th>161160</th>\n",
       "      <td>52</td>\n",
       "      <td>2013-09-12 18:20:54</td>\n",
       "      <td>1057</td>\n",
       "      <td>2013-09-12 18:20:54</td>\n",
       "      <td>0</td>\n",
       "      <td>NaT</td>\n",
       "      <td>0</td>\n",
       "      <td>NaT</td>\n",
       "      <td>0</td>\n",
       "      <td>NaT</td>\n",
       "      <td>...</td>\n",
       "      <td>NaT</td>\n",
       "      <td>0</td>\n",
       "      <td>NaT</td>\n",
       "      <td>0</td>\n",
       "      <td>NaT</td>\n",
       "      <td>0</td>\n",
       "      <td>NaT</td>\n",
       "      <td>0</td>\n",
       "      <td>NaT</td>\n",
       "      <td>1</td>\n",
       "    </tr>\n",
       "    <tr>\n",
       "      <th>118404</th>\n",
       "      <td>3000</td>\n",
       "      <td>2014-01-16 13:04:20</td>\n",
       "      <td>0</td>\n",
       "      <td>NaT</td>\n",
       "      <td>0</td>\n",
       "      <td>NaT</td>\n",
       "      <td>0</td>\n",
       "      <td>NaT</td>\n",
       "      <td>0</td>\n",
       "      <td>NaT</td>\n",
       "      <td>...</td>\n",
       "      <td>NaT</td>\n",
       "      <td>0</td>\n",
       "      <td>NaT</td>\n",
       "      <td>0</td>\n",
       "      <td>NaT</td>\n",
       "      <td>0</td>\n",
       "      <td>NaT</td>\n",
       "      <td>0</td>\n",
       "      <td>NaT</td>\n",
       "      <td>1</td>\n",
       "    </tr>\n",
       "    <tr>\n",
       "      <th>43722</th>\n",
       "      <td>1</td>\n",
       "      <td>2014-01-28 14:14:19</td>\n",
       "      <td>63</td>\n",
       "      <td>2014-01-28 14:17:03</td>\n",
       "      <td>0</td>\n",
       "      <td>NaT</td>\n",
       "      <td>0</td>\n",
       "      <td>NaT</td>\n",
       "      <td>0</td>\n",
       "      <td>NaT</td>\n",
       "      <td>...</td>\n",
       "      <td>NaT</td>\n",
       "      <td>0</td>\n",
       "      <td>NaT</td>\n",
       "      <td>0</td>\n",
       "      <td>NaT</td>\n",
       "      <td>0</td>\n",
       "      <td>NaT</td>\n",
       "      <td>0</td>\n",
       "      <td>NaT</td>\n",
       "      <td>1</td>\n",
       "    </tr>\n",
       "    <tr>\n",
       "      <th>184965</th>\n",
       "      <td>39</td>\n",
       "      <td>2014-02-24 18:14:19</td>\n",
       "      <td>21</td>\n",
       "      <td>2014-02-24 18:14:19</td>\n",
       "      <td>0</td>\n",
       "      <td>NaT</td>\n",
       "      <td>0</td>\n",
       "      <td>NaT</td>\n",
       "      <td>0</td>\n",
       "      <td>NaT</td>\n",
       "      <td>...</td>\n",
       "      <td>NaT</td>\n",
       "      <td>0</td>\n",
       "      <td>NaT</td>\n",
       "      <td>0</td>\n",
       "      <td>NaT</td>\n",
       "      <td>0</td>\n",
       "      <td>NaT</td>\n",
       "      <td>0</td>\n",
       "      <td>NaT</td>\n",
       "      <td>1</td>\n",
       "    </tr>\n",
       "    <tr>\n",
       "      <th>60640</th>\n",
       "      <td>3470</td>\n",
       "      <td>2014-02-27 15:16:40</td>\n",
       "      <td>0</td>\n",
       "      <td>NaT</td>\n",
       "      <td>0</td>\n",
       "      <td>NaT</td>\n",
       "      <td>0</td>\n",
       "      <td>NaT</td>\n",
       "      <td>0</td>\n",
       "      <td>NaT</td>\n",
       "      <td>...</td>\n",
       "      <td>NaT</td>\n",
       "      <td>0</td>\n",
       "      <td>NaT</td>\n",
       "      <td>0</td>\n",
       "      <td>NaT</td>\n",
       "      <td>0</td>\n",
       "      <td>NaT</td>\n",
       "      <td>0</td>\n",
       "      <td>NaT</td>\n",
       "      <td>1</td>\n",
       "    </tr>\n",
       "    <tr>\n",
       "      <th>116578</th>\n",
       "      <td>63</td>\n",
       "      <td>2014-03-02 11:55:52</td>\n",
       "      <td>0</td>\n",
       "      <td>NaT</td>\n",
       "      <td>0</td>\n",
       "      <td>NaT</td>\n",
       "      <td>0</td>\n",
       "      <td>NaT</td>\n",
       "      <td>0</td>\n",
       "      <td>NaT</td>\n",
       "      <td>...</td>\n",
       "      <td>NaT</td>\n",
       "      <td>0</td>\n",
       "      <td>NaT</td>\n",
       "      <td>0</td>\n",
       "      <td>NaT</td>\n",
       "      <td>0</td>\n",
       "      <td>NaT</td>\n",
       "      <td>0</td>\n",
       "      <td>NaT</td>\n",
       "      <td>1</td>\n",
       "    </tr>\n",
       "    <tr>\n",
       "      <th>195253</th>\n",
       "      <td>5580</td>\n",
       "      <td>2014-03-18 13:50:09</td>\n",
       "      <td>30</td>\n",
       "      <td>2014-03-18 13:51:08</td>\n",
       "      <td>0</td>\n",
       "      <td>NaT</td>\n",
       "      <td>0</td>\n",
       "      <td>NaT</td>\n",
       "      <td>0</td>\n",
       "      <td>NaT</td>\n",
       "      <td>...</td>\n",
       "      <td>NaT</td>\n",
       "      <td>0</td>\n",
       "      <td>NaT</td>\n",
       "      <td>0</td>\n",
       "      <td>NaT</td>\n",
       "      <td>0</td>\n",
       "      <td>NaT</td>\n",
       "      <td>0</td>\n",
       "      <td>NaT</td>\n",
       "      <td>1</td>\n",
       "    </tr>\n",
       "    <tr>\n",
       "      <th>131027</th>\n",
       "      <td>80</td>\n",
       "      <td>2014-03-24 18:19:24</td>\n",
       "      <td>77</td>\n",
       "      <td>2014-03-24 18:19:24</td>\n",
       "      <td>0</td>\n",
       "      <td>NaT</td>\n",
       "      <td>0</td>\n",
       "      <td>NaT</td>\n",
       "      <td>0</td>\n",
       "      <td>NaT</td>\n",
       "      <td>...</td>\n",
       "      <td>NaT</td>\n",
       "      <td>0</td>\n",
       "      <td>NaT</td>\n",
       "      <td>0</td>\n",
       "      <td>NaT</td>\n",
       "      <td>0</td>\n",
       "      <td>NaT</td>\n",
       "      <td>0</td>\n",
       "      <td>NaT</td>\n",
       "      <td>1</td>\n",
       "    </tr>\n",
       "    <tr>\n",
       "      <th>9516</th>\n",
       "      <td>5301</td>\n",
       "      <td>2014-03-31 16:48:56</td>\n",
       "      <td>5301</td>\n",
       "      <td>2014-03-31 16:49:00</td>\n",
       "      <td>0</td>\n",
       "      <td>NaT</td>\n",
       "      <td>0</td>\n",
       "      <td>NaT</td>\n",
       "      <td>0</td>\n",
       "      <td>NaT</td>\n",
       "      <td>...</td>\n",
       "      <td>NaT</td>\n",
       "      <td>0</td>\n",
       "      <td>NaT</td>\n",
       "      <td>0</td>\n",
       "      <td>NaT</td>\n",
       "      <td>0</td>\n",
       "      <td>NaT</td>\n",
       "      <td>0</td>\n",
       "      <td>NaT</td>\n",
       "      <td>1</td>\n",
       "    </tr>\n",
       "  </tbody>\n",
       "</table>\n",
       "<p>10 rows × 21 columns</p>\n",
       "</div>"
      ],
      "text/plain": [
       "            site1               time1  site2               time2  site3 time3  \\\n",
       "session_id                                                                      \n",
       "197753        775 2013-04-12 09:26:15    616 2013-04-12 09:26:16      0   NaT   \n",
       "161160         52 2013-09-12 18:20:54   1057 2013-09-12 18:20:54      0   NaT   \n",
       "118404       3000 2014-01-16 13:04:20      0                 NaT      0   NaT   \n",
       "43722           1 2014-01-28 14:14:19     63 2014-01-28 14:17:03      0   NaT   \n",
       "184965         39 2014-02-24 18:14:19     21 2014-02-24 18:14:19      0   NaT   \n",
       "60640        3470 2014-02-27 15:16:40      0                 NaT      0   NaT   \n",
       "116578         63 2014-03-02 11:55:52      0                 NaT      0   NaT   \n",
       "195253       5580 2014-03-18 13:50:09     30 2014-03-18 13:51:08      0   NaT   \n",
       "131027         80 2014-03-24 18:19:24     77 2014-03-24 18:19:24      0   NaT   \n",
       "9516         5301 2014-03-31 16:48:56   5301 2014-03-31 16:49:00      0   NaT   \n",
       "\n",
       "            site4 time4  site5 time5  ...  time6 site7  time7 site8  time8  \\\n",
       "session_id                            ...                                    \n",
       "197753          0   NaT      0   NaT  ...    NaT     0    NaT     0    NaT   \n",
       "161160          0   NaT      0   NaT  ...    NaT     0    NaT     0    NaT   \n",
       "118404          0   NaT      0   NaT  ...    NaT     0    NaT     0    NaT   \n",
       "43722           0   NaT      0   NaT  ...    NaT     0    NaT     0    NaT   \n",
       "184965          0   NaT      0   NaT  ...    NaT     0    NaT     0    NaT   \n",
       "60640           0   NaT      0   NaT  ...    NaT     0    NaT     0    NaT   \n",
       "116578          0   NaT      0   NaT  ...    NaT     0    NaT     0    NaT   \n",
       "195253          0   NaT      0   NaT  ...    NaT     0    NaT     0    NaT   \n",
       "131027          0   NaT      0   NaT  ...    NaT     0    NaT     0    NaT   \n",
       "9516            0   NaT      0   NaT  ...    NaT     0    NaT     0    NaT   \n",
       "\n",
       "           site9  time9 site10  time10 target  \n",
       "session_id                                     \n",
       "197753         0    NaT      0     NaT      1  \n",
       "161160         0    NaT      0     NaT      1  \n",
       "118404         0    NaT      0     NaT      1  \n",
       "43722          0    NaT      0     NaT      1  \n",
       "184965         0    NaT      0     NaT      1  \n",
       "60640          0    NaT      0     NaT      1  \n",
       "116578         0    NaT      0     NaT      1  \n",
       "195253         0    NaT      0     NaT      1  \n",
       "131027         0    NaT      0     NaT      1  \n",
       "9516           0    NaT      0     NaT      1  \n",
       "\n",
       "[10 rows x 21 columns]"
      ]
     },
     "execution_count": 165,
     "metadata": {},
     "output_type": "execute_result"
    }
   ],
   "source": [
    "train_df.query('time3==\"NaN\" & target==1')"
   ]
  },
  {
   "cell_type": "code",
   "execution_count": 180,
   "id": "c8755c7b",
   "metadata": {},
   "outputs": [
    {
     "data": {
      "text/plain": [
       "session_id\n",
       "21669     2\n",
       "54843     2\n",
       "77292     2\n",
       "114021    2\n",
       "146670    2\n",
       "         ..\n",
       "12224     2\n",
       "164438    2\n",
       "12221     2\n",
       "156968    2\n",
       "204762    2\n",
       "Length: 253561, dtype: int64"
      ]
     },
     "execution_count": 180,
     "metadata": {},
     "output_type": "execute_result"
    }
   ],
   "source": [
    "train_df.site1.apply(lambda x: 0 if x==0 else 1) + train_df.site2.apply(lambda x: 0 if x==0 else 1)"
   ]
  },
  {
   "cell_type": "code",
   "execution_count": 228,
   "id": "a5a11f23",
   "metadata": {},
   "outputs": [],
   "source": [
    "s_sum = 0\n",
    "for i in range(1,11):\n",
    "    s_sum += train_df['site%s' %i].apply(lambda x: 0 if x==0 else 1)"
   ]
  },
  {
   "cell_type": "code",
   "execution_count": 229,
   "id": "2c68023d",
   "metadata": {},
   "outputs": [
    {
     "data": {
      "text/plain": [
       "session_id\n",
       "21669      2\n",
       "54843      4\n",
       "77292     10\n",
       "114021    10\n",
       "146670    10\n",
       "          ..\n",
       "12224     10\n",
       "164438    10\n",
       "12221     10\n",
       "156968    10\n",
       "204762     7\n",
       "Name: site1, Length: 253561, dtype: int64"
      ]
     },
     "execution_count": 229,
     "metadata": {},
     "output_type": "execute_result"
    }
   ],
   "source": [
    "s_sum"
   ]
  },
  {
   "cell_type": "code",
   "execution_count": 354,
   "id": "d56e29b2",
   "metadata": {},
   "outputs": [
    {
     "data": {
      "text/plain": [
       "253561"
      ]
     },
     "execution_count": 354,
     "metadata": {},
     "output_type": "execute_result"
    }
   ],
   "source": [
    "s_sum.to_frame().values.reshape(-1,1)"
   ]
  },
  {
   "cell_type": "code",
   "execution_count": 232,
   "id": "0e09afcc",
   "metadata": {},
   "outputs": [],
   "source": [
    "X_train_sparse_new = csr_matrix(hstack([X_train_sparse_new, s_sum.to_frame().values.reshape(-1,1)]))"
   ]
  },
  {
   "cell_type": "code",
   "execution_count": 356,
   "id": "9cf549fc",
   "metadata": {},
   "outputs": [],
   "source": [
    "s_sum = 0\n",
    "for i in range(1,11):\n",
    "    s_sum += test_df['site%s' %i].apply(lambda x: 0 if x==0 else 1)\n",
    "X_test_sparse_new = csr_matrix(hstack([X_test_sparse_new, s_sum.to_frame().values.reshape(-1,1)]))"
   ]
  },
  {
   "cell_type": "code",
   "execution_count": 245,
   "id": "d5ea58c7",
   "metadata": {},
   "outputs": [
    {
     "data": {
      "text/plain": [
       "(253561, 48375)"
      ]
     },
     "execution_count": 245,
     "metadata": {},
     "output_type": "execute_result"
    }
   ],
   "source": [
    "X_train_sparse_new.shape"
   ]
  },
  {
   "cell_type": "code",
   "execution_count": 246,
   "id": "25b9aceb",
   "metadata": {},
   "outputs": [
    {
     "data": {
      "text/plain": [
       "(82797, 48375)"
      ]
     },
     "execution_count": 246,
     "metadata": {},
     "output_type": "execute_result"
    }
   ],
   "source": [
    "X_test_sparse_new.shape"
   ]
  },
  {
   "cell_type": "code",
   "execution_count": 250,
   "id": "6809bfa5",
   "metadata": {},
   "outputs": [
    {
     "data": {
      "text/plain": [
       "0.9508667906901479"
      ]
     },
     "execution_count": 250,
     "metadata": {},
     "output_type": "execute_result"
    }
   ],
   "source": [
    "get_auc_lr_valid(X_train_sparse_new, y_train, C=1)"
   ]
  },
  {
   "cell_type": "code",
   "execution_count": 251,
   "id": "d5df802b",
   "metadata": {},
   "outputs": [],
   "source": [
    "logit.fit(X_train_sparse_new, y_train)\n",
    "test_pred = logit.predict_proba(X_test_sparse_new)[:, 1]"
   ]
  },
  {
   "cell_type": "code",
   "execution_count": 252,
   "id": "5e32dcfc",
   "metadata": {},
   "outputs": [
    {
     "data": {
      "text/plain": [
       "(82797,)"
      ]
     },
     "execution_count": 252,
     "metadata": {},
     "output_type": "execute_result"
    }
   ],
   "source": [
    "test_pred.shape"
   ]
  },
  {
   "cell_type": "code",
   "execution_count": 253,
   "id": "48be5675",
   "metadata": {},
   "outputs": [],
   "source": [
    "pd.Series(test_pred, index=range(1,test_pred.shape[0]+1), name='target').to_csv('4_test.csv',header=True, index_label='session_id')"
   ]
  },
  {
   "cell_type": "markdown",
   "id": "c0e28338",
   "metadata": {},
   "source": [
    "# 5"
   ]
  },
  {
   "cell_type": "code",
   "execution_count": 365,
   "id": "405e998a",
   "metadata": {},
   "outputs": [
    {
     "data": {
      "text/plain": [
       "session_id\n",
       "21669      2\n",
       "54843      4\n",
       "77292     10\n",
       "114021    10\n",
       "146670    10\n",
       "          ..\n",
       "12224     10\n",
       "164438    10\n",
       "12221     10\n",
       "156968    10\n",
       "204762     7\n",
       "Name: site1, Length: 253561, dtype: int64"
      ]
     },
     "execution_count": 365,
     "metadata": {},
     "output_type": "execute_result"
    }
   ],
   "source": [
    "s_sum1 = 0\n",
    "for i in range(1,11):\n",
    "    s_sum1 += train_df['site%s' %i].apply(lambda x: 0 if x==0 else 1)\n",
    "s_sum1"
   ]
  },
  {
   "cell_type": "code",
   "execution_count": 370,
   "id": "0f0ead54",
   "metadata": {},
   "outputs": [
    {
     "data": {
      "text/plain": [
       "253561"
      ]
     },
     "execution_count": 370,
     "metadata": {},
     "output_type": "execute_result"
    }
   ],
   "source": [
    "len(s_sum1.tolist())"
   ]
  },
  {
   "cell_type": "code",
   "execution_count": 371,
   "id": "e3bc7edf",
   "metadata": {},
   "outputs": [],
   "source": [
    "ind = 0\n",
    "arr_time_dif = []\n",
    "for i in s_sum1.tolist():\n",
    "    arr_time_dif.append(train_df['time%s' % i].iloc[ind].hour*3600 + train_df['time%s' % i].iloc[ind].minute*60 + train_df['time%s' % i].iloc[ind].second - \\\n",
    "    (train_df['time1'].iloc[ind].hour*3600 + train_df['time1'].iloc[ind].minute*60 + train_df['time1'].iloc[ind].second))\n",
    "    ind += 1"
   ]
  },
  {
   "cell_type": "code",
   "execution_count": 374,
   "id": "f8ba90e0",
   "metadata": {},
   "outputs": [
    {
     "data": {
      "text/plain": [
       "253561"
      ]
     },
     "execution_count": 374,
     "metadata": {},
     "output_type": "execute_result"
    }
   ],
   "source": [
    "len(arr_time_dif)"
   ]
  },
  {
   "cell_type": "code",
   "execution_count": 375,
   "id": "346de466",
   "metadata": {},
   "outputs": [],
   "source": [
    "arr_time_dif = pd.Series(arr_time_dif).to_frame().rename(columns={0:'dif_time'})"
   ]
  },
  {
   "cell_type": "code",
   "execution_count": 376,
   "id": "dda11fd8",
   "metadata": {},
   "outputs": [
    {
     "data": {
      "text/html": [
       "<div>\n",
       "<style scoped>\n",
       "    .dataframe tbody tr th:only-of-type {\n",
       "        vertical-align: middle;\n",
       "    }\n",
       "\n",
       "    .dataframe tbody tr th {\n",
       "        vertical-align: top;\n",
       "    }\n",
       "\n",
       "    .dataframe thead th {\n",
       "        text-align: right;\n",
       "    }\n",
       "</style>\n",
       "<table border=\"1\" class=\"dataframe\">\n",
       "  <thead>\n",
       "    <tr style=\"text-align: right;\">\n",
       "      <th></th>\n",
       "      <th>dif_time</th>\n",
       "    </tr>\n",
       "  </thead>\n",
       "  <tbody>\n",
       "    <tr>\n",
       "      <th>0</th>\n",
       "      <td>0</td>\n",
       "    </tr>\n",
       "    <tr>\n",
       "      <th>1</th>\n",
       "      <td>1786</td>\n",
       "    </tr>\n",
       "    <tr>\n",
       "      <th>2</th>\n",
       "      <td>4</td>\n",
       "    </tr>\n",
       "    <tr>\n",
       "      <th>3</th>\n",
       "      <td>3</td>\n",
       "    </tr>\n",
       "    <tr>\n",
       "      <th>4</th>\n",
       "      <td>2</td>\n",
       "    </tr>\n",
       "    <tr>\n",
       "      <th>...</th>\n",
       "      <td>...</td>\n",
       "    </tr>\n",
       "    <tr>\n",
       "      <th>253556</th>\n",
       "      <td>12</td>\n",
       "    </tr>\n",
       "    <tr>\n",
       "      <th>253557</th>\n",
       "      <td>178</td>\n",
       "    </tr>\n",
       "    <tr>\n",
       "      <th>253558</th>\n",
       "      <td>28</td>\n",
       "    </tr>\n",
       "    <tr>\n",
       "      <th>253559</th>\n",
       "      <td>77</td>\n",
       "    </tr>\n",
       "    <tr>\n",
       "      <th>253560</th>\n",
       "      <td>12</td>\n",
       "    </tr>\n",
       "  </tbody>\n",
       "</table>\n",
       "<p>253561 rows × 1 columns</p>\n",
       "</div>"
      ],
      "text/plain": [
       "        dif_time\n",
       "0              0\n",
       "1           1786\n",
       "2              4\n",
       "3              3\n",
       "4              2\n",
       "...          ...\n",
       "253556        12\n",
       "253557       178\n",
       "253558        28\n",
       "253559        77\n",
       "253560        12\n",
       "\n",
       "[253561 rows x 1 columns]"
      ]
     },
     "execution_count": 376,
     "metadata": {},
     "output_type": "execute_result"
    }
   ],
   "source": [
    "arr_time_dif"
   ]
  },
  {
   "cell_type": "code",
   "execution_count": 339,
   "id": "cf72f95b",
   "metadata": {},
   "outputs": [],
   "source": [
    "s_sum2 = 0\n",
    "for i in range(1,11):\n",
    "    s_sum2 += test_df['site%s' %i].apply(lambda x: 0 if x==0 else 1)\n",
    "ind = 0\n",
    "arr_time_dif2 = []\n",
    "for i in s_sum2.tolist():\n",
    "    arr_time_dif2.append(test_df['time%s' % i].iloc[ind].hour*3600 + test_df['time%s' % i].iloc[ind].minute*60 + test_df['time%s' % i].iloc[ind].second - \\\n",
    "    (test_df['time1'].iloc[ind].hour*3600 + test_df['time1'].iloc[ind].minute*60 + test_df['time1'].iloc[ind].second))\n",
    "    ind += 1\n",
    "arr_time_dif2 = pd.Series(arr_time_dif2).to_frame().rename(columns={0:'dif_time'})"
   ]
  },
  {
   "cell_type": "code",
   "execution_count": 377,
   "id": "dca9cc25",
   "metadata": {},
   "outputs": [
    {
     "data": {
      "text/html": [
       "<div>\n",
       "<style scoped>\n",
       "    .dataframe tbody tr th:only-of-type {\n",
       "        vertical-align: middle;\n",
       "    }\n",
       "\n",
       "    .dataframe tbody tr th {\n",
       "        vertical-align: top;\n",
       "    }\n",
       "\n",
       "    .dataframe thead th {\n",
       "        text-align: right;\n",
       "    }\n",
       "</style>\n",
       "<table border=\"1\" class=\"dataframe\">\n",
       "  <thead>\n",
       "    <tr style=\"text-align: right;\">\n",
       "      <th></th>\n",
       "      <th>dif_time</th>\n",
       "    </tr>\n",
       "  </thead>\n",
       "  <tbody>\n",
       "    <tr>\n",
       "      <th>0</th>\n",
       "      <td>-0.436056</td>\n",
       "    </tr>\n",
       "    <tr>\n",
       "      <th>1</th>\n",
       "      <td>-0.179700</td>\n",
       "    </tr>\n",
       "    <tr>\n",
       "      <th>2</th>\n",
       "      <td>-0.182986</td>\n",
       "    </tr>\n",
       "    <tr>\n",
       "      <th>3</th>\n",
       "      <td>-0.445915</td>\n",
       "    </tr>\n",
       "    <tr>\n",
       "      <th>4</th>\n",
       "      <td>-0.416336</td>\n",
       "    </tr>\n",
       "    <tr>\n",
       "      <th>...</th>\n",
       "      <td>...</td>\n",
       "    </tr>\n",
       "    <tr>\n",
       "      <th>82792</th>\n",
       "      <td>-0.459062</td>\n",
       "    </tr>\n",
       "    <tr>\n",
       "      <th>82793</th>\n",
       "      <td>-0.330884</td>\n",
       "    </tr>\n",
       "    <tr>\n",
       "      <th>82794</th>\n",
       "      <td>-0.432769</td>\n",
       "    </tr>\n",
       "    <tr>\n",
       "      <th>82795</th>\n",
       "      <td>-0.416336</td>\n",
       "    </tr>\n",
       "    <tr>\n",
       "      <th>82796</th>\n",
       "      <td>-0.294731</td>\n",
       "    </tr>\n",
       "  </tbody>\n",
       "</table>\n",
       "<p>82797 rows × 1 columns</p>\n",
       "</div>"
      ],
      "text/plain": [
       "       dif_time\n",
       "0     -0.436056\n",
       "1     -0.179700\n",
       "2     -0.182986\n",
       "3     -0.445915\n",
       "4     -0.416336\n",
       "...         ...\n",
       "82792 -0.459062\n",
       "82793 -0.330884\n",
       "82794 -0.432769\n",
       "82795 -0.416336\n",
       "82796 -0.294731\n",
       "\n",
       "[82797 rows x 1 columns]"
      ]
     },
     "execution_count": 377,
     "metadata": {},
     "output_type": "execute_result"
    }
   ],
   "source": [
    "arr_time_dif2"
   ]
  },
  {
   "cell_type": "code",
   "execution_count": 378,
   "id": "e393f4ad",
   "metadata": {},
   "outputs": [
    {
     "data": {
      "text/plain": [
       "253561"
      ]
     },
     "execution_count": 378,
     "metadata": {},
     "output_type": "execute_result"
    }
   ],
   "source": [
    "len(arr_time_dif['dif_time'].values.reshape(-1,1))"
   ]
  },
  {
   "cell_type": "code",
   "execution_count": 379,
   "id": "ebdfd74f",
   "metadata": {},
   "outputs": [],
   "source": [
    "scaler.fit(arr_time_dif['dif_time'].values.reshape(-1,1))\n",
    "arr_time_dif['dif_time'] = scaler.transform(arr_time_dif['dif_time'].values.reshape(-1,1))\n",
    "arr_time_dif2['dif_time'] = scaler.transform(arr_time_dif2['dif_time'].values.reshape(-1,1))"
   ]
  },
  {
   "cell_type": "code",
   "execution_count": 381,
   "id": "2dbbcd7c",
   "metadata": {},
   "outputs": [
    {
     "data": {
      "text/plain": [
       "(253561, 1)"
      ]
     },
     "execution_count": 381,
     "metadata": {},
     "output_type": "execute_result"
    }
   ],
   "source": [
    "arr_time_dif.shape"
   ]
  },
  {
   "cell_type": "code",
   "execution_count": 382,
   "id": "ea3d3f66",
   "metadata": {},
   "outputs": [
    {
     "data": {
      "text/plain": [
       "253561"
      ]
     },
     "execution_count": 382,
     "metadata": {},
     "output_type": "execute_result"
    }
   ],
   "source": [
    "len(arr_time_dif.values.reshape(-1,1))"
   ]
  },
  {
   "cell_type": "code",
   "execution_count": 383,
   "id": "f6c1ba5b",
   "metadata": {},
   "outputs": [
    {
     "data": {
      "text/plain": [
       "82797"
      ]
     },
     "execution_count": 383,
     "metadata": {},
     "output_type": "execute_result"
    }
   ],
   "source": [
    "len(arr_time_dif2.values.reshape(-1,1))"
   ]
  },
  {
   "cell_type": "code",
   "execution_count": 384,
   "id": "2b268742",
   "metadata": {},
   "outputs": [],
   "source": [
    "X_train_sparse_new = csr_matrix(hstack([X_train_sparse_new, arr_time_dif.values.reshape(-1,1)]))\n",
    "X_test_sparse_new = csr_matrix(hstack([X_test_sparse_new,arr_time_dif2.values.reshape(-1,1)]))"
   ]
  },
  {
   "cell_type": "code",
   "execution_count": 385,
   "id": "da363a14",
   "metadata": {},
   "outputs": [
    {
     "data": {
      "text/plain": [
       "0.9493769540944051"
      ]
     },
     "execution_count": 385,
     "metadata": {},
     "output_type": "execute_result"
    }
   ],
   "source": [
    "get_auc_lr_valid(X_train_sparse_new, y_train, C=1)"
   ]
  },
  {
   "cell_type": "code",
   "execution_count": 386,
   "id": "af89da83",
   "metadata": {},
   "outputs": [],
   "source": [
    "pd.Series(test_pred, index=range(1,test_pred.shape[0]+1), name='target').to_csv('5_test.csv',header=True, index_label='session_id')"
   ]
  },
  {
   "cell_type": "code",
   "execution_count": null,
   "id": "3ccef28d",
   "metadata": {},
   "outputs": [],
   "source": []
  }
 ],
 "metadata": {
  "kernelspec": {
   "display_name": "Python 3",
   "language": "python",
   "name": "python3"
  },
  "language_info": {
   "codemirror_mode": {
    "name": "ipython",
    "version": 3
   },
   "file_extension": ".py",
   "mimetype": "text/x-python",
   "name": "python",
   "nbconvert_exporter": "python",
   "pygments_lexer": "ipython3",
   "version": "3.8.8"
  }
 },
 "nbformat": 4,
 "nbformat_minor": 5
}
