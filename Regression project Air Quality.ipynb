{
 "cells": [
  {
   "cell_type": "markdown",
   "id": "0feeb12c",
   "metadata": {},
   "source": [
    "# Regression project"
   ]
  },
  {
   "cell_type": "markdown",
   "id": "880aed80",
   "metadata": {},
   "source": [
    "Imports and firsts steps"
   ]
  },
  {
   "cell_type": "code",
   "execution_count": 2,
   "id": "5734ada7",
   "metadata": {},
   "outputs": [],
   "source": [
    "import pandas as pd\n",
    "import numpy as np\n",
    "import os\n",
    "import random\n",
    "import warnings\n",
    "warnings.filterwarnings('ignore')\n",
    "\n",
    "import seaborn as sns\n",
    "import matplotlib.pyplot as plt\n",
    "from pathlib import Path\n",
    "\n",
    "from pandas_profiling import ProfileReport\n",
    "from sklearn.model_selection import train_test_split, cross_val_score, GridSearchCV, KFold\n",
    "from sklearn.linear_model import LinearRegression, Ridge, Lasso, ElasticNet\n",
    "from sklearn.preprocessing import StandardScaler, RobustScaler, OneHotEncoder\n",
    "from sklearn.impute import SimpleImputer\n",
    "from sklearn.pipeline import Pipeline, make_pipeline\n",
    "from sklearn_pandas import DataFrameMapper, gen_features\n",
    "from sklearn import metrics\n",
    "from sklearn.metrics import mean_squared_error, r2_score, mean_absolute_error\n",
    "from sklearn.base import clone"
   ]
  },
  {
   "cell_type": "code",
   "execution_count": 3,
   "id": "f7fc7499",
   "metadata": {},
   "outputs": [],
   "source": [
    "RANDOM_VALUE = 21"
   ]
  },
  {
   "cell_type": "code",
   "execution_count": 4,
   "id": "0401f2be",
   "metadata": {},
   "outputs": [],
   "source": [
    "df = pd.read_csv('AirQualityUCI.csv', sep=';', decimal=',')"
   ]
  },
  {
   "cell_type": "code",
   "execution_count": 5,
   "id": "5b84d7ce",
   "metadata": {},
   "outputs": [
    {
     "data": {
      "text/html": [
       "<div>\n",
       "<style scoped>\n",
       "    .dataframe tbody tr th:only-of-type {\n",
       "        vertical-align: middle;\n",
       "    }\n",
       "\n",
       "    .dataframe tbody tr th {\n",
       "        vertical-align: top;\n",
       "    }\n",
       "\n",
       "    .dataframe thead th {\n",
       "        text-align: right;\n",
       "    }\n",
       "</style>\n",
       "<table border=\"1\" class=\"dataframe\">\n",
       "  <thead>\n",
       "    <tr style=\"text-align: right;\">\n",
       "      <th></th>\n",
       "      <th>Date</th>\n",
       "      <th>Time</th>\n",
       "      <th>CO(GT)</th>\n",
       "      <th>PT08.S1(CO)</th>\n",
       "      <th>NMHC(GT)</th>\n",
       "      <th>C6H6(GT)</th>\n",
       "      <th>PT08.S2(NMHC)</th>\n",
       "      <th>NOx(GT)</th>\n",
       "      <th>PT08.S3(NOx)</th>\n",
       "      <th>NO2(GT)</th>\n",
       "      <th>PT08.S4(NO2)</th>\n",
       "      <th>PT08.S5(O3)</th>\n",
       "      <th>T</th>\n",
       "      <th>RH</th>\n",
       "      <th>AH</th>\n",
       "      <th>Unnamed: 15</th>\n",
       "      <th>Unnamed: 16</th>\n",
       "    </tr>\n",
       "  </thead>\n",
       "  <tbody>\n",
       "    <tr>\n",
       "      <th>0</th>\n",
       "      <td>10/03/2004</td>\n",
       "      <td>18.00.00</td>\n",
       "      <td>2.6</td>\n",
       "      <td>1360.0</td>\n",
       "      <td>150.0</td>\n",
       "      <td>11.9</td>\n",
       "      <td>1046.0</td>\n",
       "      <td>166.0</td>\n",
       "      <td>1056.0</td>\n",
       "      <td>113.0</td>\n",
       "      <td>1692.0</td>\n",
       "      <td>1268.0</td>\n",
       "      <td>13.6</td>\n",
       "      <td>48.9</td>\n",
       "      <td>0.7578</td>\n",
       "      <td>NaN</td>\n",
       "      <td>NaN</td>\n",
       "    </tr>\n",
       "    <tr>\n",
       "      <th>1</th>\n",
       "      <td>10/03/2004</td>\n",
       "      <td>19.00.00</td>\n",
       "      <td>2.0</td>\n",
       "      <td>1292.0</td>\n",
       "      <td>112.0</td>\n",
       "      <td>9.4</td>\n",
       "      <td>955.0</td>\n",
       "      <td>103.0</td>\n",
       "      <td>1174.0</td>\n",
       "      <td>92.0</td>\n",
       "      <td>1559.0</td>\n",
       "      <td>972.0</td>\n",
       "      <td>13.3</td>\n",
       "      <td>47.7</td>\n",
       "      <td>0.7255</td>\n",
       "      <td>NaN</td>\n",
       "      <td>NaN</td>\n",
       "    </tr>\n",
       "    <tr>\n",
       "      <th>2</th>\n",
       "      <td>10/03/2004</td>\n",
       "      <td>20.00.00</td>\n",
       "      <td>2.2</td>\n",
       "      <td>1402.0</td>\n",
       "      <td>88.0</td>\n",
       "      <td>9.0</td>\n",
       "      <td>939.0</td>\n",
       "      <td>131.0</td>\n",
       "      <td>1140.0</td>\n",
       "      <td>114.0</td>\n",
       "      <td>1555.0</td>\n",
       "      <td>1074.0</td>\n",
       "      <td>11.9</td>\n",
       "      <td>54.0</td>\n",
       "      <td>0.7502</td>\n",
       "      <td>NaN</td>\n",
       "      <td>NaN</td>\n",
       "    </tr>\n",
       "    <tr>\n",
       "      <th>3</th>\n",
       "      <td>10/03/2004</td>\n",
       "      <td>21.00.00</td>\n",
       "      <td>2.2</td>\n",
       "      <td>1376.0</td>\n",
       "      <td>80.0</td>\n",
       "      <td>9.2</td>\n",
       "      <td>948.0</td>\n",
       "      <td>172.0</td>\n",
       "      <td>1092.0</td>\n",
       "      <td>122.0</td>\n",
       "      <td>1584.0</td>\n",
       "      <td>1203.0</td>\n",
       "      <td>11.0</td>\n",
       "      <td>60.0</td>\n",
       "      <td>0.7867</td>\n",
       "      <td>NaN</td>\n",
       "      <td>NaN</td>\n",
       "    </tr>\n",
       "    <tr>\n",
       "      <th>4</th>\n",
       "      <td>10/03/2004</td>\n",
       "      <td>22.00.00</td>\n",
       "      <td>1.6</td>\n",
       "      <td>1272.0</td>\n",
       "      <td>51.0</td>\n",
       "      <td>6.5</td>\n",
       "      <td>836.0</td>\n",
       "      <td>131.0</td>\n",
       "      <td>1205.0</td>\n",
       "      <td>116.0</td>\n",
       "      <td>1490.0</td>\n",
       "      <td>1110.0</td>\n",
       "      <td>11.2</td>\n",
       "      <td>59.6</td>\n",
       "      <td>0.7888</td>\n",
       "      <td>NaN</td>\n",
       "      <td>NaN</td>\n",
       "    </tr>\n",
       "  </tbody>\n",
       "</table>\n",
       "</div>"
      ],
      "text/plain": [
       "         Date      Time  CO(GT)  PT08.S1(CO)  NMHC(GT)  C6H6(GT)  \\\n",
       "0  10/03/2004  18.00.00     2.6       1360.0     150.0      11.9   \n",
       "1  10/03/2004  19.00.00     2.0       1292.0     112.0       9.4   \n",
       "2  10/03/2004  20.00.00     2.2       1402.0      88.0       9.0   \n",
       "3  10/03/2004  21.00.00     2.2       1376.0      80.0       9.2   \n",
       "4  10/03/2004  22.00.00     1.6       1272.0      51.0       6.5   \n",
       "\n",
       "   PT08.S2(NMHC)  NOx(GT)  PT08.S3(NOx)  NO2(GT)  PT08.S4(NO2)  PT08.S5(O3)  \\\n",
       "0         1046.0    166.0        1056.0    113.0        1692.0       1268.0   \n",
       "1          955.0    103.0        1174.0     92.0        1559.0        972.0   \n",
       "2          939.0    131.0        1140.0    114.0        1555.0       1074.0   \n",
       "3          948.0    172.0        1092.0    122.0        1584.0       1203.0   \n",
       "4          836.0    131.0        1205.0    116.0        1490.0       1110.0   \n",
       "\n",
       "      T    RH      AH  Unnamed: 15  Unnamed: 16  \n",
       "0  13.6  48.9  0.7578          NaN          NaN  \n",
       "1  13.3  47.7  0.7255          NaN          NaN  \n",
       "2  11.9  54.0  0.7502          NaN          NaN  \n",
       "3  11.0  60.0  0.7867          NaN          NaN  \n",
       "4  11.2  59.6  0.7888          NaN          NaN  "
      ]
     },
     "execution_count": 5,
     "metadata": {},
     "output_type": "execute_result"
    }
   ],
   "source": [
    "df.head()"
   ]
  },
  {
   "cell_type": "code",
   "execution_count": 6,
   "id": "3f3a5ed4",
   "metadata": {
    "scrolled": true
   },
   "outputs": [
    {
     "name": "stdout",
     "output_type": "stream",
     "text": [
      "<class 'pandas.core.frame.DataFrame'>\n",
      "RangeIndex: 9471 entries, 0 to 9470\n",
      "Data columns (total 17 columns):\n",
      " #   Column         Non-Null Count  Dtype  \n",
      "---  ------         --------------  -----  \n",
      " 0   Date           9357 non-null   object \n",
      " 1   Time           9357 non-null   object \n",
      " 2   CO(GT)         9357 non-null   float64\n",
      " 3   PT08.S1(CO)    9357 non-null   float64\n",
      " 4   NMHC(GT)       9357 non-null   float64\n",
      " 5   C6H6(GT)       9357 non-null   float64\n",
      " 6   PT08.S2(NMHC)  9357 non-null   float64\n",
      " 7   NOx(GT)        9357 non-null   float64\n",
      " 8   PT08.S3(NOx)   9357 non-null   float64\n",
      " 9   NO2(GT)        9357 non-null   float64\n",
      " 10  PT08.S4(NO2)   9357 non-null   float64\n",
      " 11  PT08.S5(O3)    9357 non-null   float64\n",
      " 12  T              9357 non-null   float64\n",
      " 13  RH             9357 non-null   float64\n",
      " 14  AH             9357 non-null   float64\n",
      " 15  Unnamed: 15    0 non-null      float64\n",
      " 16  Unnamed: 16    0 non-null      float64\n",
      "dtypes: float64(15), object(2)\n",
      "memory usage: 1.2+ MB\n"
     ]
    }
   ],
   "source": [
    "df.info()"
   ]
  },
  {
   "cell_type": "code",
   "execution_count": 7,
   "id": "0d448e22",
   "metadata": {},
   "outputs": [
    {
     "data": {
      "text/plain": [
       "Date              114\n",
       "Time              114\n",
       "CO(GT)            114\n",
       "PT08.S1(CO)       114\n",
       "NMHC(GT)          114\n",
       "C6H6(GT)          114\n",
       "PT08.S2(NMHC)     114\n",
       "NOx(GT)           114\n",
       "PT08.S3(NOx)      114\n",
       "NO2(GT)           114\n",
       "PT08.S4(NO2)      114\n",
       "PT08.S5(O3)       114\n",
       "T                 114\n",
       "RH                114\n",
       "AH                114\n",
       "Unnamed: 15      9471\n",
       "Unnamed: 16      9471\n",
       "dtype: int64"
      ]
     },
     "execution_count": 7,
     "metadata": {},
     "output_type": "execute_result"
    }
   ],
   "source": [
    "df.isna().sum()"
   ]
  },
  {
   "cell_type": "markdown",
   "id": "27b3fc9c",
   "metadata": {},
   "source": [
    "We have a lot of float values and I think, they could be the most important for our models and predictions. But alse we have `Unnamed: 15` & `Unnamed: 16` felds, wich haven't got any important valueses may be this is good info to drop them from df."
   ]
  },
  {
   "cell_type": "code",
   "execution_count": 8,
   "id": "24f1389e",
   "metadata": {},
   "outputs": [],
   "source": [
    "df = df.drop(['Unnamed: 15','Unnamed: 16'], axis=1)"
   ]
  },
  {
   "cell_type": "code",
   "execution_count": 9,
   "id": "2f4d8953",
   "metadata": {
    "scrolled": true
   },
   "outputs": [
    {
     "data": {
      "text/html": [
       "<div>\n",
       "<style scoped>\n",
       "    .dataframe tbody tr th:only-of-type {\n",
       "        vertical-align: middle;\n",
       "    }\n",
       "\n",
       "    .dataframe tbody tr th {\n",
       "        vertical-align: top;\n",
       "    }\n",
       "\n",
       "    .dataframe thead th {\n",
       "        text-align: right;\n",
       "    }\n",
       "</style>\n",
       "<table border=\"1\" class=\"dataframe\">\n",
       "  <thead>\n",
       "    <tr style=\"text-align: right;\">\n",
       "      <th></th>\n",
       "      <th>Date</th>\n",
       "      <th>Time</th>\n",
       "      <th>CO(GT)</th>\n",
       "      <th>PT08.S1(CO)</th>\n",
       "      <th>NMHC(GT)</th>\n",
       "      <th>C6H6(GT)</th>\n",
       "      <th>PT08.S2(NMHC)</th>\n",
       "      <th>NOx(GT)</th>\n",
       "      <th>PT08.S3(NOx)</th>\n",
       "      <th>NO2(GT)</th>\n",
       "      <th>PT08.S4(NO2)</th>\n",
       "      <th>PT08.S5(O3)</th>\n",
       "      <th>T</th>\n",
       "      <th>RH</th>\n",
       "      <th>AH</th>\n",
       "    </tr>\n",
       "  </thead>\n",
       "  <tbody>\n",
       "    <tr>\n",
       "      <th>9466</th>\n",
       "      <td>NaN</td>\n",
       "      <td>NaN</td>\n",
       "      <td>NaN</td>\n",
       "      <td>NaN</td>\n",
       "      <td>NaN</td>\n",
       "      <td>NaN</td>\n",
       "      <td>NaN</td>\n",
       "      <td>NaN</td>\n",
       "      <td>NaN</td>\n",
       "      <td>NaN</td>\n",
       "      <td>NaN</td>\n",
       "      <td>NaN</td>\n",
       "      <td>NaN</td>\n",
       "      <td>NaN</td>\n",
       "      <td>NaN</td>\n",
       "    </tr>\n",
       "    <tr>\n",
       "      <th>9467</th>\n",
       "      <td>NaN</td>\n",
       "      <td>NaN</td>\n",
       "      <td>NaN</td>\n",
       "      <td>NaN</td>\n",
       "      <td>NaN</td>\n",
       "      <td>NaN</td>\n",
       "      <td>NaN</td>\n",
       "      <td>NaN</td>\n",
       "      <td>NaN</td>\n",
       "      <td>NaN</td>\n",
       "      <td>NaN</td>\n",
       "      <td>NaN</td>\n",
       "      <td>NaN</td>\n",
       "      <td>NaN</td>\n",
       "      <td>NaN</td>\n",
       "    </tr>\n",
       "    <tr>\n",
       "      <th>9468</th>\n",
       "      <td>NaN</td>\n",
       "      <td>NaN</td>\n",
       "      <td>NaN</td>\n",
       "      <td>NaN</td>\n",
       "      <td>NaN</td>\n",
       "      <td>NaN</td>\n",
       "      <td>NaN</td>\n",
       "      <td>NaN</td>\n",
       "      <td>NaN</td>\n",
       "      <td>NaN</td>\n",
       "      <td>NaN</td>\n",
       "      <td>NaN</td>\n",
       "      <td>NaN</td>\n",
       "      <td>NaN</td>\n",
       "      <td>NaN</td>\n",
       "    </tr>\n",
       "    <tr>\n",
       "      <th>9469</th>\n",
       "      <td>NaN</td>\n",
       "      <td>NaN</td>\n",
       "      <td>NaN</td>\n",
       "      <td>NaN</td>\n",
       "      <td>NaN</td>\n",
       "      <td>NaN</td>\n",
       "      <td>NaN</td>\n",
       "      <td>NaN</td>\n",
       "      <td>NaN</td>\n",
       "      <td>NaN</td>\n",
       "      <td>NaN</td>\n",
       "      <td>NaN</td>\n",
       "      <td>NaN</td>\n",
       "      <td>NaN</td>\n",
       "      <td>NaN</td>\n",
       "    </tr>\n",
       "    <tr>\n",
       "      <th>9470</th>\n",
       "      <td>NaN</td>\n",
       "      <td>NaN</td>\n",
       "      <td>NaN</td>\n",
       "      <td>NaN</td>\n",
       "      <td>NaN</td>\n",
       "      <td>NaN</td>\n",
       "      <td>NaN</td>\n",
       "      <td>NaN</td>\n",
       "      <td>NaN</td>\n",
       "      <td>NaN</td>\n",
       "      <td>NaN</td>\n",
       "      <td>NaN</td>\n",
       "      <td>NaN</td>\n",
       "      <td>NaN</td>\n",
       "      <td>NaN</td>\n",
       "    </tr>\n",
       "  </tbody>\n",
       "</table>\n",
       "</div>"
      ],
      "text/plain": [
       "     Date Time  CO(GT)  PT08.S1(CO)  NMHC(GT)  C6H6(GT)  PT08.S2(NMHC)  \\\n",
       "9466  NaN  NaN     NaN          NaN       NaN       NaN            NaN   \n",
       "9467  NaN  NaN     NaN          NaN       NaN       NaN            NaN   \n",
       "9468  NaN  NaN     NaN          NaN       NaN       NaN            NaN   \n",
       "9469  NaN  NaN     NaN          NaN       NaN       NaN            NaN   \n",
       "9470  NaN  NaN     NaN          NaN       NaN       NaN            NaN   \n",
       "\n",
       "      NOx(GT)  PT08.S3(NOx)  NO2(GT)  PT08.S4(NO2)  PT08.S5(O3)   T  RH  AH  \n",
       "9466      NaN           NaN      NaN           NaN          NaN NaN NaN NaN  \n",
       "9467      NaN           NaN      NaN           NaN          NaN NaN NaN NaN  \n",
       "9468      NaN           NaN      NaN           NaN          NaN NaN NaN NaN  \n",
       "9469      NaN           NaN      NaN           NaN          NaN NaN NaN NaN  \n",
       "9470      NaN           NaN      NaN           NaN          NaN NaN NaN NaN  "
      ]
     },
     "execution_count": 9,
     "metadata": {},
     "output_type": "execute_result"
    }
   ],
   "source": [
    "df.tail()"
   ]
  },
  {
   "cell_type": "markdown",
   "id": "724b0700",
   "metadata": {},
   "source": [
    "Check rows and when we find rows, wich consist only of `NaN` values -> drop them."
   ]
  },
  {
   "cell_type": "code",
   "execution_count": 10,
   "id": "63b04225",
   "metadata": {
    "scrolled": true
   },
   "outputs": [
    {
     "data": {
      "text/html": [
       "<div>\n",
       "<style scoped>\n",
       "    .dataframe tbody tr th:only-of-type {\n",
       "        vertical-align: middle;\n",
       "    }\n",
       "\n",
       "    .dataframe tbody tr th {\n",
       "        vertical-align: top;\n",
       "    }\n",
       "\n",
       "    .dataframe thead th {\n",
       "        text-align: right;\n",
       "    }\n",
       "</style>\n",
       "<table border=\"1\" class=\"dataframe\">\n",
       "  <thead>\n",
       "    <tr style=\"text-align: right;\">\n",
       "      <th></th>\n",
       "      <th>Date</th>\n",
       "      <th>Time</th>\n",
       "      <th>CO(GT)</th>\n",
       "      <th>PT08.S1(CO)</th>\n",
       "      <th>NMHC(GT)</th>\n",
       "      <th>C6H6(GT)</th>\n",
       "      <th>PT08.S2(NMHC)</th>\n",
       "      <th>NOx(GT)</th>\n",
       "      <th>PT08.S3(NOx)</th>\n",
       "      <th>NO2(GT)</th>\n",
       "      <th>PT08.S4(NO2)</th>\n",
       "      <th>PT08.S5(O3)</th>\n",
       "      <th>T</th>\n",
       "      <th>RH</th>\n",
       "      <th>AH</th>\n",
       "    </tr>\n",
       "  </thead>\n",
       "  <tbody>\n",
       "    <tr>\n",
       "      <th>9357</th>\n",
       "      <td>NaN</td>\n",
       "      <td>NaN</td>\n",
       "      <td>NaN</td>\n",
       "      <td>NaN</td>\n",
       "      <td>NaN</td>\n",
       "      <td>NaN</td>\n",
       "      <td>NaN</td>\n",
       "      <td>NaN</td>\n",
       "      <td>NaN</td>\n",
       "      <td>NaN</td>\n",
       "      <td>NaN</td>\n",
       "      <td>NaN</td>\n",
       "      <td>NaN</td>\n",
       "      <td>NaN</td>\n",
       "      <td>NaN</td>\n",
       "    </tr>\n",
       "    <tr>\n",
       "      <th>9358</th>\n",
       "      <td>NaN</td>\n",
       "      <td>NaN</td>\n",
       "      <td>NaN</td>\n",
       "      <td>NaN</td>\n",
       "      <td>NaN</td>\n",
       "      <td>NaN</td>\n",
       "      <td>NaN</td>\n",
       "      <td>NaN</td>\n",
       "      <td>NaN</td>\n",
       "      <td>NaN</td>\n",
       "      <td>NaN</td>\n",
       "      <td>NaN</td>\n",
       "      <td>NaN</td>\n",
       "      <td>NaN</td>\n",
       "      <td>NaN</td>\n",
       "    </tr>\n",
       "    <tr>\n",
       "      <th>9359</th>\n",
       "      <td>NaN</td>\n",
       "      <td>NaN</td>\n",
       "      <td>NaN</td>\n",
       "      <td>NaN</td>\n",
       "      <td>NaN</td>\n",
       "      <td>NaN</td>\n",
       "      <td>NaN</td>\n",
       "      <td>NaN</td>\n",
       "      <td>NaN</td>\n",
       "      <td>NaN</td>\n",
       "      <td>NaN</td>\n",
       "      <td>NaN</td>\n",
       "      <td>NaN</td>\n",
       "      <td>NaN</td>\n",
       "      <td>NaN</td>\n",
       "    </tr>\n",
       "    <tr>\n",
       "      <th>9360</th>\n",
       "      <td>NaN</td>\n",
       "      <td>NaN</td>\n",
       "      <td>NaN</td>\n",
       "      <td>NaN</td>\n",
       "      <td>NaN</td>\n",
       "      <td>NaN</td>\n",
       "      <td>NaN</td>\n",
       "      <td>NaN</td>\n",
       "      <td>NaN</td>\n",
       "      <td>NaN</td>\n",
       "      <td>NaN</td>\n",
       "      <td>NaN</td>\n",
       "      <td>NaN</td>\n",
       "      <td>NaN</td>\n",
       "      <td>NaN</td>\n",
       "    </tr>\n",
       "    <tr>\n",
       "      <th>9361</th>\n",
       "      <td>NaN</td>\n",
       "      <td>NaN</td>\n",
       "      <td>NaN</td>\n",
       "      <td>NaN</td>\n",
       "      <td>NaN</td>\n",
       "      <td>NaN</td>\n",
       "      <td>NaN</td>\n",
       "      <td>NaN</td>\n",
       "      <td>NaN</td>\n",
       "      <td>NaN</td>\n",
       "      <td>NaN</td>\n",
       "      <td>NaN</td>\n",
       "      <td>NaN</td>\n",
       "      <td>NaN</td>\n",
       "      <td>NaN</td>\n",
       "    </tr>\n",
       "    <tr>\n",
       "      <th>...</th>\n",
       "      <td>...</td>\n",
       "      <td>...</td>\n",
       "      <td>...</td>\n",
       "      <td>...</td>\n",
       "      <td>...</td>\n",
       "      <td>...</td>\n",
       "      <td>...</td>\n",
       "      <td>...</td>\n",
       "      <td>...</td>\n",
       "      <td>...</td>\n",
       "      <td>...</td>\n",
       "      <td>...</td>\n",
       "      <td>...</td>\n",
       "      <td>...</td>\n",
       "      <td>...</td>\n",
       "    </tr>\n",
       "    <tr>\n",
       "      <th>9466</th>\n",
       "      <td>NaN</td>\n",
       "      <td>NaN</td>\n",
       "      <td>NaN</td>\n",
       "      <td>NaN</td>\n",
       "      <td>NaN</td>\n",
       "      <td>NaN</td>\n",
       "      <td>NaN</td>\n",
       "      <td>NaN</td>\n",
       "      <td>NaN</td>\n",
       "      <td>NaN</td>\n",
       "      <td>NaN</td>\n",
       "      <td>NaN</td>\n",
       "      <td>NaN</td>\n",
       "      <td>NaN</td>\n",
       "      <td>NaN</td>\n",
       "    </tr>\n",
       "    <tr>\n",
       "      <th>9467</th>\n",
       "      <td>NaN</td>\n",
       "      <td>NaN</td>\n",
       "      <td>NaN</td>\n",
       "      <td>NaN</td>\n",
       "      <td>NaN</td>\n",
       "      <td>NaN</td>\n",
       "      <td>NaN</td>\n",
       "      <td>NaN</td>\n",
       "      <td>NaN</td>\n",
       "      <td>NaN</td>\n",
       "      <td>NaN</td>\n",
       "      <td>NaN</td>\n",
       "      <td>NaN</td>\n",
       "      <td>NaN</td>\n",
       "      <td>NaN</td>\n",
       "    </tr>\n",
       "    <tr>\n",
       "      <th>9468</th>\n",
       "      <td>NaN</td>\n",
       "      <td>NaN</td>\n",
       "      <td>NaN</td>\n",
       "      <td>NaN</td>\n",
       "      <td>NaN</td>\n",
       "      <td>NaN</td>\n",
       "      <td>NaN</td>\n",
       "      <td>NaN</td>\n",
       "      <td>NaN</td>\n",
       "      <td>NaN</td>\n",
       "      <td>NaN</td>\n",
       "      <td>NaN</td>\n",
       "      <td>NaN</td>\n",
       "      <td>NaN</td>\n",
       "      <td>NaN</td>\n",
       "    </tr>\n",
       "    <tr>\n",
       "      <th>9469</th>\n",
       "      <td>NaN</td>\n",
       "      <td>NaN</td>\n",
       "      <td>NaN</td>\n",
       "      <td>NaN</td>\n",
       "      <td>NaN</td>\n",
       "      <td>NaN</td>\n",
       "      <td>NaN</td>\n",
       "      <td>NaN</td>\n",
       "      <td>NaN</td>\n",
       "      <td>NaN</td>\n",
       "      <td>NaN</td>\n",
       "      <td>NaN</td>\n",
       "      <td>NaN</td>\n",
       "      <td>NaN</td>\n",
       "      <td>NaN</td>\n",
       "    </tr>\n",
       "    <tr>\n",
       "      <th>9470</th>\n",
       "      <td>NaN</td>\n",
       "      <td>NaN</td>\n",
       "      <td>NaN</td>\n",
       "      <td>NaN</td>\n",
       "      <td>NaN</td>\n",
       "      <td>NaN</td>\n",
       "      <td>NaN</td>\n",
       "      <td>NaN</td>\n",
       "      <td>NaN</td>\n",
       "      <td>NaN</td>\n",
       "      <td>NaN</td>\n",
       "      <td>NaN</td>\n",
       "      <td>NaN</td>\n",
       "      <td>NaN</td>\n",
       "      <td>NaN</td>\n",
       "    </tr>\n",
       "  </tbody>\n",
       "</table>\n",
       "<p>114 rows × 15 columns</p>\n",
       "</div>"
      ],
      "text/plain": [
       "     Date Time  CO(GT)  PT08.S1(CO)  NMHC(GT)  C6H6(GT)  PT08.S2(NMHC)  \\\n",
       "9357  NaN  NaN     NaN          NaN       NaN       NaN            NaN   \n",
       "9358  NaN  NaN     NaN          NaN       NaN       NaN            NaN   \n",
       "9359  NaN  NaN     NaN          NaN       NaN       NaN            NaN   \n",
       "9360  NaN  NaN     NaN          NaN       NaN       NaN            NaN   \n",
       "9361  NaN  NaN     NaN          NaN       NaN       NaN            NaN   \n",
       "...   ...  ...     ...          ...       ...       ...            ...   \n",
       "9466  NaN  NaN     NaN          NaN       NaN       NaN            NaN   \n",
       "9467  NaN  NaN     NaN          NaN       NaN       NaN            NaN   \n",
       "9468  NaN  NaN     NaN          NaN       NaN       NaN            NaN   \n",
       "9469  NaN  NaN     NaN          NaN       NaN       NaN            NaN   \n",
       "9470  NaN  NaN     NaN          NaN       NaN       NaN            NaN   \n",
       "\n",
       "      NOx(GT)  PT08.S3(NOx)  NO2(GT)  PT08.S4(NO2)  PT08.S5(O3)   T  RH  AH  \n",
       "9357      NaN           NaN      NaN           NaN          NaN NaN NaN NaN  \n",
       "9358      NaN           NaN      NaN           NaN          NaN NaN NaN NaN  \n",
       "9359      NaN           NaN      NaN           NaN          NaN NaN NaN NaN  \n",
       "9360      NaN           NaN      NaN           NaN          NaN NaN NaN NaN  \n",
       "9361      NaN           NaN      NaN           NaN          NaN NaN NaN NaN  \n",
       "...       ...           ...      ...           ...          ...  ..  ..  ..  \n",
       "9466      NaN           NaN      NaN           NaN          NaN NaN NaN NaN  \n",
       "9467      NaN           NaN      NaN           NaN          NaN NaN NaN NaN  \n",
       "9468      NaN           NaN      NaN           NaN          NaN NaN NaN NaN  \n",
       "9469      NaN           NaN      NaN           NaN          NaN NaN NaN NaN  \n",
       "9470      NaN           NaN      NaN           NaN          NaN NaN NaN NaN  \n",
       "\n",
       "[114 rows x 15 columns]"
      ]
     },
     "execution_count": 10,
     "metadata": {},
     "output_type": "execute_result"
    }
   ],
   "source": [
    "is_NaN = df.isnull()\n",
    "row_has_NaN = is_NaN.all(axis=1)\n",
    "rows_with_NaN = df[row_has_NaN]\n",
    "rows_with_NaN"
   ]
  },
  {
   "cell_type": "code",
   "execution_count": 11,
   "id": "a3b6eef7",
   "metadata": {},
   "outputs": [],
   "source": [
    "df = df.drop(rows_with_NaN.index)"
   ]
  },
  {
   "cell_type": "code",
   "execution_count": 12,
   "id": "7ed05c66",
   "metadata": {
    "scrolled": true
   },
   "outputs": [
    {
     "data": {
      "text/plain": [
       "Date             0\n",
       "Time             0\n",
       "CO(GT)           0\n",
       "PT08.S1(CO)      0\n",
       "NMHC(GT)         0\n",
       "C6H6(GT)         0\n",
       "PT08.S2(NMHC)    0\n",
       "NOx(GT)          0\n",
       "PT08.S3(NOx)     0\n",
       "NO2(GT)          0\n",
       "PT08.S4(NO2)     0\n",
       "PT08.S5(O3)      0\n",
       "T                0\n",
       "RH               0\n",
       "AH               0\n",
       "dtype: int64"
      ]
     },
     "execution_count": 12,
     "metadata": {},
     "output_type": "execute_result"
    }
   ],
   "source": [
    "df.isna().sum()"
   ]
  },
  {
   "cell_type": "markdown",
   "id": "6ba9a3f3",
   "metadata": {},
   "source": [
    "Rename columns, because it is hard to use it now."
   ]
  },
  {
   "cell_type": "code",
   "execution_count": 283,
   "id": "b7e6fa47",
   "metadata": {},
   "outputs": [],
   "source": [
    "df.rename(columns={'CO(GT)':'COGT',\n",
    "                                    'PT08.S1(CO)':'PT08S1CO',\n",
    "                                    'NMHC(GT)':'NMHCGT',\n",
    "                                    'PT08.S2(NMHC)':'PT08S2NMHC',\n",
    "                                    'NOx(GT)':'NOxGT',\n",
    "                                    'PT08.S3(NOx)':'PT08S3NOx',\n",
    "                                    'NO2(GT)':'NO2GT',\n",
    "                                    'PT08.S4(NO2)':'PT08S4NO2',\n",
    "                                    'PT08.S5(O3)':'PT08S5O3',\n",
    "                                    'C6H6(GT)':'C6H6GT'}, inplace=True)"
   ]
  },
  {
   "cell_type": "code",
   "execution_count": 284,
   "id": "99057790",
   "metadata": {},
   "outputs": [],
   "source": [
    "TARGET = 'C6H6GT'"
   ]
  },
  {
   "cell_type": "code",
   "execution_count": 285,
   "id": "eddc6cdb",
   "metadata": {},
   "outputs": [
    {
     "data": {
      "text/plain": [
       "(9357, 15)"
      ]
     },
     "execution_count": 285,
     "metadata": {},
     "output_type": "execute_result"
    }
   ],
   "source": [
    "df.shape"
   ]
  },
  {
   "cell_type": "markdown",
   "id": "2595ba96",
   "metadata": {},
   "source": [
    "Nice:)"
   ]
  },
  {
   "cell_type": "code",
   "execution_count": 286,
   "id": "c90f7c2d",
   "metadata": {},
   "outputs": [],
   "source": [
    "spliting = round(df.shape[0]*0.7)"
   ]
  },
  {
   "cell_type": "code",
   "execution_count": 287,
   "id": "38a08494",
   "metadata": {},
   "outputs": [
    {
     "data": {
      "text/plain": [
       "6550"
      ]
     },
     "execution_count": 287,
     "metadata": {},
     "output_type": "execute_result"
    }
   ],
   "source": [
    "spliting"
   ]
  },
  {
   "cell_type": "code",
   "execution_count": 288,
   "id": "396c1b60",
   "metadata": {},
   "outputs": [],
   "source": [
    "train = df.iloc[:spliting,:]\n",
    "test = df.iloc[spliting:,:]"
   ]
  },
  {
   "cell_type": "code",
   "execution_count": 289,
   "id": "bfaf2aa6",
   "metadata": {},
   "outputs": [
    {
     "data": {
      "text/plain": [
       "0       11.9\n",
       "1        9.4\n",
       "2        9.0\n",
       "3        9.2\n",
       "4        6.5\n",
       "        ... \n",
       "6545     9.8\n",
       "6546     9.5\n",
       "6547    11.2\n",
       "6548     6.9\n",
       "6549     4.6\n",
       "Name: C6H6GT, Length: 6550, dtype: float64"
      ]
     },
     "execution_count": 289,
     "metadata": {},
     "output_type": "execute_result"
    }
   ],
   "source": [
    "new_train = train.copy()\n",
    "new_train[TARGET] = pd.to_numeric(train[TARGET], errors='coerce')\n",
    "train[TARGET].replace()"
   ]
  },
  {
   "cell_type": "code",
   "execution_count": 290,
   "id": "613d3eea",
   "metadata": {},
   "outputs": [
    {
     "data": {
      "image/png": "[encoded data removed]",
      "text/plain": [
       "<Figure size 432x288 with 1 Axes>"
      ]
     },
     "metadata": {
      "needs_background": "light"
     },
     "output_type": "display_data"
    }
   ],
   "source": [
    "ax = sns.distplot(new_train[TARGET], norm_hist=True)\n",
    "ax.set_title('Sale price distribution');"
   ]
  },
  {
   "cell_type": "code",
   "execution_count": 291,
   "id": "bd8dae31",
   "metadata": {},
   "outputs": [
    {
     "data": {
      "image/png": "[encoded data removed]",
      "text/plain": [
       "<Figure size 432x288 with 1 Axes>"
      ]
     },
     "metadata": {
      "needs_background": "light"
     },
     "output_type": "display_data"
    }
   ],
   "source": [
    "ax = sns.distplot(np.log(new_train[TARGET]), norm_hist=True)"
   ]
  },
  {
   "cell_type": "code",
   "execution_count": 292,
   "id": "4937aa3c",
   "metadata": {
    "scrolled": true
   },
   "outputs": [
    {
     "data": {
      "image/png": "[encoded data removed]",
      "text/plain": [
       "<Figure size 432x288 with 1 Axes>"
      ]
     },
     "metadata": {
      "needs_background": "light"
     },
     "output_type": "display_data"
    }
   ],
   "source": [
    "ax = sns.distplot(np.sqrt(new_train[TARGET]), norm_hist=True)"
   ]
  },
  {
   "cell_type": "code",
   "execution_count": 293,
   "id": "0bb6f11c",
   "metadata": {},
   "outputs": [
    {
     "data": {
      "text/plain": [
       "6.006671755725197"
      ]
     },
     "execution_count": 293,
     "metadata": {},
     "output_type": "execute_result"
    }
   ],
   "source": [
    "new_train[TARGET].mean()"
   ]
  },
  {
   "cell_type": "code",
   "execution_count": 294,
   "id": "559e1286",
   "metadata": {},
   "outputs": [
    {
     "data": {
      "text/plain": [
       "1038.3659670857014"
      ]
     },
     "execution_count": 294,
     "metadata": {},
     "output_type": "execute_result"
    }
   ],
   "source": [
    "new_train[TARGET].var()"
   ]
  },
  {
   "cell_type": "code",
   "execution_count": 295,
   "id": "8389c7a1",
   "metadata": {},
   "outputs": [
    {
     "data": {
      "image/png": "[encoded data removed]",
      "text/plain": [
       "<Figure size 432x288 with 1 Axes>"
      ]
     },
     "metadata": {
      "needs_background": "light"
     },
     "output_type": "display_data"
    }
   ],
   "source": [
    "ax = sns.distplot((new_train[TARGET]-new_train[TARGET].mean())/new_train[TARGET].var(), norm_hist=True)"
   ]
  },
  {
   "cell_type": "markdown",
   "id": "c432ce0e",
   "metadata": {},
   "source": [
    "We can see, that this frame has one or more such small value. May be we will use this fact in next steps."
   ]
  },
  {
   "cell_type": "markdown",
   "id": "9fd6e3dd",
   "metadata": {},
   "source": [
    "# Piplayn"
   ]
  },
  {
   "cell_type": "code",
   "execution_count": 296,
   "id": "4c745069",
   "metadata": {},
   "outputs": [],
   "source": [
    "CATEGORICAL = df.select_dtypes(include=['object']).columns.tolist()\n",
    "NUMERICAL = df.select_dtypes(exclude=['object']).columns.tolist()"
   ]
  },
  {
   "cell_type": "code",
   "execution_count": 297,
   "id": "4326b61c",
   "metadata": {},
   "outputs": [
    {
     "data": {
      "text/plain": [
       "['Date', 'Time']"
      ]
     },
     "execution_count": 297,
     "metadata": {},
     "output_type": "execute_result"
    }
   ],
   "source": [
    "CATEGORICAL"
   ]
  },
  {
   "cell_type": "code",
   "execution_count": 298,
   "id": "2633aa75",
   "metadata": {},
   "outputs": [
    {
     "data": {
      "text/plain": [
       "['COGT',\n",
       " 'PT08S1CO',\n",
       " 'NMHCGT',\n",
       " 'C6H6GT',\n",
       " 'PT08S2NMHC',\n",
       " 'NOxGT',\n",
       " 'PT08S3NOx',\n",
       " 'NO2GT',\n",
       " 'PT08S4NO2',\n",
       " 'PT08S5O3',\n",
       " 'T',\n",
       " 'RH',\n",
       " 'AH']"
      ]
     },
     "execution_count": 298,
     "metadata": {},
     "output_type": "execute_result"
    }
   ],
   "source": [
    "NUMERICAL"
   ]
  },
  {
   "cell_type": "code",
   "execution_count": 299,
   "id": "67b54d13",
   "metadata": {},
   "outputs": [],
   "source": [
    "if TARGET in NUMERICAL:\n",
    "    NUMERICAL.remove(TARGET)"
   ]
  },
  {
   "cell_type": "code",
   "execution_count": 300,
   "id": "16bc5fd4",
   "metadata": {},
   "outputs": [],
   "source": [
    "train = df.loc[df[TARGET].notnull()]\n",
    "test = df.loc[df[TARGET].isnull()]"
   ]
  },
  {
   "cell_type": "code",
   "execution_count": 301,
   "id": "ace27bee",
   "metadata": {},
   "outputs": [],
   "source": [
    "train = df.iloc[:spliting,:]\n",
    "test = df.iloc[spliting:,:]\n",
    "\n",
    "train_test_model_max = train.query('T>-150')\n",
    "train_test_model_min = train.query('T<0')"
   ]
  },
  {
   "cell_type": "code",
   "execution_count": 302,
   "id": "58d7dd16",
   "metadata": {},
   "outputs": [
    {
     "data": {
      "text/html": [
       "<div>\n",
       "<style scoped>\n",
       "    .dataframe tbody tr th:only-of-type {\n",
       "        vertical-align: middle;\n",
       "    }\n",
       "\n",
       "    .dataframe tbody tr th {\n",
       "        vertical-align: top;\n",
       "    }\n",
       "\n",
       "    .dataframe thead th {\n",
       "        text-align: right;\n",
       "    }\n",
       "</style>\n",
       "<table border=\"1\" class=\"dataframe\">\n",
       "  <thead>\n",
       "    <tr style=\"text-align: right;\">\n",
       "      <th></th>\n",
       "      <th>Date</th>\n",
       "      <th>Time</th>\n",
       "      <th>COGT</th>\n",
       "      <th>PT08S1CO</th>\n",
       "      <th>NMHCGT</th>\n",
       "      <th>C6H6GT</th>\n",
       "      <th>PT08S2NMHC</th>\n",
       "      <th>NOxGT</th>\n",
       "      <th>PT08S3NOx</th>\n",
       "      <th>NO2GT</th>\n",
       "      <th>PT08S4NO2</th>\n",
       "      <th>PT08S5O3</th>\n",
       "      <th>T</th>\n",
       "      <th>RH</th>\n",
       "      <th>AH</th>\n",
       "    </tr>\n",
       "  </thead>\n",
       "  <tbody>\n",
       "    <tr>\n",
       "      <th>0</th>\n",
       "      <td>10/03/2004</td>\n",
       "      <td>18.00.00</td>\n",
       "      <td>2.6</td>\n",
       "      <td>1360.0</td>\n",
       "      <td>150.0</td>\n",
       "      <td>11.9</td>\n",
       "      <td>1046.0</td>\n",
       "      <td>166.0</td>\n",
       "      <td>1056.0</td>\n",
       "      <td>113.0</td>\n",
       "      <td>1692.0</td>\n",
       "      <td>1268.0</td>\n",
       "      <td>13.6</td>\n",
       "      <td>48.9</td>\n",
       "      <td>0.7578</td>\n",
       "    </tr>\n",
       "    <tr>\n",
       "      <th>1</th>\n",
       "      <td>10/03/2004</td>\n",
       "      <td>19.00.00</td>\n",
       "      <td>2.0</td>\n",
       "      <td>1292.0</td>\n",
       "      <td>112.0</td>\n",
       "      <td>9.4</td>\n",
       "      <td>955.0</td>\n",
       "      <td>103.0</td>\n",
       "      <td>1174.0</td>\n",
       "      <td>92.0</td>\n",
       "      <td>1559.0</td>\n",
       "      <td>972.0</td>\n",
       "      <td>13.3</td>\n",
       "      <td>47.7</td>\n",
       "      <td>0.7255</td>\n",
       "    </tr>\n",
       "    <tr>\n",
       "      <th>2</th>\n",
       "      <td>10/03/2004</td>\n",
       "      <td>20.00.00</td>\n",
       "      <td>2.2</td>\n",
       "      <td>1402.0</td>\n",
       "      <td>88.0</td>\n",
       "      <td>9.0</td>\n",
       "      <td>939.0</td>\n",
       "      <td>131.0</td>\n",
       "      <td>1140.0</td>\n",
       "      <td>114.0</td>\n",
       "      <td>1555.0</td>\n",
       "      <td>1074.0</td>\n",
       "      <td>11.9</td>\n",
       "      <td>54.0</td>\n",
       "      <td>0.7502</td>\n",
       "    </tr>\n",
       "    <tr>\n",
       "      <th>3</th>\n",
       "      <td>10/03/2004</td>\n",
       "      <td>21.00.00</td>\n",
       "      <td>2.2</td>\n",
       "      <td>1376.0</td>\n",
       "      <td>80.0</td>\n",
       "      <td>9.2</td>\n",
       "      <td>948.0</td>\n",
       "      <td>172.0</td>\n",
       "      <td>1092.0</td>\n",
       "      <td>122.0</td>\n",
       "      <td>1584.0</td>\n",
       "      <td>1203.0</td>\n",
       "      <td>11.0</td>\n",
       "      <td>60.0</td>\n",
       "      <td>0.7867</td>\n",
       "    </tr>\n",
       "    <tr>\n",
       "      <th>4</th>\n",
       "      <td>10/03/2004</td>\n",
       "      <td>22.00.00</td>\n",
       "      <td>1.6</td>\n",
       "      <td>1272.0</td>\n",
       "      <td>51.0</td>\n",
       "      <td>6.5</td>\n",
       "      <td>836.0</td>\n",
       "      <td>131.0</td>\n",
       "      <td>1205.0</td>\n",
       "      <td>116.0</td>\n",
       "      <td>1490.0</td>\n",
       "      <td>1110.0</td>\n",
       "      <td>11.2</td>\n",
       "      <td>59.6</td>\n",
       "      <td>0.7888</td>\n",
       "    </tr>\n",
       "    <tr>\n",
       "      <th>...</th>\n",
       "      <td>...</td>\n",
       "      <td>...</td>\n",
       "      <td>...</td>\n",
       "      <td>...</td>\n",
       "      <td>...</td>\n",
       "      <td>...</td>\n",
       "      <td>...</td>\n",
       "      <td>...</td>\n",
       "      <td>...</td>\n",
       "      <td>...</td>\n",
       "      <td>...</td>\n",
       "      <td>...</td>\n",
       "      <td>...</td>\n",
       "      <td>...</td>\n",
       "      <td>...</td>\n",
       "    </tr>\n",
       "    <tr>\n",
       "      <th>6545</th>\n",
       "      <td>08/12/2004</td>\n",
       "      <td>11.00.00</td>\n",
       "      <td>2.3</td>\n",
       "      <td>1206.0</td>\n",
       "      <td>-200.0</td>\n",
       "      <td>9.8</td>\n",
       "      <td>969.0</td>\n",
       "      <td>363.0</td>\n",
       "      <td>701.0</td>\n",
       "      <td>95.0</td>\n",
       "      <td>1365.0</td>\n",
       "      <td>1178.0</td>\n",
       "      <td>14.3</td>\n",
       "      <td>63.3</td>\n",
       "      <td>1.0266</td>\n",
       "    </tr>\n",
       "    <tr>\n",
       "      <th>6546</th>\n",
       "      <td>08/12/2004</td>\n",
       "      <td>12.00.00</td>\n",
       "      <td>2.1</td>\n",
       "      <td>1202.0</td>\n",
       "      <td>-200.0</td>\n",
       "      <td>9.5</td>\n",
       "      <td>958.0</td>\n",
       "      <td>302.0</td>\n",
       "      <td>732.0</td>\n",
       "      <td>92.0</td>\n",
       "      <td>1330.0</td>\n",
       "      <td>1181.0</td>\n",
       "      <td>16.0</td>\n",
       "      <td>58.1</td>\n",
       "      <td>1.0482</td>\n",
       "    </tr>\n",
       "    <tr>\n",
       "      <th>6547</th>\n",
       "      <td>08/12/2004</td>\n",
       "      <td>13.00.00</td>\n",
       "      <td>2.7</td>\n",
       "      <td>1261.0</td>\n",
       "      <td>-200.0</td>\n",
       "      <td>11.2</td>\n",
       "      <td>1022.0</td>\n",
       "      <td>424.0</td>\n",
       "      <td>635.0</td>\n",
       "      <td>113.0</td>\n",
       "      <td>1407.0</td>\n",
       "      <td>1250.0</td>\n",
       "      <td>17.3</td>\n",
       "      <td>53.9</td>\n",
       "      <td>1.0562</td>\n",
       "    </tr>\n",
       "    <tr>\n",
       "      <th>6548</th>\n",
       "      <td>08/12/2004</td>\n",
       "      <td>14.00.00</td>\n",
       "      <td>2.3</td>\n",
       "      <td>1102.0</td>\n",
       "      <td>-200.0</td>\n",
       "      <td>6.9</td>\n",
       "      <td>855.0</td>\n",
       "      <td>258.0</td>\n",
       "      <td>763.0</td>\n",
       "      <td>98.0</td>\n",
       "      <td>1279.0</td>\n",
       "      <td>1039.0</td>\n",
       "      <td>17.3</td>\n",
       "      <td>53.3</td>\n",
       "      <td>1.0407</td>\n",
       "    </tr>\n",
       "    <tr>\n",
       "      <th>6549</th>\n",
       "      <td>08/12/2004</td>\n",
       "      <td>15.00.00</td>\n",
       "      <td>1.2</td>\n",
       "      <td>997.0</td>\n",
       "      <td>-200.0</td>\n",
       "      <td>4.6</td>\n",
       "      <td>742.0</td>\n",
       "      <td>179.0</td>\n",
       "      <td>911.0</td>\n",
       "      <td>82.0</td>\n",
       "      <td>1180.0</td>\n",
       "      <td>899.0</td>\n",
       "      <td>16.7</td>\n",
       "      <td>54.7</td>\n",
       "      <td>1.0311</td>\n",
       "    </tr>\n",
       "  </tbody>\n",
       "</table>\n",
       "<p>6402 rows × 15 columns</p>\n",
       "</div>"
      ],
      "text/plain": [
       "            Date      Time  COGT  PT08S1CO  NMHCGT  C6H6GT  PT08S2NMHC  NOxGT  \\\n",
       "0     10/03/2004  18.00.00   2.6    1360.0   150.0    11.9      1046.0  166.0   \n",
       "1     10/03/2004  19.00.00   2.0    1292.0   112.0     9.4       955.0  103.0   \n",
       "2     10/03/2004  20.00.00   2.2    1402.0    88.0     9.0       939.0  131.0   \n",
       "3     10/03/2004  21.00.00   2.2    1376.0    80.0     9.2       948.0  172.0   \n",
       "4     10/03/2004  22.00.00   1.6    1272.0    51.0     6.5       836.0  131.0   \n",
       "...          ...       ...   ...       ...     ...     ...         ...    ...   \n",
       "6545  08/12/2004  11.00.00   2.3    1206.0  -200.0     9.8       969.0  363.0   \n",
       "6546  08/12/2004  12.00.00   2.1    1202.0  -200.0     9.5       958.0  302.0   \n",
       "6547  08/12/2004  13.00.00   2.7    1261.0  -200.0    11.2      1022.0  424.0   \n",
       "6548  08/12/2004  14.00.00   2.3    1102.0  -200.0     6.9       855.0  258.0   \n",
       "6549  08/12/2004  15.00.00   1.2     997.0  -200.0     4.6       742.0  179.0   \n",
       "\n",
       "      PT08S3NOx  NO2GT  PT08S4NO2  PT08S5O3     T    RH      AH  \n",
       "0        1056.0  113.0     1692.0    1268.0  13.6  48.9  0.7578  \n",
       "1        1174.0   92.0     1559.0     972.0  13.3  47.7  0.7255  \n",
       "2        1140.0  114.0     1555.0    1074.0  11.9  54.0  0.7502  \n",
       "3        1092.0  122.0     1584.0    1203.0  11.0  60.0  0.7867  \n",
       "4        1205.0  116.0     1490.0    1110.0  11.2  59.6  0.7888  \n",
       "...         ...    ...        ...       ...   ...   ...     ...  \n",
       "6545      701.0   95.0     1365.0    1178.0  14.3  63.3  1.0266  \n",
       "6546      732.0   92.0     1330.0    1181.0  16.0  58.1  1.0482  \n",
       "6547      635.0  113.0     1407.0    1250.0  17.3  53.9  1.0562  \n",
       "6548      763.0   98.0     1279.0    1039.0  17.3  53.3  1.0407  \n",
       "6549      911.0   82.0     1180.0     899.0  16.7  54.7  1.0311  \n",
       "\n",
       "[6402 rows x 15 columns]"
      ]
     },
     "execution_count": 302,
     "metadata": {},
     "output_type": "execute_result"
    }
   ],
   "source": [
    "train_test_model_max"
   ]
  },
  {
   "cell_type": "code",
   "execution_count": 303,
   "id": "72d93855",
   "metadata": {},
   "outputs": [
    {
     "data": {
      "text/plain": [
       "0"
      ]
     },
     "execution_count": 303,
     "metadata": {},
     "output_type": "execute_result"
    }
   ],
   "source": [
    "train_test_model_min.shape[0] - train_test_model_min.query('PT08S2NMHC==-200').shape[0]"
   ]
  },
  {
   "cell_type": "markdown",
   "id": "32f22079",
   "metadata": {},
   "source": [
    "Let see correlation between values and `TARGET`. We do it for all data and alse for part without -200 value."
   ]
  },
  {
   "cell_type": "code",
   "execution_count": 304,
   "id": "43676360",
   "metadata": {
    "scrolled": true
   },
   "outputs": [
    {
     "data": {
      "text/plain": [
       "<AxesSubplot:>"
      ]
     },
     "execution_count": 304,
     "metadata": {},
     "output_type": "execute_result"
    },
    {
     "data": {
      "image/png": "[encoded data removed]",
      "text/plain": [
       "<Figure size 432x288 with 2 Axes>"
      ]
     },
     "metadata": {
      "needs_background": "light"
     },
     "output_type": "display_data"
    }
   ],
   "source": [
    "corr = train_test_model_max.corr()\n",
    "condition = np.abs(corr[TARGET]) < 0.2\n",
    "condition[TARGET] = True\n",
    "top_corr = corr.loc[condition,condition]\n",
    "sns.heatmap(top_corr, annot=True)"
   ]
  },
  {
   "cell_type": "code",
   "execution_count": 305,
   "id": "ff9b2f1b",
   "metadata": {},
   "outputs": [
    {
     "data": {
      "text/plain": [
       "<AxesSubplot:>"
      ]
     },
     "execution_count": 305,
     "metadata": {},
     "output_type": "execute_result"
    },
    {
     "data": {
      "image/png": "[encoded data removed]",
      "text/plain": [
       "<Figure size 432x288 with 2 Axes>"
      ]
     },
     "metadata": {
      "needs_background": "light"
     },
     "output_type": "display_data"
    }
   ],
   "source": [
    "corr = train.corr()\n",
    "condition = np.abs(corr[TARGET]) < 0.2\n",
    "condition[TARGET] = True\n",
    "top_corr = corr.loc[condition,condition]\n",
    "sns.heatmap(top_corr, annot=True)"
   ]
  },
  {
   "cell_type": "code",
   "execution_count": 306,
   "id": "439af6fe",
   "metadata": {
    "scrolled": true
   },
   "outputs": [
    {
     "data": {
      "text/plain": [
       "<AxesSubplot:>"
      ]
     },
     "execution_count": 306,
     "metadata": {},
     "output_type": "execute_result"
    },
    {
     "data": {
      "image/png": "[encoded data removed]",
      "text/plain": [
       "<Figure size 432x288 with 2 Axes>"
      ]
     },
     "metadata": {
      "needs_background": "light"
     },
     "output_type": "display_data"
    }
   ],
   "source": [
    "corr = train_test_model_max.corr()\n",
    "condition = np.abs(corr[TARGET]) > 0.5\n",
    "top_corr = corr.loc[condition,condition]\n",
    "sns.heatmap(top_corr, annot=True)"
   ]
  },
  {
   "cell_type": "markdown",
   "id": "756dd03e",
   "metadata": {},
   "source": [
    "This is the most interesting columns doe to the fact that the haven't big correlation between each other, but the all may be so important for our regresion."
   ]
  },
  {
   "cell_type": "code",
   "execution_count": 314,
   "id": "fc3434a7",
   "metadata": {},
   "outputs": [
    {
     "data": {
      "text/html": [
       "<div>\n",
       "<style scoped>\n",
       "    .dataframe tbody tr th:only-of-type {\n",
       "        vertical-align: middle;\n",
       "    }\n",
       "\n",
       "    .dataframe tbody tr th {\n",
       "        vertical-align: top;\n",
       "    }\n",
       "\n",
       "    .dataframe thead th {\n",
       "        text-align: right;\n",
       "    }\n",
       "</style>\n",
       "<table border=\"1\" class=\"dataframe\">\n",
       "  <thead>\n",
       "    <tr style=\"text-align: right;\">\n",
       "      <th></th>\n",
       "      <th>COGT</th>\n",
       "      <th>PT08S1CO</th>\n",
       "      <th>NMHCGT</th>\n",
       "      <th>C6H6GT</th>\n",
       "      <th>PT08S2NMHC</th>\n",
       "      <th>NOxGT</th>\n",
       "      <th>PT08S3NOx</th>\n",
       "      <th>NO2GT</th>\n",
       "      <th>PT08S4NO2</th>\n",
       "      <th>PT08S5O3</th>\n",
       "      <th>T</th>\n",
       "      <th>RH</th>\n",
       "      <th>AH</th>\n",
       "    </tr>\n",
       "  </thead>\n",
       "  <tbody>\n",
       "    <tr>\n",
       "      <th>COGT</th>\n",
       "      <td>1.000000</td>\n",
       "      <td>NaN</td>\n",
       "      <td>0.247503</td>\n",
       "      <td>NaN</td>\n",
       "      <td>NaN</td>\n",
       "      <td>0.799581</td>\n",
       "      <td>NaN</td>\n",
       "      <td>0.851206</td>\n",
       "      <td>NaN</td>\n",
       "      <td>NaN</td>\n",
       "      <td>NaN</td>\n",
       "      <td>NaN</td>\n",
       "      <td>NaN</td>\n",
       "    </tr>\n",
       "    <tr>\n",
       "      <th>PT08S1CO</th>\n",
       "      <td>NaN</td>\n",
       "      <td>NaN</td>\n",
       "      <td>NaN</td>\n",
       "      <td>NaN</td>\n",
       "      <td>NaN</td>\n",
       "      <td>NaN</td>\n",
       "      <td>NaN</td>\n",
       "      <td>NaN</td>\n",
       "      <td>NaN</td>\n",
       "      <td>NaN</td>\n",
       "      <td>NaN</td>\n",
       "      <td>NaN</td>\n",
       "      <td>NaN</td>\n",
       "    </tr>\n",
       "    <tr>\n",
       "      <th>NMHCGT</th>\n",
       "      <td>0.247503</td>\n",
       "      <td>NaN</td>\n",
       "      <td>1.000000</td>\n",
       "      <td>NaN</td>\n",
       "      <td>NaN</td>\n",
       "      <td>0.454414</td>\n",
       "      <td>NaN</td>\n",
       "      <td>0.324151</td>\n",
       "      <td>NaN</td>\n",
       "      <td>NaN</td>\n",
       "      <td>NaN</td>\n",
       "      <td>NaN</td>\n",
       "      <td>NaN</td>\n",
       "    </tr>\n",
       "    <tr>\n",
       "      <th>C6H6GT</th>\n",
       "      <td>NaN</td>\n",
       "      <td>NaN</td>\n",
       "      <td>NaN</td>\n",
       "      <td>NaN</td>\n",
       "      <td>NaN</td>\n",
       "      <td>NaN</td>\n",
       "      <td>NaN</td>\n",
       "      <td>NaN</td>\n",
       "      <td>NaN</td>\n",
       "      <td>NaN</td>\n",
       "      <td>NaN</td>\n",
       "      <td>NaN</td>\n",
       "      <td>NaN</td>\n",
       "    </tr>\n",
       "    <tr>\n",
       "      <th>PT08S2NMHC</th>\n",
       "      <td>NaN</td>\n",
       "      <td>NaN</td>\n",
       "      <td>NaN</td>\n",
       "      <td>NaN</td>\n",
       "      <td>NaN</td>\n",
       "      <td>NaN</td>\n",
       "      <td>NaN</td>\n",
       "      <td>NaN</td>\n",
       "      <td>NaN</td>\n",
       "      <td>NaN</td>\n",
       "      <td>NaN</td>\n",
       "      <td>NaN</td>\n",
       "      <td>NaN</td>\n",
       "    </tr>\n",
       "    <tr>\n",
       "      <th>NOxGT</th>\n",
       "      <td>0.799581</td>\n",
       "      <td>NaN</td>\n",
       "      <td>0.454414</td>\n",
       "      <td>NaN</td>\n",
       "      <td>NaN</td>\n",
       "      <td>1.000000</td>\n",
       "      <td>NaN</td>\n",
       "      <td>0.962981</td>\n",
       "      <td>NaN</td>\n",
       "      <td>NaN</td>\n",
       "      <td>NaN</td>\n",
       "      <td>NaN</td>\n",
       "      <td>NaN</td>\n",
       "    </tr>\n",
       "    <tr>\n",
       "      <th>PT08S3NOx</th>\n",
       "      <td>NaN</td>\n",
       "      <td>NaN</td>\n",
       "      <td>NaN</td>\n",
       "      <td>NaN</td>\n",
       "      <td>NaN</td>\n",
       "      <td>NaN</td>\n",
       "      <td>NaN</td>\n",
       "      <td>NaN</td>\n",
       "      <td>NaN</td>\n",
       "      <td>NaN</td>\n",
       "      <td>NaN</td>\n",
       "      <td>NaN</td>\n",
       "      <td>NaN</td>\n",
       "    </tr>\n",
       "    <tr>\n",
       "      <th>NO2GT</th>\n",
       "      <td>0.851206</td>\n",
       "      <td>NaN</td>\n",
       "      <td>0.324151</td>\n",
       "      <td>NaN</td>\n",
       "      <td>NaN</td>\n",
       "      <td>0.962981</td>\n",
       "      <td>NaN</td>\n",
       "      <td>1.000000</td>\n",
       "      <td>NaN</td>\n",
       "      <td>NaN</td>\n",
       "      <td>NaN</td>\n",
       "      <td>NaN</td>\n",
       "      <td>NaN</td>\n",
       "    </tr>\n",
       "    <tr>\n",
       "      <th>PT08S4NO2</th>\n",
       "      <td>NaN</td>\n",
       "      <td>NaN</td>\n",
       "      <td>NaN</td>\n",
       "      <td>NaN</td>\n",
       "      <td>NaN</td>\n",
       "      <td>NaN</td>\n",
       "      <td>NaN</td>\n",
       "      <td>NaN</td>\n",
       "      <td>NaN</td>\n",
       "      <td>NaN</td>\n",
       "      <td>NaN</td>\n",
       "      <td>NaN</td>\n",
       "      <td>NaN</td>\n",
       "    </tr>\n",
       "    <tr>\n",
       "      <th>PT08S5O3</th>\n",
       "      <td>NaN</td>\n",
       "      <td>NaN</td>\n",
       "      <td>NaN</td>\n",
       "      <td>NaN</td>\n",
       "      <td>NaN</td>\n",
       "      <td>NaN</td>\n",
       "      <td>NaN</td>\n",
       "      <td>NaN</td>\n",
       "      <td>NaN</td>\n",
       "      <td>NaN</td>\n",
       "      <td>NaN</td>\n",
       "      <td>NaN</td>\n",
       "      <td>NaN</td>\n",
       "    </tr>\n",
       "    <tr>\n",
       "      <th>T</th>\n",
       "      <td>NaN</td>\n",
       "      <td>NaN</td>\n",
       "      <td>NaN</td>\n",
       "      <td>NaN</td>\n",
       "      <td>NaN</td>\n",
       "      <td>NaN</td>\n",
       "      <td>NaN</td>\n",
       "      <td>NaN</td>\n",
       "      <td>NaN</td>\n",
       "      <td>NaN</td>\n",
       "      <td>NaN</td>\n",
       "      <td>NaN</td>\n",
       "      <td>NaN</td>\n",
       "    </tr>\n",
       "    <tr>\n",
       "      <th>RH</th>\n",
       "      <td>NaN</td>\n",
       "      <td>NaN</td>\n",
       "      <td>NaN</td>\n",
       "      <td>NaN</td>\n",
       "      <td>NaN</td>\n",
       "      <td>NaN</td>\n",
       "      <td>NaN</td>\n",
       "      <td>NaN</td>\n",
       "      <td>NaN</td>\n",
       "      <td>NaN</td>\n",
       "      <td>NaN</td>\n",
       "      <td>NaN</td>\n",
       "      <td>NaN</td>\n",
       "    </tr>\n",
       "    <tr>\n",
       "      <th>AH</th>\n",
       "      <td>NaN</td>\n",
       "      <td>NaN</td>\n",
       "      <td>NaN</td>\n",
       "      <td>NaN</td>\n",
       "      <td>NaN</td>\n",
       "      <td>NaN</td>\n",
       "      <td>NaN</td>\n",
       "      <td>NaN</td>\n",
       "      <td>NaN</td>\n",
       "      <td>NaN</td>\n",
       "      <td>NaN</td>\n",
       "      <td>NaN</td>\n",
       "      <td>NaN</td>\n",
       "    </tr>\n",
       "  </tbody>\n",
       "</table>\n",
       "</div>"
      ],
      "text/plain": [
       "                COGT  PT08S1CO    NMHCGT  C6H6GT  PT08S2NMHC     NOxGT  \\\n",
       "COGT        1.000000       NaN  0.247503     NaN         NaN  0.799581   \n",
       "PT08S1CO         NaN       NaN       NaN     NaN         NaN       NaN   \n",
       "NMHCGT      0.247503       NaN  1.000000     NaN         NaN  0.454414   \n",
       "C6H6GT           NaN       NaN       NaN     NaN         NaN       NaN   \n",
       "PT08S2NMHC       NaN       NaN       NaN     NaN         NaN       NaN   \n",
       "NOxGT       0.799581       NaN  0.454414     NaN         NaN  1.000000   \n",
       "PT08S3NOx        NaN       NaN       NaN     NaN         NaN       NaN   \n",
       "NO2GT       0.851206       NaN  0.324151     NaN         NaN  0.962981   \n",
       "PT08S4NO2        NaN       NaN       NaN     NaN         NaN       NaN   \n",
       "PT08S5O3         NaN       NaN       NaN     NaN         NaN       NaN   \n",
       "T                NaN       NaN       NaN     NaN         NaN       NaN   \n",
       "RH               NaN       NaN       NaN     NaN         NaN       NaN   \n",
       "AH               NaN       NaN       NaN     NaN         NaN       NaN   \n",
       "\n",
       "            PT08S3NOx     NO2GT  PT08S4NO2  PT08S5O3   T  RH  AH  \n",
       "COGT              NaN  0.851206        NaN       NaN NaN NaN NaN  \n",
       "PT08S1CO          NaN       NaN        NaN       NaN NaN NaN NaN  \n",
       "NMHCGT            NaN  0.324151        NaN       NaN NaN NaN NaN  \n",
       "C6H6GT            NaN       NaN        NaN       NaN NaN NaN NaN  \n",
       "PT08S2NMHC        NaN       NaN        NaN       NaN NaN NaN NaN  \n",
       "NOxGT             NaN  0.962981        NaN       NaN NaN NaN NaN  \n",
       "PT08S3NOx         NaN       NaN        NaN       NaN NaN NaN NaN  \n",
       "NO2GT             NaN  1.000000        NaN       NaN NaN NaN NaN  \n",
       "PT08S4NO2         NaN       NaN        NaN       NaN NaN NaN NaN  \n",
       "PT08S5O3          NaN       NaN        NaN       NaN NaN NaN NaN  \n",
       "T                 NaN       NaN        NaN       NaN NaN NaN NaN  \n",
       "RH                NaN       NaN        NaN       NaN NaN NaN NaN  \n",
       "AH                NaN       NaN        NaN       NaN NaN NaN NaN  "
      ]
     },
     "execution_count": 314,
     "metadata": {},
     "output_type": "execute_result"
    }
   ],
   "source": [
    "corr = train_test_model_min.corr()\n",
    "NOT_DROP = ['PT08S1CO', 'PT08S2NMHC', 'PT08S4NO2', 'PT08S5O3', 'AH']\n",
    "corr"
   ]
  },
  {
   "cell_type": "code",
   "execution_count": 315,
   "id": "3a8d3485",
   "metadata": {},
   "outputs": [
    {
     "data": {
      "text/plain": [
       "<AxesSubplot:>"
      ]
     },
     "execution_count": 315,
     "metadata": {},
     "output_type": "execute_result"
    },
    {
     "data": {
      "image/png": "[encoded data removed]",
      "text/plain": [
       "<Figure size 432x288 with 2 Axes>"
      ]
     },
     "metadata": {
      "needs_background": "light"
     },
     "output_type": "display_data"
    }
   ],
   "source": [
    "corr = train.corr()\n",
    "condition = np.abs(corr[TARGET]) > 0.5\n",
    "top_corr = corr.loc[condition,condition]\n",
    "sns.heatmap(top_corr, annot=True)"
   ]
  },
  {
   "cell_type": "code",
   "execution_count": 316,
   "id": "3474a57f",
   "metadata": {},
   "outputs": [
    {
     "data": {
      "text/plain": [
       "COGT          False\n",
       "PT08S1CO       True\n",
       "NMHCGT        False\n",
       "C6H6GT         True\n",
       "PT08S2NMHC     True\n",
       "NOxGT         False\n",
       "PT08S3NOx     False\n",
       "NO2GT         False\n",
       "PT08S4NO2      True\n",
       "PT08S5O3       True\n",
       "T              True\n",
       "RH             True\n",
       "AH             True\n",
       "Name: C6H6GT, dtype: bool"
      ]
     },
     "execution_count": 316,
     "metadata": {},
     "output_type": "execute_result"
    }
   ],
   "source": [
    "condition"
   ]
  },
  {
   "cell_type": "code",
   "execution_count": 317,
   "id": "f696ec76",
   "metadata": {
    "scrolled": true
   },
   "outputs": [
    {
     "data": {
      "text/plain": [
       "<AxesSubplot:xlabel='PT08S1CO', ylabel='PT08S5O3'>"
      ]
     },
     "execution_count": 317,
     "metadata": {},
     "output_type": "execute_result"
    },
    {
     "data": {
      "image/png": "[encoded data removed]",
      "text/plain": [
       "<Figure size 432x288 with 1 Axes>"
      ]
     },
     "metadata": {
      "needs_background": "light"
     },
     "output_type": "display_data"
    }
   ],
   "source": [
    "sns.regplot('PT08S1CO', 'PT08S5O3', train)"
   ]
  },
  {
   "cell_type": "code",
   "execution_count": 39,
   "id": "f1b121c6",
   "metadata": {},
   "outputs": [
    {
     "data": {
      "text/plain": [
       "<AxesSubplot:xlabel='PT08S2NMHC', ylabel='C6H6GT'>"
      ]
     },
     "execution_count": 39,
     "metadata": {},
     "output_type": "execute_result"
    },
    {
     "data": {
      "image/png": "[encoded data removed]",
      "text/plain": [
       "<Figure size 432x288 with 1 Axes>"
      ]
     },
     "metadata": {
      "needs_background": "light"
     },
     "output_type": "display_data"
    }
   ],
   "source": [
    "sns.regplot('PT08S2NMHC', TARGET, train_test_model_max)"
   ]
  },
  {
   "cell_type": "code",
   "execution_count": 40,
   "id": "5dd77880",
   "metadata": {},
   "outputs": [
    {
     "data": {
      "text/html": [
       "<div>\n",
       "<style scoped>\n",
       "    .dataframe tbody tr th:only-of-type {\n",
       "        vertical-align: middle;\n",
       "    }\n",
       "\n",
       "    .dataframe tbody tr th {\n",
       "        vertical-align: top;\n",
       "    }\n",
       "\n",
       "    .dataframe thead th {\n",
       "        text-align: right;\n",
       "    }\n",
       "</style>\n",
       "<table border=\"1\" class=\"dataframe\">\n",
       "  <thead>\n",
       "    <tr style=\"text-align: right;\">\n",
       "      <th></th>\n",
       "      <th>Date</th>\n",
       "      <th>Time</th>\n",
       "      <th>COGT</th>\n",
       "      <th>PT08S1CO</th>\n",
       "      <th>NMHCGT</th>\n",
       "      <th>C6H6GT</th>\n",
       "      <th>PT08S2NMHC</th>\n",
       "      <th>NOxGT</th>\n",
       "      <th>PT08S3NOx</th>\n",
       "      <th>NO2GT</th>\n",
       "      <th>PT08S4NO2</th>\n",
       "      <th>PT08S5O3</th>\n",
       "      <th>T</th>\n",
       "      <th>RH</th>\n",
       "      <th>AH</th>\n",
       "    </tr>\n",
       "  </thead>\n",
       "  <tbody>\n",
       "    <tr>\n",
       "      <th>0</th>\n",
       "      <td>10/03/2004</td>\n",
       "      <td>18.00.00</td>\n",
       "      <td>2.6</td>\n",
       "      <td>1360.0</td>\n",
       "      <td>150.0</td>\n",
       "      <td>11.9</td>\n",
       "      <td>1046.0</td>\n",
       "      <td>166.0</td>\n",
       "      <td>1056.0</td>\n",
       "      <td>113.0</td>\n",
       "      <td>1692.0</td>\n",
       "      <td>1268.0</td>\n",
       "      <td>13.6</td>\n",
       "      <td>48.9</td>\n",
       "      <td>0.7578</td>\n",
       "    </tr>\n",
       "    <tr>\n",
       "      <th>1</th>\n",
       "      <td>10/03/2004</td>\n",
       "      <td>19.00.00</td>\n",
       "      <td>2.0</td>\n",
       "      <td>1292.0</td>\n",
       "      <td>112.0</td>\n",
       "      <td>9.4</td>\n",
       "      <td>955.0</td>\n",
       "      <td>103.0</td>\n",
       "      <td>1174.0</td>\n",
       "      <td>92.0</td>\n",
       "      <td>1559.0</td>\n",
       "      <td>972.0</td>\n",
       "      <td>13.3</td>\n",
       "      <td>47.7</td>\n",
       "      <td>0.7255</td>\n",
       "    </tr>\n",
       "    <tr>\n",
       "      <th>2</th>\n",
       "      <td>10/03/2004</td>\n",
       "      <td>20.00.00</td>\n",
       "      <td>2.2</td>\n",
       "      <td>1402.0</td>\n",
       "      <td>88.0</td>\n",
       "      <td>9.0</td>\n",
       "      <td>939.0</td>\n",
       "      <td>131.0</td>\n",
       "      <td>1140.0</td>\n",
       "      <td>114.0</td>\n",
       "      <td>1555.0</td>\n",
       "      <td>1074.0</td>\n",
       "      <td>11.9</td>\n",
       "      <td>54.0</td>\n",
       "      <td>0.7502</td>\n",
       "    </tr>\n",
       "    <tr>\n",
       "      <th>3</th>\n",
       "      <td>10/03/2004</td>\n",
       "      <td>21.00.00</td>\n",
       "      <td>2.2</td>\n",
       "      <td>1376.0</td>\n",
       "      <td>80.0</td>\n",
       "      <td>9.2</td>\n",
       "      <td>948.0</td>\n",
       "      <td>172.0</td>\n",
       "      <td>1092.0</td>\n",
       "      <td>122.0</td>\n",
       "      <td>1584.0</td>\n",
       "      <td>1203.0</td>\n",
       "      <td>11.0</td>\n",
       "      <td>60.0</td>\n",
       "      <td>0.7867</td>\n",
       "    </tr>\n",
       "    <tr>\n",
       "      <th>4</th>\n",
       "      <td>10/03/2004</td>\n",
       "      <td>22.00.00</td>\n",
       "      <td>1.6</td>\n",
       "      <td>1272.0</td>\n",
       "      <td>51.0</td>\n",
       "      <td>6.5</td>\n",
       "      <td>836.0</td>\n",
       "      <td>131.0</td>\n",
       "      <td>1205.0</td>\n",
       "      <td>116.0</td>\n",
       "      <td>1490.0</td>\n",
       "      <td>1110.0</td>\n",
       "      <td>11.2</td>\n",
       "      <td>59.6</td>\n",
       "      <td>0.7888</td>\n",
       "    </tr>\n",
       "    <tr>\n",
       "      <th>...</th>\n",
       "      <td>...</td>\n",
       "      <td>...</td>\n",
       "      <td>...</td>\n",
       "      <td>...</td>\n",
       "      <td>...</td>\n",
       "      <td>...</td>\n",
       "      <td>...</td>\n",
       "      <td>...</td>\n",
       "      <td>...</td>\n",
       "      <td>...</td>\n",
       "      <td>...</td>\n",
       "      <td>...</td>\n",
       "      <td>...</td>\n",
       "      <td>...</td>\n",
       "      <td>...</td>\n",
       "    </tr>\n",
       "    <tr>\n",
       "      <th>6545</th>\n",
       "      <td>08/12/2004</td>\n",
       "      <td>11.00.00</td>\n",
       "      <td>2.3</td>\n",
       "      <td>1206.0</td>\n",
       "      <td>-200.0</td>\n",
       "      <td>9.8</td>\n",
       "      <td>969.0</td>\n",
       "      <td>363.0</td>\n",
       "      <td>701.0</td>\n",
       "      <td>95.0</td>\n",
       "      <td>1365.0</td>\n",
       "      <td>1178.0</td>\n",
       "      <td>14.3</td>\n",
       "      <td>63.3</td>\n",
       "      <td>1.0266</td>\n",
       "    </tr>\n",
       "    <tr>\n",
       "      <th>6546</th>\n",
       "      <td>08/12/2004</td>\n",
       "      <td>12.00.00</td>\n",
       "      <td>2.1</td>\n",
       "      <td>1202.0</td>\n",
       "      <td>-200.0</td>\n",
       "      <td>9.5</td>\n",
       "      <td>958.0</td>\n",
       "      <td>302.0</td>\n",
       "      <td>732.0</td>\n",
       "      <td>92.0</td>\n",
       "      <td>1330.0</td>\n",
       "      <td>1181.0</td>\n",
       "      <td>16.0</td>\n",
       "      <td>58.1</td>\n",
       "      <td>1.0482</td>\n",
       "    </tr>\n",
       "    <tr>\n",
       "      <th>6547</th>\n",
       "      <td>08/12/2004</td>\n",
       "      <td>13.00.00</td>\n",
       "      <td>2.7</td>\n",
       "      <td>1261.0</td>\n",
       "      <td>-200.0</td>\n",
       "      <td>11.2</td>\n",
       "      <td>1022.0</td>\n",
       "      <td>424.0</td>\n",
       "      <td>635.0</td>\n",
       "      <td>113.0</td>\n",
       "      <td>1407.0</td>\n",
       "      <td>1250.0</td>\n",
       "      <td>17.3</td>\n",
       "      <td>53.9</td>\n",
       "      <td>1.0562</td>\n",
       "    </tr>\n",
       "    <tr>\n",
       "      <th>6548</th>\n",
       "      <td>08/12/2004</td>\n",
       "      <td>14.00.00</td>\n",
       "      <td>2.3</td>\n",
       "      <td>1102.0</td>\n",
       "      <td>-200.0</td>\n",
       "      <td>6.9</td>\n",
       "      <td>855.0</td>\n",
       "      <td>258.0</td>\n",
       "      <td>763.0</td>\n",
       "      <td>98.0</td>\n",
       "      <td>1279.0</td>\n",
       "      <td>1039.0</td>\n",
       "      <td>17.3</td>\n",
       "      <td>53.3</td>\n",
       "      <td>1.0407</td>\n",
       "    </tr>\n",
       "    <tr>\n",
       "      <th>6549</th>\n",
       "      <td>08/12/2004</td>\n",
       "      <td>15.00.00</td>\n",
       "      <td>1.2</td>\n",
       "      <td>997.0</td>\n",
       "      <td>-200.0</td>\n",
       "      <td>4.6</td>\n",
       "      <td>742.0</td>\n",
       "      <td>179.0</td>\n",
       "      <td>911.0</td>\n",
       "      <td>82.0</td>\n",
       "      <td>1180.0</td>\n",
       "      <td>899.0</td>\n",
       "      <td>16.7</td>\n",
       "      <td>54.7</td>\n",
       "      <td>1.0311</td>\n",
       "    </tr>\n",
       "  </tbody>\n",
       "</table>\n",
       "<p>6402 rows × 15 columns</p>\n",
       "</div>"
      ],
      "text/plain": [
       "            Date      Time  COGT  PT08S1CO  NMHCGT  C6H6GT  PT08S2NMHC  NOxGT  \\\n",
       "0     10/03/2004  18.00.00   2.6    1360.0   150.0    11.9      1046.0  166.0   \n",
       "1     10/03/2004  19.00.00   2.0    1292.0   112.0     9.4       955.0  103.0   \n",
       "2     10/03/2004  20.00.00   2.2    1402.0    88.0     9.0       939.0  131.0   \n",
       "3     10/03/2004  21.00.00   2.2    1376.0    80.0     9.2       948.0  172.0   \n",
       "4     10/03/2004  22.00.00   1.6    1272.0    51.0     6.5       836.0  131.0   \n",
       "...          ...       ...   ...       ...     ...     ...         ...    ...   \n",
       "6545  08/12/2004  11.00.00   2.3    1206.0  -200.0     9.8       969.0  363.0   \n",
       "6546  08/12/2004  12.00.00   2.1    1202.0  -200.0     9.5       958.0  302.0   \n",
       "6547  08/12/2004  13.00.00   2.7    1261.0  -200.0    11.2      1022.0  424.0   \n",
       "6548  08/12/2004  14.00.00   2.3    1102.0  -200.0     6.9       855.0  258.0   \n",
       "6549  08/12/2004  15.00.00   1.2     997.0  -200.0     4.6       742.0  179.0   \n",
       "\n",
       "      PT08S3NOx  NO2GT  PT08S4NO2  PT08S5O3     T    RH      AH  \n",
       "0        1056.0  113.0     1692.0    1268.0  13.6  48.9  0.7578  \n",
       "1        1174.0   92.0     1559.0     972.0  13.3  47.7  0.7255  \n",
       "2        1140.0  114.0     1555.0    1074.0  11.9  54.0  0.7502  \n",
       "3        1092.0  122.0     1584.0    1203.0  11.0  60.0  0.7867  \n",
       "4        1205.0  116.0     1490.0    1110.0  11.2  59.6  0.7888  \n",
       "...         ...    ...        ...       ...   ...   ...     ...  \n",
       "6545      701.0   95.0     1365.0    1178.0  14.3  63.3  1.0266  \n",
       "6546      732.0   92.0     1330.0    1181.0  16.0  58.1  1.0482  \n",
       "6547      635.0  113.0     1407.0    1250.0  17.3  53.9  1.0562  \n",
       "6548      763.0   98.0     1279.0    1039.0  17.3  53.3  1.0407  \n",
       "6549      911.0   82.0     1180.0     899.0  16.7  54.7  1.0311  \n",
       "\n",
       "[6402 rows x 15 columns]"
      ]
     },
     "execution_count": 40,
     "metadata": {},
     "output_type": "execute_result"
    }
   ],
   "source": [
    "train.query('T>-150')"
   ]
  },
  {
   "cell_type": "code",
   "execution_count": 41,
   "id": "bf636bb3",
   "metadata": {},
   "outputs": [
    {
     "data": {
      "text/plain": [
       "0       150.0\n",
       "1       112.0\n",
       "2        88.0\n",
       "3        80.0\n",
       "4        51.0\n",
       "        ...  \n",
       "6545   -200.0\n",
       "6546   -200.0\n",
       "6547   -200.0\n",
       "6548   -200.0\n",
       "6549   -200.0\n",
       "Name: NMHCGT, Length: 6550, dtype: float64"
      ]
     },
     "execution_count": 41,
     "metadata": {},
     "output_type": "execute_result"
    }
   ],
   "source": [
    "train['NMHCGT']"
   ]
  },
  {
   "cell_type": "code",
   "execution_count": 42,
   "id": "a278fb5e",
   "metadata": {},
   "outputs": [
    {
     "data": {
      "text/plain": [
       "<AxesSubplot:xlabel='NMHCGT', ylabel='Density'>"
      ]
     },
     "execution_count": 42,
     "metadata": {},
     "output_type": "execute_result"
    },
    {
     "data": {
      "image/png": "[encoded data removed]",
      "text/plain": [
       "<Figure size 432x288 with 1 Axes>"
      ]
     },
     "metadata": {
      "needs_background": "light"
     },
     "output_type": "display_data"
    }
   ],
   "source": [
    "sns.kdeplot(train['NMHCGT'])"
   ]
  },
  {
   "cell_type": "code",
   "execution_count": 43,
   "id": "114c72f4",
   "metadata": {},
   "outputs": [
    {
     "data": {
      "text/html": [
       "<div>\n",
       "<style scoped>\n",
       "    .dataframe tbody tr th:only-of-type {\n",
       "        vertical-align: middle;\n",
       "    }\n",
       "\n",
       "    .dataframe tbody tr th {\n",
       "        vertical-align: top;\n",
       "    }\n",
       "\n",
       "    .dataframe thead th {\n",
       "        text-align: right;\n",
       "    }\n",
       "</style>\n",
       "<table border=\"1\" class=\"dataframe\">\n",
       "  <thead>\n",
       "    <tr style=\"text-align: right;\">\n",
       "      <th></th>\n",
       "      <th>Date</th>\n",
       "      <th>Time</th>\n",
       "      <th>COGT</th>\n",
       "      <th>PT08S1CO</th>\n",
       "      <th>NMHCGT</th>\n",
       "      <th>C6H6GT</th>\n",
       "      <th>PT08S2NMHC</th>\n",
       "      <th>NOxGT</th>\n",
       "      <th>PT08S3NOx</th>\n",
       "      <th>NO2GT</th>\n",
       "      <th>PT08S4NO2</th>\n",
       "      <th>PT08S5O3</th>\n",
       "      <th>T</th>\n",
       "      <th>RH</th>\n",
       "      <th>AH</th>\n",
       "    </tr>\n",
       "  </thead>\n",
       "  <tbody>\n",
       "    <tr>\n",
       "      <th>0</th>\n",
       "      <td>10/03/2004</td>\n",
       "      <td>18.00.00</td>\n",
       "      <td>2.6</td>\n",
       "      <td>1360.0</td>\n",
       "      <td>150.0</td>\n",
       "      <td>11.9</td>\n",
       "      <td>1046.0</td>\n",
       "      <td>166.0</td>\n",
       "      <td>1056.0</td>\n",
       "      <td>113.0</td>\n",
       "      <td>1692.0</td>\n",
       "      <td>1268.0</td>\n",
       "      <td>13.6</td>\n",
       "      <td>48.9</td>\n",
       "      <td>0.7578</td>\n",
       "    </tr>\n",
       "    <tr>\n",
       "      <th>1</th>\n",
       "      <td>10/03/2004</td>\n",
       "      <td>19.00.00</td>\n",
       "      <td>2.0</td>\n",
       "      <td>1292.0</td>\n",
       "      <td>112.0</td>\n",
       "      <td>9.4</td>\n",
       "      <td>955.0</td>\n",
       "      <td>103.0</td>\n",
       "      <td>1174.0</td>\n",
       "      <td>92.0</td>\n",
       "      <td>1559.0</td>\n",
       "      <td>972.0</td>\n",
       "      <td>13.3</td>\n",
       "      <td>47.7</td>\n",
       "      <td>0.7255</td>\n",
       "    </tr>\n",
       "    <tr>\n",
       "      <th>2</th>\n",
       "      <td>10/03/2004</td>\n",
       "      <td>20.00.00</td>\n",
       "      <td>2.2</td>\n",
       "      <td>1402.0</td>\n",
       "      <td>88.0</td>\n",
       "      <td>9.0</td>\n",
       "      <td>939.0</td>\n",
       "      <td>131.0</td>\n",
       "      <td>1140.0</td>\n",
       "      <td>114.0</td>\n",
       "      <td>1555.0</td>\n",
       "      <td>1074.0</td>\n",
       "      <td>11.9</td>\n",
       "      <td>54.0</td>\n",
       "      <td>0.7502</td>\n",
       "    </tr>\n",
       "    <tr>\n",
       "      <th>3</th>\n",
       "      <td>10/03/2004</td>\n",
       "      <td>21.00.00</td>\n",
       "      <td>2.2</td>\n",
       "      <td>1376.0</td>\n",
       "      <td>80.0</td>\n",
       "      <td>9.2</td>\n",
       "      <td>948.0</td>\n",
       "      <td>172.0</td>\n",
       "      <td>1092.0</td>\n",
       "      <td>122.0</td>\n",
       "      <td>1584.0</td>\n",
       "      <td>1203.0</td>\n",
       "      <td>11.0</td>\n",
       "      <td>60.0</td>\n",
       "      <td>0.7867</td>\n",
       "    </tr>\n",
       "    <tr>\n",
       "      <th>4</th>\n",
       "      <td>10/03/2004</td>\n",
       "      <td>22.00.00</td>\n",
       "      <td>1.6</td>\n",
       "      <td>1272.0</td>\n",
       "      <td>51.0</td>\n",
       "      <td>6.5</td>\n",
       "      <td>836.0</td>\n",
       "      <td>131.0</td>\n",
       "      <td>1205.0</td>\n",
       "      <td>116.0</td>\n",
       "      <td>1490.0</td>\n",
       "      <td>1110.0</td>\n",
       "      <td>11.2</td>\n",
       "      <td>59.6</td>\n",
       "      <td>0.7888</td>\n",
       "    </tr>\n",
       "    <tr>\n",
       "      <th>...</th>\n",
       "      <td>...</td>\n",
       "      <td>...</td>\n",
       "      <td>...</td>\n",
       "      <td>...</td>\n",
       "      <td>...</td>\n",
       "      <td>...</td>\n",
       "      <td>...</td>\n",
       "      <td>...</td>\n",
       "      <td>...</td>\n",
       "      <td>...</td>\n",
       "      <td>...</td>\n",
       "      <td>...</td>\n",
       "      <td>...</td>\n",
       "      <td>...</td>\n",
       "      <td>...</td>\n",
       "    </tr>\n",
       "    <tr>\n",
       "      <th>1226</th>\n",
       "      <td>30/04/2004</td>\n",
       "      <td>20.00.00</td>\n",
       "      <td>4.4</td>\n",
       "      <td>1449.0</td>\n",
       "      <td>501.0</td>\n",
       "      <td>19.5</td>\n",
       "      <td>1282.0</td>\n",
       "      <td>254.0</td>\n",
       "      <td>625.0</td>\n",
       "      <td>133.0</td>\n",
       "      <td>2100.0</td>\n",
       "      <td>1569.0</td>\n",
       "      <td>19.1</td>\n",
       "      <td>61.1</td>\n",
       "      <td>1.3345</td>\n",
       "    </tr>\n",
       "    <tr>\n",
       "      <th>1227</th>\n",
       "      <td>30/04/2004</td>\n",
       "      <td>21.00.00</td>\n",
       "      <td>3.1</td>\n",
       "      <td>1363.0</td>\n",
       "      <td>234.0</td>\n",
       "      <td>15.1</td>\n",
       "      <td>1152.0</td>\n",
       "      <td>189.0</td>\n",
       "      <td>684.0</td>\n",
       "      <td>110.0</td>\n",
       "      <td>1951.0</td>\n",
       "      <td>1495.0</td>\n",
       "      <td>18.2</td>\n",
       "      <td>65.4</td>\n",
       "      <td>1.3529</td>\n",
       "    </tr>\n",
       "    <tr>\n",
       "      <th>1228</th>\n",
       "      <td>30/04/2004</td>\n",
       "      <td>22.00.00</td>\n",
       "      <td>3.0</td>\n",
       "      <td>1371.0</td>\n",
       "      <td>212.0</td>\n",
       "      <td>14.6</td>\n",
       "      <td>1136.0</td>\n",
       "      <td>174.0</td>\n",
       "      <td>689.0</td>\n",
       "      <td>102.0</td>\n",
       "      <td>1927.0</td>\n",
       "      <td>1471.0</td>\n",
       "      <td>18.1</td>\n",
       "      <td>66.1</td>\n",
       "      <td>1.3579</td>\n",
       "    </tr>\n",
       "    <tr>\n",
       "      <th>1229</th>\n",
       "      <td>30/04/2004</td>\n",
       "      <td>23.00.00</td>\n",
       "      <td>3.1</td>\n",
       "      <td>1406.0</td>\n",
       "      <td>275.0</td>\n",
       "      <td>13.7</td>\n",
       "      <td>1107.0</td>\n",
       "      <td>167.0</td>\n",
       "      <td>718.0</td>\n",
       "      <td>108.0</td>\n",
       "      <td>1872.0</td>\n",
       "      <td>1384.0</td>\n",
       "      <td>17.7</td>\n",
       "      <td>66.9</td>\n",
       "      <td>1.3422</td>\n",
       "    </tr>\n",
       "    <tr>\n",
       "      <th>1230</th>\n",
       "      <td>01/05/2004</td>\n",
       "      <td>00.00.00</td>\n",
       "      <td>3.5</td>\n",
       "      <td>1425.0</td>\n",
       "      <td>275.0</td>\n",
       "      <td>15.2</td>\n",
       "      <td>1155.0</td>\n",
       "      <td>185.0</td>\n",
       "      <td>709.0</td>\n",
       "      <td>110.0</td>\n",
       "      <td>1936.0</td>\n",
       "      <td>1789.0</td>\n",
       "      <td>17.8</td>\n",
       "      <td>66.8</td>\n",
       "      <td>1.3460</td>\n",
       "    </tr>\n",
       "  </tbody>\n",
       "</table>\n",
       "<p>914 rows × 15 columns</p>\n",
       "</div>"
      ],
      "text/plain": [
       "            Date      Time  COGT  PT08S1CO  NMHCGT  C6H6GT  PT08S2NMHC  NOxGT  \\\n",
       "0     10/03/2004  18.00.00   2.6    1360.0   150.0    11.9      1046.0  166.0   \n",
       "1     10/03/2004  19.00.00   2.0    1292.0   112.0     9.4       955.0  103.0   \n",
       "2     10/03/2004  20.00.00   2.2    1402.0    88.0     9.0       939.0  131.0   \n",
       "3     10/03/2004  21.00.00   2.2    1376.0    80.0     9.2       948.0  172.0   \n",
       "4     10/03/2004  22.00.00   1.6    1272.0    51.0     6.5       836.0  131.0   \n",
       "...          ...       ...   ...       ...     ...     ...         ...    ...   \n",
       "1226  30/04/2004  20.00.00   4.4    1449.0   501.0    19.5      1282.0  254.0   \n",
       "1227  30/04/2004  21.00.00   3.1    1363.0   234.0    15.1      1152.0  189.0   \n",
       "1228  30/04/2004  22.00.00   3.0    1371.0   212.0    14.6      1136.0  174.0   \n",
       "1229  30/04/2004  23.00.00   3.1    1406.0   275.0    13.7      1107.0  167.0   \n",
       "1230  01/05/2004  00.00.00   3.5    1425.0   275.0    15.2      1155.0  185.0   \n",
       "\n",
       "      PT08S3NOx  NO2GT  PT08S4NO2  PT08S5O3     T    RH      AH  \n",
       "0        1056.0  113.0     1692.0    1268.0  13.6  48.9  0.7578  \n",
       "1        1174.0   92.0     1559.0     972.0  13.3  47.7  0.7255  \n",
       "2        1140.0  114.0     1555.0    1074.0  11.9  54.0  0.7502  \n",
       "3        1092.0  122.0     1584.0    1203.0  11.0  60.0  0.7867  \n",
       "4        1205.0  116.0     1490.0    1110.0  11.2  59.6  0.7888  \n",
       "...         ...    ...        ...       ...   ...   ...     ...  \n",
       "1226      625.0  133.0     2100.0    1569.0  19.1  61.1  1.3345  \n",
       "1227      684.0  110.0     1951.0    1495.0  18.2  65.4  1.3529  \n",
       "1228      689.0  102.0     1927.0    1471.0  18.1  66.1  1.3579  \n",
       "1229      718.0  108.0     1872.0    1384.0  17.7  66.9  1.3422  \n",
       "1230      709.0  110.0     1936.0    1789.0  17.8  66.8  1.3460  \n",
       "\n",
       "[914 rows x 15 columns]"
      ]
     },
     "execution_count": 43,
     "metadata": {},
     "output_type": "execute_result"
    }
   ],
   "source": [
    "train.query('NMHCGT!=-200')"
   ]
  },
  {
   "cell_type": "code",
   "execution_count": 318,
   "id": "a5df774b",
   "metadata": {},
   "outputs": [
    {
     "data": {
      "text/plain": [
       "<AxesSubplot:xlabel='NMHCGT', ylabel='C6H6GT'>"
      ]
     },
     "execution_count": 318,
     "metadata": {},
     "output_type": "execute_result"
    },
    {
     "data": {
      "image/png": "[encoded data removed]",
      "text/plain": [
       "<Figure size 432x288 with 1 Axes>"
      ]
     },
     "metadata": {
      "needs_background": "light"
     },
     "output_type": "display_data"
    }
   ],
   "source": [
    "sns.regplot('NMHCGT', TARGET, train_test_model_max.query('NMHCGT!=-200'))"
   ]
  },
  {
   "cell_type": "code",
   "execution_count": 319,
   "id": "21a90553",
   "metadata": {},
   "outputs": [
    {
     "data": {
      "text/plain": [
       "<AxesSubplot:>"
      ]
     },
     "execution_count": 319,
     "metadata": {},
     "output_type": "execute_result"
    },
    {
     "data": {
      "image/png": "[encoded data removed]",
      "text/plain": [
       "<Figure size 432x288 with 2 Axes>"
      ]
     },
     "metadata": {
      "needs_background": "light"
     },
     "output_type": "display_data"
    }
   ],
   "source": [
    "corr = train_test_model_max.query('NMHCGT!=-200').corr()\n",
    "condition = np.abs(corr[TARGET]) > 0.7\n",
    "top_corr = corr.loc[condition,condition]\n",
    "sns.heatmap(top_corr, annot=True)"
   ]
  },
  {
   "cell_type": "code",
   "execution_count": 320,
   "id": "c4a23bb9",
   "metadata": {},
   "outputs": [],
   "source": [
    "DROP.append('NMHCGT')\n",
    "DROP.append('Date')\n",
    "DROP.append('Time')"
   ]
  },
  {
   "cell_type": "code",
   "execution_count": 321,
   "id": "f98b4962",
   "metadata": {},
   "outputs": [
    {
     "data": {
      "text/plain": [
       "Date          0\n",
       "Time          0\n",
       "COGT          0\n",
       "PT08S1CO      0\n",
       "NMHCGT        0\n",
       "C6H6GT        0\n",
       "PT08S2NMHC    0\n",
       "NOxGT         0\n",
       "PT08S3NOx     0\n",
       "NO2GT         0\n",
       "PT08S4NO2     0\n",
       "PT08S5O3      0\n",
       "T             0\n",
       "RH            0\n",
       "AH            0\n",
       "dtype: int64"
      ]
     },
     "execution_count": 321,
     "metadata": {},
     "output_type": "execute_result"
    }
   ],
   "source": [
    "df.isna().sum()"
   ]
  },
  {
   "cell_type": "code",
   "execution_count": 326,
   "id": "019020ee",
   "metadata": {},
   "outputs": [
    {
     "data": {
      "text/html": [
       "<div>\n",
       "<style scoped>\n",
       "    .dataframe tbody tr th:only-of-type {\n",
       "        vertical-align: middle;\n",
       "    }\n",
       "\n",
       "    .dataframe tbody tr th {\n",
       "        vertical-align: top;\n",
       "    }\n",
       "\n",
       "    .dataframe thead th {\n",
       "        text-align: right;\n",
       "    }\n",
       "</style>\n",
       "<table border=\"1\" class=\"dataframe\">\n",
       "  <thead>\n",
       "    <tr style=\"text-align: right;\">\n",
       "      <th></th>\n",
       "      <th>PT08S1CO</th>\n",
       "      <th>PT08S2NMHC</th>\n",
       "      <th>PT08S4NO2</th>\n",
       "      <th>PT08S5O3</th>\n",
       "      <th>AH</th>\n",
       "    </tr>\n",
       "  </thead>\n",
       "  <tbody>\n",
       "    <tr>\n",
       "      <th>0</th>\n",
       "      <td>1360.0</td>\n",
       "      <td>1046.0</td>\n",
       "      <td>1692.0</td>\n",
       "      <td>1268.0</td>\n",
       "      <td>0.7578</td>\n",
       "    </tr>\n",
       "    <tr>\n",
       "      <th>1</th>\n",
       "      <td>1292.0</td>\n",
       "      <td>955.0</td>\n",
       "      <td>1559.0</td>\n",
       "      <td>972.0</td>\n",
       "      <td>0.7255</td>\n",
       "    </tr>\n",
       "    <tr>\n",
       "      <th>2</th>\n",
       "      <td>1402.0</td>\n",
       "      <td>939.0</td>\n",
       "      <td>1555.0</td>\n",
       "      <td>1074.0</td>\n",
       "      <td>0.7502</td>\n",
       "    </tr>\n",
       "    <tr>\n",
       "      <th>3</th>\n",
       "      <td>1376.0</td>\n",
       "      <td>948.0</td>\n",
       "      <td>1584.0</td>\n",
       "      <td>1203.0</td>\n",
       "      <td>0.7867</td>\n",
       "    </tr>\n",
       "    <tr>\n",
       "      <th>4</th>\n",
       "      <td>1272.0</td>\n",
       "      <td>836.0</td>\n",
       "      <td>1490.0</td>\n",
       "      <td>1110.0</td>\n",
       "      <td>0.7888</td>\n",
       "    </tr>\n",
       "    <tr>\n",
       "      <th>...</th>\n",
       "      <td>...</td>\n",
       "      <td>...</td>\n",
       "      <td>...</td>\n",
       "      <td>...</td>\n",
       "      <td>...</td>\n",
       "    </tr>\n",
       "    <tr>\n",
       "      <th>6545</th>\n",
       "      <td>1206.0</td>\n",
       "      <td>969.0</td>\n",
       "      <td>1365.0</td>\n",
       "      <td>1178.0</td>\n",
       "      <td>1.0266</td>\n",
       "    </tr>\n",
       "    <tr>\n",
       "      <th>6546</th>\n",
       "      <td>1202.0</td>\n",
       "      <td>958.0</td>\n",
       "      <td>1330.0</td>\n",
       "      <td>1181.0</td>\n",
       "      <td>1.0482</td>\n",
       "    </tr>\n",
       "    <tr>\n",
       "      <th>6547</th>\n",
       "      <td>1261.0</td>\n",
       "      <td>1022.0</td>\n",
       "      <td>1407.0</td>\n",
       "      <td>1250.0</td>\n",
       "      <td>1.0562</td>\n",
       "    </tr>\n",
       "    <tr>\n",
       "      <th>6548</th>\n",
       "      <td>1102.0</td>\n",
       "      <td>855.0</td>\n",
       "      <td>1279.0</td>\n",
       "      <td>1039.0</td>\n",
       "      <td>1.0407</td>\n",
       "    </tr>\n",
       "    <tr>\n",
       "      <th>6549</th>\n",
       "      <td>997.0</td>\n",
       "      <td>742.0</td>\n",
       "      <td>1180.0</td>\n",
       "      <td>899.0</td>\n",
       "      <td>1.0311</td>\n",
       "    </tr>\n",
       "  </tbody>\n",
       "</table>\n",
       "<p>6550 rows × 5 columns</p>\n",
       "</div>"
      ],
      "text/plain": [
       "      PT08S1CO  PT08S2NMHC  PT08S4NO2  PT08S5O3      AH\n",
       "0       1360.0      1046.0     1692.0    1268.0  0.7578\n",
       "1       1292.0       955.0     1559.0     972.0  0.7255\n",
       "2       1402.0       939.0     1555.0    1074.0  0.7502\n",
       "3       1376.0       948.0     1584.0    1203.0  0.7867\n",
       "4       1272.0       836.0     1490.0    1110.0  0.7888\n",
       "...        ...         ...        ...       ...     ...\n",
       "6545    1206.0       969.0     1365.0    1178.0  1.0266\n",
       "6546    1202.0       958.0     1330.0    1181.0  1.0482\n",
       "6547    1261.0      1022.0     1407.0    1250.0  1.0562\n",
       "6548    1102.0       855.0     1279.0    1039.0  1.0407\n",
       "6549     997.0       742.0     1180.0     899.0  1.0311\n",
       "\n",
       "[6550 rows x 5 columns]"
      ]
     },
     "execution_count": 326,
     "metadata": {},
     "output_type": "execute_result"
    }
   ],
   "source": [
    "train[NOT_DROP]"
   ]
  },
  {
   "cell_type": "code",
   "execution_count": 327,
   "id": "4830b77e",
   "metadata": {},
   "outputs": [],
   "source": [
    "X_train, y_train = train[NOT_DROP], train[TARGET]"
   ]
  },
  {
   "cell_type": "code",
   "execution_count": 328,
   "id": "6938387c",
   "metadata": {},
   "outputs": [],
   "source": [
    "X_test, y_test = test[NOT_DROP], test[TARGET]"
   ]
  },
  {
   "cell_type": "code",
   "execution_count": 329,
   "id": "98688c6e",
   "metadata": {},
   "outputs": [
    {
     "data": {
      "text/plain": [
       "0"
      ]
     },
     "execution_count": 329,
     "metadata": {},
     "output_type": "execute_result"
    }
   ],
   "source": [
    "y_test.isna().sum()"
   ]
  },
  {
   "cell_type": "code",
   "execution_count": 330,
   "id": "7442bb8d",
   "metadata": {},
   "outputs": [
    {
     "data": {
      "text/plain": [
       "0       11.9\n",
       "1        9.4\n",
       "2        9.0\n",
       "3        9.2\n",
       "4        6.5\n",
       "        ... \n",
       "6545     9.8\n",
       "6546     9.5\n",
       "6547    11.2\n",
       "6548     6.9\n",
       "6549     4.6\n",
       "Name: C6H6GT, Length: 6550, dtype: float64"
      ]
     },
     "execution_count": 330,
     "metadata": {},
     "output_type": "execute_result"
    }
   ],
   "source": [
    "train.drop(DROP, axis=1)[TARGET]"
   ]
  },
  {
   "cell_type": "code",
   "execution_count": 331,
   "id": "978a692b",
   "metadata": {},
   "outputs": [
    {
     "data": {
      "text/html": [
       "<div>\n",
       "<style scoped>\n",
       "    .dataframe tbody tr th:only-of-type {\n",
       "        vertical-align: middle;\n",
       "    }\n",
       "\n",
       "    .dataframe tbody tr th {\n",
       "        vertical-align: top;\n",
       "    }\n",
       "\n",
       "    .dataframe thead th {\n",
       "        text-align: right;\n",
       "    }\n",
       "</style>\n",
       "<table border=\"1\" class=\"dataframe\">\n",
       "  <thead>\n",
       "    <tr style=\"text-align: right;\">\n",
       "      <th></th>\n",
       "      <th>PT08S1CO</th>\n",
       "      <th>PT08S2NMHC</th>\n",
       "      <th>PT08S4NO2</th>\n",
       "      <th>PT08S5O3</th>\n",
       "      <th>AH</th>\n",
       "    </tr>\n",
       "  </thead>\n",
       "  <tbody>\n",
       "    <tr>\n",
       "      <th>0</th>\n",
       "      <td>1360.0</td>\n",
       "      <td>1046.0</td>\n",
       "      <td>1692.0</td>\n",
       "      <td>1268.0</td>\n",
       "      <td>0.7578</td>\n",
       "    </tr>\n",
       "    <tr>\n",
       "      <th>1</th>\n",
       "      <td>1292.0</td>\n",
       "      <td>955.0</td>\n",
       "      <td>1559.0</td>\n",
       "      <td>972.0</td>\n",
       "      <td>0.7255</td>\n",
       "    </tr>\n",
       "    <tr>\n",
       "      <th>2</th>\n",
       "      <td>1402.0</td>\n",
       "      <td>939.0</td>\n",
       "      <td>1555.0</td>\n",
       "      <td>1074.0</td>\n",
       "      <td>0.7502</td>\n",
       "    </tr>\n",
       "    <tr>\n",
       "      <th>3</th>\n",
       "      <td>1376.0</td>\n",
       "      <td>948.0</td>\n",
       "      <td>1584.0</td>\n",
       "      <td>1203.0</td>\n",
       "      <td>0.7867</td>\n",
       "    </tr>\n",
       "    <tr>\n",
       "      <th>4</th>\n",
       "      <td>1272.0</td>\n",
       "      <td>836.0</td>\n",
       "      <td>1490.0</td>\n",
       "      <td>1110.0</td>\n",
       "      <td>0.7888</td>\n",
       "    </tr>\n",
       "    <tr>\n",
       "      <th>...</th>\n",
       "      <td>...</td>\n",
       "      <td>...</td>\n",
       "      <td>...</td>\n",
       "      <td>...</td>\n",
       "      <td>...</td>\n",
       "    </tr>\n",
       "    <tr>\n",
       "      <th>6545</th>\n",
       "      <td>1206.0</td>\n",
       "      <td>969.0</td>\n",
       "      <td>1365.0</td>\n",
       "      <td>1178.0</td>\n",
       "      <td>1.0266</td>\n",
       "    </tr>\n",
       "    <tr>\n",
       "      <th>6546</th>\n",
       "      <td>1202.0</td>\n",
       "      <td>958.0</td>\n",
       "      <td>1330.0</td>\n",
       "      <td>1181.0</td>\n",
       "      <td>1.0482</td>\n",
       "    </tr>\n",
       "    <tr>\n",
       "      <th>6547</th>\n",
       "      <td>1261.0</td>\n",
       "      <td>1022.0</td>\n",
       "      <td>1407.0</td>\n",
       "      <td>1250.0</td>\n",
       "      <td>1.0562</td>\n",
       "    </tr>\n",
       "    <tr>\n",
       "      <th>6548</th>\n",
       "      <td>1102.0</td>\n",
       "      <td>855.0</td>\n",
       "      <td>1279.0</td>\n",
       "      <td>1039.0</td>\n",
       "      <td>1.0407</td>\n",
       "    </tr>\n",
       "    <tr>\n",
       "      <th>6549</th>\n",
       "      <td>997.0</td>\n",
       "      <td>742.0</td>\n",
       "      <td>1180.0</td>\n",
       "      <td>899.0</td>\n",
       "      <td>1.0311</td>\n",
       "    </tr>\n",
       "  </tbody>\n",
       "</table>\n",
       "<p>6550 rows × 5 columns</p>\n",
       "</div>"
      ],
      "text/plain": [
       "      PT08S1CO  PT08S2NMHC  PT08S4NO2  PT08S5O3      AH\n",
       "0       1360.0      1046.0     1692.0    1268.0  0.7578\n",
       "1       1292.0       955.0     1559.0     972.0  0.7255\n",
       "2       1402.0       939.0     1555.0    1074.0  0.7502\n",
       "3       1376.0       948.0     1584.0    1203.0  0.7867\n",
       "4       1272.0       836.0     1490.0    1110.0  0.7888\n",
       "...        ...         ...        ...       ...     ...\n",
       "6545    1206.0       969.0     1365.0    1178.0  1.0266\n",
       "6546    1202.0       958.0     1330.0    1181.0  1.0482\n",
       "6547    1261.0      1022.0     1407.0    1250.0  1.0562\n",
       "6548    1102.0       855.0     1279.0    1039.0  1.0407\n",
       "6549     997.0       742.0     1180.0     899.0  1.0311\n",
       "\n",
       "[6550 rows x 5 columns]"
      ]
     },
     "execution_count": 331,
     "metadata": {},
     "output_type": "execute_result"
    }
   ],
   "source": [
    "X_train"
   ]
  },
  {
   "cell_type": "code",
   "execution_count": 332,
   "id": "cf020bfd",
   "metadata": {},
   "outputs": [
    {
     "data": {
      "text/plain": [
       "['COGT',\n",
       " 'PT08S1CO',\n",
       " 'NMHCGT',\n",
       " 'PT08S2NMHC',\n",
       " 'NOxGT',\n",
       " 'PT08S3NOx',\n",
       " 'NO2GT',\n",
       " 'PT08S4NO2',\n",
       " 'PT08S5O3',\n",
       " 'T',\n",
       " 'RH',\n",
       " 'AH']"
      ]
     },
     "execution_count": 332,
     "metadata": {},
     "output_type": "execute_result"
    }
   ],
   "source": [
    "NUMERICAL"
   ]
  },
  {
   "cell_type": "code",
   "execution_count": 333,
   "id": "c18f17fd",
   "metadata": {},
   "outputs": [],
   "source": [
    "numerical_def = gen_features(\n",
    "    columns=[[c] for c in NOT_DROP],\n",
    "    classes=[\n",
    "        {'class': StandardScaler}\n",
    "    ]\n",
    ")\n",
    "features = numerical_def"
   ]
  },
  {
   "cell_type": "code",
   "execution_count": 334,
   "id": "9a54ace8",
   "metadata": {},
   "outputs": [
    {
     "data": {
      "text/plain": [
       "(9357, 15)"
      ]
     },
     "execution_count": 334,
     "metadata": {},
     "output_type": "execute_result"
    }
   ],
   "source": [
    "df.shape"
   ]
  },
  {
   "cell_type": "code",
   "execution_count": 335,
   "id": "4fd74c6f",
   "metadata": {},
   "outputs": [
    {
     "data": {
      "text/plain": [
       "5"
      ]
     },
     "execution_count": 335,
     "metadata": {},
     "output_type": "execute_result"
    }
   ],
   "source": [
    "mapper = DataFrameMapper(numerical_def)\n",
    "len(numerical_def)"
   ]
  },
  {
   "cell_type": "code",
   "execution_count": 245,
   "id": "7ceb93f6",
   "metadata": {},
   "outputs": [],
   "source": [
    "NUMERICAL = X_train.select_dtypes(exclude=['object']).columns.tolist()"
   ]
  },
  {
   "cell_type": "code",
   "execution_count": 249,
   "id": "352a5257",
   "metadata": {},
   "outputs": [
    {
     "data": {
      "text/plain": [
       "['COGT', 'PT08S2NMHC', 'NOxGT', 'NO2GT']"
      ]
     },
     "execution_count": 249,
     "metadata": {},
     "output_type": "execute_result"
    }
   ],
   "source": [
    "NUMERICAL"
   ]
  },
  {
   "cell_type": "code",
   "execution_count": 336,
   "id": "7a1eae05",
   "metadata": {},
   "outputs": [],
   "source": [
    "train_X_tr = pd.DataFrame(mapper.fit_transform(X_train))\n",
    "val_X_tr = pd.DataFrame(mapper.transform(X_test))\n",
    "\n",
    "\n",
    "train_y_tr = y_train\n",
    "val_y_tr = y_test"
   ]
  },
  {
   "cell_type": "code",
   "execution_count": 337,
   "id": "cd7830df",
   "metadata": {},
   "outputs": [
    {
     "data": {
      "text/plain": [
       "-200.0"
      ]
     },
     "execution_count": 337,
     "metadata": {},
     "output_type": "execute_result"
    }
   ],
   "source": [
    "y_test[6740]"
   ]
  },
  {
   "cell_type": "code",
   "execution_count": 338,
   "id": "eecc0fcb",
   "metadata": {},
   "outputs": [
    {
     "name": "stdout",
     "output_type": "stream",
     "text": [
      "\n",
      "R2 Score: 0.9992740654236287\n"
     ]
    }
   ],
   "source": [
    "linreg = LinearRegression()\n",
    "linreg.fit(train_X_tr, train_y_tr)\n",
    "print(f'\\nR2 Score: {linreg.score(val_X_tr, val_y_tr)}')"
   ]
  },
  {
   "cell_type": "code",
   "execution_count": 339,
   "id": "b216fb5a",
   "metadata": {},
   "outputs": [
    {
     "data": {
      "text/plain": [
       "0    0\n",
       "1    0\n",
       "2    0\n",
       "3    0\n",
       "4    0\n",
       "dtype: int64"
      ]
     },
     "execution_count": 339,
     "metadata": {},
     "output_type": "execute_result"
    }
   ],
   "source": [
    "train_X_tr.isna().sum()"
   ]
  },
  {
   "cell_type": "code",
   "execution_count": 340,
   "id": "aa9228aa",
   "metadata": {},
   "outputs": [
    {
     "data": {
      "text/html": [
       "<div>\n",
       "<style scoped>\n",
       "    .dataframe tbody tr th:only-of-type {\n",
       "        vertical-align: middle;\n",
       "    }\n",
       "\n",
       "    .dataframe tbody tr th {\n",
       "        vertical-align: top;\n",
       "    }\n",
       "\n",
       "    .dataframe thead th {\n",
       "        text-align: right;\n",
       "    }\n",
       "</style>\n",
       "<table border=\"1\" class=\"dataframe\">\n",
       "  <thead>\n",
       "    <tr style=\"text-align: right;\">\n",
       "      <th></th>\n",
       "      <th>Score</th>\n",
       "    </tr>\n",
       "  </thead>\n",
       "  <tbody>\n",
       "    <tr>\n",
       "      <th>MAE</th>\n",
       "      <td>1.057755</td>\n",
       "    </tr>\n",
       "    <tr>\n",
       "      <th>MSE</th>\n",
       "      <td>2.287667</td>\n",
       "    </tr>\n",
       "    <tr>\n",
       "      <th>R2</th>\n",
       "      <td>0.999274</td>\n",
       "    </tr>\n",
       "    <tr>\n",
       "      <th>RMSE</th>\n",
       "      <td>1.512504</td>\n",
       "    </tr>\n",
       "  </tbody>\n",
       "</table>\n",
       "</div>"
      ],
      "text/plain": [
       "         Score\n",
       "MAE   1.057755\n",
       "MSE   2.287667\n",
       "R2    0.999274\n",
       "RMSE  1.512504"
      ]
     },
     "execution_count": 340,
     "metadata": {},
     "output_type": "execute_result"
    }
   ],
   "source": [
    "predictions = linreg.predict(val_X_tr)\n",
    "\n",
    "mae = metrics.mean_absolute_error(val_y_tr, predictions)\n",
    "mse = metrics.mean_squared_error(val_y_tr, predictions)\n",
    "r2 = metrics.r2_score(val_y_tr, predictions)\n",
    "rmse = np.sqrt(metrics.mean_squared_error(val_y_tr, predictions))\n",
    "\n",
    "pd.DataFrame.from_dict({'MAE':mae, 'MSE':mse, 'R2':r2, 'RMSE':rmse}, orient='index', columns=['Score'])"
   ]
  },
  {
   "cell_type": "code",
   "execution_count": 341,
   "id": "fbfc00a6",
   "metadata": {},
   "outputs": [
    {
     "data": {
      "image/png": "[encoded data removed]",
      "text/plain": [
       "<Figure size 432x288 with 1 Axes>"
      ]
     },
     "metadata": {
      "needs_background": "light"
     },
     "output_type": "display_data"
    },
    {
     "data": {
      "image/png": "[encoded data removed]",
      "text/plain": [
       "<Figure size 432x288 with 1 Axes>"
      ]
     },
     "metadata": {
      "needs_background": "light"
     },
     "output_type": "display_data"
    }
   ],
   "source": [
    "pred = linreg.predict(val_X_tr)\n",
    "errors = val_y_tr - pred\n",
    "\n",
    "plt.scatter(list(range(len(errors))),errors);\n",
    "plt.title(\"Distibution of errors\")\n",
    "plt.ylabel('Error');\n",
    "plt.xlabel('Index');\n",
    "plt.show();\n",
    "\n",
    "plt.scatter(pred,errors);\n",
    "plt.title('Relationship of true value vs error (resudual analysis)')\n",
    "plt.ylabel('Error');\n",
    "plt.xlabel('True value');\n",
    "plt.show();"
   ]
  },
  {
   "cell_type": "markdown",
   "id": "8fe30161",
   "metadata": {},
   "source": [
    "# Pipeline"
   ]
  },
  {
   "cell_type": "code",
   "execution_count": 342,
   "id": "680fb9b1",
   "metadata": {},
   "outputs": [],
   "source": [
    "def evaluate_model(train, val, tr_y, val_y, pipeline):\n",
    "    pipeline.fit(train, tr_y)\n",
    "    pred_val = pipeline.predict(val)\n",
    "    pred_train = pipeline.predict(train)\n",
    "    mapper = pipeline.named_steps['mapper']\n",
    "\n",
    "    return pd.DataFrame({\n",
    "        'train_RMSE': [np.sqrt(mean_squared_error(tr_y, pred_train))], \n",
    "        'train_R2': [r2_score(tr_y, pred_train)],\n",
    "        'val_RMSE': [np.sqrt(mean_squared_error(val_y, pred_val))],\n",
    "        'val_R2': [r2_score(val_y, pred_val)]\n",
    "    }), mapper.transformed_names_"
   ]
  },
  {
   "cell_type": "code",
   "execution_count": 343,
   "id": "9c1bda12",
   "metadata": {},
   "outputs": [],
   "source": [
    "pipeline = Pipeline([\n",
    "    ('mapper', mapper),\n",
    "    ('estimator', LinearRegression())\n",
    "])"
   ]
  },
  {
   "cell_type": "code",
   "execution_count": 344,
   "id": "311d3a8b",
   "metadata": {},
   "outputs": [],
   "source": [
    "train_X = X_train\n",
    "val_X = X_test"
   ]
  },
  {
   "cell_type": "code",
   "execution_count": 345,
   "id": "fee72b5a",
   "metadata": {},
   "outputs": [
    {
     "data": {
      "text/html": [
       "<div>\n",
       "<style scoped>\n",
       "    .dataframe tbody tr th:only-of-type {\n",
       "        vertical-align: middle;\n",
       "    }\n",
       "\n",
       "    .dataframe tbody tr th {\n",
       "        vertical-align: top;\n",
       "    }\n",
       "\n",
       "    .dataframe thead th {\n",
       "        text-align: right;\n",
       "    }\n",
       "</style>\n",
       "<table border=\"1\" class=\"dataframe\">\n",
       "  <thead>\n",
       "    <tr style=\"text-align: right;\">\n",
       "      <th></th>\n",
       "      <th>train_RMSE</th>\n",
       "      <th>train_R2</th>\n",
       "      <th>val_RMSE</th>\n",
       "      <th>val_R2</th>\n",
       "    </tr>\n",
       "  </thead>\n",
       "  <tbody>\n",
       "    <tr>\n",
       "      <th>0</th>\n",
       "      <td>1.430475</td>\n",
       "      <td>0.998029</td>\n",
       "      <td>1.512504</td>\n",
       "      <td>0.999274</td>\n",
       "    </tr>\n",
       "  </tbody>\n",
       "</table>\n",
       "</div>"
      ],
      "text/plain": [
       "   train_RMSE  train_R2  val_RMSE    val_R2\n",
       "0    1.430475  0.998029  1.512504  0.999274"
      ]
     },
     "execution_count": 345,
     "metadata": {},
     "output_type": "execute_result"
    }
   ],
   "source": [
    "scores, _ = evaluate_model(train_X, val_X, train_y_tr, val_y_tr, pipeline)\n",
    "scores"
   ]
  },
  {
   "cell_type": "markdown",
   "id": "07e32c75",
   "metadata": {},
   "source": [
    "# Drop some features (turned out to be a bad idea, but I tried)"
   ]
  },
  {
   "cell_type": "code",
   "execution_count": 222,
   "id": "76003114",
   "metadata": {},
   "outputs": [],
   "source": [
    "corr = train_test_model_max.corr()\n",
    "ind = np.abs(corr[TARGET]) > 0.5\n",
    "top_corr = corr[TARGET][ind].index.tolist()\n",
    "top_corr.remove(TARGET)"
   ]
  },
  {
   "cell_type": "code",
   "execution_count": 223,
   "id": "ef43beb0",
   "metadata": {},
   "outputs": [
    {
     "data": {
      "text/plain": [
       "['PT08S1CO', 'PT08S2NMHC', 'NOxGT', 'PT08S3NOx', 'PT08S4NO2', 'PT08S5O3']"
      ]
     },
     "execution_count": 223,
     "metadata": {},
     "output_type": "execute_result"
    }
   ],
   "source": [
    "top_corr"
   ]
  },
  {
   "cell_type": "code",
   "execution_count": 224,
   "id": "67137f37",
   "metadata": {},
   "outputs": [
    {
     "data": {
      "image/png": "[encoded data removed]",
      "text/plain": [
       "<Figure size 432x288 with 1 Axes>"
      ]
     },
     "metadata": {
      "needs_background": "light"
     },
     "output_type": "display_data"
    }
   ],
   "source": [
    "sns.regplot(y=TARGET, x='PT08S5O3', data=train_test_model_max);"
   ]
  },
  {
   "cell_type": "code",
   "execution_count": 225,
   "id": "84a71532",
   "metadata": {},
   "outputs": [
    {
     "data": {
      "text/plain": [
       "<AxesSubplot:xlabel='PT08S1CO', ylabel='Density'>"
      ]
     },
     "execution_count": 225,
     "metadata": {},
     "output_type": "execute_result"
    },
    {
     "data": {
      "image/png": "[encoded data removed]",
      "text/plain": [
       "<Figure size 432x288 with 1 Axes>"
      ]
     },
     "metadata": {
      "needs_background": "light"
     },
     "output_type": "display_data"
    }
   ],
   "source": [
    "sns.kdeplot(train['PT08S1CO'])"
   ]
  },
  {
   "cell_type": "code",
   "execution_count": 226,
   "id": "5a13dced",
   "metadata": {},
   "outputs": [
    {
     "data": {
      "text/html": [
       "<div>\n",
       "<style scoped>\n",
       "    .dataframe tbody tr th:only-of-type {\n",
       "        vertical-align: middle;\n",
       "    }\n",
       "\n",
       "    .dataframe tbody tr th {\n",
       "        vertical-align: top;\n",
       "    }\n",
       "\n",
       "    .dataframe thead th {\n",
       "        text-align: right;\n",
       "    }\n",
       "</style>\n",
       "<table border=\"1\" class=\"dataframe\">\n",
       "  <thead>\n",
       "    <tr style=\"text-align: right;\">\n",
       "      <th></th>\n",
       "      <th>Date</th>\n",
       "      <th>Time</th>\n",
       "      <th>COGT</th>\n",
       "      <th>PT08S1CO</th>\n",
       "      <th>NMHCGT</th>\n",
       "      <th>C6H6GT</th>\n",
       "      <th>PT08S2NMHC</th>\n",
       "      <th>NOxGT</th>\n",
       "      <th>PT08S3NOx</th>\n",
       "      <th>NO2GT</th>\n",
       "      <th>PT08S4NO2</th>\n",
       "      <th>PT08S5O3</th>\n",
       "      <th>T</th>\n",
       "      <th>RH</th>\n",
       "      <th>AH</th>\n",
       "      <th>False_checker</th>\n",
       "    </tr>\n",
       "  </thead>\n",
       "  <tbody>\n",
       "    <tr>\n",
       "      <th>524</th>\n",
       "      <td>01/04/2004</td>\n",
       "      <td>14.00.00</td>\n",
       "      <td>1.7</td>\n",
       "      <td>-200.0</td>\n",
       "      <td>222.0</td>\n",
       "      <td>-200.0</td>\n",
       "      <td>-200.0</td>\n",
       "      <td>99.0</td>\n",
       "      <td>-200.0</td>\n",
       "      <td>72.0</td>\n",
       "      <td>-200.0</td>\n",
       "      <td>-200.0</td>\n",
       "      <td>-200.0</td>\n",
       "      <td>-200.0</td>\n",
       "      <td>-200.0</td>\n",
       "      <td>-200</td>\n",
       "    </tr>\n",
       "    <tr>\n",
       "      <th>525</th>\n",
       "      <td>01/04/2004</td>\n",
       "      <td>15.00.00</td>\n",
       "      <td>1.9</td>\n",
       "      <td>-200.0</td>\n",
       "      <td>197.0</td>\n",
       "      <td>-200.0</td>\n",
       "      <td>-200.0</td>\n",
       "      <td>108.0</td>\n",
       "      <td>-200.0</td>\n",
       "      <td>81.0</td>\n",
       "      <td>-200.0</td>\n",
       "      <td>-200.0</td>\n",
       "      <td>-200.0</td>\n",
       "      <td>-200.0</td>\n",
       "      <td>-200.0</td>\n",
       "      <td>-200</td>\n",
       "    </tr>\n",
       "    <tr>\n",
       "      <th>526</th>\n",
       "      <td>01/04/2004</td>\n",
       "      <td>16.00.00</td>\n",
       "      <td>2.3</td>\n",
       "      <td>-200.0</td>\n",
       "      <td>319.0</td>\n",
       "      <td>-200.0</td>\n",
       "      <td>-200.0</td>\n",
       "      <td>131.0</td>\n",
       "      <td>-200.0</td>\n",
       "      <td>93.0</td>\n",
       "      <td>-200.0</td>\n",
       "      <td>-200.0</td>\n",
       "      <td>-200.0</td>\n",
       "      <td>-200.0</td>\n",
       "      <td>-200.0</td>\n",
       "      <td>-200</td>\n",
       "    </tr>\n",
       "    <tr>\n",
       "      <th>701</th>\n",
       "      <td>08/04/2004</td>\n",
       "      <td>23.00.00</td>\n",
       "      <td>2.0</td>\n",
       "      <td>-200.0</td>\n",
       "      <td>137.0</td>\n",
       "      <td>-200.0</td>\n",
       "      <td>-200.0</td>\n",
       "      <td>129.0</td>\n",
       "      <td>-200.0</td>\n",
       "      <td>106.0</td>\n",
       "      <td>-200.0</td>\n",
       "      <td>-200.0</td>\n",
       "      <td>-200.0</td>\n",
       "      <td>-200.0</td>\n",
       "      <td>-200.0</td>\n",
       "      <td>-200</td>\n",
       "    </tr>\n",
       "    <tr>\n",
       "      <th>702</th>\n",
       "      <td>09/04/2004</td>\n",
       "      <td>00.00.00</td>\n",
       "      <td>2.4</td>\n",
       "      <td>-200.0</td>\n",
       "      <td>189.0</td>\n",
       "      <td>-200.0</td>\n",
       "      <td>-200.0</td>\n",
       "      <td>154.0</td>\n",
       "      <td>-200.0</td>\n",
       "      <td>109.0</td>\n",
       "      <td>-200.0</td>\n",
       "      <td>-200.0</td>\n",
       "      <td>-200.0</td>\n",
       "      <td>-200.0</td>\n",
       "      <td>-200.0</td>\n",
       "      <td>-200</td>\n",
       "    </tr>\n",
       "    <tr>\n",
       "      <th>...</th>\n",
       "      <td>...</td>\n",
       "      <td>...</td>\n",
       "      <td>...</td>\n",
       "      <td>...</td>\n",
       "      <td>...</td>\n",
       "      <td>...</td>\n",
       "      <td>...</td>\n",
       "      <td>...</td>\n",
       "      <td>...</td>\n",
       "      <td>...</td>\n",
       "      <td>...</td>\n",
       "      <td>...</td>\n",
       "      <td>...</td>\n",
       "      <td>...</td>\n",
       "      <td>...</td>\n",
       "      <td>...</td>\n",
       "    </tr>\n",
       "    <tr>\n",
       "      <th>4364</th>\n",
       "      <td>08/09/2004</td>\n",
       "      <td>14.00.00</td>\n",
       "      <td>-200.0</td>\n",
       "      <td>-200.0</td>\n",
       "      <td>-200.0</td>\n",
       "      <td>-200.0</td>\n",
       "      <td>-200.0</td>\n",
       "      <td>-200.0</td>\n",
       "      <td>-200.0</td>\n",
       "      <td>-200.0</td>\n",
       "      <td>-200.0</td>\n",
       "      <td>-200.0</td>\n",
       "      <td>-200.0</td>\n",
       "      <td>-200.0</td>\n",
       "      <td>-200.0</td>\n",
       "      <td>-200</td>\n",
       "    </tr>\n",
       "    <tr>\n",
       "      <th>4365</th>\n",
       "      <td>08/09/2004</td>\n",
       "      <td>15.00.00</td>\n",
       "      <td>-200.0</td>\n",
       "      <td>-200.0</td>\n",
       "      <td>-200.0</td>\n",
       "      <td>-200.0</td>\n",
       "      <td>-200.0</td>\n",
       "      <td>-200.0</td>\n",
       "      <td>-200.0</td>\n",
       "      <td>-200.0</td>\n",
       "      <td>-200.0</td>\n",
       "      <td>-200.0</td>\n",
       "      <td>-200.0</td>\n",
       "      <td>-200.0</td>\n",
       "      <td>-200.0</td>\n",
       "      <td>-200</td>\n",
       "    </tr>\n",
       "    <tr>\n",
       "      <th>4366</th>\n",
       "      <td>08/09/2004</td>\n",
       "      <td>16.00.00</td>\n",
       "      <td>-200.0</td>\n",
       "      <td>-200.0</td>\n",
       "      <td>-200.0</td>\n",
       "      <td>-200.0</td>\n",
       "      <td>-200.0</td>\n",
       "      <td>-200.0</td>\n",
       "      <td>-200.0</td>\n",
       "      <td>-200.0</td>\n",
       "      <td>-200.0</td>\n",
       "      <td>-200.0</td>\n",
       "      <td>-200.0</td>\n",
       "      <td>-200.0</td>\n",
       "      <td>-200.0</td>\n",
       "      <td>-200</td>\n",
       "    </tr>\n",
       "    <tr>\n",
       "      <th>4367</th>\n",
       "      <td>08/09/2004</td>\n",
       "      <td>17.00.00</td>\n",
       "      <td>3.4</td>\n",
       "      <td>-200.0</td>\n",
       "      <td>-200.0</td>\n",
       "      <td>-200.0</td>\n",
       "      <td>-200.0</td>\n",
       "      <td>-200.0</td>\n",
       "      <td>-200.0</td>\n",
       "      <td>-200.0</td>\n",
       "      <td>-200.0</td>\n",
       "      <td>-200.0</td>\n",
       "      <td>-200.0</td>\n",
       "      <td>-200.0</td>\n",
       "      <td>-200.0</td>\n",
       "      <td>-200</td>\n",
       "    </tr>\n",
       "    <tr>\n",
       "      <th>4916</th>\n",
       "      <td>01/10/2004</td>\n",
       "      <td>14.00.00</td>\n",
       "      <td>3.2</td>\n",
       "      <td>-200.0</td>\n",
       "      <td>-200.0</td>\n",
       "      <td>-200.0</td>\n",
       "      <td>-200.0</td>\n",
       "      <td>383.0</td>\n",
       "      <td>-200.0</td>\n",
       "      <td>123.0</td>\n",
       "      <td>-200.0</td>\n",
       "      <td>-200.0</td>\n",
       "      <td>-200.0</td>\n",
       "      <td>-200.0</td>\n",
       "      <td>-200.0</td>\n",
       "      <td>-200</td>\n",
       "    </tr>\n",
       "  </tbody>\n",
       "</table>\n",
       "<p>148 rows × 16 columns</p>\n",
       "</div>"
      ],
      "text/plain": [
       "            Date      Time   COGT  PT08S1CO  NMHCGT  C6H6GT  PT08S2NMHC  \\\n",
       "524   01/04/2004  14.00.00    1.7    -200.0   222.0  -200.0      -200.0   \n",
       "525   01/04/2004  15.00.00    1.9    -200.0   197.0  -200.0      -200.0   \n",
       "526   01/04/2004  16.00.00    2.3    -200.0   319.0  -200.0      -200.0   \n",
       "701   08/04/2004  23.00.00    2.0    -200.0   137.0  -200.0      -200.0   \n",
       "702   09/04/2004  00.00.00    2.4    -200.0   189.0  -200.0      -200.0   \n",
       "...          ...       ...    ...       ...     ...     ...         ...   \n",
       "4364  08/09/2004  14.00.00 -200.0    -200.0  -200.0  -200.0      -200.0   \n",
       "4365  08/09/2004  15.00.00 -200.0    -200.0  -200.0  -200.0      -200.0   \n",
       "4366  08/09/2004  16.00.00 -200.0    -200.0  -200.0  -200.0      -200.0   \n",
       "4367  08/09/2004  17.00.00    3.4    -200.0  -200.0  -200.0      -200.0   \n",
       "4916  01/10/2004  14.00.00    3.2    -200.0  -200.0  -200.0      -200.0   \n",
       "\n",
       "      NOxGT  PT08S3NOx  NO2GT  PT08S4NO2  PT08S5O3      T     RH     AH  \\\n",
       "524    99.0     -200.0   72.0     -200.0    -200.0 -200.0 -200.0 -200.0   \n",
       "525   108.0     -200.0   81.0     -200.0    -200.0 -200.0 -200.0 -200.0   \n",
       "526   131.0     -200.0   93.0     -200.0    -200.0 -200.0 -200.0 -200.0   \n",
       "701   129.0     -200.0  106.0     -200.0    -200.0 -200.0 -200.0 -200.0   \n",
       "702   154.0     -200.0  109.0     -200.0    -200.0 -200.0 -200.0 -200.0   \n",
       "...     ...        ...    ...        ...       ...    ...    ...    ...   \n",
       "4364 -200.0     -200.0 -200.0     -200.0    -200.0 -200.0 -200.0 -200.0   \n",
       "4365 -200.0     -200.0 -200.0     -200.0    -200.0 -200.0 -200.0 -200.0   \n",
       "4366 -200.0     -200.0 -200.0     -200.0    -200.0 -200.0 -200.0 -200.0   \n",
       "4367 -200.0     -200.0 -200.0     -200.0    -200.0 -200.0 -200.0 -200.0   \n",
       "4916  383.0     -200.0  123.0     -200.0    -200.0 -200.0 -200.0 -200.0   \n",
       "\n",
       "      False_checker  \n",
       "524            -200  \n",
       "525            -200  \n",
       "526            -200  \n",
       "701            -200  \n",
       "702            -200  \n",
       "...             ...  \n",
       "4364           -200  \n",
       "4365           -200  \n",
       "4366           -200  \n",
       "4367           -200  \n",
       "4916           -200  \n",
       "\n",
       "[148 rows x 16 columns]"
      ]
     },
     "execution_count": 226,
     "metadata": {},
     "output_type": "execute_result"
    }
   ],
   "source": [
    "train.query('T==-200')"
   ]
  },
  {
   "cell_type": "code",
   "execution_count": 281,
   "id": "b8f87cda",
   "metadata": {},
   "outputs": [
    {
     "ename": "KeyError",
     "evalue": "\"['False_checker'] not found in axis\"",
     "output_type": "error",
     "traceback": [
      "\u001b[1;31m---------------------------------------------------------------------------\u001b[0m",
      "\u001b[1;31mKeyError\u001b[0m                                  Traceback (most recent call last)",
      "\u001b[1;32m<ipython-input-281-b8b7c8474470>\u001b[0m in \u001b[0;36m<module>\u001b[1;34m\u001b[0m\n\u001b[1;32m----> 1\u001b[1;33m \u001b[0mdf\u001b[0m\u001b[1;33m.\u001b[0m\u001b[0mdrop\u001b[0m\u001b[1;33m(\u001b[0m\u001b[1;33m[\u001b[0m\u001b[1;34m'False_checker'\u001b[0m\u001b[1;33m]\u001b[0m\u001b[1;33m,\u001b[0m \u001b[0maxis\u001b[0m\u001b[1;33m=\u001b[0m\u001b[1;36m1\u001b[0m\u001b[1;33m,\u001b[0m \u001b[0minplace\u001b[0m\u001b[1;33m=\u001b[0m\u001b[1;32mTrue\u001b[0m\u001b[1;33m)\u001b[0m\u001b[1;33m\u001b[0m\u001b[1;33m\u001b[0m\u001b[0m\n\u001b[0m",
      "\u001b[1;32mE:\\Python\\anaconda\\lib\\site-packages\\pandas\\core\\frame.py\u001b[0m in \u001b[0;36mdrop\u001b[1;34m(self, labels, axis, index, columns, level, inplace, errors)\u001b[0m\n\u001b[0;32m   4306\u001b[0m                 \u001b[0mweight\u001b[0m  \u001b[1;36m1.0\u001b[0m     \u001b[1;36m0.8\u001b[0m\u001b[1;33m\u001b[0m\u001b[1;33m\u001b[0m\u001b[0m\n\u001b[0;32m   4307\u001b[0m         \"\"\"\n\u001b[1;32m-> 4308\u001b[1;33m         return super().drop(\n\u001b[0m\u001b[0;32m   4309\u001b[0m             \u001b[0mlabels\u001b[0m\u001b[1;33m=\u001b[0m\u001b[0mlabels\u001b[0m\u001b[1;33m,\u001b[0m\u001b[1;33m\u001b[0m\u001b[1;33m\u001b[0m\u001b[0m\n\u001b[0;32m   4310\u001b[0m             \u001b[0maxis\u001b[0m\u001b[1;33m=\u001b[0m\u001b[0maxis\u001b[0m\u001b[1;33m,\u001b[0m\u001b[1;33m\u001b[0m\u001b[1;33m\u001b[0m\u001b[0m\n",
      "\u001b[1;32mE:\\Python\\anaconda\\lib\\site-packages\\pandas\\core\\generic.py\u001b[0m in \u001b[0;36mdrop\u001b[1;34m(self, labels, axis, index, columns, level, inplace, errors)\u001b[0m\n\u001b[0;32m   4151\u001b[0m         \u001b[1;32mfor\u001b[0m \u001b[0maxis\u001b[0m\u001b[1;33m,\u001b[0m \u001b[0mlabels\u001b[0m \u001b[1;32min\u001b[0m \u001b[0maxes\u001b[0m\u001b[1;33m.\u001b[0m\u001b[0mitems\u001b[0m\u001b[1;33m(\u001b[0m\u001b[1;33m)\u001b[0m\u001b[1;33m:\u001b[0m\u001b[1;33m\u001b[0m\u001b[1;33m\u001b[0m\u001b[0m\n\u001b[0;32m   4152\u001b[0m             \u001b[1;32mif\u001b[0m \u001b[0mlabels\u001b[0m \u001b[1;32mis\u001b[0m \u001b[1;32mnot\u001b[0m \u001b[1;32mNone\u001b[0m\u001b[1;33m:\u001b[0m\u001b[1;33m\u001b[0m\u001b[1;33m\u001b[0m\u001b[0m\n\u001b[1;32m-> 4153\u001b[1;33m                 \u001b[0mobj\u001b[0m \u001b[1;33m=\u001b[0m \u001b[0mobj\u001b[0m\u001b[1;33m.\u001b[0m\u001b[0m_drop_axis\u001b[0m\u001b[1;33m(\u001b[0m\u001b[0mlabels\u001b[0m\u001b[1;33m,\u001b[0m \u001b[0maxis\u001b[0m\u001b[1;33m,\u001b[0m \u001b[0mlevel\u001b[0m\u001b[1;33m=\u001b[0m\u001b[0mlevel\u001b[0m\u001b[1;33m,\u001b[0m \u001b[0merrors\u001b[0m\u001b[1;33m=\u001b[0m\u001b[0merrors\u001b[0m\u001b[1;33m)\u001b[0m\u001b[1;33m\u001b[0m\u001b[1;33m\u001b[0m\u001b[0m\n\u001b[0m\u001b[0;32m   4154\u001b[0m \u001b[1;33m\u001b[0m\u001b[0m\n\u001b[0;32m   4155\u001b[0m         \u001b[1;32mif\u001b[0m \u001b[0minplace\u001b[0m\u001b[1;33m:\u001b[0m\u001b[1;33m\u001b[0m\u001b[1;33m\u001b[0m\u001b[0m\n",
      "\u001b[1;32mE:\\Python\\anaconda\\lib\\site-packages\\pandas\\core\\generic.py\u001b[0m in \u001b[0;36m_drop_axis\u001b[1;34m(self, labels, axis, level, errors)\u001b[0m\n\u001b[0;32m   4186\u001b[0m                 \u001b[0mnew_axis\u001b[0m \u001b[1;33m=\u001b[0m \u001b[0maxis\u001b[0m\u001b[1;33m.\u001b[0m\u001b[0mdrop\u001b[0m\u001b[1;33m(\u001b[0m\u001b[0mlabels\u001b[0m\u001b[1;33m,\u001b[0m \u001b[0mlevel\u001b[0m\u001b[1;33m=\u001b[0m\u001b[0mlevel\u001b[0m\u001b[1;33m,\u001b[0m \u001b[0merrors\u001b[0m\u001b[1;33m=\u001b[0m\u001b[0merrors\u001b[0m\u001b[1;33m)\u001b[0m\u001b[1;33m\u001b[0m\u001b[1;33m\u001b[0m\u001b[0m\n\u001b[0;32m   4187\u001b[0m             \u001b[1;32melse\u001b[0m\u001b[1;33m:\u001b[0m\u001b[1;33m\u001b[0m\u001b[1;33m\u001b[0m\u001b[0m\n\u001b[1;32m-> 4188\u001b[1;33m                 \u001b[0mnew_axis\u001b[0m \u001b[1;33m=\u001b[0m \u001b[0maxis\u001b[0m\u001b[1;33m.\u001b[0m\u001b[0mdrop\u001b[0m\u001b[1;33m(\u001b[0m\u001b[0mlabels\u001b[0m\u001b[1;33m,\u001b[0m \u001b[0merrors\u001b[0m\u001b[1;33m=\u001b[0m\u001b[0merrors\u001b[0m\u001b[1;33m)\u001b[0m\u001b[1;33m\u001b[0m\u001b[1;33m\u001b[0m\u001b[0m\n\u001b[0m\u001b[0;32m   4189\u001b[0m             \u001b[0mresult\u001b[0m \u001b[1;33m=\u001b[0m \u001b[0mself\u001b[0m\u001b[1;33m.\u001b[0m\u001b[0mreindex\u001b[0m\u001b[1;33m(\u001b[0m\u001b[1;33m**\u001b[0m\u001b[1;33m{\u001b[0m\u001b[0maxis_name\u001b[0m\u001b[1;33m:\u001b[0m \u001b[0mnew_axis\u001b[0m\u001b[1;33m}\u001b[0m\u001b[1;33m)\u001b[0m\u001b[1;33m\u001b[0m\u001b[1;33m\u001b[0m\u001b[0m\n\u001b[0;32m   4190\u001b[0m \u001b[1;33m\u001b[0m\u001b[0m\n",
      "\u001b[1;32mE:\\Python\\anaconda\\lib\\site-packages\\pandas\\core\\indexes\\base.py\u001b[0m in \u001b[0;36mdrop\u001b[1;34m(self, labels, errors)\u001b[0m\n\u001b[0;32m   5589\u001b[0m         \u001b[1;32mif\u001b[0m \u001b[0mmask\u001b[0m\u001b[1;33m.\u001b[0m\u001b[0many\u001b[0m\u001b[1;33m(\u001b[0m\u001b[1;33m)\u001b[0m\u001b[1;33m:\u001b[0m\u001b[1;33m\u001b[0m\u001b[1;33m\u001b[0m\u001b[0m\n\u001b[0;32m   5590\u001b[0m             \u001b[1;32mif\u001b[0m \u001b[0merrors\u001b[0m \u001b[1;33m!=\u001b[0m \u001b[1;34m\"ignore\"\u001b[0m\u001b[1;33m:\u001b[0m\u001b[1;33m\u001b[0m\u001b[1;33m\u001b[0m\u001b[0m\n\u001b[1;32m-> 5591\u001b[1;33m                 \u001b[1;32mraise\u001b[0m \u001b[0mKeyError\u001b[0m\u001b[1;33m(\u001b[0m\u001b[1;34mf\"{labels[mask]} not found in axis\"\u001b[0m\u001b[1;33m)\u001b[0m\u001b[1;33m\u001b[0m\u001b[1;33m\u001b[0m\u001b[0m\n\u001b[0m\u001b[0;32m   5592\u001b[0m             \u001b[0mindexer\u001b[0m \u001b[1;33m=\u001b[0m \u001b[0mindexer\u001b[0m\u001b[1;33m[\u001b[0m\u001b[1;33m~\u001b[0m\u001b[0mmask\u001b[0m\u001b[1;33m]\u001b[0m\u001b[1;33m\u001b[0m\u001b[1;33m\u001b[0m\u001b[0m\n\u001b[0;32m   5593\u001b[0m         \u001b[1;32mreturn\u001b[0m \u001b[0mself\u001b[0m\u001b[1;33m.\u001b[0m\u001b[0mdelete\u001b[0m\u001b[1;33m(\u001b[0m\u001b[0mindexer\u001b[0m\u001b[1;33m)\u001b[0m\u001b[1;33m\u001b[0m\u001b[1;33m\u001b[0m\u001b[0m\n",
      "\u001b[1;31mKeyError\u001b[0m: \"['False_checker'] not found in axis\""
     ]
    }
   ],
   "source": [
    "df.drop(['False_checker'], axis=1, inplace=True)"
   ]
  },
  {
   "cell_type": "code",
   "execution_count": 282,
   "id": "667af3d7",
   "metadata": {},
   "outputs": [
    {
     "data": {
      "text/html": [
       "<div>\n",
       "<style scoped>\n",
       "    .dataframe tbody tr th:only-of-type {\n",
       "        vertical-align: middle;\n",
       "    }\n",
       "\n",
       "    .dataframe tbody tr th {\n",
       "        vertical-align: top;\n",
       "    }\n",
       "\n",
       "    .dataframe thead th {\n",
       "        text-align: right;\n",
       "    }\n",
       "</style>\n",
       "<table border=\"1\" class=\"dataframe\">\n",
       "  <thead>\n",
       "    <tr style=\"text-align: right;\">\n",
       "      <th></th>\n",
       "      <th>Date</th>\n",
       "      <th>Time</th>\n",
       "      <th>COGT</th>\n",
       "      <th>PT08S1CO</th>\n",
       "      <th>NMHCGT</th>\n",
       "      <th>C6H6GT</th>\n",
       "      <th>PT08S2NMHC</th>\n",
       "      <th>NOxGT</th>\n",
       "      <th>PT08S3NOx</th>\n",
       "      <th>NO2GT</th>\n",
       "      <th>PT08S4NO2</th>\n",
       "      <th>PT08S5O3</th>\n",
       "      <th>T</th>\n",
       "      <th>RH</th>\n",
       "      <th>AH</th>\n",
       "    </tr>\n",
       "  </thead>\n",
       "  <tbody>\n",
       "    <tr>\n",
       "      <th>0</th>\n",
       "      <td>10/03/2004</td>\n",
       "      <td>18.00.00</td>\n",
       "      <td>2.6</td>\n",
       "      <td>1360.0</td>\n",
       "      <td>150.0</td>\n",
       "      <td>11.9</td>\n",
       "      <td>1046.0</td>\n",
       "      <td>166.0</td>\n",
       "      <td>1056.0</td>\n",
       "      <td>113.0</td>\n",
       "      <td>1692.0</td>\n",
       "      <td>1268.0</td>\n",
       "      <td>13.6</td>\n",
       "      <td>48.9</td>\n",
       "      <td>0.7578</td>\n",
       "    </tr>\n",
       "    <tr>\n",
       "      <th>1</th>\n",
       "      <td>10/03/2004</td>\n",
       "      <td>19.00.00</td>\n",
       "      <td>2.0</td>\n",
       "      <td>1292.0</td>\n",
       "      <td>112.0</td>\n",
       "      <td>9.4</td>\n",
       "      <td>955.0</td>\n",
       "      <td>103.0</td>\n",
       "      <td>1174.0</td>\n",
       "      <td>92.0</td>\n",
       "      <td>1559.0</td>\n",
       "      <td>972.0</td>\n",
       "      <td>13.3</td>\n",
       "      <td>47.7</td>\n",
       "      <td>0.7255</td>\n",
       "    </tr>\n",
       "    <tr>\n",
       "      <th>2</th>\n",
       "      <td>10/03/2004</td>\n",
       "      <td>20.00.00</td>\n",
       "      <td>2.2</td>\n",
       "      <td>1402.0</td>\n",
       "      <td>88.0</td>\n",
       "      <td>9.0</td>\n",
       "      <td>939.0</td>\n",
       "      <td>131.0</td>\n",
       "      <td>1140.0</td>\n",
       "      <td>114.0</td>\n",
       "      <td>1555.0</td>\n",
       "      <td>1074.0</td>\n",
       "      <td>11.9</td>\n",
       "      <td>54.0</td>\n",
       "      <td>0.7502</td>\n",
       "    </tr>\n",
       "    <tr>\n",
       "      <th>3</th>\n",
       "      <td>10/03/2004</td>\n",
       "      <td>21.00.00</td>\n",
       "      <td>2.2</td>\n",
       "      <td>1376.0</td>\n",
       "      <td>80.0</td>\n",
       "      <td>9.2</td>\n",
       "      <td>948.0</td>\n",
       "      <td>172.0</td>\n",
       "      <td>1092.0</td>\n",
       "      <td>122.0</td>\n",
       "      <td>1584.0</td>\n",
       "      <td>1203.0</td>\n",
       "      <td>11.0</td>\n",
       "      <td>60.0</td>\n",
       "      <td>0.7867</td>\n",
       "    </tr>\n",
       "    <tr>\n",
       "      <th>4</th>\n",
       "      <td>10/03/2004</td>\n",
       "      <td>22.00.00</td>\n",
       "      <td>1.6</td>\n",
       "      <td>1272.0</td>\n",
       "      <td>51.0</td>\n",
       "      <td>6.5</td>\n",
       "      <td>836.0</td>\n",
       "      <td>131.0</td>\n",
       "      <td>1205.0</td>\n",
       "      <td>116.0</td>\n",
       "      <td>1490.0</td>\n",
       "      <td>1110.0</td>\n",
       "      <td>11.2</td>\n",
       "      <td>59.6</td>\n",
       "      <td>0.7888</td>\n",
       "    </tr>\n",
       "    <tr>\n",
       "      <th>...</th>\n",
       "      <td>...</td>\n",
       "      <td>...</td>\n",
       "      <td>...</td>\n",
       "      <td>...</td>\n",
       "      <td>...</td>\n",
       "      <td>...</td>\n",
       "      <td>...</td>\n",
       "      <td>...</td>\n",
       "      <td>...</td>\n",
       "      <td>...</td>\n",
       "      <td>...</td>\n",
       "      <td>...</td>\n",
       "      <td>...</td>\n",
       "      <td>...</td>\n",
       "      <td>...</td>\n",
       "    </tr>\n",
       "    <tr>\n",
       "      <th>9352</th>\n",
       "      <td>04/04/2005</td>\n",
       "      <td>10.00.00</td>\n",
       "      <td>3.1</td>\n",
       "      <td>1314.0</td>\n",
       "      <td>-200.0</td>\n",
       "      <td>13.5</td>\n",
       "      <td>1101.0</td>\n",
       "      <td>472.0</td>\n",
       "      <td>539.0</td>\n",
       "      <td>190.0</td>\n",
       "      <td>1374.0</td>\n",
       "      <td>1729.0</td>\n",
       "      <td>21.9</td>\n",
       "      <td>29.3</td>\n",
       "      <td>0.7568</td>\n",
       "    </tr>\n",
       "    <tr>\n",
       "      <th>9353</th>\n",
       "      <td>04/04/2005</td>\n",
       "      <td>11.00.00</td>\n",
       "      <td>2.4</td>\n",
       "      <td>1163.0</td>\n",
       "      <td>-200.0</td>\n",
       "      <td>11.4</td>\n",
       "      <td>1027.0</td>\n",
       "      <td>353.0</td>\n",
       "      <td>604.0</td>\n",
       "      <td>179.0</td>\n",
       "      <td>1264.0</td>\n",
       "      <td>1269.0</td>\n",
       "      <td>24.3</td>\n",
       "      <td>23.7</td>\n",
       "      <td>0.7119</td>\n",
       "    </tr>\n",
       "    <tr>\n",
       "      <th>9354</th>\n",
       "      <td>04/04/2005</td>\n",
       "      <td>12.00.00</td>\n",
       "      <td>2.4</td>\n",
       "      <td>1142.0</td>\n",
       "      <td>-200.0</td>\n",
       "      <td>12.4</td>\n",
       "      <td>1063.0</td>\n",
       "      <td>293.0</td>\n",
       "      <td>603.0</td>\n",
       "      <td>175.0</td>\n",
       "      <td>1241.0</td>\n",
       "      <td>1092.0</td>\n",
       "      <td>26.9</td>\n",
       "      <td>18.3</td>\n",
       "      <td>0.6406</td>\n",
       "    </tr>\n",
       "    <tr>\n",
       "      <th>9355</th>\n",
       "      <td>04/04/2005</td>\n",
       "      <td>13.00.00</td>\n",
       "      <td>2.1</td>\n",
       "      <td>1003.0</td>\n",
       "      <td>-200.0</td>\n",
       "      <td>9.5</td>\n",
       "      <td>961.0</td>\n",
       "      <td>235.0</td>\n",
       "      <td>702.0</td>\n",
       "      <td>156.0</td>\n",
       "      <td>1041.0</td>\n",
       "      <td>770.0</td>\n",
       "      <td>28.3</td>\n",
       "      <td>13.5</td>\n",
       "      <td>0.5139</td>\n",
       "    </tr>\n",
       "    <tr>\n",
       "      <th>9356</th>\n",
       "      <td>04/04/2005</td>\n",
       "      <td>14.00.00</td>\n",
       "      <td>2.2</td>\n",
       "      <td>1071.0</td>\n",
       "      <td>-200.0</td>\n",
       "      <td>11.9</td>\n",
       "      <td>1047.0</td>\n",
       "      <td>265.0</td>\n",
       "      <td>654.0</td>\n",
       "      <td>168.0</td>\n",
       "      <td>1129.0</td>\n",
       "      <td>816.0</td>\n",
       "      <td>28.5</td>\n",
       "      <td>13.1</td>\n",
       "      <td>0.5028</td>\n",
       "    </tr>\n",
       "  </tbody>\n",
       "</table>\n",
       "<p>9357 rows × 15 columns</p>\n",
       "</div>"
      ],
      "text/plain": [
       "            Date      Time  COGT  PT08S1CO  NMHCGT  C6H6GT  PT08S2NMHC  NOxGT  \\\n",
       "0     10/03/2004  18.00.00   2.6    1360.0   150.0    11.9      1046.0  166.0   \n",
       "1     10/03/2004  19.00.00   2.0    1292.0   112.0     9.4       955.0  103.0   \n",
       "2     10/03/2004  20.00.00   2.2    1402.0    88.0     9.0       939.0  131.0   \n",
       "3     10/03/2004  21.00.00   2.2    1376.0    80.0     9.2       948.0  172.0   \n",
       "4     10/03/2004  22.00.00   1.6    1272.0    51.0     6.5       836.0  131.0   \n",
       "...          ...       ...   ...       ...     ...     ...         ...    ...   \n",
       "9352  04/04/2005  10.00.00   3.1    1314.0  -200.0    13.5      1101.0  472.0   \n",
       "9353  04/04/2005  11.00.00   2.4    1163.0  -200.0    11.4      1027.0  353.0   \n",
       "9354  04/04/2005  12.00.00   2.4    1142.0  -200.0    12.4      1063.0  293.0   \n",
       "9355  04/04/2005  13.00.00   2.1    1003.0  -200.0     9.5       961.0  235.0   \n",
       "9356  04/04/2005  14.00.00   2.2    1071.0  -200.0    11.9      1047.0  265.0   \n",
       "\n",
       "      PT08S3NOx  NO2GT  PT08S4NO2  PT08S5O3     T    RH      AH  \n",
       "0        1056.0  113.0     1692.0    1268.0  13.6  48.9  0.7578  \n",
       "1        1174.0   92.0     1559.0     972.0  13.3  47.7  0.7255  \n",
       "2        1140.0  114.0     1555.0    1074.0  11.9  54.0  0.7502  \n",
       "3        1092.0  122.0     1584.0    1203.0  11.0  60.0  0.7867  \n",
       "4        1205.0  116.0     1490.0    1110.0  11.2  59.6  0.7888  \n",
       "...         ...    ...        ...       ...   ...   ...     ...  \n",
       "9352      539.0  190.0     1374.0    1729.0  21.9  29.3  0.7568  \n",
       "9353      604.0  179.0     1264.0    1269.0  24.3  23.7  0.7119  \n",
       "9354      603.0  175.0     1241.0    1092.0  26.9  18.3  0.6406  \n",
       "9355      702.0  156.0     1041.0     770.0  28.3  13.5  0.5139  \n",
       "9356      654.0  168.0     1129.0     816.0  28.5  13.1  0.5028  \n",
       "\n",
       "[9357 rows x 15 columns]"
      ]
     },
     "execution_count": 282,
     "metadata": {},
     "output_type": "execute_result"
    }
   ],
   "source": [
    "df"
   ]
  },
  {
   "cell_type": "code",
   "execution_count": 229,
   "id": "206929a2",
   "metadata": {},
   "outputs": [],
   "source": [
    "top_corr.append('False_checker')"
   ]
  },
  {
   "cell_type": "code",
   "execution_count": 230,
   "id": "8e132862",
   "metadata": {},
   "outputs": [
    {
     "data": {
      "text/plain": [
       "['PT08S1CO',\n",
       " 'PT08S2NMHC',\n",
       " 'NOxGT',\n",
       " 'PT08S3NOx',\n",
       " 'PT08S4NO2',\n",
       " 'PT08S5O3',\n",
       " 'False_checker']"
      ]
     },
     "execution_count": 230,
     "metadata": {},
     "output_type": "execute_result"
    }
   ],
   "source": [
    "#top_corr.append('NOxGT')\n",
    "top_corr"
   ]
  },
  {
   "cell_type": "code",
   "execution_count": 231,
   "id": "aae2b079",
   "metadata": {},
   "outputs": [],
   "source": [
    "top_corr_features = [f for f in features if f[0][0] in top_corr]\n",
    "pipeline = Pipeline([\n",
    "    ('mapper', DataFrameMapper(top_corr_features)),\n",
    "    ('estimator', LinearRegression())\n",
    "])"
   ]
  },
  {
   "cell_type": "code",
   "execution_count": 237,
   "id": "9a1f4834",
   "metadata": {},
   "outputs": [
    {
     "data": {
      "text/plain": [
       "[(['COGT'], [StandardScaler()], {}),\n",
       " (['PT08S2NMHC'], [StandardScaler()], {}),\n",
       " (['NOxGT'], [StandardScaler()], {}),\n",
       " (['NO2GT'], [StandardScaler()], {})]"
      ]
     },
     "execution_count": 237,
     "metadata": {},
     "output_type": "execute_result"
    }
   ],
   "source": [
    "features"
   ]
  },
  {
   "cell_type": "code",
   "execution_count": 232,
   "id": "3d4819d0",
   "metadata": {},
   "outputs": [
    {
     "data": {
      "text/html": [
       "<div>\n",
       "<style scoped>\n",
       "    .dataframe tbody tr th:only-of-type {\n",
       "        vertical-align: middle;\n",
       "    }\n",
       "\n",
       "    .dataframe tbody tr th {\n",
       "        vertical-align: top;\n",
       "    }\n",
       "\n",
       "    .dataframe thead th {\n",
       "        text-align: right;\n",
       "    }\n",
       "</style>\n",
       "<table border=\"1\" class=\"dataframe\">\n",
       "  <thead>\n",
       "    <tr style=\"text-align: right;\">\n",
       "      <th></th>\n",
       "      <th>train_RMSE</th>\n",
       "      <th>train_R2</th>\n",
       "      <th>val_RMSE</th>\n",
       "      <th>val_R2</th>\n",
       "    </tr>\n",
       "  </thead>\n",
       "  <tbody>\n",
       "    <tr>\n",
       "      <th>0</th>\n",
       "      <td>21.260137</td>\n",
       "      <td>0.564641</td>\n",
       "      <td>32.038545</td>\n",
       "      <td>0.674276</td>\n",
       "    </tr>\n",
       "  </tbody>\n",
       "</table>\n",
       "</div>"
      ],
      "text/plain": [
       "   train_RMSE  train_R2   val_RMSE    val_R2\n",
       "0   21.260137  0.564641  32.038545  0.674276"
      ]
     },
     "execution_count": 232,
     "metadata": {},
     "output_type": "execute_result"
    }
   ],
   "source": [
    "scores, _ = evaluate_model(train_X, val_X, train_y_tr, val_y_tr, pipeline)\n",
    "scores"
   ]
  },
  {
   "cell_type": "markdown",
   "id": "53b4b9dd",
   "metadata": {},
   "source": [
    "# Regularization"
   ]
  },
  {
   "cell_type": "code",
   "execution_count": 346,
   "id": "22d9965a",
   "metadata": {},
   "outputs": [],
   "source": [
    "def plot_importance(est, colnames, top_n=20):\n",
    "    importance = pd.DataFrame({\n",
    "        'abs_weight': np.abs(est.coef_),\n",
    "        'feature': colnames\n",
    "    })\n",
    "    imp20 = importance.sort_values(by='abs_weight', ascending=False)[:top_n]\n",
    "    sns.barplot(y='feature', x='abs_weight', data=imp20, orient='h');"
   ]
  },
  {
   "cell_type": "code",
   "execution_count": 347,
   "id": "8dfc6eb2",
   "metadata": {},
   "outputs": [
    {
     "data": {
      "image/png": "[encoded data removed]",
      "text/plain": [
       "<Figure size 432x288 with 1 Axes>"
      ]
     },
     "metadata": {
      "needs_background": "light"
     },
     "output_type": "display_data"
    }
   ],
   "source": [
    "lasso = Lasso()\n",
    "pipeline = Pipeline([('mapper', mapper), \n",
    "                     ('estimator', lasso)])\n",
    "train_y = y_train\n",
    "val_y = y_test\n",
    "scores, colnames = evaluate_model(train_X, val_X, train_y, val_y, pipeline)\n",
    "scores\n",
    "\n",
    "plot_importance(pipeline.named_steps['estimator'], colnames)"
   ]
  },
  {
   "cell_type": "code",
   "execution_count": 350,
   "id": "3a68a87e",
   "metadata": {},
   "outputs": [
    {
     "data": {
      "text/html": [
       "<div>\n",
       "<style scoped>\n",
       "    .dataframe tbody tr th:only-of-type {\n",
       "        vertical-align: middle;\n",
       "    }\n",
       "\n",
       "    .dataframe tbody tr th {\n",
       "        vertical-align: top;\n",
       "    }\n",
       "\n",
       "    .dataframe thead th {\n",
       "        text-align: right;\n",
       "    }\n",
       "</style>\n",
       "<table border=\"1\" class=\"dataframe\">\n",
       "  <thead>\n",
       "    <tr style=\"text-align: right;\">\n",
       "      <th></th>\n",
       "      <th>train_RMSE</th>\n",
       "      <th>train_R2</th>\n",
       "      <th>val_RMSE</th>\n",
       "      <th>val_R2</th>\n",
       "    </tr>\n",
       "  </thead>\n",
       "  <tbody>\n",
       "    <tr>\n",
       "      <th>0</th>\n",
       "      <td>1.831399</td>\n",
       "      <td>0.996769</td>\n",
       "      <td>2.303558</td>\n",
       "      <td>0.998316</td>\n",
       "    </tr>\n",
       "  </tbody>\n",
       "</table>\n",
       "</div>"
      ],
      "text/plain": [
       "   train_RMSE  train_R2  val_RMSE    val_R2\n",
       "0    1.831399  0.996769  2.303558  0.998316"
      ]
     },
     "execution_count": 350,
     "metadata": {},
     "output_type": "execute_result"
    }
   ],
   "source": [
    "scores"
   ]
  },
  {
   "cell_type": "code",
   "execution_count": 351,
   "id": "c93980ae",
   "metadata": {},
   "outputs": [],
   "source": [
    "SEED = 21\n",
    "cv = KFold(n_splits=5, shuffle=True, random_state=SEED)\n",
    "pipeline = Pipeline([\n",
    "    ('mapper', mapper),\n",
    "    ('estimator', ElasticNet(random_state=SEED))\n",
    "])\n",
    "grid = {\n",
    "    'estimator__alpha': np.linspace(0, 300, 10),\n",
    "    'estimator__l1_ratio': np.arange(0, 1.1, 0.1)\n",
    "}\n",
    "gs = GridSearchCV(pipeline, grid, \n",
    "                  n_jobs=-1, \n",
    "                  scoring=['neg_mean_squared_error', 'r2'], \n",
    "                  refit='neg_mean_squared_error', \n",
    "                  cv=cv)"
   ]
  },
  {
   "cell_type": "code",
   "execution_count": 352,
   "id": "2d62ee5f",
   "metadata": {},
   "outputs": [],
   "source": [
    "gs.fit(train_X, train_y);"
   ]
  },
  {
   "cell_type": "code",
   "execution_count": 353,
   "id": "07c8bb65",
   "metadata": {},
   "outputs": [
    {
     "data": {
      "text/plain": [
       "{'estimator__alpha': 0.0, 'estimator__l1_ratio': 0.0}"
      ]
     },
     "execution_count": 353,
     "metadata": {},
     "output_type": "execute_result"
    }
   ],
   "source": [
    "gs.best_params_"
   ]
  },
  {
   "cell_type": "markdown",
   "id": "369ccaba",
   "metadata": {},
   "source": [
    "In this task I try use lasso and grid methods, but the don't give me same good resalts. I have big `R2` value, becase in my code I use one feature, wich corr a lot with -200 value and three values, wich have good corr with other `TARGET` values"
   ]
  }
 ],
 "metadata": {
  "kernelspec": {
   "display_name": "Python 3",
   "language": "python",
   "name": "python3"
  },
  "language_info": {
   "codemirror_mode": {
    "name": "ipython",
    "version": 3
   },
   "file_extension": ".py",
   "mimetype": "text/x-python",
   "name": "python",
   "nbconvert_exporter": "python",
   "pygments_lexer": "ipython3",
   "version": "3.8.8"
  }
 },
 "nbformat": 4,
 "nbformat_minor": 5
}
