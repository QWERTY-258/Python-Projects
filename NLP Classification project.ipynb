{
 "cells": [
  {
   "cell_type": "markdown",
   "id": "a5895ef4",
   "metadata": {},
   "source": [
    "# NLP Classification project"
   ]
  },
  {
   "cell_type": "markdown",
   "id": "c395aeda",
   "metadata": {},
   "source": [
    "My steps:\n",
    "1) Text preprocessing with explanations of all steps:\n",
    " * Cleaning\n",
    " * Tokenization\n",
    " * Normalisation (comparison of stemming and lemmatization)\n",
    " \n",
    "2) Words importance\n",
    "\n",
    "3) Hyperparameters tuning\n",
    "\n",
    "4) Compare performance of models"
   ]
  },
  {
   "cell_type": "markdown",
   "id": "8e09e24d",
   "metadata": {},
   "source": [
    "Import helpful lidraries and read csv"
   ]
  },
  {
   "cell_type": "code",
   "execution_count": 2,
   "id": "a2996794",
   "metadata": {},
   "outputs": [
    {
     "name": "stdout",
     "output_type": "stream",
     "text": [
      "showing info https://raw.githubusercontent.com/nltk/nltk_data/gh-pages/index.xml\n"
     ]
    }
   ],
   "source": [
    "import pandas as pd\n",
    "import numpy as np\n",
    "import matplotlib.pyplot as plt\n",
    "import seaborn as sns\n",
    "from sklearn.linear_model import LinearRegression, Lasso, ElasticNet, Ridge\n",
    "from sklearn.model_selection import TimeSeriesSplit, GridSearchCV, cross_val_score\n",
    "from sklearn.preprocessing import RobustScaler, PolynomialFeatures, MinMaxScaler\n",
    "from sklearn.metrics import mean_squared_error, r2_score, mean_absolute_error, explained_variance_score, classification_report\n",
    "from matplotlib import rcParams\n",
    "from sklearn.svm import SVR\n",
    "from scipy.stats import normaltest\n",
    "import re\n",
    "\n",
    "from IPython.core.interactiveshell import InteractiveShell\n",
    "InteractiveShell.ast_node_interactivity = \"all\"\n",
    "\n",
    "sns.set_context('talk')\n",
    "sns.set_style('darkgrid')\n",
    "%matplotlib inline\n",
    "plt.rcParams['figure.figsize'] = (10, 8)\n",
    "\n",
    "from nltk.corpus import stopwords\n",
    "import nltk\n",
    "nltk.download()\n",
    "from nltk.tokenize import word_tokenize\n",
    "from sklearn.feature_extraction.text import CountVectorizer"
   ]
  },
  {
   "cell_type": "code",
   "execution_count": 3,
   "id": "b0523632",
   "metadata": {},
   "outputs": [],
   "source": [
    "from sklearn.pipeline import Pipeline, make_pipeline\n",
    "from nltk.stem import PorterStemmer\n",
    "from nltk.stem import LancasterStemmer"
   ]
  },
  {
   "cell_type": "code",
   "execution_count": 4,
   "id": "3121501d",
   "metadata": {},
   "outputs": [],
   "source": [
    "data = pd.read_csv('LargeMovieReviewDataset.csv')"
   ]
  },
  {
   "cell_type": "code",
   "execution_count": 5,
   "id": "c3be8dac",
   "metadata": {},
   "outputs": [
    {
     "data": {
      "text/html": [
       "<div>\n",
       "<style scoped>\n",
       "    .dataframe tbody tr th:only-of-type {\n",
       "        vertical-align: middle;\n",
       "    }\n",
       "\n",
       "    .dataframe tbody tr th {\n",
       "        vertical-align: top;\n",
       "    }\n",
       "\n",
       "    .dataframe thead th {\n",
       "        text-align: right;\n",
       "    }\n",
       "</style>\n",
       "<table border=\"1\" class=\"dataframe\">\n",
       "  <thead>\n",
       "    <tr style=\"text-align: right;\">\n",
       "      <th></th>\n",
       "      <th>review</th>\n",
       "      <th>sentiment</th>\n",
       "    </tr>\n",
       "  </thead>\n",
       "  <tbody>\n",
       "    <tr>\n",
       "      <th>0</th>\n",
       "      <td>One of the other reviewers has mentioned that ...</td>\n",
       "      <td>positive</td>\n",
       "    </tr>\n",
       "    <tr>\n",
       "      <th>1</th>\n",
       "      <td>A wonderful little production. &lt;br /&gt;&lt;br /&gt;The...</td>\n",
       "      <td>positive</td>\n",
       "    </tr>\n",
       "    <tr>\n",
       "      <th>2</th>\n",
       "      <td>I thought this was a wonderful way to spend ti...</td>\n",
       "      <td>positive</td>\n",
       "    </tr>\n",
       "    <tr>\n",
       "      <th>3</th>\n",
       "      <td>Basically there's a family where a little boy ...</td>\n",
       "      <td>negative</td>\n",
       "    </tr>\n",
       "    <tr>\n",
       "      <th>4</th>\n",
       "      <td>Petter Mattei's \"Love in the Time of Money\" is...</td>\n",
       "      <td>positive</td>\n",
       "    </tr>\n",
       "  </tbody>\n",
       "</table>\n",
       "</div>"
      ],
      "text/plain": [
       "                                              review sentiment\n",
       "0  One of the other reviewers has mentioned that ...  positive\n",
       "1  A wonderful little production. <br /><br />The...  positive\n",
       "2  I thought this was a wonderful way to spend ti...  positive\n",
       "3  Basically there's a family where a little boy ...  negative\n",
       "4  Petter Mattei's \"Love in the Time of Money\" is...  positive"
      ]
     },
     "execution_count": 5,
     "metadata": {},
     "output_type": "execute_result"
    }
   ],
   "source": [
    "data.head()"
   ]
  },
  {
   "cell_type": "code",
   "execution_count": 6,
   "id": "98edab28",
   "metadata": {},
   "outputs": [
    {
     "name": "stdout",
     "output_type": "stream",
     "text": [
      "<class 'pandas.core.frame.DataFrame'>\n",
      "RangeIndex: 50000 entries, 0 to 49999\n",
      "Data columns (total 2 columns):\n",
      " #   Column     Non-Null Count  Dtype \n",
      "---  ------     --------------  ----- \n",
      " 0   review     50000 non-null  object\n",
      " 1   sentiment  50000 non-null  object\n",
      "dtypes: object(2)\n",
      "memory usage: 781.4+ KB\n"
     ]
    }
   ],
   "source": [
    "data.info()"
   ]
  },
  {
   "cell_type": "code",
   "execution_count": 7,
   "id": "39b05181",
   "metadata": {},
   "outputs": [
    {
     "data": {
      "text/plain": [
       "review       1.0\n",
       "sentiment    1.0\n",
       "dtype: float64"
      ]
     },
     "execution_count": 7,
     "metadata": {},
     "output_type": "execute_result"
    }
   ],
   "source": [
    "data.count() / data.shape[0]"
   ]
  },
  {
   "cell_type": "code",
   "execution_count": 8,
   "id": "e33fc425",
   "metadata": {
    "scrolled": true
   },
   "outputs": [
    {
     "data": {
      "text/plain": [
       "<Figure size 864x504 with 0 Axes>"
      ]
     },
     "execution_count": 8,
     "metadata": {},
     "output_type": "execute_result"
    },
    {
     "data": {
      "text/plain": [
       "<AxesSubplot:xlabel='sentiment', ylabel='count'>"
      ]
     },
     "execution_count": 8,
     "metadata": {},
     "output_type": "execute_result"
    },
    {
     "data": {
      "image/png": "[encoded data removed]",
      "text/plain": [
       "<Figure size 864x504 with 1 Axes>"
      ]
     },
     "metadata": {
      "needs_background": "light"
     },
     "output_type": "display_data"
    }
   ],
   "source": [
    "plt.figure(figsize = (12, 7))\n",
    "sns.countplot(x = 'sentiment', data = data)\n",
    "plt.show()"
   ]
  },
  {
   "cell_type": "code",
   "execution_count": 9,
   "id": "d5836a20",
   "metadata": {},
   "outputs": [],
   "source": [
    "data['sentiment'] = data['sentiment'].apply(lambda x: 1 if x=='positive' else 0)"
   ]
  },
  {
   "cell_type": "code",
   "execution_count": 10,
   "id": "be2baa81",
   "metadata": {},
   "outputs": [],
   "source": [
    "data.rename(columns={'sentiment01':'sentiment'},inplace=True)"
   ]
  },
  {
   "cell_type": "markdown",
   "id": "8fc44608",
   "metadata": {},
   "source": [
    "## Drop duplicates"
   ]
  },
  {
   "cell_type": "code",
   "execution_count": 11,
   "id": "465c17b1",
   "metadata": {},
   "outputs": [],
   "source": [
    "data.drop_duplicates(subset =\"review\",\n",
    "                     keep = False, inplace = True)"
   ]
  },
  {
   "cell_type": "code",
   "execution_count": 12,
   "id": "73c8d79a",
   "metadata": {},
   "outputs": [
    {
     "name": "stdout",
     "output_type": "stream",
     "text": [
      "<class 'pandas.core.frame.DataFrame'>\n",
      "Int64Index: 49176 entries, 0 to 49999\n",
      "Data columns (total 2 columns):\n",
      " #   Column     Non-Null Count  Dtype \n",
      "---  ------     --------------  ----- \n",
      " 0   review     49176 non-null  object\n",
      " 1   sentiment  49176 non-null  int64 \n",
      "dtypes: int64(1), object(1)\n",
      "memory usage: 1.1+ MB\n"
     ]
    }
   ],
   "source": [
    "data.info()"
   ]
  },
  {
   "cell_type": "markdown",
   "id": "546a6c5c",
   "metadata": {},
   "source": [
    "## Tokenization & Pipline"
   ]
  },
  {
   "cell_type": "code",
   "execution_count": 13,
   "id": "961a5c95",
   "metadata": {},
   "outputs": [
    {
     "name": "stdout",
     "output_type": "stream",
     "text": [
      "['i', 'me', 'my', 'myself', 'we', 'our', 'ours', 'ourselves', 'you', \"you're\", \"you've\", \"you'll\", \"you'd\", 'your', 'yours', 'yourself', 'yourselves', 'he', 'him', 'his', 'himself', 'she', \"she's\", 'her', 'hers', 'herself', 'it', \"it's\", 'its', 'itself', 'they', 'them', 'their', 'theirs', 'themselves', 'what', 'which', 'who', 'whom', 'this', 'that', \"that'll\", 'these', 'those', 'am', 'is', 'are', 'was', 'were', 'be', 'been', 'being', 'have', 'has', 'had', 'having', 'do', 'does', 'did', 'doing', 'a', 'an', 'the', 'and', 'but', 'if', 'or', 'because', 'as', 'until', 'while', 'of', 'at', 'by', 'for', 'with', 'about', 'against', 'between', 'into', 'through', 'during', 'before', 'after', 'above', 'below', 'to', 'from', 'up', 'down', 'in', 'out', 'on', 'off', 'over', 'under', 'again', 'further', 'then', 'once', 'here', 'there', 'when', 'where', 'why', 'how', 'all', 'any', 'both', 'each', 'few', 'more', 'most', 'other', 'some', 'such', 'no', 'nor', 'not', 'only', 'own', 'same', 'so', 'than', 'too', 'very', 's', 't', 'can', 'will', 'just', 'don', \"don't\", 'should', \"should've\", 'now', 'd', 'll', 'm', 'o', 're', 've', 'y', 'ain', 'aren', \"aren't\", 'couldn', \"couldn't\", 'didn', \"didn't\", 'doesn', \"doesn't\", 'hadn', \"hadn't\", 'hasn', \"hasn't\", 'haven', \"haven't\", 'isn', \"isn't\", 'ma', 'mightn', \"mightn't\", 'mustn', \"mustn't\", 'needn', \"needn't\", 'shan', \"shan't\", 'shouldn', \"shouldn't\", 'wasn', \"wasn't\", 'weren', \"weren't\", 'won', \"won't\", 'wouldn', \"wouldn't\", ',', '<', '>', 'br', '.', '/', '...', '....', '..', '(', ')']\n"
     ]
    }
   ],
   "source": [
    "printer = stopwords.words('english')\n",
    "printer.extend([\",\",'<','>','br','.','/','...','....','..','(',')'])\n",
    "print(printer)"
   ]
  },
  {
   "cell_type": "code",
   "execution_count": 14,
   "id": "a79cbaf1",
   "metadata": {
    "scrolled": true
   },
   "outputs": [],
   "source": [
    "from sklearn.linear_model import LogisticRegression\n",
    "pipeline = Pipeline([\n",
    "    ('vec', CountVectorizer(stop_words=printer)),\n",
    "    ('estimator', LogisticRegression())\n",
    "])"
   ]
  },
  {
   "cell_type": "code",
   "execution_count": 18,
   "id": "f8612fb1",
   "metadata": {
    "scrolled": true
   },
   "outputs": [],
   "source": [
    "Xi_train = X_train.copy()"
   ]
  },
  {
   "cell_type": "code",
   "execution_count": 16,
   "id": "9868280b",
   "metadata": {},
   "outputs": [],
   "source": [
    "X = data.drop(['sentiment'], axis=1)\n",
    "y = data.sentiment"
   ]
  },
  {
   "cell_type": "code",
   "execution_count": 17,
   "id": "3f565608",
   "metadata": {},
   "outputs": [],
   "source": [
    "from sklearn.model_selection import train_test_split\n",
    "X_train, X_test, y_train, y_test = train_test_split(data.review, y, test_size=0.30, random_state=42)"
   ]
  },
  {
   "cell_type": "code",
   "execution_count": 44,
   "id": "0e491199",
   "metadata": {},
   "outputs": [],
   "source": [
    "#X_train.review.values.reshape(1,-1)"
   ]
  },
  {
   "cell_type": "code",
   "execution_count": 19,
   "id": "ebc806ef",
   "metadata": {},
   "outputs": [
    {
     "data": {
      "text/plain": [
       "8546     So, you've seen the Romero movies, yes? And yo...\n",
       "24251    This film is the best film Jim Carrey has ever...\n",
       "46632    I caught this film -- under the title of \"What...\n",
       "3893     Ever once in a while I run into a movie that i...\n",
       "10442    CyberTracker is set in Los Angeles sometime in...\n",
       "                               ...                        \n",
       "11456    It is hard to put the devastating beauty of Tr...\n",
       "45471    Through its 2-hour running length, Crash chart...\n",
       "38789    The violent and rebel twenty-five years old sa...\n",
       "872      This is the second Hitchcock film to appear on...\n",
       "16052    OK..this movie could have been soooo good! All...\n",
       "Name: review, Length: 34423, dtype: object"
      ]
     },
     "execution_count": 19,
     "metadata": {},
     "output_type": "execute_result"
    },
    {
     "data": {
      "text/plain": [
       "8546     0\n",
       "24251    1\n",
       "46632    0\n",
       "3893     0\n",
       "10442    0\n",
       "        ..\n",
       "11456    1\n",
       "45471    0\n",
       "38789    1\n",
       "872      1\n",
       "16052    0\n",
       "Name: sentiment, Length: 34423, dtype: int64"
      ]
     },
     "execution_count": 19,
     "metadata": {},
     "output_type": "execute_result"
    }
   ],
   "source": [
    "X_train\n",
    "y_train"
   ]
  },
  {
   "cell_type": "code",
   "execution_count": 28,
   "id": "9d8d5371",
   "metadata": {
    "scrolled": false
   },
   "outputs": [
    {
     "name": "stderr",
     "output_type": "stream",
     "text": [
      "E:\\Python\\anaconda\\lib\\site-packages\\sklearn\\linear_model\\_logistic.py:763: ConvergenceWarning: lbfgs failed to converge (status=1):\n",
      "STOP: TOTAL NO. of ITERATIONS REACHED LIMIT.\n",
      "\n",
      "Increase the number of iterations (max_iter) or scale the data as shown in:\n",
      "    https://scikit-learn.org/stable/modules/preprocessing.html\n",
      "Please also refer to the documentation for alternative solver options:\n",
      "    https://scikit-learn.org/stable/modules/linear_model.html#logistic-regression\n",
      "  n_iter_i = _check_optimize_result(\n"
     ]
    },
    {
     "data": {
      "text/plain": [
       "Pipeline(steps=[('vec',\n",
       "                 CountVectorizer(stop_words=['i', 'me', 'my', 'myself', 'we',\n",
       "                                             'our', 'ours', 'ourselves', 'you',\n",
       "                                             \"you're\", \"you've\", \"you'll\",\n",
       "                                             \"you'd\", 'your', 'yours',\n",
       "                                             'yourself', 'yourselves', 'he',\n",
       "                                             'him', 'his', 'himself', 'she',\n",
       "                                             \"she's\", 'her', 'hers', 'herself',\n",
       "                                             'it', \"it's\", 'its', 'itself', ...])),\n",
       "                ('estimator', LogisticRegression())])"
      ]
     },
     "execution_count": 28,
     "metadata": {},
     "output_type": "execute_result"
    }
   ],
   "source": [
    "pipeline.fit(X_train,y_train)"
   ]
  },
  {
   "cell_type": "code",
   "execution_count": 30,
   "id": "2d36cbef",
   "metadata": {},
   "outputs": [
    {
     "data": {
      "text/plain": [
       "array([0, 0, 0, ..., 1, 1, 1], dtype=int64)"
      ]
     },
     "execution_count": 30,
     "metadata": {},
     "output_type": "execute_result"
    }
   ],
   "source": [
    "pipeline.predict(X_test)"
   ]
  },
  {
   "cell_type": "code",
   "execution_count": 31,
   "id": "1d67d5f9",
   "metadata": {},
   "outputs": [],
   "source": [
    "y_test_pred = pipeline.predict(X_test)"
   ]
  },
  {
   "cell_type": "code",
   "execution_count": 32,
   "id": "34eebf77",
   "metadata": {},
   "outputs": [],
   "source": [
    "def checker(arr1, arr2):\n",
    "    sumi = 0\n",
    "    for i in range(len(arr1)):\n",
    "        if arr1[i] == arr2[i]:\n",
    "            sumi += 1\n",
    "    return sumi/len(arr1)"
   ]
  },
  {
   "cell_type": "code",
   "execution_count": 33,
   "id": "8105e73e",
   "metadata": {},
   "outputs": [
    {
     "name": "stdout",
     "output_type": "stream",
     "text": [
      "0.8823290178268827\n"
     ]
    }
   ],
   "source": [
    "print(checker(y_test_pred,y_test.values))"
   ]
  },
  {
   "cell_type": "code",
   "execution_count": 34,
   "id": "391ab639",
   "metadata": {},
   "outputs": [
    {
     "name": "stdout",
     "output_type": "stream",
     "text": [
      "              precision    recall  f1-score   support\n",
      "\n",
      "           0       0.88      0.89      0.88      7249\n",
      "           1       0.89      0.88      0.88      7504\n",
      "\n",
      "    accuracy                           0.88     14753\n",
      "   macro avg       0.88      0.88      0.88     14753\n",
      "weighted avg       0.88      0.88      0.88     14753\n",
      "\n"
     ]
    }
   ],
   "source": [
    "print(classification_report(y_test_pred,y_test.values))"
   ]
  },
  {
   "cell_type": "code",
   "execution_count": 35,
   "id": "aa217432",
   "metadata": {},
   "outputs": [],
   "source": [
    "vectorizer = CountVectorizer()"
   ]
  },
  {
   "cell_type": "code",
   "execution_count": 36,
   "id": "d00b97cf",
   "metadata": {},
   "outputs": [],
   "source": [
    "porter = PorterStemmer()\n",
    "lancaster=LancasterStemmer()"
   ]
  },
  {
   "cell_type": "code",
   "execution_count": 37,
   "id": "68f36803",
   "metadata": {},
   "outputs": [],
   "source": [
    "from sklearn.base import BaseEstimator, TransformerMixin\n",
    "class MyTransformer(BaseEstimator, TransformerMixin): \n",
    "    def __init__(self):\n",
    "        BaseEstimator.__init__(self)\n",
    "        TransformerMixin.__init__(self)\n",
    "    def fit(self, ar, y=None):\n",
    "        return self\n",
    "    def transform(self, ar, y=None):\n",
    "        j = 0\n",
    "        for i in range(ar.shape[0]):\n",
    "            a = \"\"\n",
    "            words = word_tokenize(ar.values[i])\n",
    "            for j in range(len(words)):\n",
    "                if j == 0:\n",
    "                    a += porter.stem(words[j])\n",
    "                else:\n",
    "                    a += (\" \" + porter.stem(words[j]))\n",
    "            ar.values[i] = a\n",
    "        return ar"
   ]
  },
  {
   "cell_type": "code",
   "execution_count": 66,
   "id": "3037b684",
   "metadata": {},
   "outputs": [],
   "source": [
    "from sklearn.base import BaseEstimator, TransformerMixin\n",
    "class MyTransformerLanc(BaseEstimator, TransformerMixin): \n",
    "    def __init__(self):\n",
    "        BaseEstimator.__init__(self)\n",
    "        TransformerMixin.__init__(self)\n",
    "    def fit(self, ar, y=None):\n",
    "        return self\n",
    "    def transform(self, ar, y=None):\n",
    "        j = 0\n",
    "        for i in range(ar.shape[0]):\n",
    "            a = \"\"\n",
    "            words = word_tokenize(ar.values[i])\n",
    "            for j in range(len(words)):\n",
    "                if j == 0:\n",
    "                    a += lancaster.stem(words[j])\n",
    "                else:\n",
    "                    a += (\" \" + lancaster.stem(words[j]))\n",
    "            ar.values[i] = a\n",
    "        return ar"
   ]
  },
  {
   "cell_type": "code",
   "execution_count": 38,
   "id": "4fefa857",
   "metadata": {},
   "outputs": [
    {
     "data": {
      "text/plain": [
       "'Ever'"
      ]
     },
     "execution_count": 38,
     "metadata": {},
     "output_type": "execute_result"
    }
   ],
   "source": [
    "word_tokenize(X_train.values[3])[0]"
   ]
  },
  {
   "cell_type": "code",
   "execution_count": 39,
   "id": "142a64b7",
   "metadata": {},
   "outputs": [
    {
     "name": "stdout",
     "output_type": "stream",
     "text": [
      "['cats', 'dogs']\n",
      "['cats', 'dogs']\n"
     ]
    }
   ],
   "source": [
    "z = ['cats','dogs']\n",
    "print(z)\n",
    "print((z))"
   ]
  },
  {
   "cell_type": "code",
   "execution_count": 41,
   "id": "11cd32b0",
   "metadata": {},
   "outputs": [
    {
     "data": {
      "text/plain": [
       "MyTransformer()"
      ]
     },
     "execution_count": 41,
     "metadata": {},
     "output_type": "execute_result"
    }
   ],
   "source": [
    "class_mt = MyTransformer()\n",
    "class_mt.fit(X_test)"
   ]
  },
  {
   "cell_type": "code",
   "execution_count": 46,
   "id": "afdde944",
   "metadata": {},
   "outputs": [
    {
     "data": {
      "text/plain": [
       "8546     So, you've seen the Romero movies, yes? And yo...\n",
       "24251    This film is the best film Jim Carrey has ever...\n",
       "46632    I caught this film -- under the title of \"What...\n",
       "3893     Ever once in a while I run into a movie that i...\n",
       "10442    CyberTracker is set in Los Angeles sometime in...\n",
       "                               ...                        \n",
       "11456    It is hard to put the devastating beauty of Tr...\n",
       "45471    Through its 2-hour running length, Crash chart...\n",
       "38789    The violent and rebel twenty-five years old sa...\n",
       "872      This is the second Hitchcock film to appear on...\n",
       "16052    OK..this movie could have been soooo good! All...\n",
       "Name: review, Length: 34423, dtype: object"
      ]
     },
     "execution_count": 46,
     "metadata": {},
     "output_type": "execute_result"
    },
    {
     "data": {
      "text/plain": [
       "8546     0\n",
       "24251    1\n",
       "46632    0\n",
       "3893     0\n",
       "10442    0\n",
       "        ..\n",
       "11456    1\n",
       "45471    0\n",
       "38789    1\n",
       "872      1\n",
       "16052    0\n",
       "Name: sentiment, Length: 34423, dtype: int64"
      ]
     },
     "execution_count": 46,
     "metadata": {},
     "output_type": "execute_result"
    }
   ],
   "source": [
    "X_train\n",
    "y_train"
   ]
  },
  {
   "cell_type": "code",
   "execution_count": 43,
   "id": "365b66fa",
   "metadata": {},
   "outputs": [],
   "source": [
    "pipelineNew = Pipeline([\n",
    "    ('MyTrans', MyTransformer()),\n",
    "    ('vec', CountVectorizer(stop_words=printer)),\n",
    "    ('log_reg', LogisticRegression())\n",
    "])"
   ]
  },
  {
   "cell_type": "code",
   "execution_count": null,
   "id": "f2fef291",
   "metadata": {
    "scrolled": true
   },
   "outputs": [],
   "source": [
    "pipelineNew.fit_transform(X_train,y_train)"
   ]
  },
  {
   "cell_type": "code",
   "execution_count": 69,
   "id": "7048331c",
   "metadata": {},
   "outputs": [],
   "source": [
    "from sklearn.model_selection import KFold\n",
    "grid_search_log_reg = GridSearchCV(estimator=pipelineNew, param_grid={'log_reg__C': [0.1,0.5,1,5]}, cv=KFold(n_splits=5), scoring=\"roc_auc\", n_jobs=-1)"
   ]
  },
  {
   "cell_type": "code",
   "execution_count": 109,
   "id": "9a3e2ff5",
   "metadata": {},
   "outputs": [
    {
     "name": "stderr",
     "output_type": "stream",
     "text": [
      "E:\\Python\\anaconda\\lib\\site-packages\\sklearn\\linear_model\\_logistic.py:763: ConvergenceWarning: lbfgs failed to converge (status=1):\n",
      "STOP: TOTAL NO. of ITERATIONS REACHED LIMIT.\n",
      "\n",
      "Increase the number of iterations (max_iter) or scale the data as shown in:\n",
      "    https://scikit-learn.org/stable/modules/preprocessing.html\n",
      "Please also refer to the documentation for alternative solver options:\n",
      "    https://scikit-learn.org/stable/modules/linear_model.html#logistic-regression\n",
      "  n_iter_i = _check_optimize_result(\n"
     ]
    },
    {
     "data": {
      "text/plain": [
       "GridSearchCV(cv=KFold(n_splits=5, random_state=None, shuffle=False),\n",
       "             estimator=Pipeline(steps=[('MyTrans', MyTransformer()),\n",
       "                                       ('vec',\n",
       "                                        CountVectorizer(stop_words=['i', 'me',\n",
       "                                                                    'my',\n",
       "                                                                    'myself',\n",
       "                                                                    'we', 'our',\n",
       "                                                                    'ours',\n",
       "                                                                    'ourselves',\n",
       "                                                                    'you',\n",
       "                                                                    \"you're\",\n",
       "                                                                    \"you've\",\n",
       "                                                                    \"you'll\",\n",
       "                                                                    \"you'd\",\n",
       "                                                                    'your',\n",
       "                                                                    'yours',\n",
       "                                                                    'yourself',\n",
       "                                                                    'yourselves',\n",
       "                                                                    'he', 'him',\n",
       "                                                                    'his',\n",
       "                                                                    'himself',\n",
       "                                                                    'she',\n",
       "                                                                    \"she's\",\n",
       "                                                                    'her',\n",
       "                                                                    'hers',\n",
       "                                                                    'herself',\n",
       "                                                                    'it',\n",
       "                                                                    \"it's\",\n",
       "                                                                    'its',\n",
       "                                                                    'itself', ...])),\n",
       "                                       ('log_reg', LogisticRegression())]),\n",
       "             n_jobs=-1, param_grid={'log_reg__C': [0.1, 0.5, 1, 5]},\n",
       "             scoring='roc_auc')"
      ]
     },
     "execution_count": 109,
     "metadata": {},
     "output_type": "execute_result"
    }
   ],
   "source": [
    "grid_search_log_reg.fit(X_train,y_train)"
   ]
  },
  {
   "cell_type": "code",
   "execution_count": 110,
   "id": "920b30ac",
   "metadata": {},
   "outputs": [
    {
     "data": {
      "text/plain": [
       "{'log_reg__C': 0.1}"
      ]
     },
     "execution_count": 110,
     "metadata": {},
     "output_type": "execute_result"
    }
   ],
   "source": [
    "grid_search_log_reg.best_params_"
   ]
  },
  {
   "cell_type": "code",
   "execution_count": 111,
   "id": "43ffb937",
   "metadata": {},
   "outputs": [],
   "source": [
    "y_pred = grid_search_log_reg.predict(X_test)"
   ]
  },
  {
   "cell_type": "code",
   "execution_count": 112,
   "id": "531b8800",
   "metadata": {},
   "outputs": [
    {
     "name": "stdout",
     "output_type": "stream",
     "text": [
      "              precision    recall  f1-score   support\n",
      "\n",
      "           0       0.89      0.87      0.88      7335\n",
      "           1       0.88      0.89      0.88      7418\n",
      "\n",
      "    accuracy                           0.88     14753\n",
      "   macro avg       0.88      0.88      0.88     14753\n",
      "weighted avg       0.88      0.88      0.88     14753\n",
      "\n"
     ]
    }
   ],
   "source": [
    "print(classification_report(y_test, y_pred))"
   ]
  },
  {
   "cell_type": "code",
   "execution_count": 137,
   "id": "9790f6ba",
   "metadata": {},
   "outputs": [
    {
     "data": {
      "text/plain": [
       "49176"
      ]
     },
     "execution_count": 137,
     "metadata": {},
     "output_type": "execute_result"
    }
   ],
   "source": [
    "data.review.shape[0]"
   ]
  },
  {
   "cell_type": "code",
   "execution_count": null,
   "id": "502517c0",
   "metadata": {
    "scrolled": true
   },
   "outputs": [],
   "source": [
    "def sum_rev(X):\n",
    "    read = ''\n",
    "    for i in range(X.shape[0]):\n",
    "        read += X[i]\n",
    "    return read\n",
    "get_top_n_words(sum_rev(data.review))"
   ]
  },
  {
   "cell_type": "code",
   "execution_count": 121,
   "id": "70e46b08",
   "metadata": {
    "scrolled": true
   },
   "outputs": [
    {
     "name": "stdout",
     "output_type": "stream",
     "text": [
      "Logistic: ROC AUC=0.883\n"
     ]
    },
    {
     "data": {
      "text/plain": [
       "[<matplotlib.lines.Line2D at 0x212a23a7fa0>]"
      ]
     },
     "execution_count": 121,
     "metadata": {},
     "output_type": "execute_result"
    },
    {
     "data": {
      "text/plain": [
       "Text(0.5, 0, 'False Positive Rate')"
      ]
     },
     "execution_count": 121,
     "metadata": {},
     "output_type": "execute_result"
    },
    {
     "data": {
      "text/plain": [
       "Text(0, 0.5, 'True Positive Rate')"
      ]
     },
     "execution_count": 121,
     "metadata": {},
     "output_type": "execute_result"
    },
    {
     "data": {
      "text/plain": [
       "<matplotlib.legend.Legend at 0x212a23a7a60>"
      ]
     },
     "execution_count": 121,
     "metadata": {},
     "output_type": "execute_result"
    },
    {
     "data": {
      "image/png": "[encoded data removed]",
      "text/plain": [
       "<Figure size 720x576 with 1 Axes>"
      ]
     },
     "metadata": {
      "needs_background": "light"
     },
     "output_type": "display_data"
    }
   ],
   "source": [
    "from sklearn.metrics import roc_auc_score\n",
    "from sklearn.metrics import roc_curve\n",
    "from matplotlib import pyplot\n",
    "lr_probs = y_pred\n",
    "\n",
    "lr_auc = roc_auc_score(y_test, lr_probs)\n",
    "print('Logistic: ROC AUC=%.3f' % (lr_auc))\n",
    "lr_fpr, lr_tpr, _ = roc_curve(y_test, lr_probs)\n",
    "pyplot.plot(lr_fpr, lr_tpr, marker='.', label='Logistic')\n",
    "pyplot.xlabel('False Positive Rate')\n",
    "pyplot.ylabel('True Positive Rate')\n",
    "pyplot.legend()\n",
    "# show the plot\n",
    "pyplot.show()"
   ]
  },
  {
   "cell_type": "markdown",
   "id": "6c911a93",
   "metadata": {},
   "source": [
    "Most comman words:"
   ]
  },
  {
   "cell_type": "code",
   "execution_count": 57,
   "id": "b0d7d4be",
   "metadata": {},
   "outputs": [
    {
     "data": {
      "text/plain": [
       "8546     So, you've seen the Romero movies, yes? And yo...\n",
       "24251    This film is the best film Jim Carrey has ever...\n",
       "46632    I caught this film -- under the title of \"What...\n",
       "3893     Ever once in a while I run into a movie that i...\n",
       "10442    CyberTracker is set in Los Angeles sometime in...\n",
       "                               ...                        \n",
       "11456    It is hard to put the devastating beauty of Tr...\n",
       "45471    Through its 2-hour running length, Crash chart...\n",
       "38789    The violent and rebel twenty-five years old sa...\n",
       "872      This is the second Hitchcock film to appear on...\n",
       "16052    OK..this movie could have been soooo good! All...\n",
       "Name: review, Length: 34423, dtype: object"
      ]
     },
     "execution_count": 57,
     "metadata": {},
     "output_type": "execute_result"
    }
   ],
   "source": [
    "X_train"
   ]
  },
  {
   "cell_type": "code",
   "execution_count": 59,
   "id": "24260565",
   "metadata": {},
   "outputs": [
    {
     "data": {
      "text/plain": [
       "{'seen': 1866696,\n",
       " 'romero': 1791323,\n",
       " 'movies': 1402598,\n",
       " 'yes': 2397229,\n",
       " 'jacob': 1109986,\n",
       " 'ladder': 1170245,\n",
       " 'right': 1774113,\n",
       " 'later': 1179927,\n",
       " 'hellraiser': 985221,\n",
       " 'okay': 1489344,\n",
       " 'let': 1204832,\n",
       " 'make': 1286726,\n",
       " 'movie': 1393970,\n",
       " 'three': 2145622,\n",
       " 'jam': 1110989,\n",
       " 'everything': 702356,\n",
       " 'together': 2166471,\n",
       " 'whole': 2339800,\n",
       " 'big': 226549,\n",
       " 'mess': 1345408,\n",
       " 'sounds': 1980164,\n",
       " 'like': 1216809,\n",
       " 'good': 913001,\n",
       " 'idea': 1042192,\n",
       " 'terrible': 2119024,\n",
       " 'absolutely': 25667,\n",
       " 'god': 905657,\n",
       " 'awful': 168799,\n",
       " 'yeah': 2393207,\n",
       " 'indie': 1069227,\n",
       " 'flick': 814715,\n",
       " 'gives': 897986,\n",
       " 'crap': 473141,\n",
       " 'pass': 1544674,\n",
       " 'filmic': 791101,\n",
       " 'excrement': 714280,\n",
       " 'film': 781470,\n",
       " 'attempts': 154171,\n",
       " 'establish': 686719,\n",
       " 'credibility': 479613,\n",
       " 'focusing': 821237,\n",
       " 'character': 345820,\n",
       " 'interaction': 1089249,\n",
       " 'much': 1408301,\n",
       " 'evident': 704293,\n",
       " 'unfortunately': 2235684,\n",
       " 'writers': 2386442,\n",
       " 'night': 1453208,\n",
       " 'living': 1241225,\n",
       " 'dead': 516380,\n",
       " 'characters': 349878,\n",
       " 'nonentities': 1460423,\n",
       " 'shouting': 1911807,\n",
       " 'inane': 1060775,\n",
       " 'lines': 1230363,\n",
       " 'vain': 2261651,\n",
       " 'attempt': 153060,\n",
       " 'caught': 331274,\n",
       " 'microphones': 1350853,\n",
       " 'set': 1885890,\n",
       " 'dialogue': 557424,\n",
       " 'never': 1444415,\n",
       " 'interesting': 1091079,\n",
       " 'focuses': 821046,\n",
       " 'think': 2133829,\n",
       " 'would': 2379823,\n",
       " 'something': 1966599,\n",
       " 'say': 1820865,\n",
       " 'going': 908768,\n",
       " 'know': 1158493,\n",
       " 'well': 2326926,\n",
       " 'got': 919950,\n",
       " 'leave': 1194087,\n",
       " 'accept': 28891,\n",
       " 'fate': 758202,\n",
       " 'maybe': 1323624,\n",
       " 'stay': 2015357,\n",
       " 'exaggeration': 707693,\n",
       " 'exchanges': 713061,\n",
       " 'reach': 1704574,\n",
       " 'level': 1206858,\n",
       " 'redundancy': 1727400,\n",
       " 'inanity': 1060901,\n",
       " 'worst': 2377479,\n",
       " 'thing': 2130001,\n",
       " 'half': 953565,\n",
       " 'dream': 607304,\n",
       " 'really': 1713673,\n",
       " 'zero': 2405638,\n",
       " 'purpose': 1676504,\n",
       " 'nothing': 1465283,\n",
       " 'relevance': 1738477,\n",
       " 'anything': 116959,\n",
       " 'rest': 1757997,\n",
       " 'decide': 524553,\n",
       " 'whether': 2336345,\n",
       " 'zombie': 2406664,\n",
       " 'monster': 1380100,\n",
       " 'made': 1277730,\n",
       " 'patently': 1548160,\n",
       " 'ridiculous': 1772621,\n",
       " 'cheapest': 358093,\n",
       " 'trick': 2196080,\n",
       " 'book': 252299,\n",
       " 'maddeningly': 1277660,\n",
       " 'insulting': 1085372,\n",
       " 'especially': 683931,\n",
       " 'since': 1932133,\n",
       " 'pretty': 1643056,\n",
       " 'sure': 2073388,\n",
       " 'ripped': 1777853,\n",
       " 'handled': 958584,\n",
       " 'concept': 428315,\n",
       " 'hell': 984240,\n",
       " 'lot': 1258677,\n",
       " 'competently': 421904,\n",
       " 'jokers': 1124831,\n",
       " 'could': 460666,\n",
       " 'ever': 697740,\n",
       " 'hope': 1014716,\n",
       " 'editing': 633363,\n",
       " 'years': 2394742,\n",
       " 'watching': 2311833,\n",
       " 'mtv': 1408179,\n",
       " 'playing': 1599071,\n",
       " 'horror': 1019221,\n",
       " 'themed': 2127228,\n",
       " 'video': 2274940,\n",
       " 'games': 866488,\n",
       " 'must': 1420067,\n",
       " 'inspired': 1081390,\n",
       " 'filmmakers': 791904,\n",
       " 'surely': 2074919,\n",
       " 'sad': 1806011,\n",
       " 'realize': 1712493,\n",
       " 'choppy': 369780,\n",
       " 'obfuscation': 1475109,\n",
       " 'pieces': 1583957,\n",
       " 'media': 1332516,\n",
       " 'effective': 635994,\n",
       " 'first': 805390,\n",
       " 'place': 1588658,\n",
       " 'confused': 433778,\n",
       " 'often': 1486130,\n",
       " 'david': 511353,\n",
       " 'lynch': 1274529,\n",
       " 'way': 2315860,\n",
       " 'bad': 176898,\n",
       " 'wait': 2293344,\n",
       " 'thought': 2142494,\n",
       " 'killed': 1147474,\n",
       " 'guy': 947178,\n",
       " 'come': 405957,\n",
       " 'get': 881490,\n",
       " 'kind': 1151342,\n",
       " 'constant': 440532,\n",
       " 'consistently': 439877,\n",
       " 'laughable': 1183156,\n",
       " 'piece': 1583038,\n",
       " 'trash': 2190606,\n",
       " 'sought': 1978457,\n",
       " 'want': 2298319,\n",
       " 'trashed': 2191024,\n",
       " 'friends': 849565,\n",
       " 'laugh': 1182329,\n",
       " 'final': 795815,\n",
       " 'note': 1464159,\n",
       " 'comedy': 408528,\n",
       " 'people': 1556172,\n",
       " 'reviews': 1766851,\n",
       " 'talking': 2099240,\n",
       " 'unintentional': 2238321,\n",
       " 'single': 1935503,\n",
       " 'intentional': 1088724,\n",
       " 'supposed': 2071667,\n",
       " 'serious': 1882800,\n",
       " 'study': 2047708,\n",
       " 'sadly': 1807140,\n",
       " 'pretensions': 1642660,\n",
       " 'match': 1316726,\n",
       " 'ability': 23159,\n",
       " 'seen romero': 1868724,\n",
       " 'romero movies': 1791384,\n",
       " 'movies yes': 1405419,\n",
       " 'yes seen': 2398075,\n",
       " 'seen jacob': 1868003,\n",
       " 'jacob ladder': 1110007,\n",
       " 'ladder right': 1170299,\n",
       " 'right later': 1774972,\n",
       " 'later hellraiser': 1180562,\n",
       " 'hellraiser movies': 985247,\n",
       " 'movies okay': 1404317,\n",
       " 'okay let': 1489624,\n",
       " 'let make': 1205351,\n",
       " 'make movie': 1288245,\n",
       " 'movie three': 1401605,\n",
       " 'three let': 2146207,\n",
       " 'let jam': 1205281,\n",
       " 'jam everything': 1111000,\n",
       " 'everything together': 703575,\n",
       " 'together make': 2167321,\n",
       " 'make whole': 1289303,\n",
       " 'whole big': 2339885,\n",
       " 'big mess': 227393,\n",
       " 'mess sounds': 1345848,\n",
       " 'sounds like': 1980338,\n",
       " 'like good': 1219804,\n",
       " 'good idea': 914585,\n",
       " 'idea movie': 1043011,\n",
       " 'movie terrible': 1401537,\n",
       " 'terrible absolutely': 2119029,\n",
       " 'absolutely god': 25916,\n",
       " 'god awful': 905708,\n",
       " 'awful yeah': 169803,\n",
       " 'yeah indie': 2393378,\n",
       " 'indie flick': 1069273,\n",
       " 'flick gives': 815081,\n",
       " 'gives crap': 898159,\n",
       " 'crap pass': 473589,\n",
       " 'pass make': 1544880,\n",
       " 'make filmic': 1287627,\n",
       " 'filmic excrement': 791112,\n",
       " 'excrement film': 714290,\n",
       " 'film attempts': 782121,\n",
       " 'attempts establish': 154314,\n",
       " 'establish credibility': 686735,\n",
       " 'credibility focusing': 479670,\n",
       " 'focusing character': 821251,\n",
       " 'character interaction': 347369,\n",
       " 'interaction much': 1089326,\n",
       " 'much evident': 1409449,\n",
       " 'evident unfortunately': 704408,\n",
       " 'unfortunately writers': 2236648,\n",
       " 'writers good': 2386623,\n",
       " 'good character': 913537,\n",
       " 'interaction night': 1089328,\n",
       " 'night living': 1453891,\n",
       " 'living dead': 1241392,\n",
       " 'dead characters': 516580,\n",
       " 'characters nonentities': 351776,\n",
       " 'nonentities shouting': 1460426,\n",
       " 'shouting inane': 1911838,\n",
       " 'inane lines': 1060823,\n",
       " 'lines vain': 1231433,\n",
       " 'vain attempt': 2261657,\n",
       " 'attempt caught': 153171,\n",
       " 'caught microphones': 331550,\n",
       " 'microphones set': 1350864,\n",
       " 'set dialogue': 1886347,\n",
       " 'dialogue never': 558093,\n",
       " 'never interesting': 1445288,\n",
       " 'interesting movie': 1091897,\n",
       " 'movie focuses': 1396981,\n",
       " 'focuses much': 821156,\n",
       " 'much character': 1408831,\n",
       " 'interaction think': 1089368,\n",
       " 'think characters': 2134306,\n",
       " 'characters would': 353038,\n",
       " 'would something': 2382469,\n",
       " 'something say': 1968221,\n",
       " 'say going': 1821810,\n",
       " 'going know': 909795,\n",
       " 'know well': 1161049,\n",
       " 'well got': 2328368,\n",
       " 'got something': 921417,\n",
       " 'something well': 1968677,\n",
       " 'well going': 2328356,\n",
       " 'know leave': 1159826,\n",
       " 'leave let': 1194499,\n",
       " 'let accept': 1204846,\n",
       " 'accept fate': 28995,\n",
       " 'fate got': 758303,\n",
       " 'got leave': 920846,\n",
       " 'leave well': 1194855,\n",
       " 'well let': 2328848,\n",
       " 'let leave': 1205319,\n",
       " 'leave maybe': 1194527,\n",
       " 'maybe stay': 1324910,\n",
       " 'stay exaggeration': 2015490,\n",
       " 'exaggeration exchanges': 707704,\n",
       " 'exchanges film': 713077,\n",
       " 'film reach': 787711,\n",
       " 'reach level': 1704704,\n",
       " 'level redundancy': 1207461,\n",
       " 'redundancy inanity': 1727410,\n",
       " 'inanity worst': 1060916,\n",
       " 'worst thing': 2378344,\n",
       " 'thing movie': 2131231,\n",
       " 'movie half': 1397409,\n",
       " 'half dream': 953810,\n",
       " 'dream really': 607647,\n",
       " 'really zero': 1716662,\n",
       " 'zero purpose': 2405811,\n",
       " 'purpose nothing': 1676760,\n",
       " 'nothing dream': 1465755,\n",
       " 'dream relevance': 607652,\n",
       " 'relevance anything': 1738480,\n",
       " 'anything rest': 118019,\n",
       " 'rest movie': 1758403,\n",
       " 'movie writers': 1402410,\n",
       " 'writers decide': 2386546,\n",
       " 'decide whether': 524877,\n",
       " 'whether make': 2336723,\n",
       " 'make zombie': 1289363,\n",
       " 'zombie movie': 2406909,\n",
       " 'movie monster': 1398836,\n",
       " 'monster movie': 1380491,\n",
       " 'movie made': 1398501,\n",
       " 'made patently': 1279792,\n",
       " 'patently ridiculous': 1548172,\n",
       " 'ridiculous cheapest': 1772721,\n",
       " 'cheapest trick': 358124,\n",
       " 'trick book': 2196093,\n",
       " 'book maddeningly': 253079,\n",
       " 'maddeningly insulting': 1277669,\n",
       " 'insulting especially': 1085411,\n",
       " 'especially since': 685418,\n",
       " 'since pretty': 1933463,\n",
       " 'pretty sure': 1643896,\n",
       " 'sure ripped': 2074507,\n",
       " 'ripped idea': 1777920,\n",
       " 'idea jacob': 1042853,\n",
       " 'ladder handled': 1170273,\n",
       " 'handled concept': 958618,\n",
       " 'concept hell': 428503,\n",
       " 'hell lot': 984647,\n",
       " 'lot competently': 1259004,\n",
       " 'competently jokers': 421918,\n",
       " 'jokers could': 1124833,\n",
       " 'could ever': 461379,\n",
       " 'ever hope': 698490,\n",
       " 'hope editing': 1014952,\n",
       " 'editing years': 633963,\n",
       " 'years watching': 2396484,\n",
       " 'watching mtv': 2313133,\n",
       " 'mtv playing': 1408238,\n",
       " 'playing horror': 1599605,\n",
       " 'horror themed': 1020189,\n",
       " 'themed video': 2127284,\n",
       " 'video games': 2275289,\n",
       " 'games must': 866716,\n",
       " 'must inspired': 1420729,\n",
       " 'inspired filmmakers': 1081509,\n",
       " 'filmmakers surely': 792317,\n",
       " 'surely sad': 2075209,\n",
       " 'sad thing': 1806593,\n",
       " 'thing realize': 2131497,\n",
       " 'realize made': 1712775,\n",
       " 'made choppy': 1278285,\n",
       " 'choppy editing': 369800,\n",
       " 'editing obfuscation': 633705,\n",
       " 'obfuscation pieces': 1475110,\n",
       " 'pieces media': 1584192,\n",
       " 'media effective': 1332602,\n",
       " 'effective first': 636144,\n",
       " 'first place': 807029,\n",
       " 'place film': 1589248,\n",
       " 'film confused': 783180,\n",
       " 'confused often': 434009,\n",
       " 'often good': 1486548,\n",
       " 'good david': 913821,\n",
       " 'david lynch': 511670,\n",
       " 'lynch way': 1274770,\n",
       " 'way bad': 2316118,\n",
       " 'bad wait': 179310,\n",
       " 'wait thought': 2293753,\n",
       " 'thought got': 2143131,\n",
       " 'got killed': 920815,\n",
       " 'killed hell': 1147885,\n",
       " 'hell wait': 984965,\n",
       " 'wait guy': 2293531,\n",
       " 'guy come': 947490,\n",
       " 'come get': 406520,\n",
       " 'get kind': 883093,\n",
       " 'kind way': 1153100,\n",
       " 'way constant': 2316550,\n",
       " 'constant consistently': 440571,\n",
       " 'consistently bad': 439884,\n",
       " 'bad movie': 178342,\n",
       " 'movie laughable': 1398261,\n",
       " 'laughable piece': 1183422,\n",
       " 'piece trash': 1583870,\n",
       " 'trash sought': 2190944,\n",
       " 'sought want': 1978520,\n",
       " 'want get': 2298845,\n",
       " 'get trashed': 884554,\n",
       " 'trashed friends': 2191034,\n",
       " 'friends laugh': 850219,\n",
       " 'laugh final': 1182580,\n",
       " 'final note': 796129,\n",
       " 'note comedy': 1464279,\n",
       " 'comedy people': 409692,\n",
       " 'people reviews': 1558736,\n",
       " 'reviews talking': 1767293,\n",
       " 'talking unintentional': 2099998,\n",
       " 'unintentional single': 2238367,\n",
       " 'single intentional': 1935721,\n",
       " 'intentional piece': 1088765,\n",
       " 'piece comedy': 1583218,\n",
       " 'comedy film': 409109,\n",
       " 'film supposed': 789150,\n",
       " 'supposed big': 2071763,\n",
       " 'big serious': 227674,\n",
       " 'serious character': 1882900,\n",
       " 'character study': 348837,\n",
       " 'study filmmakers': 2047798,\n",
       " 'filmmakers want': 792363,\n",
       " 'want credibility': 2298610,\n",
       " 'credibility horror': 479682,\n",
       " 'horror concept': 1019397,\n",
       " 'concept sadly': 428673,\n",
       " 'sadly pretensions': 1807461,\n",
       " 'pretensions match': 1642681,\n",
       " 'match ability': 1316735,\n",
       " 'best': 218686,\n",
       " 'jim': 1118464,\n",
       " 'carrey': 319978,\n",
       " 'usual': 2258157,\n",
       " 'face': 733766,\n",
       " 'making': 1291963,\n",
       " 'stuff': 2048090,\n",
       " 'funny': 858923,\n",
       " 'played': 1596300,\n",
       " 'reporter': 1750451,\n",
       " 'named': 1427099,\n",
       " 'bruce': 282103,\n",
       " 'nolan': 1458424,\n",
       " 'blames': 238231,\n",
       " 'morgan': 1385012,\n",
       " 'freeman': 845716,\n",
       " 'goes': 907231,\n",
       " 'wrong': 2388935,\n",
       " 'life': 1210614,\n",
       " 'comes': 410397,\n",
       " 'heaven': 981102,\n",
       " 'powers': 1631525,\n",
       " 'said': 1808506,\n",
       " 'excellent': 709701,\n",
       " 'job': 1119544,\n",
       " 'also': 84108,\n",
       " 'jennifer': 1115809,\n",
       " 'aniston': 107677,\n",
       " 'great': 929153,\n",
       " 'supporting': 2071046,\n",
       " 'actor': 41263,\n",
       " 'actress': 44776,\n",
       " 'plot': 1604645,\n",
       " 'many': 1303191,\n",
       " 'subpoints': 2055716,\n",
       " 'main': 1284288,\n",
       " 'point': 1609876,\n",
       " 'dog': 591550,\n",
       " 'break': 268744,\n",
       " 'script': 1846117,\n",
       " 'worked': 2370551,\n",
       " 'glad': 899554,\n",
       " 'sequel': 1877931,\n",
       " 'rate': 1699476,\n",
       " '10': 638,\n",
       " 'film best': 782346,\n",
       " 'best film': 219448,\n",
       " 'film jim': 785759,\n",
       " 'jim carrey': 1118513,\n",
       " 'carrey ever': 320009,\n",
       " 'ever made': 698654,\n",
       " 'made carrey': 1278226,\n",
       " 'carrey usual': 320096,\n",
       " 'usual face': 2258406,\n",
       " 'face making': 734486,\n",
       " 'making stuff': 1293372,\n",
       " 'stuff film': 2048400,\n",
       " 'film funny': 784756,\n",
       " 'funny sad': 860304,\n",
       " 'sad carrey': 1806077,\n",
       " 'carrey played': 320062,\n",
       " 'played reporter': 1597795,\n",
       " 'reporter named': 1750590,\n",
       " 'named bruce': 1427197,\n",
       " 'bruce nolan': 282231,\n",
       " 'nolan nolan': 1458486,\n",
       " 'nolan blames': 1458436,\n",
       " 'blames god': 238248,\n",
       " 'god morgan': 906130,\n",
       " 'morgan freeman': 1385074,\n",
       " 'freeman everything': 845752,\n",
       " 'everything goes': 702867,\n",
       " 'goes wrong': 908663,\n",
       " 'wrong life': 2389502,\n",
       " 'life god': 1211911,\n",
       " 'god comes': 905793,\n",
       " 'comes heaven': 410945,\n",
       " 'heaven gives': 981212,\n",
       " 'gives bruce': 898093,\n",
       " 'bruce powers': 282242,\n",
       " 'powers said': 1631748,\n",
       " 'said carrey': 1808685,\n",
       " 'carrey excellent': 320010,\n",
       " 'excellent job': 710229,\n",
       " 'job also': 1119590,\n",
       " 'also thought': 87579,\n",
       " 'thought morgan': 2143478,\n",
       " 'freeman jennifer': 845774,\n",
       " 'jennifer aniston': 1115814,\n",
       " 'aniston great': 107691,\n",
       " 'great supporting': 931723,\n",
       " 'supporting actor': 2071051,\n",
       " 'actor actress': 41297,\n",
       " 'actress plot': 45416,\n",
       " 'plot good': 1605573,\n",
       " 'good many': 914992,\n",
       " 'many subpoints': 1305261,\n",
       " 'subpoints main': 2055717,\n",
       " 'main point': 1284642,\n",
       " 'point movie': 1610923,\n",
       " 'movie funny': 1397108,\n",
       " 'funny bruce': 859135,\n",
       " 'bruce dog': 282154,\n",
       " 'dog well': 592201,\n",
       " 'well sad': 2329783,\n",
       " 'sad break': 1806070,\n",
       " 'break script': 269151,\n",
       " 'script worked': 1847785,\n",
       " 'worked well': 2371022,\n",
       " 'well glad': 2328343,\n",
       " 'glad made': 899715,\n",
       " 'made sequel': 1280243,\n",
       " 'sequel film': 1878133,\n",
       " 'film rate': 787699,\n",
       " 'rate film': 1699630,\n",
       " 'film 10': 781473,\n",
       " 'title': 2163266,\n",
       " 'lies': 1210176,\n",
       " 'lifetime': 1214405,\n",
       " 'network': 1443845,\n",
       " 'last': 1178030,\n",
       " 'comment': 414347,\n",
       " 'designed': 545700,\n",
       " 'resourceful': 1755970,\n",
       " 'woman': 2358191,\n",
       " 'peril': 1567816,\n",
       " 'action': 39098,\n",
       " 'adventure': 57549,\n",
       " 'yarn': 2392777,\n",
       " 'unintentionally': 2238378,\n",
       " 'thanks': 2123990,\n",
       " 'large': 1176447,\n",
       " 'part': 1537972,\n",
       " 'marc': 1306003,\n",
       " 'singer': 1934629,\n",
       " 'scenery': 1831596,\n",
       " 'chewing': 362535,\n",
       " 'hammy': 956483,\n",
       " 'performance': 1562594,\n",
       " 'cross': 487503,\n",
       " 'cliffhanger': 389927,\n",
       " 'home': 1009555,\n",
       " 'alone': 80407,\n",
       " 'heroine': 991246,\n",
       " 'nicole': 1452666,\n",
       " 'eggert': 639567,\n",
       " 'makes': 1290000,\n",
       " 'devious': 555246,\n",
       " 'dumb': 618852,\n",
       " 'dirt': 573902,\n",
       " 'male': 1293885,\n",
       " 'pursuers': 1677314,\n",
       " 'look': 1249989,\n",
       " 'stooges': 2027359,\n",
       " 'succumbing': 2059979,\n",
       " 'makeshift': 1291723,\n",
       " 'booby': 252193,\n",
       " 'traps': 2190552,\n",
       " 'somehow': 1964604,\n",
       " 'manages': 1299474,\n",
       " 'devise': 555300,\n",
       " 'swinging': 2085554,\n",
       " 'battering': 193574,\n",
       " 'ram': 1694378,\n",
       " 'rope': 1793735,\n",
       " 'log': 1245440,\n",
       " 'matter': 1319471,\n",
       " 'minutes': 1361829,\n",
       " 'temporarily': 2115393,\n",
       " 'takes': 2093830,\n",
       " 'one': 1494053,\n",
       " 'knuckleheads': 1163710,\n",
       " 'kill': 1146470,\n",
       " 'worth': 2378448,\n",
       " 'hearty': 980802,\n",
       " 'caught film': 331434,\n",
       " 'film title': 789453,\n",
       " 'title lies': 2163709,\n",
       " 'lies lifetime': 1210359,\n",
       " 'lifetime movie': 1214497,\n",
       " 'movie network': 1398993,\n",
       " 'network last': 1443947,\n",
       " 'last night': 1178548,\n",
       " 'night comment': 1453442,\n",
       " 'comment designed': 414462,\n",
       " 'designed resourceful': 545851,\n",
       " 'resourceful woman': 1755995,\n",
       " 'woman peril': 2359423,\n",
       " 'peril action': 1567818,\n",
       " 'action adventure': 39124,\n",
       " 'adventure yarn': 57981,\n",
       " 'yarn unintentionally': 2392821,\n",
       " 'unintentionally funny': 2238394,\n",
       " 'funny thanks': 860579,\n",
       " 'thanks large': 2124231,\n",
       " 'large part': 1176732,\n",
       " 'part marc': 1539287,\n",
       " 'marc singer': 1306039,\n",
       " 'singer scenery': 1934884,\n",
       " 'scenery chewing': 1831673,\n",
       " 'chewing hammy': 362552,\n",
       " 'hammy performance': 956523,\n",
       " 'performance thought': 1564332,\n",
       " 'thought watching': 2144157,\n",
       " 'watching cross': 2312303,\n",
       " 'cross cliffhanger': 487565,\n",
       " 'cliffhanger home': 389948,\n",
       " 'home alone': 1009593,\n",
       " 'alone heroine': 80740,\n",
       " 'heroine nicole': 991431,\n",
       " 'nicole eggert': 1452687,\n",
       " 'eggert makes': 639575,\n",
       " 'makes devious': 1290365,\n",
       " 'devious dumb': 555259,\n",
       " 'dumb dirt': 618986,\n",
       " 'dirt male': 573947,\n",
       " 'male pursuers': 1294206,\n",
       " 'pursuers look': 1677322,\n",
       " 'look like': 1250996,\n",
       " 'like three': 1223876,\n",
       " 'three stooges': 2146584,\n",
       " 'stooges succumbing': 2027474,\n",
       " 'succumbing ridiculous': 2059985,\n",
       " 'ridiculous makeshift': 1773017,\n",
       " 'makeshift booby': 1291724,\n",
       " 'booby traps': 252201,\n",
       " 'traps somehow': 2190589,\n",
       " 'somehow manages': 1964940,\n",
       " 'manages devise': 1299563,\n",
       " 'devise swinging': 555313,\n",
       " 'swinging battering': 2085566,\n",
       " 'battering ram': 193576,\n",
       " 'ram rope': 1694396,\n",
       " 'rope log': 1793775,\n",
       " 'log matter': 1245463,\n",
       " 'matter minutes': 1320004,\n",
       " 'minutes temporarily': 1363161,\n",
       " 'temporarily takes': 2115434,\n",
       " 'takes one': 2094550,\n",
       " 'one knuckleheads': 1497389,\n",
       " 'knuckleheads want': 1163713,\n",
       " 'want kill': 2298990,\n",
       " 'kill worth': 1147437,\n",
       " 'worth watching': 2379075,\n",
       " 'watching hearty': 2312749,\n",
       " 'hearty laugh': 980811,\n",
       " 'run': 1800247,\n",
       " 'embarrassingly': 649056,\n",
       " 'wonder': 2361667,\n",
       " 'exist': 716418,\n",
       " 'parody': 1537444,\n",
       " 'godfather': 906690,\n",
       " 'annoying': 109204,\n",
       " 'cartoon': 321961,\n",
       " 'eddie': 631875,\n",
       " 'deezen': 528450,\n",
       " 'plain': 1591399,\n",
       " 'tony': 2171911,\n",
       " 'twit': 2216840,\n",
       " 'upon': 2248301,\n",
       " 'father': 758599,\n",
       " 'william': 2346102,\n",
       " 'hickey': 993155,\n",
       " 'request': 1752334,\n",
       " 'family': 746267,\n",
       " 'business': 293466,\n",
       " 'little': 1235491,\n",
       " 'complete': 422948,\n",
       " 'terribly': 2119955,\n",
       " 'daffy': 500420,\n",
       " 'cartoonish': 322457,\n",
       " 'trying': 2206647,\n",
       " 'acclaimed': 30641,\n",
       " 'drama': 603852,\n",
       " 'cartoonishness': 322527,\n",
       " 'work': 2367946,\n",
       " 'believe': 211529,\n",
       " 'take': 2091212,\n",
       " 'dramatic': 605119,\n",
       " 'seriously': 1883533,\n",
       " 'feel': 766440,\n",
       " 'seem': 1862184,\n",
       " 'taking': 2095036,\n",
       " 'least': 1192245,\n",
       " 'bit': 232247,\n",
       " 'feels': 769097,\n",
       " 'mocking': 1371885,\n",
       " 'woody': 2365880,\n",
       " 'allen': 76404,\n",
       " 'ever run': 699004,\n",
       " 'run movie': 1800749,\n",
       " 'movie embarrassingly': 1396449,\n",
       " 'embarrassingly bad': 649060,\n",
       " 'bad wonder': 179373,\n",
       " 'wonder movies': 2362137,\n",
       " 'movies exist': 1403476,\n",
       " 'exist one': 716599,\n",
       " 'one terrible': 1500007,\n",
       " 'terrible attempt': 2119090,\n",
       " 'attempt parody': 153560,\n",
       " 'parody godfather': 1537544,\n",
       " 'godfather annoying': 906698,\n",
       " 'annoying cartoon': 109309,\n",
       " 'cartoon sounds': 322361,\n",
       " 'sounds bad': 1980184,\n",
       " 'bad dialogue': 177510,\n",
       " 'dialogue eddie': 557727,\n",
       " 'eddie deezen': 631922,\n",
       " 'deezen plain': 528453,\n",
       " 'plain annoying': 1591408,\n",
       " 'annoying tony': 109940,\n",
       " 'tony annoying': 2171920,\n",
       " 'annoying twit': 109951,\n",
       " 'twit upon': 2216853,\n",
       " 'upon father': 2248552,\n",
       " 'father william': 760087,\n",
       " 'william hickey': 2346227,\n",
       " 'hickey request': 993163,\n",
       " 'request takes': 1752382,\n",
       " 'takes family': 2094188,\n",
       " 'family business': 746479,\n",
       " 'business tony': 294019,\n",
       " 'tony said': 2172135,\n",
       " 'said annoying': 1808573,\n",
       " 'annoying little': 109618,\n",
       " 'little twit': 1238135,\n",
       " 'twit makes': 2216849,\n",
       " 'makes whole': 1291677,\n",
       " 'whole movie': 2340377,\n",
       " 'movie complete': 1395509,\n",
       " 'complete mess': 423344,\n",
       " 'mess movie': 1345713,\n",
       " 'movie terribly': 1401538,\n",
       " 'terribly daffy': 2119999,\n",
       " 'daffy cartoonish': 500428,\n",
       " 'cartoonish main': 322500,\n",
       " 'point trying': 1611530,\n",
       " 'trying make': 2207153,\n",
       " 'make make': 1288132,\n",
       " 'make parody': 1288385,\n",
       " 'parody acclaimed': 1537450,\n",
       " 'acclaimed drama': 30666,\n",
       " 'drama like': 604414,\n",
       " 'like godfather': 1219786,\n",
       " 'godfather much': 906769,\n",
       " 'much cartoonishness': 1408794,\n",
       " 'cartoonishness work': 322529,\n",
       " 'work way': 2370441,\n",
       " 'way believe': 2316175,\n",
       " 'believe take': 212881,\n",
       " 'take parody': 2092352,\n",
       " 'parody dramatic': 1537503,\n",
       " 'dramatic movie': 605362,\n",
       " 'movie seriously': 1400588,\n",
       " 'seriously take': 1884191,\n",
       " 'take seriously': 2092593,\n",
       " 'seriously feel': 1883782,\n",
       " 'feel much': 767231,\n",
       " 'much like': 1410231,\n",
       " 'like parody': 1221915,\n",
       " 'parody thing': 1537687,\n",
       " 'thing parody': 2131338,\n",
       " 'parody seem': 1537648,\n",
       " 'seem much': 1862897,\n",
       " 'parody make': 1537583,\n",
       " 'make seem': 1288759,\n",
       " 'seem like': 1862820,\n",
       " 'like taking': 1223730,\n",
       " 'taking movie': 2095391,\n",
       " 'movie least': 1398288,\n",
       " 'least little': 1193146,\n",
       " 'little bit': 1235730,\n",
       " 'bit seriously': 233678,\n",
       " 'seriously also': 1883564,\n",
       " 'also feels': 85376,\n",
       " 'feels like': 769294,\n",
       " 'like mocking': 1221389,\n",
       " 'mocking woody': 1371945,\n",
       " 'woody allen': 2365884,\n",
       " 'allen makes': 76583,\n",
       " 'makes movie': 1290990,\n",
       " 'movie absolutely': 1394127,\n",
       " 'absolutely terrible': 26211,\n",
       " 'cybertracker': 498626,\n",
       " 'los': 1256451,\n",
       " 'angeles': 103794,\n",
       " 'sometime': 1968792,\n",
       " 'near': 1435052,\n",
       " 'future': 861686,\n",
       " 'bodyguard': 248549,\n",
       " 'eric': 681202,\n",
       " 'phillips': 1576183,\n",
       " 'co': 396535,\n",
       " 'producer': 1654859,\n",
       " 'dragon': 603221,\n",
       " 'wilson': 2347419,\n",
       " 'saves': 1818601,\n",
       " 'senator': 1873182,\n",
       " 'robert': 1781987,\n",
       " 'dilly': 565839,\n",
       " 'john': 1122242,\n",
       " 'aprea': 129236,\n",
       " 'assassination': 146370,\n",
       " 'group': 938480,\n",
       " 'known': 1161953,\n",
       " 'uhr': 2222995,\n",
       " 'union': 2238702,\n",
       " 'human': 1031716,\n",
       " 'rights': 1776053,\n",
       " 'angry': 105104,\n",
       " 'spearheading': 1986284,\n",
       " 'computerised': 427365,\n",
       " 'judicial': 1129969,\n",
       " 'system': 2088816,\n",
       " 'robots': 1783419,\n",
       " 'called': 300734,\n",
       " 'cybertrackers': 498633,\n",
       " 'sent': 1876432,\n",
       " 'determine': 551993,\n",
       " 'dispense': 583351,\n",
       " 'justice': 1132707,\n",
       " 'guilty': 944367,\n",
       " 'anyway': 118475,\n",
       " 'impressed': 1058018,\n",
       " 'decides': 525315,\n",
       " 'see': 1855469,\n",
       " 'trust': 2204578,\n",
       " 'shady': 1894425,\n",
       " 'activities': 41064,\n",
       " 'cold': 399906,\n",
       " 'blooded': 243179,\n",
       " 'murder': 1414024,\n",
       " 'traitor': 2187575,\n",
       " 'fine': 801490,\n",
       " 'upstanding': 2249997,\n",
       " 'kills': 1150527,\n",
       " 'asked': 143790,\n",
       " 'keep': 1137585,\n",
       " 'quiet': 1686265,\n",
       " 'escapes': 683302,\n",
       " 'sets': 1887643,\n",
       " 'bring': 274873,\n",
       " 'however': 1027319,\n",
       " 'lots': 1260713,\n",
       " 'powerful': 1630869,\n",
       " 'uses': 2256647,\n",
       " 'influence': 1073433,\n",
       " 'frame': 840816,\n",
       " 'pursuit': 1677408,\n",
       " 'produced': 1654333,\n",
       " 'directed': 568026,\n",
       " 'richard': 1770385,\n",
       " 'pepin': 1559781,\n",
       " 'films': 792537,\n",
       " 'give': 895296,\n",
       " 'name': 1425768,\n",
       " 'jacobsen': 1110084,\n",
       " 'hart': 969739,\n",
       " 'predictable': 1635125,\n",
       " 'excite': 713141,\n",
       " 'steals': 2016864,\n",
       " 'ideas': 1043958,\n",
       " 'theme': 2126609,\n",
       " 'better': 221722,\n",
       " 'sci': 1838212,\n",
       " 'fi': 774854,\n",
       " 'heady': 976687,\n",
       " 'mix': 1369940,\n",
       " 'martial': 1311551,\n",
       " 'arts': 141168,\n",
       " 'gel': 873423,\n",
       " 'fights': 778809,\n",
       " 'car': 313252,\n",
       " 'chases': 356418,\n",
       " 'couple': 465506,\n",
       " 'shoot': 1905330,\n",
       " 'outs': 1518152,\n",
       " 'rather': 1700319,\n",
       " 'bland': 238356,\n",
       " 'forgettable': 831627,\n",
       " 'lacks': 1169807,\n",
       " 'imagination': 1050579,\n",
       " 'considering': 439009,\n",
       " 'deals': 519260,\n",
       " 'technology': 2109229,\n",
       " 'society': 1959944,\n",
       " 'particular': 1540819,\n",
       " 'speaking': 1985648,\n",
       " 'fantastic': 751793,\n",
       " 'robocop': 1783054,\n",
       " '1987': 10670,\n",
       " 'mixed': 1370283,\n",
       " 'violent': 2283650,\n",
       " 'clever': 387865,\n",
       " 'social': 1959403,\n",
       " 'commentary': 414912,\n",
       " 'brilliantly': 274585,\n",
       " 'even': 690837,\n",
       " 'try': 2205710,\n",
       " 'relevant': 1738534,\n",
       " 'statement': 2013571,\n",
       " 'portray': 1621755,\n",
       " 'meaningful': 1329705,\n",
       " 'moral': 1383896,\n",
       " 'message': 1345955,\n",
       " 'law': 1185883,\n",
       " 'enforcement': 662617,\n",
       " 'basically': 190737,\n",
       " 'managed': 1298918,\n",
       " 'include': 1062226,\n",
       " 'story': 2030682,\n",
       " 'entertaining': 672128,\n",
       " 'director': 570699,\n",
       " 'ok': 1488577,\n",
       " 'stands': 2004881,\n",
       " 'particularly': 1541450,\n",
       " 'exciting': 713593,\n",
       " 'elements': 644113,\n",
       " 'robot': 1783122,\n",
       " 'side': 1922092,\n",
       " 'things': 2132157,\n",
       " 'futuristic': 862459,\n",
       " 'scenes': 1831980,\n",
       " 'alright': 83909,\n",
       " 'exploding': 724977,\n",
       " 'cars': 321322,\n",
       " 'spectacular': 1987883,\n",
       " 'technically': 2108512,\n",
       " 'average': 163383,\n",
       " 'supposedly': 2072670,\n",
       " 'already': 82962,\n",
       " 'looks': 1253991,\n",
       " 'dated': 509374,\n",
       " 'special': 1986350,\n",
       " 'effects': 636702,\n",
       " 'poor': 1617308,\n",
       " 'acting': 36793,\n",
       " 'signs': 1925372,\n",
       " 'cheques': 361797,\n",
       " 'waste': 2306342,\n",
       " 'time': 2154364,\n",
       " 'original': 1510428,\n",
       " 'instantly': 1082629,\n",
       " 'needs': 1439532,\n",
       " 'recommended': 1723741,\n",
       " 'cybertracker set': 498631,\n",
       " 'set los': 1886793,\n",
       " 'los angeles': 1256455,\n",
       " 'angeles sometime': 103927,\n",
       " 'sometime near': 1968845,\n",
       " 'near future': 1435272,\n",
       " 'future bodyguard': 861765,\n",
       " 'bodyguard eric': 248567,\n",
       " 'eric phillips': 681314,\n",
       " 'phillips co': 1576200,\n",
       " 'co producer': 396654,\n",
       " 'producer dragon': 1654971,\n",
       " 'dragon wilson': 603377,\n",
       " 'wilson saves': 2347607,\n",
       " 'saves senator': 1818693,\n",
       " 'senator robert': 1873229,\n",
       " 'robert dilly': 1782067,\n",
       " 'dilly john': 565846,\n",
       " 'john aprea': 1122271,\n",
       " 'aprea assassination': 129237,\n",
       " 'assassination attempt': 146379,\n",
       " 'attempt group': 153391,\n",
       " 'group known': 938929,\n",
       " 'known uhr': 1162841,\n",
       " 'uhr union': 2222998,\n",
       " 'union human': 2238786,\n",
       " 'human rights': 1032375,\n",
       " 'rights angry': 1776067,\n",
       " 'angry dilly': 105175,\n",
       " 'dilly spearheading': 565854,\n",
       " 'spearheading computerised': 1986285,\n",
       " 'computerised judicial': 427366,\n",
       " 'judicial system': 1129974,\n",
       " 'system robots': 2089118,\n",
       " 'robots called': 1783433,\n",
       " 'called cybertrackers': 301039,\n",
       " 'cybertrackers sent': 498634,\n",
       " 'sent determine': 1876500,\n",
       " 'determine dispense': 552001,\n",
       " 'dispense justice': 583360,\n",
       " 'justice guilty': 1132848,\n",
       " ...}"
      ]
     },
     "execution_count": 59,
     "metadata": {},
     "output_type": "execute_result"
    }
   ],
   "source": [
    "cvect = CountVectorizer(stop_words=printer, ngram_range=(1, 2))\n",
    "text_cvect = cvect.fit_transform(X_train)\n",
    "cvect.vocabulary_"
   ]
  },
  {
   "cell_type": "code",
   "execution_count": 63,
   "id": "723ea75e",
   "metadata": {},
   "outputs": [
    {
     "data": {
      "text/plain": [
       "<Figure size 864x720 with 0 Axes>"
      ]
     },
     "execution_count": 63,
     "metadata": {},
     "output_type": "execute_result"
    },
    {
     "data": {
      "text/plain": [
       "(0.0, 1.0, 0.0, 1.0)"
      ]
     },
     "execution_count": 63,
     "metadata": {},
     "output_type": "execute_result"
    },
    {
     "data": {
      "text/plain": [
       "<matplotlib.image.AxesImage at 0x25f125f8700>"
      ]
     },
     "execution_count": 63,
     "metadata": {},
     "output_type": "execute_result"
    },
    {
     "data": {
      "text/plain": [
       "<Figure size 720x576 with 0 Axes>"
      ]
     },
     "metadata": {},
     "output_type": "display_data"
    },
    {
     "data": {
      "image/png": "[encoded data removed]",
      "text/plain": [
       "<Figure size 864x720 with 1 Axes>"
      ]
     },
     "metadata": {
      "needs_background": "light"
     },
     "output_type": "display_data"
    }
   ],
   "source": [
    "from wordcloud import WordCloud, STOPWORDS\n",
    "\n",
    "fig = plt.figure()\n",
    "plt.figure(figsize=(12,10))\n",
    "plt.axis(\"off\")\n",
    "\n",
    "pos_tweets = data[data[\"sentiment\"] == 1]\n",
    "pos_string = []\n",
    "for t in pos_tweets[\"review\"]:\n",
    "    pos_string.append(t)\n",
    "pos_string = pd.Series(pos_string).str.cat(sep=\" \")\n",
    "\n",
    "pos_wordcloud = WordCloud(width=1600, height=800, max_font_size=200, background_color='white').generate(pos_string)\n",
    "plt.imshow(pos_wordcloud, interpolation=\"bilinear\")\n",
    "plt.show()"
   ]
  },
  {
   "cell_type": "code",
   "execution_count": 70,
   "id": "438e59b0",
   "metadata": {},
   "outputs": [],
   "source": [
    "pipelineNewLan = Pipeline([\n",
    "    ('MyTrans', MyTransformerLanc()),\n",
    "    ('vec', CountVectorizer(stop_words=printer)),\n",
    "    ('log_reg', LogisticRegression())\n",
    "])\n",
    "grid_search_log_reg = GridSearchCV(estimator=pipelineNewLan, param_grid={'log_reg__C': [0.02,0.05,0.1,0.5]}, cv=KFold(n_splits=5), scoring=\"roc_auc\", n_jobs=-1)"
   ]
  },
  {
   "cell_type": "code",
   "execution_count": 71,
   "id": "1e1fa032",
   "metadata": {},
   "outputs": [
    {
     "name": "stderr",
     "output_type": "stream",
     "text": [
      "E:\\Python\\anaconda\\lib\\site-packages\\sklearn\\linear_model\\_logistic.py:763: ConvergenceWarning: lbfgs failed to converge (status=1):\n",
      "STOP: TOTAL NO. of ITERATIONS REACHED LIMIT.\n",
      "\n",
      "Increase the number of iterations (max_iter) or scale the data as shown in:\n",
      "    https://scikit-learn.org/stable/modules/preprocessing.html\n",
      "Please also refer to the documentation for alternative solver options:\n",
      "    https://scikit-learn.org/stable/modules/linear_model.html#logistic-regression\n",
      "  n_iter_i = _check_optimize_result(\n"
     ]
    },
    {
     "data": {
      "text/plain": [
       "GridSearchCV(cv=KFold(n_splits=5, random_state=None, shuffle=False),\n",
       "             estimator=Pipeline(steps=[('MyTrans', MyTransformerLanc()),\n",
       "                                       ('vec',\n",
       "                                        CountVectorizer(stop_words=['i', 'me',\n",
       "                                                                    'my',\n",
       "                                                                    'myself',\n",
       "                                                                    'we', 'our',\n",
       "                                                                    'ours',\n",
       "                                                                    'ourselves',\n",
       "                                                                    'you',\n",
       "                                                                    \"you're\",\n",
       "                                                                    \"you've\",\n",
       "                                                                    \"you'll\",\n",
       "                                                                    \"you'd\",\n",
       "                                                                    'your',\n",
       "                                                                    'yours',\n",
       "                                                                    'yourself',\n",
       "                                                                    'yourselves',\n",
       "                                                                    'he', 'him',\n",
       "                                                                    'his',\n",
       "                                                                    'himself',\n",
       "                                                                    'she',\n",
       "                                                                    \"she's\",\n",
       "                                                                    'her',\n",
       "                                                                    'hers',\n",
       "                                                                    'herself',\n",
       "                                                                    'it',\n",
       "                                                                    \"it's\",\n",
       "                                                                    'its',\n",
       "                                                                    'itself', ...])),\n",
       "                                       ('log_reg', LogisticRegression())]),\n",
       "             n_jobs=-1, param_grid={'log_reg__C': [0.02, 0.05, 0.1, 0.5]},\n",
       "             scoring='roc_auc')"
      ]
     },
     "execution_count": 71,
     "metadata": {},
     "output_type": "execute_result"
    }
   ],
   "source": [
    "grid_search_log_reg.fit(X_train,y_train)"
   ]
  },
  {
   "cell_type": "code",
   "execution_count": 72,
   "id": "6148f46d",
   "metadata": {},
   "outputs": [
    {
     "data": {
      "text/plain": [
       "{'log_reg__C': 0.05}"
      ]
     },
     "execution_count": 72,
     "metadata": {},
     "output_type": "execute_result"
    },
    {
     "name": "stdout",
     "output_type": "stream",
     "text": [
      "              precision    recall  f1-score   support\n",
      "\n",
      "           0       0.89      0.88      0.88      7335\n",
      "           1       0.88      0.89      0.89      7418\n",
      "\n",
      "    accuracy                           0.88     14753\n",
      "   macro avg       0.88      0.88      0.88     14753\n",
      "weighted avg       0.88      0.88      0.88     14753\n",
      "\n"
     ]
    }
   ],
   "source": [
    "grid_search_log_reg.best_params_\n",
    "y_pred = grid_search_log_reg.predict(X_test)\n",
    "print(classification_report(y_test, y_pred))"
   ]
  },
  {
   "cell_type": "code",
   "execution_count": 73,
   "id": "8f526d53",
   "metadata": {},
   "outputs": [
    {
     "name": "stdout",
     "output_type": "stream",
     "text": [
      "0.8849047651325154\n"
     ]
    }
   ],
   "source": [
    "print(checker(y_pred,y_test.values))"
   ]
  },
  {
   "cell_type": "markdown",
   "id": "33948872",
   "metadata": {},
   "source": [
    "LancasterStemmer is better"
   ]
  },
  {
   "cell_type": "code",
   "execution_count": 80,
   "id": "2c1e0089",
   "metadata": {},
   "outputs": [],
   "source": [
    "from nltk.stem import WordNetLemmatizer"
   ]
  },
  {
   "cell_type": "code",
   "execution_count": 81,
   "id": "31139ee1",
   "metadata": {},
   "outputs": [],
   "source": [
    "wordnet_lemmatizer = WordNetLemmatizer()"
   ]
  },
  {
   "cell_type": "code",
   "execution_count": 99,
   "id": "f49e4613",
   "metadata": {},
   "outputs": [],
   "source": [
    "class MyTransformerLemm(BaseEstimator, TransformerMixin): \n",
    "    def __init__(self):\n",
    "        BaseEstimator.__init__(self)\n",
    "        TransformerMixin.__init__(self)\n",
    "    def fit(self, ar, y=None):\n",
    "        return self\n",
    "    def transform(self, ar, y=None):\n",
    "        j = 0\n",
    "        for i in range(ar.shape[0]):\n",
    "            a = \"\"\n",
    "            words = word_tokenize(ar.values[i])\n",
    "            for j in range(len(words)):\n",
    "                if j == 0:\n",
    "                    a += wordnet_lemmatizer.lemmatize(words[j])\n",
    "                else:\n",
    "                    a += (\" \" + wordnet_lemmatizer.lemmatize(words[j]))\n",
    "            ar.values[i] = a\n",
    "        return ar"
   ]
  },
  {
   "cell_type": "code",
   "execution_count": 100,
   "id": "e427f612",
   "metadata": {
    "scrolled": true
   },
   "outputs": [
    {
     "name": "stdout",
     "output_type": "stream",
     "text": [
      "Starting\n",
      "start\n",
      "start\n"
     ]
    }
   ],
   "source": [
    "wordnet_lemmatizer = WordNetLemmatizer()\n",
    "print(\"Starting\")\n",
    "print(wordnet_lemmatizer.lemmatize(\"starting\", pos=\"v\"))\n",
    "print(lancaster.stem(\"Starting\"))"
   ]
  },
  {
   "cell_type": "code",
   "execution_count": 101,
   "id": "fa5a1585",
   "metadata": {},
   "outputs": [],
   "source": [
    "pipelineNewLemm = Pipeline([\n",
    "    ('MyTrans', MyTransformerLemm()),\n",
    "    ('vec', CountVectorizer(stop_words=printer)),\n",
    "    ('log_reg', LogisticRegression(C = 0.05, n_jobs=-1))\n",
    "])"
   ]
  },
  {
   "cell_type": "code",
   "execution_count": 102,
   "id": "eb5305ab",
   "metadata": {
    "scrolled": false
   },
   "outputs": [
    {
     "data": {
      "text/plain": [
       "Pipeline(steps=[('MyTrans', MyTransformerLemm()),\n",
       "                ('vec',\n",
       "                 CountVectorizer(stop_words=['i', 'me', 'my', 'myself', 'we',\n",
       "                                             'our', 'ours', 'ourselves', 'you',\n",
       "                                             \"you're\", \"you've\", \"you'll\",\n",
       "                                             \"you'd\", 'your', 'yours',\n",
       "                                             'yourself', 'yourselves', 'he',\n",
       "                                             'him', 'his', 'himself', 'she',\n",
       "                                             \"she's\", 'her', 'hers', 'herself',\n",
       "                                             'it', \"it's\", 'its', 'itself', ...])),\n",
       "                ('log_reg', LogisticRegression(C=0.05, n_jobs=-1))])"
      ]
     },
     "execution_count": 102,
     "metadata": {},
     "output_type": "execute_result"
    }
   ],
   "source": [
    "pipelineNewLemm.fit(X_train,y_train)"
   ]
  },
  {
   "cell_type": "code",
   "execution_count": 112,
   "id": "e136262b",
   "metadata": {
    "scrolled": false
   },
   "outputs": [
    {
     "name": "stdout",
     "output_type": "stream",
     "text": [
      "              precision    recall  f1-score   support\n",
      "\n",
      "           0       0.88      0.87      0.88      7335\n",
      "           1       0.88      0.89      0.88      7418\n",
      "\n",
      "    accuracy                           0.88     14753\n",
      "   macro avg       0.88      0.88      0.88     14753\n",
      "weighted avg       0.88      0.88      0.88     14753\n",
      "\n"
     ]
    }
   ],
   "source": [
    "y_pred = pipelineNewLemm.predict(X_test)\n",
    "print(classification_report(y_test, y_pred))"
   ]
  },
  {
   "cell_type": "markdown",
   "id": "3b1b5c7a",
   "metadata": {},
   "source": [
    "As we can see in this task Strming works better than Lemmatization"
   ]
  },
  {
   "cell_type": "markdown",
   "id": "755ce6ec",
   "metadata": {},
   "source": [
    "## Tf-idf"
   ]
  },
  {
   "cell_type": "code",
   "execution_count": 76,
   "id": "8538b4cb",
   "metadata": {},
   "outputs": [],
   "source": [
    "from sklearn.linear_model import SGDClassifier\n",
    "from sklearn.feature_extraction.text import TfidfVectorizer"
   ]
  },
  {
   "cell_type": "code",
   "execution_count": 77,
   "id": "8bbbe69e",
   "metadata": {},
   "outputs": [],
   "source": [
    "pipelineNewTf = Pipeline(\n",
    "    [('MyTrans', MyTransformerLanc()),\n",
    "     (\"vectorizer\", TfidfVectorizer(stop_words=printer)),\n",
    "    ('sgd', LogisticRegression(C = 0.05, n_jobs=-1))\n",
    "    ]\n",
    ")"
   ]
  },
  {
   "cell_type": "code",
   "execution_count": 78,
   "id": "04ade7d3",
   "metadata": {},
   "outputs": [
    {
     "data": {
      "text/plain": [
       "Pipeline(steps=[('MyTrans', MyTransformerLanc()),\n",
       "                ('vectorizer',\n",
       "                 TfidfVectorizer(stop_words=['i', 'me', 'my', 'myself', 'we',\n",
       "                                             'our', 'ours', 'ourselves', 'you',\n",
       "                                             \"you're\", \"you've\", \"you'll\",\n",
       "                                             \"you'd\", 'your', 'yours',\n",
       "                                             'yourself', 'yourselves', 'he',\n",
       "                                             'him', 'his', 'himself', 'she',\n",
       "                                             \"she's\", 'her', 'hers', 'herself',\n",
       "                                             'it', \"it's\", 'its', 'itself', ...])),\n",
       "                ('sgd', LogisticRegression(C=0.05, n_jobs=-1))])"
      ]
     },
     "execution_count": 78,
     "metadata": {},
     "output_type": "execute_result"
    }
   ],
   "source": [
    "pipelineNewTf.fit(X_train,y_train)"
   ]
  },
  {
   "cell_type": "code",
   "execution_count": 113,
   "id": "4c894afa",
   "metadata": {
    "scrolled": true
   },
   "outputs": [
    {
     "name": "stdout",
     "output_type": "stream",
     "text": [
      "              precision    recall  f1-score   support\n",
      "\n",
      "           0       0.88      0.81      0.84      7335\n",
      "           1       0.83      0.89      0.86      7418\n",
      "\n",
      "    accuracy                           0.85     14753\n",
      "   macro avg       0.85      0.85      0.85     14753\n",
      "weighted avg       0.85      0.85      0.85     14753\n",
      "\n"
     ]
    }
   ],
   "source": [
    "y_pred = pipelineNewTf.predict(X_test)\n",
    "print(classification_report(y_test, y_pred))"
   ]
  },
  {
   "cell_type": "markdown",
   "id": "3361a1f9",
   "metadata": {},
   "source": [
    "Box of words better than tf-idf"
   ]
  },
  {
   "cell_type": "markdown",
   "id": "51151e29",
   "metadata": {},
   "source": [
    "## SVM"
   ]
  },
  {
   "cell_type": "code",
   "execution_count": 115,
   "id": "b6ee93b1",
   "metadata": {},
   "outputs": [],
   "source": [
    "from sklearn.svm import SVC\n",
    "pipelineNewSVM = Pipeline(\n",
    "    [('MyTrans', MyTransformerLanc()),\n",
    "     (\"vectorizer\", CountVectorizer(stop_words=printer)),\n",
    "    ('svc', SVC(C = 0.05))\n",
    "    ]\n",
    ")"
   ]
  },
  {
   "cell_type": "code",
   "execution_count": 116,
   "id": "b6cfb4a3",
   "metadata": {},
   "outputs": [
    {
     "data": {
      "text/plain": [
       "Pipeline(steps=[('MyTrans', MyTransformerLanc()),\n",
       "                ('vectorizer',\n",
       "                 CountVectorizer(stop_words=['i', 'me', 'my', 'myself', 'we',\n",
       "                                             'our', 'ours', 'ourselves', 'you',\n",
       "                                             \"you're\", \"you've\", \"you'll\",\n",
       "                                             \"you'd\", 'your', 'yours',\n",
       "                                             'yourself', 'yourselves', 'he',\n",
       "                                             'him', 'his', 'himself', 'she',\n",
       "                                             \"she's\", 'her', 'hers', 'herself',\n",
       "                                             'it', \"it's\", 'its', 'itself', ...])),\n",
       "                ('svc', SVC(C=0.05))])"
      ]
     },
     "execution_count": 116,
     "metadata": {},
     "output_type": "execute_result"
    }
   ],
   "source": [
    "pipelineNewSVM.fit(X_train,y_train)"
   ]
  },
  {
   "cell_type": "code",
   "execution_count": 117,
   "id": "23f01a46",
   "metadata": {},
   "outputs": [
    {
     "name": "stdout",
     "output_type": "stream",
     "text": [
      "              precision    recall  f1-score   support\n",
      "\n",
      "           0       0.86      0.70      0.77      7335\n",
      "           1       0.75      0.89      0.81      7418\n",
      "\n",
      "    accuracy                           0.79     14753\n",
      "   macro avg       0.80      0.79      0.79     14753\n",
      "weighted avg       0.80      0.79      0.79     14753\n",
      "\n"
     ]
    }
   ],
   "source": [
    "y_pred = pipelineNewSVM.predict(X_test)\n",
    "print(classification_report(y_test, y_pred))"
   ]
  },
  {
   "cell_type": "markdown",
   "id": "b36ac9f3",
   "metadata": {},
   "source": [
    "## Naive Bayes"
   ]
  },
  {
   "cell_type": "code",
   "execution_count": 119,
   "id": "fd5dfa17",
   "metadata": {},
   "outputs": [],
   "source": [
    "from sklearn.naive_bayes import MultinomialNB\n",
    "pipelineNewNB = Pipeline(\n",
    "    [('MyTrans', MyTransformerLanc()),\n",
    "     (\"vectorizer\", CountVectorizer(stop_words=printer)),\n",
    "    ('NB', MultinomialNB())\n",
    "    ]\n",
    ")"
   ]
  },
  {
   "cell_type": "code",
   "execution_count": 120,
   "id": "10f66d86",
   "metadata": {},
   "outputs": [
    {
     "data": {
      "text/plain": [
       "Pipeline(steps=[('MyTrans', MyTransformerLanc()),\n",
       "                ('vectorizer',\n",
       "                 CountVectorizer(stop_words=['i', 'me', 'my', 'myself', 'we',\n",
       "                                             'our', 'ours', 'ourselves', 'you',\n",
       "                                             \"you're\", \"you've\", \"you'll\",\n",
       "                                             \"you'd\", 'your', 'yours',\n",
       "                                             'yourself', 'yourselves', 'he',\n",
       "                                             'him', 'his', 'himself', 'she',\n",
       "                                             \"she's\", 'her', 'hers', 'herself',\n",
       "                                             'it', \"it's\", 'its', 'itself', ...])),\n",
       "                ('NB', MultinomialNB())])"
      ]
     },
     "execution_count": 120,
     "metadata": {},
     "output_type": "execute_result"
    }
   ],
   "source": [
    "pipelineNewNB.fit(X_train,y_train)"
   ]
  },
  {
   "cell_type": "code",
   "execution_count": 121,
   "id": "ebf173ca",
   "metadata": {},
   "outputs": [
    {
     "name": "stdout",
     "output_type": "stream",
     "text": [
      "              precision    recall  f1-score   support\n",
      "\n",
      "           0       0.83      0.87      0.85      7335\n",
      "           1       0.86      0.82      0.84      7418\n",
      "\n",
      "    accuracy                           0.84     14753\n",
      "   macro avg       0.84      0.84      0.84     14753\n",
      "weighted avg       0.84      0.84      0.84     14753\n",
      "\n"
     ]
    }
   ],
   "source": [
    "y_pred = pipelineNewNB.predict(X_test)\n",
    "print(classification_report(y_test, y_pred))"
   ]
  },
  {
   "cell_type": "code",
   "execution_count": 125,
   "id": "f2a5e6dd",
   "metadata": {},
   "outputs": [
    {
     "data": {
      "image/png": "[encoded data removed]",
      "text/plain": [
       "<Figure size 720x576 with 1 Axes>"
      ]
     },
     "metadata": {
      "needs_background": "light"
     },
     "output_type": "display_data"
    }
   ],
   "source": [
    "fig, ax = plt.subplots()\n",
    "from sklearn.metrics import plot_roc_curve\n",
    "models = [\n",
    "    (\"log_reg\", grid_search_log_reg.best_estimator_),\n",
    "    (\"log_reg_tfidf\", pipelineNewSVM),\n",
    "    (\"grid_search_NB\", pipelineNewNB)\n",
    "]\n",
    "\n",
    "model_displays = {}\n",
    "for name, pipeline in models:\n",
    "    model_displays[name] = plot_roc_curve(\n",
    "        pipeline, X_test, y_test, ax=ax, name=name)\n",
    "_ = ax.set_title('ROC curve')"
   ]
  }
 ],
 "metadata": {
  "kernelspec": {
   "display_name": "Python 3",
   "language": "python",
   "name": "python3"
  },
  "language_info": {
   "codemirror_mode": {
    "name": "ipython",
    "version": 3
   },
   "file_extension": ".py",
   "mimetype": "text/x-python",
   "name": "python",
   "nbconvert_exporter": "python",
   "pygments_lexer": "ipython3",
   "version": "3.8.8"
  }
 },
 "nbformat": 4,
 "nbformat_minor": 5
}
