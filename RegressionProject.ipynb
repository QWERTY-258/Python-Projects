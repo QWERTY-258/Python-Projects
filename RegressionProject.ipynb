{
 "cells": [
  {
   "attachments": {},
   "cell_type": "markdown",
   "id": "018313d4",
   "metadata": {},
   "source": [
    "## RegressionProject"
   ]
  },
  {
   "cell_type": "code",
   "execution_count": 1,
   "id": "e571326f",
   "metadata": {},
   "outputs": [],
   "source": [
    "import pandas as pd\n",
    "import numpy as np\n",
    "\n",
    "import xgboost as xgb\n",
    "import seaborn as sns\n",
    "import matplotlib.pyplot as plt\n",
    "\n",
    "from catboost import CatBoostRegressor\n",
    "from lightgbm import LGBMRegressor\n",
    "from sklearn.ensemble import RandomForestRegressor, AdaBoostRegressor\n",
    "from sklearn.neighbors import KNeighborsRegressor\n",
    "from sklearn.model_selection import train_test_split, GridSearchCV\n",
    "from sklearn.linear_model import LinearRegression, Ridge, Lasso, ElasticNet\n",
    "from sklearn.preprocessing import StandardScaler\n",
    "from sklearn import metrics\n",
    "from sklearn.metrics import mean_squared_error, r2_score"
   ]
  },
  {
   "cell_type": "code",
   "execution_count": 50,
   "id": "998aa8cb",
   "metadata": {},
   "outputs": [],
   "source": [
    "df = pd.read_csv('Fish.csv')"
   ]
  },
  {
   "cell_type": "markdown",
   "id": "357b84a7",
   "metadata": {},
   "source": [
    "Information about dataset."
   ]
  },
  {
   "cell_type": "code",
   "execution_count": 51,
   "id": "2cd6c939",
   "metadata": {
    "scrolled": false
   },
   "outputs": [
    {
     "data": {
      "text/html": [
       "<div>\n",
       "<style scoped>\n",
       "    .dataframe tbody tr th:only-of-type {\n",
       "        vertical-align: middle;\n",
       "    }\n",
       "\n",
       "    .dataframe tbody tr th {\n",
       "        vertical-align: top;\n",
       "    }\n",
       "\n",
       "    .dataframe thead th {\n",
       "        text-align: right;\n",
       "    }\n",
       "</style>\n",
       "<table border=\"1\" class=\"dataframe\">\n",
       "  <thead>\n",
       "    <tr style=\"text-align: right;\">\n",
       "      <th></th>\n",
       "      <th>Species</th>\n",
       "      <th>Weight</th>\n",
       "      <th>Length1</th>\n",
       "      <th>Length2</th>\n",
       "      <th>Length3</th>\n",
       "      <th>Height</th>\n",
       "      <th>Width</th>\n",
       "    </tr>\n",
       "  </thead>\n",
       "  <tbody>\n",
       "    <tr>\n",
       "      <th>0</th>\n",
       "      <td>Bream</td>\n",
       "      <td>242.0</td>\n",
       "      <td>23.2</td>\n",
       "      <td>25.4</td>\n",
       "      <td>30.0</td>\n",
       "      <td>11.5200</td>\n",
       "      <td>4.0200</td>\n",
       "    </tr>\n",
       "    <tr>\n",
       "      <th>1</th>\n",
       "      <td>Bream</td>\n",
       "      <td>290.0</td>\n",
       "      <td>24.0</td>\n",
       "      <td>26.3</td>\n",
       "      <td>31.2</td>\n",
       "      <td>12.4800</td>\n",
       "      <td>4.3056</td>\n",
       "    </tr>\n",
       "    <tr>\n",
       "      <th>2</th>\n",
       "      <td>Bream</td>\n",
       "      <td>340.0</td>\n",
       "      <td>23.9</td>\n",
       "      <td>26.5</td>\n",
       "      <td>31.1</td>\n",
       "      <td>12.3778</td>\n",
       "      <td>4.6961</td>\n",
       "    </tr>\n",
       "    <tr>\n",
       "      <th>3</th>\n",
       "      <td>Bream</td>\n",
       "      <td>363.0</td>\n",
       "      <td>26.3</td>\n",
       "      <td>29.0</td>\n",
       "      <td>33.5</td>\n",
       "      <td>12.7300</td>\n",
       "      <td>4.4555</td>\n",
       "    </tr>\n",
       "    <tr>\n",
       "      <th>4</th>\n",
       "      <td>Bream</td>\n",
       "      <td>430.0</td>\n",
       "      <td>26.5</td>\n",
       "      <td>29.0</td>\n",
       "      <td>34.0</td>\n",
       "      <td>12.4440</td>\n",
       "      <td>5.1340</td>\n",
       "    </tr>\n",
       "  </tbody>\n",
       "</table>\n",
       "</div>"
      ],
      "text/plain": [
       "  Species  Weight  Length1  Length2  Length3   Height   Width\n",
       "0   Bream   242.0     23.2     25.4     30.0  11.5200  4.0200\n",
       "1   Bream   290.0     24.0     26.3     31.2  12.4800  4.3056\n",
       "2   Bream   340.0     23.9     26.5     31.1  12.3778  4.6961\n",
       "3   Bream   363.0     26.3     29.0     33.5  12.7300  4.4555\n",
       "4   Bream   430.0     26.5     29.0     34.0  12.4440  5.1340"
      ]
     },
     "execution_count": 51,
     "metadata": {},
     "output_type": "execute_result"
    }
   ],
   "source": [
    "df.head()"
   ]
  },
  {
   "cell_type": "code",
   "execution_count": 52,
   "id": "d34c62db",
   "metadata": {},
   "outputs": [
    {
     "data": {
      "text/plain": [
       "(159, 7)"
      ]
     },
     "execution_count": 52,
     "metadata": {},
     "output_type": "execute_result"
    }
   ],
   "source": [
    "df.shape"
   ]
  },
  {
   "cell_type": "code",
   "execution_count": 53,
   "id": "c0c81025",
   "metadata": {},
   "outputs": [
    {
     "name": "stdout",
     "output_type": "stream",
     "text": [
      "<class 'pandas.core.frame.DataFrame'>\n",
      "RangeIndex: 159 entries, 0 to 158\n",
      "Data columns (total 7 columns):\n",
      " #   Column   Non-Null Count  Dtype  \n",
      "---  ------   --------------  -----  \n",
      " 0   Species  159 non-null    object \n",
      " 1   Weight   159 non-null    float64\n",
      " 2   Length1  159 non-null    float64\n",
      " 3   Length2  159 non-null    float64\n",
      " 4   Length3  159 non-null    float64\n",
      " 5   Height   159 non-null    float64\n",
      " 6   Width    159 non-null    float64\n",
      "dtypes: float64(6), object(1)\n",
      "memory usage: 8.8+ KB\n"
     ]
    }
   ],
   "source": [
    "df.info()"
   ]
  },
  {
   "cell_type": "code",
   "execution_count": 54,
   "id": "d5c0e010",
   "metadata": {},
   "outputs": [
    {
     "data": {
      "text/plain": [
       "Species    0\n",
       "Weight     0\n",
       "Length1    0\n",
       "Length2    0\n",
       "Length3    0\n",
       "Height     0\n",
       "Width      0\n",
       "dtype: int64"
      ]
     },
     "execution_count": 54,
     "metadata": {},
     "output_type": "execute_result"
    }
   ],
   "source": [
    "df.isna().sum()"
   ]
  },
  {
   "cell_type": "markdown",
   "id": "5eab4ff0",
   "metadata": {},
   "source": [
    "In this dataset, each cell has a value, so I don't need to deal with processing of missing values. All features have `float64` type, with the exception of the `Species` feature, it's values are of type `object`. In the future I processing this feature with `pd.get_dummies(X)` fanction and will work with it as with categorical data."
   ]
  },
  {
   "cell_type": "markdown",
   "id": "b6c2d97a",
   "metadata": {},
   "source": [
    "We will predict the weight of fishs, it means as `TARGET` we will use `Weight` feature."
   ]
  },
  {
   "cell_type": "code",
   "execution_count": 56,
   "id": "7db03069",
   "metadata": {},
   "outputs": [],
   "source": [
    "TARGET = 'Weight'\n",
    "X_df = df.drop([TARGET], axis=1)\n",
    "y_df = df[TARGET]"
   ]
  },
  {
   "cell_type": "markdown",
   "id": "cbb780fe",
   "metadata": {},
   "source": [
    "Let's split the data into `test` and` train`."
   ]
  },
  {
   "cell_type": "code",
   "execution_count": 57,
   "id": "d3b4524c",
   "metadata": {},
   "outputs": [],
   "source": [
    "RANDOM_STATE = 21\n",
    "X_train, X_test, y_train, y_test = train_test_split(X_df, y_df, test_size=0.3, random_state=RANDOM_STATE)"
   ]
  },
  {
   "cell_type": "code",
   "execution_count": 58,
   "id": "c617e692",
   "metadata": {
    "scrolled": false
   },
   "outputs": [
    {
     "data": {
      "text/html": [
       "<div>\n",
       "<style scoped>\n",
       "    .dataframe tbody tr th:only-of-type {\n",
       "        vertical-align: middle;\n",
       "    }\n",
       "\n",
       "    .dataframe tbody tr th {\n",
       "        vertical-align: top;\n",
       "    }\n",
       "\n",
       "    .dataframe thead th {\n",
       "        text-align: right;\n",
       "    }\n",
       "</style>\n",
       "<table border=\"1\" class=\"dataframe\">\n",
       "  <thead>\n",
       "    <tr style=\"text-align: right;\">\n",
       "      <th></th>\n",
       "      <th>Species</th>\n",
       "      <th>Length1</th>\n",
       "      <th>Length2</th>\n",
       "      <th>Length3</th>\n",
       "      <th>Height</th>\n",
       "      <th>Width</th>\n",
       "    </tr>\n",
       "  </thead>\n",
       "  <tbody>\n",
       "    <tr>\n",
       "      <th>45</th>\n",
       "      <td>Roach</td>\n",
       "      <td>20.5</td>\n",
       "      <td>22.5</td>\n",
       "      <td>25.3</td>\n",
       "      <td>7.0334</td>\n",
       "      <td>3.8203</td>\n",
       "    </tr>\n",
       "    <tr>\n",
       "      <th>111</th>\n",
       "      <td>Perch</td>\n",
       "      <td>32.5</td>\n",
       "      <td>35.0</td>\n",
       "      <td>37.3</td>\n",
       "      <td>11.4884</td>\n",
       "      <td>7.7957</td>\n",
       "    </tr>\n",
       "    <tr>\n",
       "      <th>146</th>\n",
       "      <td>Smelt</td>\n",
       "      <td>10.0</td>\n",
       "      <td>10.5</td>\n",
       "      <td>11.6</td>\n",
       "      <td>1.9720</td>\n",
       "      <td>1.1600</td>\n",
       "    </tr>\n",
       "    <tr>\n",
       "      <th>158</th>\n",
       "      <td>Smelt</td>\n",
       "      <td>13.8</td>\n",
       "      <td>15.0</td>\n",
       "      <td>16.2</td>\n",
       "      <td>2.9322</td>\n",
       "      <td>1.8792</td>\n",
       "    </tr>\n",
       "    <tr>\n",
       "      <th>54</th>\n",
       "      <td>Roach</td>\n",
       "      <td>29.5</td>\n",
       "      <td>31.7</td>\n",
       "      <td>35.0</td>\n",
       "      <td>9.4850</td>\n",
       "      <td>5.3550</td>\n",
       "    </tr>\n",
       "  </tbody>\n",
       "</table>\n",
       "</div>"
      ],
      "text/plain": [
       "    Species  Length1  Length2  Length3   Height   Width\n",
       "45    Roach     20.5     22.5     25.3   7.0334  3.8203\n",
       "111   Perch     32.5     35.0     37.3  11.4884  7.7957\n",
       "146   Smelt     10.0     10.5     11.6   1.9720  1.1600\n",
       "158   Smelt     13.8     15.0     16.2   2.9322  1.8792\n",
       "54    Roach     29.5     31.7     35.0   9.4850  5.3550"
      ]
     },
     "execution_count": 58,
     "metadata": {},
     "output_type": "execute_result"
    }
   ],
   "source": [
    "X_train.head()"
   ]
  },
  {
   "cell_type": "code",
   "execution_count": 59,
   "id": "745a024c",
   "metadata": {},
   "outputs": [
    {
     "data": {
      "text/plain": [
       "45     160.0\n",
       "111    840.0\n",
       "146      7.5\n",
       "158     19.9\n",
       "54     390.0\n",
       "Name: Weight, dtype: float64"
      ]
     },
     "execution_count": 59,
     "metadata": {},
     "output_type": "execute_result"
    }
   ],
   "source": [
    "y_train.head()"
   ]
  },
  {
   "cell_type": "markdown",
   "id": "51091d3b",
   "metadata": {},
   "source": [
    "We will display the main information about the data for better understanding of the situation."
   ]
  },
  {
   "cell_type": "code",
   "execution_count": 60,
   "id": "c67937b4",
   "metadata": {
    "scrolled": false
   },
   "outputs": [
    {
     "data": {
      "text/html": [
       "<div>\n",
       "<style scoped>\n",
       "    .dataframe tbody tr th:only-of-type {\n",
       "        vertical-align: middle;\n",
       "    }\n",
       "\n",
       "    .dataframe tbody tr th {\n",
       "        vertical-align: top;\n",
       "    }\n",
       "\n",
       "    .dataframe thead th {\n",
       "        text-align: right;\n",
       "    }\n",
       "</style>\n",
       "<table border=\"1\" class=\"dataframe\">\n",
       "  <thead>\n",
       "    <tr style=\"text-align: right;\">\n",
       "      <th></th>\n",
       "      <th>Length1</th>\n",
       "      <th>Length2</th>\n",
       "      <th>Length3</th>\n",
       "      <th>Height</th>\n",
       "      <th>Width</th>\n",
       "    </tr>\n",
       "  </thead>\n",
       "  <tbody>\n",
       "    <tr>\n",
       "      <th>count</th>\n",
       "      <td>111.000000</td>\n",
       "      <td>111.000000</td>\n",
       "      <td>111.000000</td>\n",
       "      <td>111.000000</td>\n",
       "      <td>111.000000</td>\n",
       "    </tr>\n",
       "    <tr>\n",
       "      <th>mean</th>\n",
       "      <td>26.188288</td>\n",
       "      <td>28.359459</td>\n",
       "      <td>31.092793</td>\n",
       "      <td>8.927363</td>\n",
       "      <td>4.459573</td>\n",
       "    </tr>\n",
       "    <tr>\n",
       "      <th>std</th>\n",
       "      <td>10.130626</td>\n",
       "      <td>10.866582</td>\n",
       "      <td>11.752707</td>\n",
       "      <td>4.335018</td>\n",
       "      <td>1.768310</td>\n",
       "    </tr>\n",
       "    <tr>\n",
       "      <th>min</th>\n",
       "      <td>7.500000</td>\n",
       "      <td>8.400000</td>\n",
       "      <td>8.800000</td>\n",
       "      <td>1.728400</td>\n",
       "      <td>1.148400</td>\n",
       "    </tr>\n",
       "    <tr>\n",
       "      <th>25%</th>\n",
       "      <td>19.000000</td>\n",
       "      <td>20.750000</td>\n",
       "      <td>22.500000</td>\n",
       "      <td>5.830250</td>\n",
       "      <td>3.316250</td>\n",
       "    </tr>\n",
       "    <tr>\n",
       "      <th>50%</th>\n",
       "      <td>25.000000</td>\n",
       "      <td>27.000000</td>\n",
       "      <td>29.300000</td>\n",
       "      <td>8.145400</td>\n",
       "      <td>4.234000</td>\n",
       "    </tr>\n",
       "    <tr>\n",
       "      <th>75%</th>\n",
       "      <td>33.600000</td>\n",
       "      <td>36.450000</td>\n",
       "      <td>40.150000</td>\n",
       "      <td>11.844900</td>\n",
       "      <td>6.098600</td>\n",
       "    </tr>\n",
       "    <tr>\n",
       "      <th>max</th>\n",
       "      <td>59.000000</td>\n",
       "      <td>63.400000</td>\n",
       "      <td>68.000000</td>\n",
       "      <td>18.957000</td>\n",
       "      <td>7.795700</td>\n",
       "    </tr>\n",
       "  </tbody>\n",
       "</table>\n",
       "</div>"
      ],
      "text/plain": [
       "          Length1     Length2     Length3      Height       Width\n",
       "count  111.000000  111.000000  111.000000  111.000000  111.000000\n",
       "mean    26.188288   28.359459   31.092793    8.927363    4.459573\n",
       "std     10.130626   10.866582   11.752707    4.335018    1.768310\n",
       "min      7.500000    8.400000    8.800000    1.728400    1.148400\n",
       "25%     19.000000   20.750000   22.500000    5.830250    3.316250\n",
       "50%     25.000000   27.000000   29.300000    8.145400    4.234000\n",
       "75%     33.600000   36.450000   40.150000   11.844900    6.098600\n",
       "max     59.000000   63.400000   68.000000   18.957000    7.795700"
      ]
     },
     "execution_count": 60,
     "metadata": {},
     "output_type": "execute_result"
    }
   ],
   "source": [
    "X_train.describe()"
   ]
  },
  {
   "cell_type": "code",
   "execution_count": 61,
   "id": "3e3d1692",
   "metadata": {
    "scrolled": true
   },
   "outputs": [
    {
     "data": {
      "text/plain": [
       "<AxesSubplot:>"
      ]
     },
     "execution_count": 61,
     "metadata": {},
     "output_type": "execute_result"
    },
    {
     "data": {
      "image/png": "[encoded data removed]",
      "text/plain": [
       "<Figure size 432x288 with 1 Axes>"
      ]
     },
     "metadata": {
      "needs_background": "light"
     },
     "output_type": "display_data"
    }
   ],
   "source": [
    "sns.boxplot(data = X_train)"
   ]
  },
  {
   "cell_type": "code",
   "execution_count": 65,
   "id": "88ceb89c",
   "metadata": {
    "scrolled": true
   },
   "outputs": [
    {
     "data": {
      "text/plain": [
       "<AxesSubplot:xlabel='Weight'>"
      ]
     },
     "execution_count": 65,
     "metadata": {},
     "output_type": "execute_result"
    },
    {
     "data": {
      "image/png": "[encoded data removed]",
      "text/plain": [
       "<Figure size 432x288 with 1 Axes>"
      ]
     },
     "metadata": {
      "needs_background": "light"
     },
     "output_type": "display_data"
    }
   ],
   "source": [
    "sns.boxplot(y_train)"
   ]
  },
  {
   "cell_type": "code",
   "execution_count": 74,
   "id": "07b857af",
   "metadata": {},
   "outputs": [
    {
     "data": {
      "text/plain": [
       "<seaborn.axisgrid.FacetGrid at 0x26b30792ee0>"
      ]
     },
     "execution_count": 74,
     "metadata": {},
     "output_type": "execute_result"
    },
    {
     "data": {
      "image/png": "[encoded data removed]",
      "text/plain": [
       "<Figure size 443.25x360 with 1 Axes>"
      ]
     },
     "metadata": {
      "needs_background": "light"
     },
     "output_type": "display_data"
    }
   ],
   "source": [
    "sns.lmplot(x='Height',y='Width', hue='Species', data=X_train)"
   ]
  },
  {
   "cell_type": "code",
   "execution_count": 85,
   "id": "c17367de",
   "metadata": {},
   "outputs": [
    {
     "data": {
      "text/plain": [
       "<AxesSubplot:xlabel='Height', ylabel='Width'>"
      ]
     },
     "execution_count": 85,
     "metadata": {},
     "output_type": "execute_result"
    },
    {
     "data": {
      "image/png": "[encoded data removed]",
      "text/plain": [
       "<Figure size 432x288 with 1 Axes>"
      ]
     },
     "metadata": {
      "needs_background": "light"
     },
     "output_type": "display_data"
    }
   ],
   "source": [
    "sns.regplot(x=X_train['Height'],y=X_train['Width'])"
   ]
  },
  {
   "cell_type": "code",
   "execution_count": 84,
   "id": "e185b05e",
   "metadata": {
    "scrolled": true
   },
   "outputs": [
    {
     "data": {
      "text/plain": [
       "<AxesSubplot:xlabel='Height', ylabel='Width'>"
      ]
     },
     "execution_count": 84,
     "metadata": {},
     "output_type": "execute_result"
    },
    {
     "data": {
      "image/png": "[encoded data removed]",
      "text/plain": [
       "<Figure size 432x288 with 1 Axes>"
      ]
     },
     "metadata": {
      "needs_background": "light"
     },
     "output_type": "display_data"
    }
   ],
   "source": [
    "sns.regplot(x=np.log(X_train['Height']),y=np.log(X_train['Width']))"
   ]
  },
  {
   "cell_type": "code",
   "execution_count": 71,
   "id": "5fe2a6d5",
   "metadata": {},
   "outputs": [
    {
     "data": {
      "text/plain": [
       "<seaborn.axisgrid.PairGrid at 0x26b2f509f40>"
      ]
     },
     "execution_count": 71,
     "metadata": {},
     "output_type": "execute_result"
    },
    {
     "data": {
      "image/png": "[encoded data removed]",
      "text/plain": [
       "<Figure size 900x900 with 30 Axes>"
      ]
     },
     "metadata": {
      "needs_background": "light"
     },
     "output_type": "display_data"
    }
   ],
   "source": [
    "sns.pairplot(X_train)"
   ]
  },
  {
   "cell_type": "code",
   "execution_count": 98,
   "id": "5bc2bad3",
   "metadata": {},
   "outputs": [],
   "source": [
    "train = X_train.join(y_train.to_frame())"
   ]
  },
  {
   "cell_type": "code",
   "execution_count": 137,
   "id": "da1c48b0",
   "metadata": {},
   "outputs": [
    {
     "data": {
      "image/png": "[encoded data removed]",
      "text/plain": [
       "<Figure size 432x288 with 1 Axes>"
      ]
     },
     "metadata": {
      "needs_background": "light"
     },
     "output_type": "display_data"
    }
   ],
   "source": [
    "ax = sns.distplot(train[TARGET], norm_hist=True)"
   ]
  },
  {
   "cell_type": "markdown",
   "id": "b4d88a82",
   "metadata": {},
   "source": [
    "Based on the graphs, the following preliminary estimates / conclusions can be made:"
   ]
  },
  {
   "cell_type": "markdown",
   "id": "57ceb899",
   "metadata": {},
   "source": [
    "1) Features `Length1`, `Length2`, `Length3` are quite strongly correlated, you can see this by looking at proportionally similar values when consideri the `describe()` method, visually this is clearly visible on box plot and at intersections in pairplot. You can finally be convinced of this by looking at the heatmap. In linear models, we will carry out the regularization in order to negate the effect of multicollinearity.\n",
    "\n",
    "2) According to the mlplot graph, you can see that each of the values of the `Species` feature is quite well separable from the others, especially `Parkki` and `Bream`, and `Perch` is the worst separable. So we can conclude that this feature will be useful for predictions.\n",
    "\n",
    "3) Features `Height` and `Width` most likely correlate poorly with each other and other features, so they won't be afraid of the multicollinearity effect. Based on the heatmap, it can be understood that the assumption was correct."
   ]
  },
  {
   "cell_type": "code",
   "execution_count": 202,
   "id": "a2ea0de1",
   "metadata": {},
   "outputs": [
    {
     "data": {
      "text/plain": [
       "<AxesSubplot:>"
      ]
     },
     "execution_count": 202,
     "metadata": {},
     "output_type": "execute_result"
    },
    {
     "data": {
      "image/png": "[encoded data removed]",
      "text/plain": [
       "<Figure size 432x288 with 2 Axes>"
      ]
     },
     "metadata": {
      "needs_background": "light"
     },
     "output_type": "display_data"
    }
   ],
   "source": [
    "corr = train.corr()\n",
    "condition = np.abs(corr[TARGET]) > 0.5\n",
    "top_corr = corr.loc[condition,condition]\n",
    "sns.heatmap(top_corr, annot=True)"
   ]
  },
  {
   "cell_type": "markdown",
   "id": "3264d35d",
   "metadata": {},
   "source": [
    "As we can see, all the features strongly correlate with `TARGET`. Let's create another Dataframe, in which we will normalize the features for potentially better work with linear models."
   ]
  },
  {
   "cell_type": "code",
   "execution_count": 278,
   "id": "2e1ff6bf",
   "metadata": {},
   "outputs": [],
   "source": [
    "def to_scaler(train_copy):\n",
    "    scaler = StandardScaler()\n",
    "    new_train = scaler.fit_transform(train_copy)\n",
    "    X_scaler_train = pd.DataFrame(new_train, index=train_copy.index, columns=train_copy.columns)\n",
    "    return X_scaler_train"
   ]
  },
  {
   "cell_type": "code",
   "execution_count": 207,
   "id": "1537945b",
   "metadata": {},
   "outputs": [
    {
     "data": {
      "text/plain": [
       "<AxesSubplot:>"
      ]
     },
     "execution_count": 207,
     "metadata": {},
     "output_type": "execute_result"
    },
    {
     "data": {
      "image/png": "[encoded data removed]",
      "text/plain": [
       "<Figure size 432x288 with 2 Axes>"
      ]
     },
     "metadata": {
      "needs_background": "light"
     },
     "output_type": "display_data"
    }
   ],
   "source": [
    "corr = (to_scaler(train).join(y_train.to_frame())).corr()\n",
    "sns.heatmap(corr, annot=True)"
   ]
  },
  {
   "cell_type": "code",
   "execution_count": 208,
   "id": "579377f5",
   "metadata": {},
   "outputs": [],
   "source": [
    "scaler_train = to_scaler(train).join(y_train.to_frame())"
   ]
  },
  {
   "cell_type": "markdown",
   "id": "8c14bf88",
   "metadata": {},
   "source": [
    "Use `pd.get_dummies(X)`"
   ]
  },
  {
   "cell_type": "code",
   "execution_count": 253,
   "id": "b6640d28",
   "metadata": {},
   "outputs": [],
   "source": [
    "X_df = pd.get_dummies(df).drop([TARGET], axis=1)\n",
    "y_df = pd.get_dummies(df)[TARGET]\n",
    "X_train, X_test, y_train, y_test = train_test_split(X_df, y_df, test_size=0.3, random_state=RANDOM_STATE)"
   ]
  },
  {
   "cell_type": "markdown",
   "id": "59e52cc9",
   "metadata": {},
   "source": [
    "Let's try different models for prediction `Weight` values."
   ]
  },
  {
   "cell_type": "markdown",
   "id": "bd271a1e",
   "metadata": {},
   "source": [
    "### Linear regression"
   ]
  },
  {
   "cell_type": "code",
   "execution_count": 264,
   "id": "5dbcf4b8",
   "metadata": {},
   "outputs": [],
   "source": [
    "def evaluate_model(train, val, tr_y, val_y, pipeline):\n",
    "    pipeline.fit(train, tr_y)\n",
    "    pred_val = pipeline.predict(val)\n",
    "    pred_train = pipeline.predict(train)\n",
    "\n",
    "    print('Score for train:',pipeline.score(train,tr_y))\n",
    "    print('Score for test:',pipeline.score(val,val_y))\n",
    "    \n",
    "    return pd.DataFrame({\n",
    "        'train_RMSE': [np.sqrt(mean_squared_error(tr_y, pred_train))], \n",
    "        'train_R2': [r2_score(tr_y, pred_train)],\n",
    "        'val_RMSE': [np.sqrt(mean_squared_error(val_y, pred_val))],\n",
    "        'val_R2': [r2_score(val_y, pred_val)]\n",
    "    })"
   ]
  },
  {
   "cell_type": "code",
   "execution_count": 265,
   "id": "1f274b5f",
   "metadata": {},
   "outputs": [
    {
     "name": "stdout",
     "output_type": "stream",
     "text": [
      "Score for train: 0.9404586441231115\n",
      "Score for test: 0.9142814015440207\n"
     ]
    },
    {
     "data": {
      "text/html": [
       "<div>\n",
       "<style scoped>\n",
       "    .dataframe tbody tr th:only-of-type {\n",
       "        vertical-align: middle;\n",
       "    }\n",
       "\n",
       "    .dataframe tbody tr th {\n",
       "        vertical-align: top;\n",
       "    }\n",
       "\n",
       "    .dataframe thead th {\n",
       "        text-align: right;\n",
       "    }\n",
       "</style>\n",
       "<table border=\"1\" class=\"dataframe\">\n",
       "  <thead>\n",
       "    <tr style=\"text-align: right;\">\n",
       "      <th></th>\n",
       "      <th>train_RMSE</th>\n",
       "      <th>train_R2</th>\n",
       "      <th>val_RMSE</th>\n",
       "      <th>val_R2</th>\n",
       "    </tr>\n",
       "  </thead>\n",
       "  <tbody>\n",
       "    <tr>\n",
       "      <th>0</th>\n",
       "      <td>91.237883</td>\n",
       "      <td>0.940459</td>\n",
       "      <td>91.470078</td>\n",
       "      <td>0.914281</td>\n",
       "    </tr>\n",
       "  </tbody>\n",
       "</table>\n",
       "</div>"
      ],
      "text/plain": [
       "   train_RMSE  train_R2   val_RMSE    val_R2\n",
       "0   91.237883  0.940459  91.470078  0.914281"
      ]
     },
     "execution_count": 265,
     "metadata": {},
     "output_type": "execute_result"
    }
   ],
   "source": [
    "linreg = LinearRegression()\n",
    "scores = evaluate_model(X_train, X_test, y_train, y_test, linreg)\n",
    "scores"
   ]
  },
  {
   "cell_type": "code",
   "execution_count": 274,
   "id": "613bf02e",
   "metadata": {},
   "outputs": [
    {
     "name": "stdout",
     "output_type": "stream",
     "text": [
      "Score for train: 0.9404586441231115\n",
      "Score for test: 0.8991942372033124\n"
     ]
    },
    {
     "data": {
      "text/html": [
       "<div>\n",
       "<style scoped>\n",
       "    .dataframe tbody tr th:only-of-type {\n",
       "        vertical-align: middle;\n",
       "    }\n",
       "\n",
       "    .dataframe tbody tr th {\n",
       "        vertical-align: top;\n",
       "    }\n",
       "\n",
       "    .dataframe thead th {\n",
       "        text-align: right;\n",
       "    }\n",
       "</style>\n",
       "<table border=\"1\" class=\"dataframe\">\n",
       "  <thead>\n",
       "    <tr style=\"text-align: right;\">\n",
       "      <th></th>\n",
       "      <th>train_RMSE</th>\n",
       "      <th>train_R2</th>\n",
       "      <th>val_RMSE</th>\n",
       "      <th>val_R2</th>\n",
       "    </tr>\n",
       "  </thead>\n",
       "  <tbody>\n",
       "    <tr>\n",
       "      <th>0</th>\n",
       "      <td>91.237883</td>\n",
       "      <td>0.940459</td>\n",
       "      <td>99.193725</td>\n",
       "      <td>0.899194</td>\n",
       "    </tr>\n",
       "  </tbody>\n",
       "</table>\n",
       "</div>"
      ],
      "text/plain": [
       "   train_RMSE  train_R2   val_RMSE    val_R2\n",
       "0   91.237883  0.940459  99.193725  0.899194"
      ]
     },
     "execution_count": 274,
     "metadata": {},
     "output_type": "execute_result"
    }
   ],
   "source": [
    "scores = evaluate_model(to_scaler(X_train), to_scaler(X_test), y_train, y_test, linreg)\n",
    "scores"
   ]
  },
  {
   "cell_type": "code",
   "execution_count": 279,
   "id": "815ce214",
   "metadata": {},
   "outputs": [
    {
     "name": "stdout",
     "output_type": "stream",
     "text": [
      "Score for train: 0.9404586441231115\n",
      "Score for test: 0.914281401544021\n"
     ]
    },
    {
     "data": {
      "text/html": [
       "<div>\n",
       "<style scoped>\n",
       "    .dataframe tbody tr th:only-of-type {\n",
       "        vertical-align: middle;\n",
       "    }\n",
       "\n",
       "    .dataframe tbody tr th {\n",
       "        vertical-align: top;\n",
       "    }\n",
       "\n",
       "    .dataframe thead th {\n",
       "        text-align: right;\n",
       "    }\n",
       "</style>\n",
       "<table border=\"1\" class=\"dataframe\">\n",
       "  <thead>\n",
       "    <tr style=\"text-align: right;\">\n",
       "      <th></th>\n",
       "      <th>train_RMSE</th>\n",
       "      <th>train_R2</th>\n",
       "      <th>val_RMSE</th>\n",
       "      <th>val_R2</th>\n",
       "    </tr>\n",
       "  </thead>\n",
       "  <tbody>\n",
       "    <tr>\n",
       "      <th>0</th>\n",
       "      <td>91.237883</td>\n",
       "      <td>0.940459</td>\n",
       "      <td>91.470078</td>\n",
       "      <td>0.914281</td>\n",
       "    </tr>\n",
       "  </tbody>\n",
       "</table>\n",
       "</div>"
      ],
      "text/plain": [
       "   train_RMSE  train_R2   val_RMSE    val_R2\n",
       "0   91.237883  0.940459  91.470078  0.914281"
      ]
     },
     "execution_count": 279,
     "metadata": {},
     "output_type": "execute_result"
    }
   ],
   "source": [
    "linreg = LinearRegression(normalize=True)\n",
    "scores = evaluate_model(X_train, X_test, y_train, y_test, linreg)\n",
    "scores"
   ]
  },
  {
   "cell_type": "code",
   "execution_count": 361,
   "id": "6bd246a0",
   "metadata": {},
   "outputs": [
    {
     "name": "stdout",
     "output_type": "stream",
     "text": [
      "Score for train: 0.9381030199892442\n",
      "Score for test: 0.9052010435967695\n",
      "{'alpha': 0.19}\n"
     ]
    },
    {
     "data": {
      "text/html": [
       "<div>\n",
       "<style scoped>\n",
       "    .dataframe tbody tr th:only-of-type {\n",
       "        vertical-align: middle;\n",
       "    }\n",
       "\n",
       "    .dataframe tbody tr th {\n",
       "        vertical-align: top;\n",
       "    }\n",
       "\n",
       "    .dataframe thead th {\n",
       "        text-align: right;\n",
       "    }\n",
       "</style>\n",
       "<table border=\"1\" class=\"dataframe\">\n",
       "  <thead>\n",
       "    <tr style=\"text-align: right;\">\n",
       "      <th></th>\n",
       "      <th>train_RMSE</th>\n",
       "      <th>train_R2</th>\n",
       "      <th>val_RMSE</th>\n",
       "      <th>val_R2</th>\n",
       "    </tr>\n",
       "  </thead>\n",
       "  <tbody>\n",
       "    <tr>\n",
       "      <th>0</th>\n",
       "      <td>93.025191</td>\n",
       "      <td>0.938103</td>\n",
       "      <td>96.192962</td>\n",
       "      <td>0.905201</td>\n",
       "    </tr>\n",
       "  </tbody>\n",
       "</table>\n",
       "</div>"
      ],
      "text/plain": [
       "   train_RMSE  train_R2   val_RMSE    val_R2\n",
       "0   93.025191  0.938103  96.192962  0.905201"
      ]
     },
     "execution_count": 361,
     "metadata": {},
     "output_type": "execute_result"
    }
   ],
   "source": [
    "linreg = GridSearchCV(Lasso(normalize=True), {'alpha':[0.19,0.85,0.195,1.3]})\n",
    "scores = evaluate_model(X_train, X_test, y_train, y_test, linreg)\n",
    "print(linreg.best_params_)\n",
    "scores"
   ]
  },
  {
   "cell_type": "code",
   "execution_count": 366,
   "id": "960040ff",
   "metadata": {},
   "outputs": [
    {
     "name": "stdout",
     "output_type": "stream",
     "text": [
      "Score for train: 0.9383077675757354\n",
      "Score for test: 0.9061297610444403\n",
      "{'alpha': 0.825}\n"
     ]
    },
    {
     "data": {
      "text/html": [
       "<div>\n",
       "<style scoped>\n",
       "    .dataframe tbody tr th:only-of-type {\n",
       "        vertical-align: middle;\n",
       "    }\n",
       "\n",
       "    .dataframe tbody tr th {\n",
       "        vertical-align: top;\n",
       "    }\n",
       "\n",
       "    .dataframe thead th {\n",
       "        text-align: right;\n",
       "    }\n",
       "</style>\n",
       "<table border=\"1\" class=\"dataframe\">\n",
       "  <thead>\n",
       "    <tr style=\"text-align: right;\">\n",
       "      <th></th>\n",
       "      <th>train_RMSE</th>\n",
       "      <th>train_R2</th>\n",
       "      <th>val_RMSE</th>\n",
       "      <th>val_R2</th>\n",
       "    </tr>\n",
       "  </thead>\n",
       "  <tbody>\n",
       "    <tr>\n",
       "      <th>0</th>\n",
       "      <td>92.871206</td>\n",
       "      <td>0.938308</td>\n",
       "      <td>95.720615</td>\n",
       "      <td>0.90613</td>\n",
       "    </tr>\n",
       "  </tbody>\n",
       "</table>\n",
       "</div>"
      ],
      "text/plain": [
       "   train_RMSE  train_R2   val_RMSE   val_R2\n",
       "0   92.871206  0.938308  95.720615  0.90613"
      ]
     },
     "execution_count": 366,
     "metadata": {},
     "output_type": "execute_result"
    }
   ],
   "source": [
    "linreg = GridSearchCV(Ridge(), {'alpha':[0.825,0.85, 0.875]})\n",
    "scores = evaluate_model(X_train, X_test, y_train, y_test, linreg)\n",
    "print(linreg.best_params_)\n",
    "scores"
   ]
  },
  {
   "cell_type": "code",
   "execution_count": 303,
   "id": "33a06ae6",
   "metadata": {
    "scrolled": true
   },
   "outputs": [
    {
     "name": "stdout",
     "output_type": "stream",
     "text": [
      "Score for train: 0.9373288295024501\n",
      "Score for test: 0.9016344021092494\n",
      "{'alpha': 1.3, 'l1_ratio': 1}\n"
     ]
    },
    {
     "data": {
      "text/html": [
       "<div>\n",
       "<style scoped>\n",
       "    .dataframe tbody tr th:only-of-type {\n",
       "        vertical-align: middle;\n",
       "    }\n",
       "\n",
       "    .dataframe tbody tr th {\n",
       "        vertical-align: top;\n",
       "    }\n",
       "\n",
       "    .dataframe thead th {\n",
       "        text-align: right;\n",
       "    }\n",
       "</style>\n",
       "<table border=\"1\" class=\"dataframe\">\n",
       "  <thead>\n",
       "    <tr style=\"text-align: right;\">\n",
       "      <th></th>\n",
       "      <th>train_RMSE</th>\n",
       "      <th>train_R2</th>\n",
       "      <th>val_RMSE</th>\n",
       "      <th>val_R2</th>\n",
       "    </tr>\n",
       "  </thead>\n",
       "  <tbody>\n",
       "    <tr>\n",
       "      <th>0</th>\n",
       "      <td>93.60515</td>\n",
       "      <td>0.937329</td>\n",
       "      <td>97.985799</td>\n",
       "      <td>0.901634</td>\n",
       "    </tr>\n",
       "  </tbody>\n",
       "</table>\n",
       "</div>"
      ],
      "text/plain": [
       "   train_RMSE  train_R2   val_RMSE    val_R2\n",
       "0    93.60515  0.937329  97.985799  0.901634"
      ]
     },
     "execution_count": 303,
     "metadata": {},
     "output_type": "execute_result"
    }
   ],
   "source": [
    "linreg = GridSearchCV(ElasticNet(), {'alpha':[1.1,1.2,1.3,1.4,1.5],'l1_ratio':[0.8,0.9,1]}, n_jobs=1)\n",
    "scores = evaluate_model(X_train, X_test, y_train, y_test, linreg)\n",
    "print(linreg.best_params_)\n",
    "scores"
   ]
  },
  {
   "cell_type": "code",
   "execution_count": 372,
   "id": "f9956bcd",
   "metadata": {},
   "outputs": [
    {
     "name": "stdout",
     "output_type": "stream",
     "text": [
      "Score for train: 0.9382093866947795\n",
      "Score for test: 0.9054108043574758\n",
      "{'alpha': 0.175, 'l1_ratio': 1}\n"
     ]
    },
    {
     "data": {
      "text/html": [
       "<div>\n",
       "<style scoped>\n",
       "    .dataframe tbody tr th:only-of-type {\n",
       "        vertical-align: middle;\n",
       "    }\n",
       "\n",
       "    .dataframe tbody tr th {\n",
       "        vertical-align: top;\n",
       "    }\n",
       "\n",
       "    .dataframe thead th {\n",
       "        text-align: right;\n",
       "    }\n",
       "</style>\n",
       "<table border=\"1\" class=\"dataframe\">\n",
       "  <thead>\n",
       "    <tr style=\"text-align: right;\">\n",
       "      <th></th>\n",
       "      <th>train_RMSE</th>\n",
       "      <th>train_R2</th>\n",
       "      <th>val_RMSE</th>\n",
       "      <th>val_R2</th>\n",
       "    </tr>\n",
       "  </thead>\n",
       "  <tbody>\n",
       "    <tr>\n",
       "      <th>0</th>\n",
       "      <td>92.945227</td>\n",
       "      <td>0.938209</td>\n",
       "      <td>96.08648</td>\n",
       "      <td>0.905411</td>\n",
       "    </tr>\n",
       "  </tbody>\n",
       "</table>\n",
       "</div>"
      ],
      "text/plain": [
       "   train_RMSE  train_R2  val_RMSE    val_R2\n",
       "0   92.945227  0.938209  96.08648  0.905411"
      ]
     },
     "execution_count": 372,
     "metadata": {},
     "output_type": "execute_result"
    }
   ],
   "source": [
    "linreg = GridSearchCV(ElasticNet(normalize=True), {'alpha':[0.175,0.2,0.225,0.4,0.5],'l1_ratio':[0.8,0.9,1]}, n_jobs=1)\n",
    "scores = evaluate_model(X_train, X_test, y_train, y_test, linreg)\n",
    "print(linreg.best_params_)\n",
    "scores"
   ]
  },
  {
   "cell_type": "markdown",
   "id": "5ccde2ca",
   "metadata": {},
   "source": [
    "As we can see, standard linear regression is pretty good at predicting."
   ]
  },
  {
   "cell_type": "markdown",
   "id": "fcb23881",
   "metadata": {},
   "source": [
    "### KNN"
   ]
  },
  {
   "cell_type": "code",
   "execution_count": 424,
   "id": "31810c82",
   "metadata": {},
   "outputs": [
    {
     "name": "stdout",
     "output_type": "stream",
     "text": [
      "Score for train: 1.0\n",
      "Score for test: 0.9669046241798894\n",
      "{'algorithm': 'auto', 'n_neighbors': 3, 'weights': 'distance'}\n"
     ]
    },
    {
     "data": {
      "text/html": [
       "<div>\n",
       "<style scoped>\n",
       "    .dataframe tbody tr th:only-of-type {\n",
       "        vertical-align: middle;\n",
       "    }\n",
       "\n",
       "    .dataframe tbody tr th {\n",
       "        vertical-align: top;\n",
       "    }\n",
       "\n",
       "    .dataframe thead th {\n",
       "        text-align: right;\n",
       "    }\n",
       "</style>\n",
       "<table border=\"1\" class=\"dataframe\">\n",
       "  <thead>\n",
       "    <tr style=\"text-align: right;\">\n",
       "      <th></th>\n",
       "      <th>train_RMSE</th>\n",
       "      <th>train_R2</th>\n",
       "      <th>val_RMSE</th>\n",
       "      <th>val_R2</th>\n",
       "    </tr>\n",
       "  </thead>\n",
       "  <tbody>\n",
       "    <tr>\n",
       "      <th>0</th>\n",
       "      <td>0.0</td>\n",
       "      <td>1.0</td>\n",
       "      <td>56.836219</td>\n",
       "      <td>0.966905</td>\n",
       "    </tr>\n",
       "  </tbody>\n",
       "</table>\n",
       "</div>"
      ],
      "text/plain": [
       "   train_RMSE  train_R2   val_RMSE    val_R2\n",
       "0         0.0       1.0  56.836219  0.966905"
      ]
     },
     "execution_count": 424,
     "metadata": {},
     "output_type": "execute_result"
    }
   ],
   "source": [
    "neighbor = KNeighborsRegressor()\n",
    "neighbor = GridSearchCV(neighbor, {'n_neighbors':[1,2,3,4,5,6], 'weights':['uniform', 'distance'], 'algorithm':['auto','ball_tree','kd_tree','brute']}, n_jobs=1, cv=5)\n",
    "scores = evaluate_model(X_train, X_test, y_train, y_test, neighbor)\n",
    "print(neighbor.best_params_)\n",
    "scores"
   ]
  },
  {
   "cell_type": "markdown",
   "id": "cfe1ce04",
   "metadata": {},
   "source": [
    "KNN gives very good predictions, it made sense to check it, since we have a small number of features, and those that exist correlate well with `TARGET`."
   ]
  },
  {
   "cell_type": "markdown",
   "id": "cba806e4",
   "metadata": {},
   "source": [
    "### Random forest"
   ]
  },
  {
   "cell_type": "code",
   "execution_count": 375,
   "id": "4a9cee8b",
   "metadata": {},
   "outputs": [
    {
     "name": "stdout",
     "output_type": "stream",
     "text": [
      "Score for train: 0.9953068713466003\n",
      "Score for test: 0.9754102454038228\n",
      "{'max_depth': 15, 'min_samples_split': 2, 'n_estimators': 50}\n"
     ]
    },
    {
     "data": {
      "text/html": [
       "<div>\n",
       "<style scoped>\n",
       "    .dataframe tbody tr th:only-of-type {\n",
       "        vertical-align: middle;\n",
       "    }\n",
       "\n",
       "    .dataframe tbody tr th {\n",
       "        vertical-align: top;\n",
       "    }\n",
       "\n",
       "    .dataframe thead th {\n",
       "        text-align: right;\n",
       "    }\n",
       "</style>\n",
       "<table border=\"1\" class=\"dataframe\">\n",
       "  <thead>\n",
       "    <tr style=\"text-align: right;\">\n",
       "      <th></th>\n",
       "      <th>train_RMSE</th>\n",
       "      <th>train_R2</th>\n",
       "      <th>val_RMSE</th>\n",
       "      <th>val_R2</th>\n",
       "    </tr>\n",
       "  </thead>\n",
       "  <tbody>\n",
       "    <tr>\n",
       "      <th>0</th>\n",
       "      <td>25.61516</td>\n",
       "      <td>0.995307</td>\n",
       "      <td>48.991261</td>\n",
       "      <td>0.97541</td>\n",
       "    </tr>\n",
       "  </tbody>\n",
       "</table>\n",
       "</div>"
      ],
      "text/plain": [
       "   train_RMSE  train_R2   val_RMSE   val_R2\n",
       "0    25.61516  0.995307  48.991261  0.97541"
      ]
     },
     "execution_count": 375,
     "metadata": {},
     "output_type": "execute_result"
    }
   ],
   "source": [
    "rfr = RandomForestRegressor()\n",
    "rfr = GridSearchCV(rfr, {'n_estimators':[50,75,100],'max_depth':[15,20,25],'min_samples_split':[2,3,4,5]}, n_jobs=1, cv=5)\n",
    "scores = evaluate_model(X_train, X_test, y_train, y_test, rfr)\n",
    "print(rfr.best_params_)\n",
    "scores"
   ]
  },
  {
   "cell_type": "markdown",
   "id": "4d4c7165",
   "metadata": {},
   "source": [
    "As expected, Random forest performed with a very good result (approximately 97.5% of correct answers), a decent level of prediction of the model is also confirmed by the estimates of `RMSE` and `R2`."
   ]
  },
  {
   "cell_type": "markdown",
   "id": "ab87510e",
   "metadata": {},
   "source": [
    "### Boosting"
   ]
  },
  {
   "cell_type": "markdown",
   "id": "9a1f01dd",
   "metadata": {},
   "source": [
    "There are several boosting models that can work well with our data. Let's try a few of them."
   ]
  },
  {
   "cell_type": "markdown",
   "id": "50ae3634",
   "metadata": {},
   "source": [
    "#### LightGBM"
   ]
  },
  {
   "cell_type": "code",
   "execution_count": 412,
   "id": "78f4f9e2",
   "metadata": {},
   "outputs": [
    {
     "name": "stdout",
     "output_type": "stream",
     "text": [
      "Score for train: 0.9339988011319322\n",
      "Score for test: 0.8719058768266313\n",
      "{'learning_rate': 0.15, 'n_estimators': 30}\n"
     ]
    },
    {
     "data": {
      "text/html": [
       "<div>\n",
       "<style scoped>\n",
       "    .dataframe tbody tr th:only-of-type {\n",
       "        vertical-align: middle;\n",
       "    }\n",
       "\n",
       "    .dataframe tbody tr th {\n",
       "        vertical-align: top;\n",
       "    }\n",
       "\n",
       "    .dataframe thead th {\n",
       "        text-align: right;\n",
       "    }\n",
       "</style>\n",
       "<table border=\"1\" class=\"dataframe\">\n",
       "  <thead>\n",
       "    <tr style=\"text-align: right;\">\n",
       "      <th></th>\n",
       "      <th>train_RMSE</th>\n",
       "      <th>train_R2</th>\n",
       "      <th>val_RMSE</th>\n",
       "      <th>val_R2</th>\n",
       "    </tr>\n",
       "  </thead>\n",
       "  <tbody>\n",
       "    <tr>\n",
       "      <th>0</th>\n",
       "      <td>96.059817</td>\n",
       "      <td>0.933999</td>\n",
       "      <td>111.816559</td>\n",
       "      <td>0.871906</td>\n",
       "    </tr>\n",
       "  </tbody>\n",
       "</table>\n",
       "</div>"
      ],
      "text/plain": [
       "   train_RMSE  train_R2    val_RMSE    val_R2\n",
       "0   96.059817  0.933999  111.816559  0.871906"
      ]
     },
     "execution_count": 412,
     "metadata": {},
     "output_type": "execute_result"
    }
   ],
   "source": [
    "lgbm = LGBMRegressor(random_state=RANDOM_STATE)\n",
    "lgbm = GridSearchCV(lgbm, {'n_estimators':[30,20,10,40],'learning_rate':[0.15,0.1,0.2]}, n_jobs=1, cv=5)\n",
    "scores = evaluate_model(X_train, X_test, y_train, y_test, lgbm)\n",
    "print(lgbm.best_params_)\n",
    "scores"
   ]
  },
  {
   "cell_type": "markdown",
   "id": "beecd9ff",
   "metadata": {},
   "source": [
    "#### AdaptBoosting"
   ]
  },
  {
   "cell_type": "code",
   "execution_count": 414,
   "id": "ca75d5ad",
   "metadata": {},
   "outputs": [
    {
     "name": "stdout",
     "output_type": "stream",
     "text": [
      "Score for train: 0.9898410464147049\n",
      "Score for test: 0.9719546098475217\n",
      "{'learning_rate': 0.5, 'n_estimators': 50}\n"
     ]
    },
    {
     "data": {
      "text/html": [
       "<div>\n",
       "<style scoped>\n",
       "    .dataframe tbody tr th:only-of-type {\n",
       "        vertical-align: middle;\n",
       "    }\n",
       "\n",
       "    .dataframe tbody tr th {\n",
       "        vertical-align: top;\n",
       "    }\n",
       "\n",
       "    .dataframe thead th {\n",
       "        text-align: right;\n",
       "    }\n",
       "</style>\n",
       "<table border=\"1\" class=\"dataframe\">\n",
       "  <thead>\n",
       "    <tr style=\"text-align: right;\">\n",
       "      <th></th>\n",
       "      <th>train_RMSE</th>\n",
       "      <th>train_R2</th>\n",
       "      <th>val_RMSE</th>\n",
       "      <th>val_R2</th>\n",
       "    </tr>\n",
       "  </thead>\n",
       "  <tbody>\n",
       "    <tr>\n",
       "      <th>0</th>\n",
       "      <td>37.686893</td>\n",
       "      <td>0.989841</td>\n",
       "      <td>52.320545</td>\n",
       "      <td>0.971955</td>\n",
       "    </tr>\n",
       "  </tbody>\n",
       "</table>\n",
       "</div>"
      ],
      "text/plain": [
       "   train_RMSE  train_R2   val_RMSE    val_R2\n",
       "0   37.686893  0.989841  52.320545  0.971955"
      ]
     },
     "execution_count": 414,
     "metadata": {},
     "output_type": "execute_result"
    }
   ],
   "source": [
    "adaboost = AdaBoostRegressor(random_state=RANDOM_STATE)\n",
    "adaboost = GridSearchCV(adaboost, {'n_estimators':[35,50,65,100],'learning_rate':[0.75,0.5,0.25]}, n_jobs=1, cv=5)\n",
    "scores = evaluate_model(X_train, X_test, y_train, y_test, adaboost)\n",
    "print(adaboost.best_params_)\n",
    "scores"
   ]
  },
  {
   "cell_type": "markdown",
   "id": "bc3321cf",
   "metadata": {},
   "source": [
    "#### XGBoost"
   ]
  },
  {
   "cell_type": "code",
   "execution_count": 410,
   "id": "3bdc2126",
   "metadata": {},
   "outputs": [
    {
     "name": "stdout",
     "output_type": "stream",
     "text": [
      "Score for train: 0.9999999945418463\n",
      "Score for test: 0.961797515252884\n",
      "{'learning_rate': 0.2, 'max_depth': 10, 'n_estimators': 80}\n"
     ]
    },
    {
     "data": {
      "text/html": [
       "<div>\n",
       "<style scoped>\n",
       "    .dataframe tbody tr th:only-of-type {\n",
       "        vertical-align: middle;\n",
       "    }\n",
       "\n",
       "    .dataframe tbody tr th {\n",
       "        vertical-align: top;\n",
       "    }\n",
       "\n",
       "    .dataframe thead th {\n",
       "        text-align: right;\n",
       "    }\n",
       "</style>\n",
       "<table border=\"1\" class=\"dataframe\">\n",
       "  <thead>\n",
       "    <tr style=\"text-align: right;\">\n",
       "      <th></th>\n",
       "      <th>train_RMSE</th>\n",
       "      <th>train_R2</th>\n",
       "      <th>val_RMSE</th>\n",
       "      <th>val_R2</th>\n",
       "    </tr>\n",
       "  </thead>\n",
       "  <tbody>\n",
       "    <tr>\n",
       "      <th>0</th>\n",
       "      <td>0.027624</td>\n",
       "      <td>1.0</td>\n",
       "      <td>61.064292</td>\n",
       "      <td>0.961798</td>\n",
       "    </tr>\n",
       "  </tbody>\n",
       "</table>\n",
       "</div>"
      ],
      "text/plain": [
       "   train_RMSE  train_R2   val_RMSE    val_R2\n",
       "0    0.027624       1.0  61.064292  0.961798"
      ]
     },
     "execution_count": 410,
     "metadata": {},
     "output_type": "execute_result"
    }
   ],
   "source": [
    "reg = xgb.XGBRegressor(random_state=RANDOM_STATE)\n",
    "reg = GridSearchCV(reg, {'max_depth':[10,15,20],'n_estimators':[70,75,80,],\n",
    "                         'learning_rate':[0.20,0.15,0.1]}, n_jobs=1, cv=5)\n",
    "scores = evaluate_model(X_train, X_test, y_train, y_test, reg)\n",
    "print(reg.best_params_)\n",
    "scores"
   ]
  },
  {
   "cell_type": "markdown",
   "id": "ee4b0cf0",
   "metadata": {},
   "source": [
    "#### CatBoost"
   ]
  },
  {
   "cell_type": "code",
   "execution_count": 422,
   "id": "88729d16",
   "metadata": {},
   "outputs": [
    {
     "name": "stdout",
     "output_type": "stream",
     "text": [
      "0:\tlearn: 322.2836169\ttotal: 430ms\tremaining: 16.8s\n",
      "1:\tlearn: 287.3360130\ttotal: 434ms\tremaining: 8.25s\n",
      "2:\tlearn: 252.9535517\ttotal: 443ms\tremaining: 5.46s\n",
      "3:\tlearn: 223.5315369\ttotal: 452ms\tremaining: 4.06s\n",
      "4:\tlearn: 201.1375854\ttotal: 456ms\tremaining: 3.19s\n",
      "5:\tlearn: 180.2914999\ttotal: 465ms\tremaining: 2.63s\n",
      "6:\tlearn: 159.5480763\ttotal: 467ms\tremaining: 2.2s\n",
      "7:\tlearn: 143.4543897\ttotal: 476ms\tremaining: 1.9s\n",
      "8:\tlearn: 128.2347695\ttotal: 484ms\tremaining: 1.67s\n",
      "9:\tlearn: 115.5293392\ttotal: 493ms\tremaining: 1.48s\n",
      "10:\tlearn: 103.7963463\ttotal: 501ms\tremaining: 1.32s\n",
      "11:\tlearn: 94.4605168\ttotal: 510ms\tremaining: 1.19s\n",
      "12:\tlearn: 86.5482843\ttotal: 518ms\tremaining: 1.08s\n",
      "13:\tlearn: 79.3169264\ttotal: 523ms\tremaining: 971ms\n",
      "14:\tlearn: 72.8155160\ttotal: 531ms\tremaining: 885ms\n",
      "15:\tlearn: 67.4668730\ttotal: 540ms\tremaining: 809ms\n",
      "16:\tlearn: 62.9049964\ttotal: 540ms\tremaining: 731ms\n",
      "17:\tlearn: 58.6445691\ttotal: 543ms\tremaining: 664ms\n",
      "18:\tlearn: 54.8952966\ttotal: 546ms\tremaining: 603ms\n",
      "19:\tlearn: 51.6965195\ttotal: 554ms\tremaining: 554ms\n",
      "20:\tlearn: 49.2331675\ttotal: 563ms\tremaining: 509ms\n",
      "21:\tlearn: 47.0069521\ttotal: 564ms\tremaining: 461ms\n",
      "22:\tlearn: 44.9054854\ttotal: 572ms\tremaining: 423ms\n",
      "23:\tlearn: 42.7110448\ttotal: 581ms\tremaining: 387ms\n",
      "24:\tlearn: 40.2307099\ttotal: 589ms\tremaining: 354ms\n",
      "25:\tlearn: 38.8512986\ttotal: 590ms\tremaining: 318ms\n",
      "26:\tlearn: 37.6078470\ttotal: 599ms\tremaining: 288ms\n",
      "27:\tlearn: 35.9036278\ttotal: 610ms\tremaining: 261ms\n",
      "28:\tlearn: 34.0435903\ttotal: 620ms\tremaining: 235ms\n",
      "29:\tlearn: 32.7222694\ttotal: 630ms\tremaining: 210ms\n",
      "30:\tlearn: 31.6810532\ttotal: 639ms\tremaining: 185ms\n",
      "31:\tlearn: 30.1837787\ttotal: 648ms\tremaining: 162ms\n",
      "32:\tlearn: 29.3601690\ttotal: 657ms\tremaining: 139ms\n",
      "33:\tlearn: 28.7938655\ttotal: 666ms\tremaining: 117ms\n",
      "34:\tlearn: 27.6209092\ttotal: 674ms\tremaining: 96.3ms\n",
      "35:\tlearn: 27.1160397\ttotal: 683ms\tremaining: 75.8ms\n",
      "36:\tlearn: 26.0277038\ttotal: 691ms\tremaining: 56ms\n",
      "37:\tlearn: 25.2667610\ttotal: 699ms\tremaining: 36.8ms\n",
      "38:\tlearn: 24.5725821\ttotal: 707ms\tremaining: 18.1ms\n",
      "39:\tlearn: 24.1055291\ttotal: 709ms\tremaining: 0us\n",
      "Score for train: 0.9958437500817855\n",
      "Score for test: 0.9721937525124905\n",
      "{'learning_rate': 0.2, 'max_depth': 10, 'n_estimators': 40}\n"
     ]
    },
    {
     "data": {
      "text/html": [
       "<div>\n",
       "<style scoped>\n",
       "    .dataframe tbody tr th:only-of-type {\n",
       "        vertical-align: middle;\n",
       "    }\n",
       "\n",
       "    .dataframe tbody tr th {\n",
       "        vertical-align: top;\n",
       "    }\n",
       "\n",
       "    .dataframe thead th {\n",
       "        text-align: right;\n",
       "    }\n",
       "</style>\n",
       "<table border=\"1\" class=\"dataframe\">\n",
       "  <thead>\n",
       "    <tr style=\"text-align: right;\">\n",
       "      <th></th>\n",
       "      <th>train_RMSE</th>\n",
       "      <th>train_R2</th>\n",
       "      <th>val_RMSE</th>\n",
       "      <th>val_R2</th>\n",
       "    </tr>\n",
       "  </thead>\n",
       "  <tbody>\n",
       "    <tr>\n",
       "      <th>0</th>\n",
       "      <td>24.105529</td>\n",
       "      <td>0.995844</td>\n",
       "      <td>52.097</td>\n",
       "      <td>0.972194</td>\n",
       "    </tr>\n",
       "  </tbody>\n",
       "</table>\n",
       "</div>"
      ],
      "text/plain": [
       "   train_RMSE  train_R2  val_RMSE    val_R2\n",
       "0   24.105529  0.995844    52.097  0.972194"
      ]
     },
     "execution_count": 422,
     "metadata": {},
     "output_type": "execute_result"
    }
   ],
   "source": [
    "ctr = CatBoostRegressor()\n",
    "clf = GridSearchCV(ctr, {'max_depth':[10,15,20,25,30], 'n_estimators':[30,35,38,40,43], \n",
    "                        'learning_rate': [0.1,0.09,0.2]}, n_jobs = -1)\n",
    "scores = evaluate_model(X_train, X_test, y_train, y_test, clf)\n",
    "print(clf.best_params_)\n",
    "scores"
   ]
  },
  {
   "cell_type": "markdown",
   "id": "ecb96888",
   "metadata": {},
   "source": [
    "After making predictions, the following conclusions can be done:"
   ]
  },
  {
   "cell_type": "markdown",
   "id": "494eea15",
   "metadata": {},
   "source": [
    "1) `Linear regression` worked worse than other methods, normalization of the model using StandardScaler helped a bit. Perhaps, if we can still fight with multicollenarity and non-ideal linearity of the model in various ways, we will be able to get better forecast results.\n",
    "\n",
    "2) `KNN` showed itself much better than linear regression, this is due to the small number of features relative to the number of rows in the Dataframe.\n",
    "\n",
    "3) `Random Forest` turned out to be the most effective method, taking into account the selected parameters. Its `RMSE` and `R2` scores also indicate the high accuracy of the model.\n",
    "\n",
    "4) The best among the boosting models turned out to be `AdaptBoosting` and` CatBoost`, where further tuning of the parameters `CatBoost` will look even more advantageous, this method was created for better work with categorical data that is available in this case. Because of its speed, `LightGBM` is excellent for preliminary estimation of parameters and then we can use these parameters as a baseline in subsequent methods."
   ]
  }
 ],
 "metadata": {
  "kernelspec": {
   "display_name": "Python 3",
   "language": "python",
   "name": "python3"
  },
  "language_info": {
   "codemirror_mode": {
    "name": "ipython",
    "version": 3
   },
   "file_extension": ".py",
   "mimetype": "text/x-python",
   "name": "python",
   "nbconvert_exporter": "python",
   "pygments_lexer": "ipython3",
   "version": "3.8.8"
  }
 },
 "nbformat": 4,
 "nbformat_minor": 5
}
